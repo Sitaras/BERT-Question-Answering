{
  "cells": [
    {
      "cell_type": "markdown",
      "metadata": {
        "id": "8arEioDPljQ3"
      },
      "source": [
        "# Artificial Intelligence II - Homework 4\n",
        "---\n",
        "## Fine-tuned on NewsQA Dataset - Part 3\n",
        "---\n",
        "### Δημήτριος Σιταράς | 1115201800178\n",
        "---"
      ]
    },
    {
      "cell_type": "markdown",
      "metadata": {
        "id": "-wkGsf4Iloqv"
      },
      "source": [
        "## Libraries n' Functions"
      ]
    },
    {
      "cell_type": "code",
      "execution_count": 3,
      "metadata": {
        "execution": {
          "iopub.execute_input": "2022-03-13T13:07:18.588768Z",
          "iopub.status.busy": "2022-03-13T13:07:18.588451Z",
          "iopub.status.idle": "2022-03-13T13:07:19.983551Z",
          "shell.execute_reply": "2022-03-13T13:07:19.982800Z",
          "shell.execute_reply.started": "2022-03-13T13:07:18.588688Z"
        },
        "id": "oBVPb4yMc05M",
        "trusted": true
      },
      "outputs": [],
      "source": [
        "import torch\n",
        "import torch.nn as nn\n",
        "import matplotlib.pyplot as plt\n",
        "import pandas as pd\n",
        "import numpy as np\n",
        "import random\n",
        "import os\n",
        "import json"
      ]
    },
    {
      "cell_type": "code",
      "execution_count": 4,
      "metadata": {
        "execution": {
          "iopub.execute_input": "2022-03-13T13:07:19.985369Z",
          "iopub.status.busy": "2022-03-13T13:07:19.985096Z",
          "iopub.status.idle": "2022-03-13T13:07:20.047363Z",
          "shell.execute_reply": "2022-03-13T13:07:20.046595Z",
          "shell.execute_reply.started": "2022-03-13T13:07:19.985317Z"
        },
        "id": "cAO3U84EGW2L",
        "trusted": true
      },
      "outputs": [],
      "source": [
        "device = torch.device('cuda' if torch.cuda.is_available() else 'cpu')"
      ]
    },
    {
      "cell_type": "code",
      "execution_count": 5,
      "metadata": {
        "colab": {
          "base_uri": "https://localhost:8080/"
        },
        "execution": {
          "iopub.execute_input": "2022-03-13T13:07:20.054254Z",
          "iopub.status.busy": "2022-03-13T13:07:20.052120Z",
          "iopub.status.idle": "2022-03-13T13:07:20.066128Z",
          "shell.execute_reply": "2022-03-13T13:07:20.065390Z",
          "shell.execute_reply.started": "2022-03-13T13:07:20.054215Z"
        },
        "id": "z5BCiQPfGXg1",
        "outputId": "9a6c482b-acb0-4c5a-ef69-cb0af282ff02",
        "trusted": true
      },
      "outputs": [
        {
          "data": {
            "text/plain": [
              "device(type='cuda')"
            ]
          },
          "execution_count": 5,
          "metadata": {},
          "output_type": "execute_result"
        }
      ],
      "source": [
        "device"
      ]
    },
    {
      "cell_type": "code",
      "execution_count": null,
      "metadata": {
        "execution": {
          "iopub.execute_input": "2022-03-13T13:07:20.073538Z",
          "iopub.status.busy": "2022-03-13T13:07:20.071438Z",
          "iopub.status.idle": "2022-03-13T13:07:20.082101Z",
          "shell.execute_reply": "2022-03-13T13:07:20.081383Z",
          "shell.execute_reply.started": "2022-03-13T13:07:20.073498Z"
        },
        "id": "2xuVm_W5deTJ",
        "trusted": true
      },
      "outputs": [],
      "source": [
        "def set_seed(seed = 1234):\n",
        "    '''Sets the seed of the entire notebook so results are the same every time we run.\n",
        "    This is for REPRODUCIBILITY.'''\n",
        "    np.random.seed(seed)\n",
        "    random.seed(seed)\n",
        "    torch.manual_seed(seed)\n",
        "    torch.cuda.manual_seed(seed)\n",
        "    # When running on the CuDNN backend, two further options must be set\n",
        "    torch.backends.cudnn.deterministic = True\n",
        "    # Set a fixed value for the hash seed\n",
        "    os.environ['PYTHONHASHSEED'] = str(seed)\n",
        "    \n",
        "set_seed()"
      ]
    },
    {
      "cell_type": "code",
      "execution_count": null,
      "metadata": {
        "execution": {
          "iopub.execute_input": "2022-03-13T13:07:20.083545Z",
          "iopub.status.busy": "2022-03-13T13:07:20.083301Z",
          "iopub.status.idle": "2022-03-13T13:07:20.090536Z",
          "shell.execute_reply": "2022-03-13T13:07:20.089886Z",
          "shell.execute_reply.started": "2022-03-13T13:07:20.083512Z"
        },
        "id": "z4OepeABvHP6",
        "trusted": true
      },
      "outputs": [],
      "source": [
        "def lossCurve(trainLosses,valLosses):\n",
        "  plt.plot(trainLosses, color=\"r\")\n",
        "  plt.plot(valLosses, color=\"g\")\n",
        "  plt.ylabel('Loss')\n",
        "  plt.xlabel('Epochs')\n",
        "  plt.legend(['Train Loss','Validation Loss'])\n",
        "  plt.show()"
      ]
    },
    {
      "cell_type": "code",
      "execution_count": 6,
      "metadata": {
        "colab": {
          "base_uri": "https://localhost:8080/"
        },
        "execution": {
          "iopub.execute_input": "2022-03-13T13:07:20.091662Z",
          "iopub.status.busy": "2022-03-13T13:07:20.091320Z",
          "iopub.status.idle": "2022-03-13T13:07:28.813700Z",
          "shell.execute_reply": "2022-03-13T13:07:28.812809Z",
          "shell.execute_reply.started": "2022-03-13T13:07:20.091627Z"
        },
        "id": "Am5EGMDGdhCy",
        "outputId": "3d8f7ead-d1c2-42bf-a627-43f6a253270f",
        "trusted": true
      },
      "outputs": [
        {
          "name": "stdout",
          "output_type": "stream",
          "text": [
            "Collecting transformers\n",
            "  Downloading transformers-4.17.0-py3-none-any.whl (3.8 MB)\n",
            "\u001b[K     |████████████████████████████████| 3.8 MB 4.5 MB/s \n",
            "\u001b[?25hRequirement already satisfied: packaging>=20.0 in /usr/local/lib/python3.7/dist-packages (from transformers) (21.3)\n",
            "Collecting huggingface-hub<1.0,>=0.1.0\n",
            "  Downloading huggingface_hub-0.4.0-py3-none-any.whl (67 kB)\n",
            "\u001b[K     |████████████████████████████████| 67 kB 5.1 MB/s \n",
            "\u001b[?25hRequirement already satisfied: regex!=2019.12.17 in /usr/local/lib/python3.7/dist-packages (from transformers) (2019.12.20)\n",
            "Requirement already satisfied: filelock in /usr/local/lib/python3.7/dist-packages (from transformers) (3.6.0)\n",
            "Requirement already satisfied: requests in /usr/local/lib/python3.7/dist-packages (from transformers) (2.23.0)\n",
            "Collecting tokenizers!=0.11.3,>=0.11.1\n",
            "  Downloading tokenizers-0.11.6-cp37-cp37m-manylinux_2_12_x86_64.manylinux2010_x86_64.whl (6.5 MB)\n",
            "\u001b[K     |████████████████████████████████| 6.5 MB 35.6 MB/s \n",
            "\u001b[?25hCollecting pyyaml>=5.1\n",
            "  Downloading PyYAML-6.0-cp37-cp37m-manylinux_2_5_x86_64.manylinux1_x86_64.manylinux_2_12_x86_64.manylinux2010_x86_64.whl (596 kB)\n",
            "\u001b[K     |████████████████████████████████| 596 kB 46.8 MB/s \n",
            "\u001b[?25hRequirement already satisfied: importlib-metadata in /usr/local/lib/python3.7/dist-packages (from transformers) (4.11.2)\n",
            "Collecting sacremoses\n",
            "  Downloading sacremoses-0.0.47-py2.py3-none-any.whl (895 kB)\n",
            "\u001b[K     |████████████████████████████████| 895 kB 46.4 MB/s \n",
            "\u001b[?25hRequirement already satisfied: numpy>=1.17 in /usr/local/lib/python3.7/dist-packages (from transformers) (1.21.5)\n",
            "Requirement already satisfied: tqdm>=4.27 in /usr/local/lib/python3.7/dist-packages (from transformers) (4.63.0)\n",
            "Requirement already satisfied: typing-extensions>=3.7.4.3 in /usr/local/lib/python3.7/dist-packages (from huggingface-hub<1.0,>=0.1.0->transformers) (3.10.0.2)\n",
            "Requirement already satisfied: pyparsing!=3.0.5,>=2.0.2 in /usr/local/lib/python3.7/dist-packages (from packaging>=20.0->transformers) (3.0.7)\n",
            "Requirement already satisfied: zipp>=0.5 in /usr/local/lib/python3.7/dist-packages (from importlib-metadata->transformers) (3.7.0)\n",
            "Requirement already satisfied: certifi>=2017.4.17 in /usr/local/lib/python3.7/dist-packages (from requests->transformers) (2021.10.8)\n",
            "Requirement already satisfied: idna<3,>=2.5 in /usr/local/lib/python3.7/dist-packages (from requests->transformers) (2.10)\n",
            "Requirement already satisfied: urllib3!=1.25.0,!=1.25.1,<1.26,>=1.21.1 in /usr/local/lib/python3.7/dist-packages (from requests->transformers) (1.24.3)\n",
            "Requirement already satisfied: chardet<4,>=3.0.2 in /usr/local/lib/python3.7/dist-packages (from requests->transformers) (3.0.4)\n",
            "Requirement already satisfied: joblib in /usr/local/lib/python3.7/dist-packages (from sacremoses->transformers) (1.1.0)\n",
            "Requirement already satisfied: six in /usr/local/lib/python3.7/dist-packages (from sacremoses->transformers) (1.15.0)\n",
            "Requirement already satisfied: click in /usr/local/lib/python3.7/dist-packages (from sacremoses->transformers) (7.1.2)\n",
            "Installing collected packages: pyyaml, tokenizers, sacremoses, huggingface-hub, transformers\n",
            "  Attempting uninstall: pyyaml\n",
            "    Found existing installation: PyYAML 3.13\n",
            "    Uninstalling PyYAML-3.13:\n",
            "      Successfully uninstalled PyYAML-3.13\n",
            "Successfully installed huggingface-hub-0.4.0 pyyaml-6.0 sacremoses-0.0.47 tokenizers-0.11.6 transformers-4.17.0\n"
          ]
        }
      ],
      "source": [
        "!pip install transformers"
      ]
    },
    {
      "cell_type": "markdown",
      "metadata": {
        "id": "aDRqWy0alxXP"
      },
      "source": [
        "## Download NewsQA Dataset and convert it to SQuAD format"
      ]
    },
    {
      "cell_type": "code",
      "execution_count": null,
      "metadata": {
        "execution": {
          "iopub.execute_input": "2022-03-13T13:07:28.817426Z",
          "iopub.status.busy": "2022-03-13T13:07:28.817197Z",
          "iopub.status.idle": "2022-03-13T13:08:29.884354Z",
          "shell.execute_reply": "2022-03-13T13:08:29.883513Z",
          "shell.execute_reply.started": "2022-03-13T13:07:28.817399Z"
        },
        "id": "LUP7Kouu0jU1",
        "outputId": "a6456adb-c427-4d51-b998-665014fbc683",
        "trusted": true
      },
      "outputs": [
        {
          "name": "stdout",
          "output_type": "stream",
          "text": [
            "Collecting package metadata (current_repodata.json): done\n",
            "Solving environment: done\n",
            "\n",
            "## Package Plan ##\n",
            "\n",
            "  environment location: /opt/conda\n",
            "\n",
            "  added / updated specs:\n",
            "    - gdown\n",
            "\n",
            "\n",
            "The following packages will be downloaded:\n",
            "\n",
            "    package                    |            build\n",
            "    ---------------------------|-----------------\n",
            "    beautifulsoup4-4.10.0      |     pyha770c72_0          77 KB  conda-forge\n",
            "    conda-4.11.0               |   py37h89c1867_2        16.9 MB  conda-forge\n",
            "    filelock-3.6.0             |     pyhd8ed1ab_0          12 KB  conda-forge\n",
            "    gdown-4.4.0                |     pyhd8ed1ab_0          16 KB  conda-forge\n",
            "    soupsieve-2.3.1            |     pyhd8ed1ab_0          33 KB  conda-forge\n",
            "    ------------------------------------------------------------\n",
            "                                           Total:        17.0 MB\n",
            "\n",
            "The following NEW packages will be INSTALLED:\n",
            "\n",
            "  beautifulsoup4     conda-forge/noarch::beautifulsoup4-4.10.0-pyha770c72_0\n",
            "  filelock           conda-forge/noarch::filelock-3.6.0-pyhd8ed1ab_0\n",
            "  gdown              conda-forge/noarch::gdown-4.4.0-pyhd8ed1ab_0\n",
            "  soupsieve          conda-forge/noarch::soupsieve-2.3.1-pyhd8ed1ab_0\n",
            "\n",
            "The following packages will be UPDATED:\n",
            "\n",
            "  conda                               4.11.0-py37h89c1867_0 --> 4.11.0-py37h89c1867_2\n",
            "\n",
            "\n",
            "\n",
            "Downloading and Extracting Packages\n",
            "filelock-3.6.0       | 12 KB     | ##################################### | 100% \n",
            "soupsieve-2.3.1      | 33 KB     | ##################################### | 100% \n",
            "gdown-4.4.0          | 16 KB     | ##################################### | 100% \n",
            "beautifulsoup4-4.10. | 77 KB     | ##################################### | 100% \n",
            "conda-4.11.0         | 16.9 MB   | ##################################### | 100% \n",
            "Preparing transaction: done\n",
            "Verifying transaction: done\n",
            "Executing transaction: done\n"
          ]
        }
      ],
      "source": [
        "! conda install -y gdown"
      ]
    },
    {
      "cell_type": "code",
      "execution_count": null,
      "metadata": {
        "execution": {
          "iopub.execute_input": "2022-03-13T13:08:29.886050Z",
          "iopub.status.busy": "2022-03-13T13:08:29.885804Z",
          "iopub.status.idle": "2022-03-13T13:08:35.193884Z",
          "shell.execute_reply": "2022-03-13T13:08:35.193003Z",
          "shell.execute_reply.started": "2022-03-13T13:08:29.886017Z"
        },
        "id": "Er0P9PUo0jU2",
        "outputId": "0a393ef3-82b7-46e6-fd1d-2f7686b398e4",
        "trusted": true
      },
      "outputs": [
        {
          "name": "stdout",
          "output_type": "stream",
          "text": [
            "/opt/conda/lib/python3.7/site-packages/gdown/cli.py:131: FutureWarning: Option `--id` was deprecated in version 4.3.1 and will be removed in 5.0. You don't need to pass it anymore to use a file ID.\n",
            "  category=FutureWarning,\n",
            "Downloading...\n",
            "From: https://drive.google.com/uc?id=1FvZHABR6LH30ALwsToT7cakDKJOpC9bq\n",
            "To: /kaggle/working/newsqa_train.json\n",
            "100%|█████████████████████████████████████████| 396M/396M [00:03<00:00, 125MB/s]\n"
          ]
        }
      ],
      "source": [
        "!gdown --id 1FvZHABR6LH30ALwsToT7cakDKJOpC9bq # download newsQA dataset from my drive link (train)"
      ]
    },
    {
      "cell_type": "code",
      "execution_count": null,
      "metadata": {
        "execution": {
          "iopub.execute_input": "2022-03-13T13:08:35.195686Z",
          "iopub.status.busy": "2022-03-13T13:08:35.195302Z",
          "iopub.status.idle": "2022-03-13T13:08:38.290936Z",
          "shell.execute_reply": "2022-03-13T13:08:38.290062Z",
          "shell.execute_reply.started": "2022-03-13T13:08:35.195645Z"
        },
        "id": "4-NEO0Sf0jU2",
        "outputId": "b0bae86e-d482-4c63-c245-1257cb57bc95",
        "trusted": true
      },
      "outputs": [
        {
          "name": "stdout",
          "output_type": "stream",
          "text": [
            "/opt/conda/lib/python3.7/site-packages/gdown/cli.py:131: FutureWarning: Option `--id` was deprecated in version 4.3.1 and will be removed in 5.0. You don't need to pass it anymore to use a file ID.\n",
            "  category=FutureWarning,\n",
            "Downloading...\n",
            "From: https://drive.google.com/uc?id=18jxTmftR-NB3h7tp7o7WiAVxcg10GAkA\n",
            "To: /kaggle/working/newsqa_dev.json\n",
            "100%|██████████████████████████████████████| 21.7M/21.7M [00:00<00:00, 90.4MB/s]\n"
          ]
        }
      ],
      "source": [
        "!gdown --id 18jxTmftR-NB3h7tp7o7WiAVxcg10GAkA # download newsQA dataset from my drive link (dev)"
      ]
    },
    {
      "cell_type": "markdown",
      "metadata": {
        "id": "o1CHE1k0mdvx"
      },
      "source": [
        "## Take the texts, questions and answers from NewsQA dataset and insert these into corresponding lists"
      ]
    },
    {
      "cell_type": "code",
      "execution_count": null,
      "metadata": {
        "execution": {
          "iopub.execute_input": "2022-03-13T13:08:38.295501Z",
          "iopub.status.busy": "2022-03-13T13:08:38.294881Z",
          "iopub.status.idle": "2022-03-13T13:08:45.540467Z",
          "shell.execute_reply": "2022-03-13T13:08:45.539726Z",
          "shell.execute_reply.started": "2022-03-13T13:08:38.295466Z"
        },
        "id": "GguQxebweOF3",
        "trusted": true
      },
      "outputs": [],
      "source": [
        "import math\n",
        "jsonTrain = \"./newsqa_train.json\"\n",
        "jsonVal = \"./newsqa_train.json\"\n",
        "\n",
        "file_data = pd.read_json(jsonTrain)\n",
        "json_data = file_data['data']\n",
        "\n",
        "size = math.floor(json_data.shape[0]*0.6)\n",
        "trainContents = file_data['data'].loc[0:size]\n",
        "\n",
        "file_data = pd.read_json(jsonVal)\n",
        "json_data = file_data['data']\n",
        "\n",
        "size = math.floor(json_data.shape[0]*0.2)\n",
        "valContents = file_data['data'].loc[0:size]"
      ]
    },
    {
      "cell_type": "code",
      "execution_count": null,
      "metadata": {
        "execution": {
          "iopub.execute_input": "2022-03-13T13:08:45.542223Z",
          "iopub.status.busy": "2022-03-13T13:08:45.541933Z",
          "iopub.status.idle": "2022-03-13T13:08:45.548811Z",
          "shell.execute_reply": "2022-03-13T13:08:45.548179Z",
          "shell.execute_reply.started": "2022-03-13T13:08:45.542186Z"
        },
        "id": "XNWrLQG3GuzI",
        "trusted": true
      },
      "outputs": [],
      "source": [
        "def jsonToLists(contents):\n",
        "  texts=[]\n",
        "  questions=[]\n",
        "  answers=[]\n",
        "  for data in contents:\n",
        "    for txt in data['paragraphs']: # every text,\n",
        "      text = txt['context']\n",
        "      for qa in txt['qas']: # has many questions,\n",
        "        question = qa['question']\n",
        "        for answer in qa['answers']: # questions have answers.\n",
        "          texts.append(text)\n",
        "          questions.append(question)\n",
        "          answers.append(answer)            \n",
        "                  \n",
        "  return texts,questions,answers\n"
      ]
    },
    {
      "cell_type": "code",
      "execution_count": null,
      "metadata": {
        "execution": {
          "iopub.execute_input": "2022-03-13T13:08:45.550649Z",
          "iopub.status.busy": "2022-03-13T13:08:45.550190Z",
          "iopub.status.idle": "2022-03-13T13:08:45.765316Z",
          "shell.execute_reply": "2022-03-13T13:08:45.764611Z",
          "shell.execute_reply.started": "2022-03-13T13:08:45.550614Z"
        },
        "id": "paYE-0YTgNHI",
        "trusted": true
      },
      "outputs": [],
      "source": [
        "trainTexts,trainQuestions,trainAnswers=jsonToLists(trainContents)\n",
        "valTexts,valQuestions,valAnswers=jsonToLists(valContents)"
      ]
    },
    {
      "cell_type": "code",
      "execution_count": null,
      "metadata": {
        "execution": {
          "iopub.execute_input": "2022-03-13T13:08:45.767107Z",
          "iopub.status.busy": "2022-03-13T13:08:45.766635Z",
          "iopub.status.idle": "2022-03-13T13:08:45.774608Z",
          "shell.execute_reply": "2022-03-13T13:08:45.773758Z",
          "shell.execute_reply.started": "2022-03-13T13:08:45.767058Z"
        },
        "id": "KN8ZXs-JiCJS",
        "outputId": "993fbbe1-44dd-40ef-c85b-541f645e8910",
        "trusted": true
      },
      "outputs": [
        {
          "name": "stdout",
          "output_type": "stream",
          "text": [
            "55530\n",
            "55530\n",
            "55530\n",
            "-----\n",
            "18510\n",
            "18510\n",
            "18510\n"
          ]
        }
      ],
      "source": [
        "print(len(trainTexts))\n",
        "print(len(trainQuestions))\n",
        "print(len(trainAnswers))\n",
        "print(\"-----\")\n",
        "print(len(valTexts))\n",
        "print(len(valQuestions))\n",
        "print(len(valAnswers))"
      ]
    },
    {
      "cell_type": "markdown",
      "metadata": {
        "id": "VWB1ZVdrnlQs"
      },
      "source": [
        "## Find and store the end position of every answer"
      ]
    },
    {
      "cell_type": "code",
      "execution_count": null,
      "metadata": {
        "execution": {
          "iopub.execute_input": "2022-03-13T13:08:45.776636Z",
          "iopub.status.busy": "2022-03-13T13:08:45.776387Z",
          "iopub.status.idle": "2022-03-13T13:08:45.857036Z",
          "shell.execute_reply": "2022-03-13T13:08:45.856374Z",
          "shell.execute_reply.started": "2022-03-13T13:08:45.776604Z"
        },
        "id": "eekiczaeFf7e",
        "trusted": true
      },
      "outputs": [],
      "source": [
        "def add_end_idx(answers, contexts):\n",
        "    # get the character position at which every answer ends and store it\n",
        "    for answer, context in zip(answers, contexts):\n",
        "      end_idx = answer['answer_start'] + len(answer['text'])\n",
        "\n",
        "      if context[answer['answer_start']:end_idx] == answer['text']:\n",
        "        answer['answer_end'] = end_idx\n",
        "      # Sometimes SQuAD answers are off by one or two characters, so ...\n",
        "      elif context[answer['answer_start']-1:end_idx-1] == answer['text']:\n",
        "        answer['answer_start'] = answer['answer_start'] - 1\n",
        "        answer['answer_end'] = end_idx - 1\n",
        "      elif context[answer['answer_start']-2:end_idx-2] == answer['text']:\n",
        "        answer['answer_start'] = answer['answer_start'] - 2\n",
        "        answer['answer_end'] = end_idx - 2\n",
        "                \n",
        "add_end_idx(trainAnswers, trainTexts)\n",
        "add_end_idx(valAnswers, valTexts)"
      ]
    },
    {
      "cell_type": "markdown",
      "metadata": {
        "id": "WrjL4mRPoGOz"
      },
      "source": [
        "## BERT Tokenizer"
      ]
    },
    {
      "cell_type": "code",
      "execution_count": 7,
      "metadata": {
        "colab": {
          "base_uri": "https://localhost:8080/",
          "height": 145,
          "referenced_widgets": [
            "2891f72b05cf491fb6f7428252d1ebfb",
            "0319c1a6c962409b8df7a756758495a5",
            "971738535e44434aa419804f79d75a77",
            "9a6bc4e3ce024c21bdeeaf7f0b8a349a",
            "dbf1aece136d47a6b7dda12813fd860e",
            "c896d66e88304cef929f6d1da363c987",
            "aef4a4d6dabe430696f19875ab7ecca5",
            "1ed3620c22b44df1bd2b777bb517dd63",
            "202f711d065948e5b9378f2a142b425c",
            "ba3c8c1ede5f4b96a7b1af5f00f1d935",
            "81454dcf13714ef2b6a9659810f4af09",
            "7346f1dce19d45a59925fb8d131db7b6",
            "d6a4ff907206495aaecd26dc3e84fe07",
            "b52b99b326d04c6c8e60c0a1efa448a1",
            "a7622566535c4148a936dd3256c3b707",
            "96de17916e51489c90fa7da76703fe89",
            "e98ac92901964afbb091e1a88390ce05",
            "09b0988824aa416ea308d4c55ae85143",
            "b3471a56776344c5b711df35db591659",
            "2beb6a8b6c9c42f1b93a9dd3ef87da4e",
            "2188310024734e4ca5d7d1673be0fca8",
            "7d2867e7aaa94b129da0bfdbf6ab8ee1",
            "7cd3743e7b1a4457b78edc848b51c400",
            "0ad122ec897e43268285caf7b1838791",
            "730e47937c2d4d48aa876299f27bfcf3",
            "66dfde45745941a7a7f10ae91b941cb9",
            "8937fc1e7c4b48dd9fceb44c32f450de",
            "7f8bb19464e84b47a940a642b286fd16",
            "1e6b0417a7a046018058fc148a1fbb64",
            "417868623bb047feab561a89610e053a",
            "39c27868c8b54269935ac3ac621f772d",
            "c801090bcf784a3586c1c1b990c37adf",
            "3ab3b6737a604d518e616e0f1c4523f6",
            "ad7e461837a3451d9795ff4bfee3c118",
            "dd08a3e86cb44cccabb33bc5416663bc",
            "26777076662f4ca7bd19e792dd4077e6",
            "f9e107c2ba634516ba356c48a84b751e",
            "a13df42285474ad0bdd717c455a07e55",
            "8f00c78e38b946c98662f80fe834bc80",
            "c2a05ad3114a474697ef375cd45ad777",
            "a1335c75977c4b219c48332d11219ecd",
            "3a0070bced044b1e917b75ccb81d4b0d",
            "8053bdf2850940b3add19ffc1c24f634",
            "a0a9f0f4e1b64f159d61bdc8789594d1"
          ]
        },
        "execution": {
          "iopub.execute_input": "2022-03-13T13:08:45.858272Z",
          "iopub.status.busy": "2022-03-13T13:08:45.858052Z",
          "iopub.status.idle": "2022-03-13T13:08:51.185823Z",
          "shell.execute_reply": "2022-03-13T13:08:51.185168Z",
          "shell.execute_reply.started": "2022-03-13T13:08:45.858240Z"
        },
        "id": "G6efgWHFKdMN",
        "outputId": "e5c25dac-b45f-4cf7-c7fa-640e1f13c30e",
        "trusted": true
      },
      "outputs": [
        {
          "data": {
            "application/vnd.jupyter.widget-view+json": {
              "model_id": "2891f72b05cf491fb6f7428252d1ebfb",
              "version_major": 2,
              "version_minor": 0
            },
            "text/plain": [
              "Downloading:   0%|          | 0.00/28.0 [00:00<?, ?B/s]"
            ]
          },
          "metadata": {},
          "output_type": "display_data"
        },
        {
          "data": {
            "application/vnd.jupyter.widget-view+json": {
              "model_id": "7346f1dce19d45a59925fb8d131db7b6",
              "version_major": 2,
              "version_minor": 0
            },
            "text/plain": [
              "Downloading:   0%|          | 0.00/226k [00:00<?, ?B/s]"
            ]
          },
          "metadata": {},
          "output_type": "display_data"
        },
        {
          "data": {
            "application/vnd.jupyter.widget-view+json": {
              "model_id": "7cd3743e7b1a4457b78edc848b51c400",
              "version_major": 2,
              "version_minor": 0
            },
            "text/plain": [
              "Downloading:   0%|          | 0.00/455k [00:00<?, ?B/s]"
            ]
          },
          "metadata": {},
          "output_type": "display_data"
        },
        {
          "data": {
            "application/vnd.jupyter.widget-view+json": {
              "model_id": "ad7e461837a3451d9795ff4bfee3c118",
              "version_major": 2,
              "version_minor": 0
            },
            "text/plain": [
              "Downloading:   0%|          | 0.00/483 [00:00<?, ?B/s]"
            ]
          },
          "metadata": {},
          "output_type": "display_data"
        }
      ],
      "source": [
        "from transformers import BertTokenizerFast,DistilBertTokenizerFast\n",
        "\n",
        "# tokenizer = BertTokenizerFast.from_pretrained('bert-base-uncased')\n",
        "tokenizer = DistilBertTokenizerFast.from_pretrained('distilbert-base-uncased')"
      ]
    },
    {
      "cell_type": "code",
      "execution_count": null,
      "metadata": {
        "execution": {
          "iopub.execute_input": "2022-03-13T13:08:51.187462Z",
          "iopub.status.busy": "2022-03-13T13:08:51.187199Z",
          "iopub.status.idle": "2022-03-13T13:11:38.734527Z",
          "shell.execute_reply": "2022-03-13T13:11:38.733766Z",
          "shell.execute_reply.started": "2022-03-13T13:08:51.187427Z"
        },
        "id": "2-62TIQyH-H0",
        "trusted": true
      },
      "outputs": [],
      "source": [
        "trainEncodings=tokenizer(trainTexts,trainQuestions, truncation=True, padding=True, max_length=512)\n",
        "valEncodings=tokenizer(valTexts,valQuestions, truncation=True, padding=True, max_length=512)"
      ]
    },
    {
      "cell_type": "markdown",
      "metadata": {
        "id": "T24OieeEoNn7"
      },
      "source": [
        "## Convert  character start/end positions to token start/end positions"
      ]
    },
    {
      "cell_type": "code",
      "execution_count": null,
      "metadata": {
        "execution": {
          "iopub.execute_input": "2022-03-13T13:11:38.736104Z",
          "iopub.status.busy": "2022-03-13T13:11:38.735699Z",
          "iopub.status.idle": "2022-03-13T13:11:39.087313Z",
          "shell.execute_reply": "2022-03-13T13:11:39.086525Z",
          "shell.execute_reply.started": "2022-03-13T13:11:38.736065Z"
        },
        "id": "Y_IyfehmLyhN",
        "trusted": true
      },
      "outputs": [],
      "source": [
        "def add_token_positions(encodings, answers):\n",
        "    # convert character start/end positions to token start/end positions.\n",
        "    start_positions = []\n",
        "    end_positions = []\n",
        "    for i in range(len(answers)):\n",
        "        start_positions.append(encodings.char_to_token(i, answers[i]['answer_start']))\n",
        "        if(answers[i]['answer_end']==0):\n",
        "            end_positions.append(encodings.char_to_token(i, answers[i]['answer_end'])) \n",
        "        else:\n",
        "            end_positions.append(encodings.char_to_token(i, answers[i]['answer_end'] - 1))\n",
        "\n",
        "         # if None, the answer passage has been truncated\n",
        "        if start_positions[-1] is None:\n",
        "            start_positions[-1] = tokenizer.model_max_length\n",
        "                   \n",
        "        if end_positions[-1] is None:\n",
        "            end_positions[-1] = tokenizer.model_max_length\n",
        "\n",
        "    encodings.update({'start_positions': start_positions, 'end_positions': end_positions})\n",
        "\n",
        "# apply function to our data\n",
        "add_token_positions(trainEncodings, trainAnswers)\n",
        "add_token_positions(valEncodings, valAnswers)"
      ]
    },
    {
      "cell_type": "markdown",
      "metadata": {
        "id": "99wzVdYloje-"
      },
      "source": [
        "## Custom Dataset"
      ]
    },
    {
      "cell_type": "code",
      "execution_count": null,
      "metadata": {
        "execution": {
          "iopub.execute_input": "2022-03-13T13:11:39.089045Z",
          "iopub.status.busy": "2022-03-13T13:11:39.088792Z",
          "iopub.status.idle": "2022-03-13T13:11:39.098027Z",
          "shell.execute_reply": "2022-03-13T13:11:39.094725Z",
          "shell.execute_reply.started": "2022-03-13T13:11:39.089007Z"
        },
        "id": "OPyW7VdgLKn4",
        "trusted": true
      },
      "outputs": [],
      "source": [
        "class SquadDataset(torch.utils.data.Dataset):\n",
        "  def __init__(self, encodings):\n",
        "    self.encodings = encodings\n",
        "\n",
        "  def __getitem__(self, idx):\n",
        "    return {key: torch.tensor(val[idx]) for key, val in self.encodings.items()}\n",
        "\n",
        "  def __len__(self):\n",
        "    return len(self.encodings.input_ids)\n",
        "\n",
        "# create the corresponding datasets\n",
        "trainSet = SquadDataset(trainEncodings)\n",
        "valSet = SquadDataset(valEncodings)"
      ]
    },
    {
      "cell_type": "markdown",
      "metadata": {
        "id": "FoniHC1wpRPd"
      },
      "source": [
        "## Build/Load the Bert model"
      ]
    },
    {
      "cell_type": "code",
      "execution_count": null,
      "metadata": {
        "colab": {
          "referenced_widgets": [
            "577e8b4dd5714fce98f530a36fbe5b48",
            "67cfedd4fff64a6692bfce5e39948d4b"
          ]
        },
        "execution": {
          "iopub.execute_input": "2022-03-13T13:11:39.100165Z",
          "iopub.status.busy": "2022-03-13T13:11:39.099806Z",
          "iopub.status.idle": "2022-03-13T13:11:56.212631Z",
          "shell.execute_reply": "2022-03-13T13:11:56.210846Z",
          "shell.execute_reply.started": "2022-03-13T13:11:39.100126Z"
        },
        "id": "rfCl75yFZnZC",
        "outputId": "4061da03-7001-4505-cf13-51b5d23ae83e",
        "trusted": true
      },
      "outputs": [
        {
          "data": {
            "application/vnd.jupyter.widget-view+json": {
              "model_id": "577e8b4dd5714fce98f530a36fbe5b48",
              "version_major": 2,
              "version_minor": 0
            },
            "text/plain": [
              "Downloading:   0%|          | 0.00/570 [00:00<?, ?B/s]"
            ]
          },
          "metadata": {},
          "output_type": "display_data"
        },
        {
          "data": {
            "application/vnd.jupyter.widget-view+json": {
              "model_id": "67cfedd4fff64a6692bfce5e39948d4b",
              "version_major": 2,
              "version_minor": 0
            },
            "text/plain": [
              "Downloading:   0%|          | 0.00/420M [00:00<?, ?B/s]"
            ]
          },
          "metadata": {},
          "output_type": "display_data"
        },
        {
          "name": "stderr",
          "output_type": "stream",
          "text": [
            "Some weights of the model checkpoint at bert-base-uncased were not used when initializing BertForQuestionAnswering: ['cls.predictions.transform.dense.bias', 'cls.predictions.transform.LayerNorm.weight', 'cls.predictions.transform.dense.weight', 'cls.predictions.transform.LayerNorm.bias', 'cls.predictions.decoder.weight', 'cls.predictions.bias', 'cls.seq_relationship.weight', 'cls.seq_relationship.bias']\n",
            "- This IS expected if you are initializing BertForQuestionAnswering from the checkpoint of a model trained on another task or with another architecture (e.g. initializing a BertForSequenceClassification model from a BertForPreTraining model).\n",
            "- This IS NOT expected if you are initializing BertForQuestionAnswering from the checkpoint of a model that you expect to be exactly identical (initializing a BertForSequenceClassification model from a BertForSequenceClassification model).\n",
            "Some weights of BertForQuestionAnswering were not initialized from the model checkpoint at bert-base-uncased and are newly initialized: ['qa_outputs.weight', 'qa_outputs.bias']\n",
            "You should probably TRAIN this model on a down-stream task to be able to use it for predictions and inference.\n"
          ]
        },
        {
          "data": {
            "text/plain": [
              "BertForQuestionAnswering(\n",
              "  (bert): BertModel(\n",
              "    (embeddings): BertEmbeddings(\n",
              "      (word_embeddings): Embedding(30522, 768, padding_idx=0)\n",
              "      (position_embeddings): Embedding(512, 768)\n",
              "      (token_type_embeddings): Embedding(2, 768)\n",
              "      (LayerNorm): LayerNorm((768,), eps=1e-12, elementwise_affine=True)\n",
              "      (dropout): Dropout(p=0.1, inplace=False)\n",
              "    )\n",
              "    (encoder): BertEncoder(\n",
              "      (layer): ModuleList(\n",
              "        (0): BertLayer(\n",
              "          (attention): BertAttention(\n",
              "            (self): BertSelfAttention(\n",
              "              (query): Linear(in_features=768, out_features=768, bias=True)\n",
              "              (key): Linear(in_features=768, out_features=768, bias=True)\n",
              "              (value): Linear(in_features=768, out_features=768, bias=True)\n",
              "              (dropout): Dropout(p=0.1, inplace=False)\n",
              "            )\n",
              "            (output): BertSelfOutput(\n",
              "              (dense): Linear(in_features=768, out_features=768, bias=True)\n",
              "              (LayerNorm): LayerNorm((768,), eps=1e-12, elementwise_affine=True)\n",
              "              (dropout): Dropout(p=0.1, inplace=False)\n",
              "            )\n",
              "          )\n",
              "          (intermediate): BertIntermediate(\n",
              "            (dense): Linear(in_features=768, out_features=3072, bias=True)\n",
              "          )\n",
              "          (output): BertOutput(\n",
              "            (dense): Linear(in_features=3072, out_features=768, bias=True)\n",
              "            (LayerNorm): LayerNorm((768,), eps=1e-12, elementwise_affine=True)\n",
              "            (dropout): Dropout(p=0.1, inplace=False)\n",
              "          )\n",
              "        )\n",
              "        (1): BertLayer(\n",
              "          (attention): BertAttention(\n",
              "            (self): BertSelfAttention(\n",
              "              (query): Linear(in_features=768, out_features=768, bias=True)\n",
              "              (key): Linear(in_features=768, out_features=768, bias=True)\n",
              "              (value): Linear(in_features=768, out_features=768, bias=True)\n",
              "              (dropout): Dropout(p=0.1, inplace=False)\n",
              "            )\n",
              "            (output): BertSelfOutput(\n",
              "              (dense): Linear(in_features=768, out_features=768, bias=True)\n",
              "              (LayerNorm): LayerNorm((768,), eps=1e-12, elementwise_affine=True)\n",
              "              (dropout): Dropout(p=0.1, inplace=False)\n",
              "            )\n",
              "          )\n",
              "          (intermediate): BertIntermediate(\n",
              "            (dense): Linear(in_features=768, out_features=3072, bias=True)\n",
              "          )\n",
              "          (output): BertOutput(\n",
              "            (dense): Linear(in_features=3072, out_features=768, bias=True)\n",
              "            (LayerNorm): LayerNorm((768,), eps=1e-12, elementwise_affine=True)\n",
              "            (dropout): Dropout(p=0.1, inplace=False)\n",
              "          )\n",
              "        )\n",
              "        (2): BertLayer(\n",
              "          (attention): BertAttention(\n",
              "            (self): BertSelfAttention(\n",
              "              (query): Linear(in_features=768, out_features=768, bias=True)\n",
              "              (key): Linear(in_features=768, out_features=768, bias=True)\n",
              "              (value): Linear(in_features=768, out_features=768, bias=True)\n",
              "              (dropout): Dropout(p=0.1, inplace=False)\n",
              "            )\n",
              "            (output): BertSelfOutput(\n",
              "              (dense): Linear(in_features=768, out_features=768, bias=True)\n",
              "              (LayerNorm): LayerNorm((768,), eps=1e-12, elementwise_affine=True)\n",
              "              (dropout): Dropout(p=0.1, inplace=False)\n",
              "            )\n",
              "          )\n",
              "          (intermediate): BertIntermediate(\n",
              "            (dense): Linear(in_features=768, out_features=3072, bias=True)\n",
              "          )\n",
              "          (output): BertOutput(\n",
              "            (dense): Linear(in_features=3072, out_features=768, bias=True)\n",
              "            (LayerNorm): LayerNorm((768,), eps=1e-12, elementwise_affine=True)\n",
              "            (dropout): Dropout(p=0.1, inplace=False)\n",
              "          )\n",
              "        )\n",
              "        (3): BertLayer(\n",
              "          (attention): BertAttention(\n",
              "            (self): BertSelfAttention(\n",
              "              (query): Linear(in_features=768, out_features=768, bias=True)\n",
              "              (key): Linear(in_features=768, out_features=768, bias=True)\n",
              "              (value): Linear(in_features=768, out_features=768, bias=True)\n",
              "              (dropout): Dropout(p=0.1, inplace=False)\n",
              "            )\n",
              "            (output): BertSelfOutput(\n",
              "              (dense): Linear(in_features=768, out_features=768, bias=True)\n",
              "              (LayerNorm): LayerNorm((768,), eps=1e-12, elementwise_affine=True)\n",
              "              (dropout): Dropout(p=0.1, inplace=False)\n",
              "            )\n",
              "          )\n",
              "          (intermediate): BertIntermediate(\n",
              "            (dense): Linear(in_features=768, out_features=3072, bias=True)\n",
              "          )\n",
              "          (output): BertOutput(\n",
              "            (dense): Linear(in_features=3072, out_features=768, bias=True)\n",
              "            (LayerNorm): LayerNorm((768,), eps=1e-12, elementwise_affine=True)\n",
              "            (dropout): Dropout(p=0.1, inplace=False)\n",
              "          )\n",
              "        )\n",
              "        (4): BertLayer(\n",
              "          (attention): BertAttention(\n",
              "            (self): BertSelfAttention(\n",
              "              (query): Linear(in_features=768, out_features=768, bias=True)\n",
              "              (key): Linear(in_features=768, out_features=768, bias=True)\n",
              "              (value): Linear(in_features=768, out_features=768, bias=True)\n",
              "              (dropout): Dropout(p=0.1, inplace=False)\n",
              "            )\n",
              "            (output): BertSelfOutput(\n",
              "              (dense): Linear(in_features=768, out_features=768, bias=True)\n",
              "              (LayerNorm): LayerNorm((768,), eps=1e-12, elementwise_affine=True)\n",
              "              (dropout): Dropout(p=0.1, inplace=False)\n",
              "            )\n",
              "          )\n",
              "          (intermediate): BertIntermediate(\n",
              "            (dense): Linear(in_features=768, out_features=3072, bias=True)\n",
              "          )\n",
              "          (output): BertOutput(\n",
              "            (dense): Linear(in_features=3072, out_features=768, bias=True)\n",
              "            (LayerNorm): LayerNorm((768,), eps=1e-12, elementwise_affine=True)\n",
              "            (dropout): Dropout(p=0.1, inplace=False)\n",
              "          )\n",
              "        )\n",
              "        (5): BertLayer(\n",
              "          (attention): BertAttention(\n",
              "            (self): BertSelfAttention(\n",
              "              (query): Linear(in_features=768, out_features=768, bias=True)\n",
              "              (key): Linear(in_features=768, out_features=768, bias=True)\n",
              "              (value): Linear(in_features=768, out_features=768, bias=True)\n",
              "              (dropout): Dropout(p=0.1, inplace=False)\n",
              "            )\n",
              "            (output): BertSelfOutput(\n",
              "              (dense): Linear(in_features=768, out_features=768, bias=True)\n",
              "              (LayerNorm): LayerNorm((768,), eps=1e-12, elementwise_affine=True)\n",
              "              (dropout): Dropout(p=0.1, inplace=False)\n",
              "            )\n",
              "          )\n",
              "          (intermediate): BertIntermediate(\n",
              "            (dense): Linear(in_features=768, out_features=3072, bias=True)\n",
              "          )\n",
              "          (output): BertOutput(\n",
              "            (dense): Linear(in_features=3072, out_features=768, bias=True)\n",
              "            (LayerNorm): LayerNorm((768,), eps=1e-12, elementwise_affine=True)\n",
              "            (dropout): Dropout(p=0.1, inplace=False)\n",
              "          )\n",
              "        )\n",
              "        (6): BertLayer(\n",
              "          (attention): BertAttention(\n",
              "            (self): BertSelfAttention(\n",
              "              (query): Linear(in_features=768, out_features=768, bias=True)\n",
              "              (key): Linear(in_features=768, out_features=768, bias=True)\n",
              "              (value): Linear(in_features=768, out_features=768, bias=True)\n",
              "              (dropout): Dropout(p=0.1, inplace=False)\n",
              "            )\n",
              "            (output): BertSelfOutput(\n",
              "              (dense): Linear(in_features=768, out_features=768, bias=True)\n",
              "              (LayerNorm): LayerNorm((768,), eps=1e-12, elementwise_affine=True)\n",
              "              (dropout): Dropout(p=0.1, inplace=False)\n",
              "            )\n",
              "          )\n",
              "          (intermediate): BertIntermediate(\n",
              "            (dense): Linear(in_features=768, out_features=3072, bias=True)\n",
              "          )\n",
              "          (output): BertOutput(\n",
              "            (dense): Linear(in_features=3072, out_features=768, bias=True)\n",
              "            (LayerNorm): LayerNorm((768,), eps=1e-12, elementwise_affine=True)\n",
              "            (dropout): Dropout(p=0.1, inplace=False)\n",
              "          )\n",
              "        )\n",
              "        (7): BertLayer(\n",
              "          (attention): BertAttention(\n",
              "            (self): BertSelfAttention(\n",
              "              (query): Linear(in_features=768, out_features=768, bias=True)\n",
              "              (key): Linear(in_features=768, out_features=768, bias=True)\n",
              "              (value): Linear(in_features=768, out_features=768, bias=True)\n",
              "              (dropout): Dropout(p=0.1, inplace=False)\n",
              "            )\n",
              "            (output): BertSelfOutput(\n",
              "              (dense): Linear(in_features=768, out_features=768, bias=True)\n",
              "              (LayerNorm): LayerNorm((768,), eps=1e-12, elementwise_affine=True)\n",
              "              (dropout): Dropout(p=0.1, inplace=False)\n",
              "            )\n",
              "          )\n",
              "          (intermediate): BertIntermediate(\n",
              "            (dense): Linear(in_features=768, out_features=3072, bias=True)\n",
              "          )\n",
              "          (output): BertOutput(\n",
              "            (dense): Linear(in_features=3072, out_features=768, bias=True)\n",
              "            (LayerNorm): LayerNorm((768,), eps=1e-12, elementwise_affine=True)\n",
              "            (dropout): Dropout(p=0.1, inplace=False)\n",
              "          )\n",
              "        )\n",
              "        (8): BertLayer(\n",
              "          (attention): BertAttention(\n",
              "            (self): BertSelfAttention(\n",
              "              (query): Linear(in_features=768, out_features=768, bias=True)\n",
              "              (key): Linear(in_features=768, out_features=768, bias=True)\n",
              "              (value): Linear(in_features=768, out_features=768, bias=True)\n",
              "              (dropout): Dropout(p=0.1, inplace=False)\n",
              "            )\n",
              "            (output): BertSelfOutput(\n",
              "              (dense): Linear(in_features=768, out_features=768, bias=True)\n",
              "              (LayerNorm): LayerNorm((768,), eps=1e-12, elementwise_affine=True)\n",
              "              (dropout): Dropout(p=0.1, inplace=False)\n",
              "            )\n",
              "          )\n",
              "          (intermediate): BertIntermediate(\n",
              "            (dense): Linear(in_features=768, out_features=3072, bias=True)\n",
              "          )\n",
              "          (output): BertOutput(\n",
              "            (dense): Linear(in_features=3072, out_features=768, bias=True)\n",
              "            (LayerNorm): LayerNorm((768,), eps=1e-12, elementwise_affine=True)\n",
              "            (dropout): Dropout(p=0.1, inplace=False)\n",
              "          )\n",
              "        )\n",
              "        (9): BertLayer(\n",
              "          (attention): BertAttention(\n",
              "            (self): BertSelfAttention(\n",
              "              (query): Linear(in_features=768, out_features=768, bias=True)\n",
              "              (key): Linear(in_features=768, out_features=768, bias=True)\n",
              "              (value): Linear(in_features=768, out_features=768, bias=True)\n",
              "              (dropout): Dropout(p=0.1, inplace=False)\n",
              "            )\n",
              "            (output): BertSelfOutput(\n",
              "              (dense): Linear(in_features=768, out_features=768, bias=True)\n",
              "              (LayerNorm): LayerNorm((768,), eps=1e-12, elementwise_affine=True)\n",
              "              (dropout): Dropout(p=0.1, inplace=False)\n",
              "            )\n",
              "          )\n",
              "          (intermediate): BertIntermediate(\n",
              "            (dense): Linear(in_features=768, out_features=3072, bias=True)\n",
              "          )\n",
              "          (output): BertOutput(\n",
              "            (dense): Linear(in_features=3072, out_features=768, bias=True)\n",
              "            (LayerNorm): LayerNorm((768,), eps=1e-12, elementwise_affine=True)\n",
              "            (dropout): Dropout(p=0.1, inplace=False)\n",
              "          )\n",
              "        )\n",
              "        (10): BertLayer(\n",
              "          (attention): BertAttention(\n",
              "            (self): BertSelfAttention(\n",
              "              (query): Linear(in_features=768, out_features=768, bias=True)\n",
              "              (key): Linear(in_features=768, out_features=768, bias=True)\n",
              "              (value): Linear(in_features=768, out_features=768, bias=True)\n",
              "              (dropout): Dropout(p=0.1, inplace=False)\n",
              "            )\n",
              "            (output): BertSelfOutput(\n",
              "              (dense): Linear(in_features=768, out_features=768, bias=True)\n",
              "              (LayerNorm): LayerNorm((768,), eps=1e-12, elementwise_affine=True)\n",
              "              (dropout): Dropout(p=0.1, inplace=False)\n",
              "            )\n",
              "          )\n",
              "          (intermediate): BertIntermediate(\n",
              "            (dense): Linear(in_features=768, out_features=3072, bias=True)\n",
              "          )\n",
              "          (output): BertOutput(\n",
              "            (dense): Linear(in_features=3072, out_features=768, bias=True)\n",
              "            (LayerNorm): LayerNorm((768,), eps=1e-12, elementwise_affine=True)\n",
              "            (dropout): Dropout(p=0.1, inplace=False)\n",
              "          )\n",
              "        )\n",
              "        (11): BertLayer(\n",
              "          (attention): BertAttention(\n",
              "            (self): BertSelfAttention(\n",
              "              (query): Linear(in_features=768, out_features=768, bias=True)\n",
              "              (key): Linear(in_features=768, out_features=768, bias=True)\n",
              "              (value): Linear(in_features=768, out_features=768, bias=True)\n",
              "              (dropout): Dropout(p=0.1, inplace=False)\n",
              "            )\n",
              "            (output): BertSelfOutput(\n",
              "              (dense): Linear(in_features=768, out_features=768, bias=True)\n",
              "              (LayerNorm): LayerNorm((768,), eps=1e-12, elementwise_affine=True)\n",
              "              (dropout): Dropout(p=0.1, inplace=False)\n",
              "            )\n",
              "          )\n",
              "          (intermediate): BertIntermediate(\n",
              "            (dense): Linear(in_features=768, out_features=3072, bias=True)\n",
              "          )\n",
              "          (output): BertOutput(\n",
              "            (dense): Linear(in_features=3072, out_features=768, bias=True)\n",
              "            (LayerNorm): LayerNorm((768,), eps=1e-12, elementwise_affine=True)\n",
              "            (dropout): Dropout(p=0.1, inplace=False)\n",
              "          )\n",
              "        )\n",
              "      )\n",
              "    )\n",
              "  )\n",
              "  (qa_outputs): Linear(in_features=768, out_features=2, bias=True)\n",
              ")"
            ]
          },
          "execution_count": 19,
          "metadata": {},
          "output_type": "execute_result"
        }
      ],
      "source": [
        "from transformers import BertForQuestionAnswering,DistilBertForQuestionAnswering\n",
        "model = BertForQuestionAnswering.from_pretrained('bert-base-uncased')\n",
        "# model = DistilBertForQuestionAnswering.from_pretrained('distilbert-base-uncased')\n",
        "model.to(device)"
      ]
    },
    {
      "cell_type": "code",
      "execution_count": null,
      "metadata": {
        "execution": {
          "iopub.execute_input": "2022-03-13T13:11:56.217820Z",
          "iopub.status.busy": "2022-03-13T13:11:56.217485Z",
          "iopub.status.idle": "2022-03-13T13:11:56.233990Z",
          "shell.execute_reply": "2022-03-13T13:11:56.231727Z",
          "shell.execute_reply.started": "2022-03-13T13:11:56.217783Z"
        },
        "id": "aKm02qunZ_2-",
        "trusted": true
      },
      "outputs": [],
      "source": [
        "from torch.utils.data import TensorDataset, DataLoader\n",
        "\n",
        "batch_size = 16\n",
        "trainDataloader = DataLoader(trainSet, batch_size=batch_size, shuffle=True)\n",
        "valDataloader = DataLoader(valSet, batch_size=batch_size, shuffle=False)"
      ]
    },
    {
      "cell_type": "code",
      "execution_count": null,
      "metadata": {
        "execution": {
          "iopub.execute_input": "2022-03-13T13:11:56.236607Z",
          "iopub.status.busy": "2022-03-13T13:11:56.235918Z",
          "iopub.status.idle": "2022-03-13T13:11:56.262935Z",
          "shell.execute_reply": "2022-03-13T13:11:56.262241Z",
          "shell.execute_reply.started": "2022-03-13T13:11:56.236571Z"
        },
        "id": "r1MdTddDZDYb",
        "trusted": true
      },
      "outputs": [],
      "source": [
        "lr = 3e-5\n",
        "optimizer = torch.optim.AdamW(model.parameters(), lr=lr)"
      ]
    },
    {
      "cell_type": "markdown",
      "metadata": {
        "id": "tlLJs3Zqpg5p"
      },
      "source": [
        "## Train and evalute the Bert model"
      ]
    },
    {
      "cell_type": "code",
      "execution_count": null,
      "metadata": {
        "execution": {
          "iopub.execute_input": "2022-03-13T13:11:56.264868Z",
          "iopub.status.busy": "2022-03-13T13:11:56.264487Z",
          "iopub.status.idle": "2022-03-13T15:01:59.185165Z",
          "shell.execute_reply": "2022-03-13T15:01:59.184364Z",
          "shell.execute_reply.started": "2022-03-13T13:11:56.264834Z"
        },
        "id": "y2gOhWGIacJ3",
        "outputId": "1d9b55ef-80b1-40ca-cc7c-5b88d979f64e",
        "trusted": true
      },
      "outputs": [
        {
          "name": "stdout",
          "output_type": "stream",
          "text": [
            "-Epoch: 1/2... Train Loss: 2.477572 | Val Loss: 1.453828\n",
            "-Epoch: 2/2... Train Loss: 1.613069 | Val Loss: 0.974224\n"
          ]
        }
      ],
      "source": [
        "epochs = 2\n",
        "trainLosses=[]\n",
        "valLosses=[]\n",
        "\n",
        "for i in range(epochs):\n",
        "  batchLosses = []\n",
        "  model.train() # training mode\n",
        "\n",
        "  for batch in trainDataloader:\n",
        "    \n",
        "    optimizer.zero_grad() # Delete previously stored gradients\n",
        "\n",
        "    input_ids = batch['input_ids'].to(device)\n",
        "    attention_mask = batch['attention_mask'].to(device)\n",
        "    start_positions = batch['start_positions'].to(device)\n",
        "    end_positions = batch['end_positions'].to(device)\n",
        "    \n",
        "    outputs = model(input_ids, attention_mask=attention_mask, start_positions=start_positions, end_positions=end_positions)\n",
        "\n",
        "    batchLosses.append(outputs[0].item())  \n",
        "\n",
        "    outputs[0].backward() # Perform backpropagation starting from the loss calculated in this epoch\n",
        "\n",
        "    nn.utils.clip_grad_norm_(model.parameters(),5.0) # Clip gradients to avoid vanishing gradients\n",
        "\n",
        "    optimizer.step() # Update model's weights based on the gradients calculated during backprop\n",
        "\n",
        "\n",
        "  trainCurrentLoss = sum(batchLosses)/len(trainDataloader)\n",
        "  trainLosses.append(trainCurrentLoss) \n",
        "\n",
        " \n",
        "  with torch.no_grad(): # evaluation, don't calculate gradients\n",
        "    model.eval() # evaluation mode\n",
        "    batchLosses = []\n",
        "    for batch in valDataloader:\n",
        "\n",
        "      input_ids = batch['input_ids'].to(device)\n",
        "      attention_mask = batch['attention_mask'].to(device)\n",
        "      start_positions = batch['start_positions'].to(device)\n",
        "      end_positions = batch['end_positions'].to(device)\n",
        "      \n",
        "      output = model(input_ids, attention_mask=attention_mask, start_positions=start_positions, end_positions=end_positions)\n",
        "      batchLosses.append(output[0].item())\n",
        "\n",
        "  valCurrentLoss = sum(batchLosses)/len(valDataloader)\n",
        "  valLosses.append(valCurrentLoss)\n",
        "  print(\"-Epoch: {}/{}...\".format(i+1, epochs), \"Train Loss: {:.6f} |\".format(trainCurrentLoss), \"Val Loss: {:.6f}\".format(valCurrentLoss))"
      ]
    },
    {
      "cell_type": "code",
      "execution_count": null,
      "metadata": {
        "execution": {
          "iopub.execute_input": "2022-03-13T15:01:59.188618Z",
          "iopub.status.busy": "2022-03-13T15:01:59.187790Z",
          "iopub.status.idle": "2022-03-13T15:01:59.468064Z",
          "shell.execute_reply": "2022-03-13T15:01:59.467395Z",
          "shell.execute_reply.started": "2022-03-13T15:01:59.188572Z"
        },
        "id": "MimR1F_lmFKT",
        "outputId": "612d5880-6250-4347-f7af-cad1d6426609",
        "trusted": true
      },
      "outputs": [
        {
          "data": {
            "image/png": "[encoded data removed]",
            "text/plain": [
              "<Figure size 432x288 with 1 Axes>"
            ]
          },
          "metadata": {
            "needs_background": "light"
          },
          "output_type": "display_data"
        }
      ],
      "source": [
        "lossCurve(trainLosses,valLosses)"
      ]
    },
    {
      "cell_type": "code",
      "execution_count": 9,
      "metadata": {
        "execution": {
          "iopub.execute_input": "2022-03-13T15:03:58.424872Z",
          "iopub.status.busy": "2022-03-13T15:03:58.424033Z",
          "iopub.status.idle": "2022-03-13T15:03:58.453161Z",
          "shell.execute_reply": "2022-03-13T15:03:58.452469Z",
          "shell.execute_reply.started": "2022-03-13T15:03:58.424755Z"
        },
        "id": "ZFsdWgs8TJ9R",
        "trusted": true
      },
      "outputs": [],
      "source": [
        "def predictTheAnswer(text,question,model):\n",
        "  inputs = tokenizer.encode_plus(question, text, return_tensors='pt',max_length=512, truncation=True).to(device)\n",
        "\n",
        "  outputs = model(**inputs)\n",
        "  answer_start = torch.argmax(outputs[0])\n",
        "  answer_end = torch.argmax(outputs[1]) + 1 \n",
        "\n",
        "  answer = tokenizer.convert_tokens_to_string(tokenizer.convert_ids_to_tokens(inputs['input_ids'][0][answer_start:answer_end]))\n",
        "  return answer"
      ]
    },
    {
      "cell_type": "code",
      "execution_count": 10,
      "metadata": {
        "execution": {
          "iopub.execute_input": "2022-03-13T15:04:00.556512Z",
          "iopub.status.busy": "2022-03-13T15:04:00.556002Z",
          "iopub.status.idle": "2022-03-13T15:04:00.561586Z",
          "shell.execute_reply": "2022-03-13T15:04:00.560893Z",
          "shell.execute_reply.started": "2022-03-13T15:04:00.556472Z"
        },
        "id": "_8BLJpEATJ9R",
        "trusted": true
      },
      "outputs": [],
      "source": [
        "def prediction(contents,model):\n",
        "  predAnswers={}\n",
        "  for data in contents['data']:\n",
        "    for txt in data['paragraphs']: \n",
        "      text = txt['context']\n",
        "      for qa in txt['qas']:\n",
        "        qid = qa['id']\n",
        "        question = qa['question']\n",
        "        predAnswers[qid]=predictTheAnswer(text,question,model)\n",
        "  return predAnswers"
      ]
    },
    {
      "cell_type": "code",
      "execution_count": 12,
      "metadata": {
        "execution": {
          "iopub.execute_input": "2022-03-13T15:04:18.181856Z",
          "iopub.status.busy": "2022-03-13T15:04:18.181241Z",
          "iopub.status.idle": "2022-03-13T15:04:18.197921Z",
          "shell.execute_reply": "2022-03-13T15:04:18.196972Z",
          "shell.execute_reply.started": "2022-03-13T15:04:18.181818Z"
        },
        "id": "bAGZXBh5TJ9R",
        "trusted": true
      },
      "outputs": [],
      "source": [
        "with open(\"/content/drive/MyDrive/newsqa_dev.json\", 'r') as j:\n",
        "     valContents = json.loads(j.read())\n",
        "predAnswers=prediction(valContents,model)"
      ]
    },
    {
      "cell_type": "code",
      "execution_count": 13,
      "metadata": {
        "execution": {
          "iopub.execute_input": "2022-03-13T15:04:21.502259Z",
          "iopub.status.busy": "2022-03-13T15:04:21.501683Z",
          "iopub.status.idle": "2022-03-13T15:04:21.517982Z",
          "shell.execute_reply": "2022-03-13T15:04:21.517048Z",
          "shell.execute_reply.started": "2022-03-13T15:04:21.502216Z"
        },
        "id": "x9yqdBGZTJ9R",
        "trusted": true
      },
      "outputs": [],
      "source": [
        "with open('results.txt', 'w') as convert_file:\n",
        "     convert_file.write(json.dumps(predAnswers))"
      ]
    },
    {
      "cell_type": "code",
      "execution_count": 17,
      "metadata": {
        "colab": {
          "base_uri": "https://localhost:8080/"
        },
        "id": "zETBx_A-TJ9S",
        "outputId": "eee5c3d4-4b27-4e1d-b976-d97e3453a4b8",
        "trusted": true
      },
      "outputs": [
        {
          "name": "stdout",
          "output_type": "stream",
          "text": [
            "{\n",
            "  \"exact\": 19.957413859852885,\n",
            "  \"f1\": 30.764772131965437,\n",
            "  \"total\": 5166,\n",
            "  \"HasAns_exact\": 19.957413859852885,\n",
            "  \"HasAns_f1\": 30.764772131965437,\n",
            "  \"HasAns_total\": 5166\n",
            "}\n"
          ]
        }
      ],
      "source": [
        "!python evaluate-v2.0.py /content/drive/MyDrive/newsqa_dev.json results.txt"
      ]
    },
    {
      "cell_type": "code",
      "execution_count": 15,
      "metadata": {
        "colab": {
          "base_uri": "https://localhost:8080/"
        },
        "id": "OV6XfYaJWI3l",
        "outputId": "ec3030cc-2400-420c-97c7-2b6125955e75",
        "trusted": true
      },
      "outputs": [
        {
          "name": "stdout",
          "output_type": "stream",
          "text": [
            "Cloning into 'qa-dataset-converter'...\n",
            "remote: Enumerating objects: 27, done.\u001b[K\n",
            "remote: Counting objects: 100% (27/27), done.\u001b[K\n",
            "remote: Compressing objects: 100% (22/22), done.\u001b[K\n",
            "remote: Total 27 (delta 8), reused 9 (delta 1), pack-reused 0\u001b[K\n",
            "Unpacking objects: 100% (27/27), done.\n"
          ]
        }
      ],
      "source": [
        "!git clone https://github.com/amazon-research/qa-dataset-converter"
      ]
    },
    {
      "cell_type": "markdown",
      "metadata": {
        "id": "gts0LAGQvwgT"
      },
      "source": [
        "## TriviaQA"
      ]
    },
    {
      "cell_type": "code",
      "execution_count": 18,
      "metadata": {
        "colab": {
          "base_uri": "https://localhost:8080/"
        },
        "id": "cfDO8HoXUg9H",
        "outputId": "69d3334e-ee69-4037-ed6e-ab75c4125776",
        "trusted": true
      },
      "outputs": [
        {
          "name": "stdout",
          "output_type": "stream",
          "text": [
            "--2022-03-13 16:09:30--  https://nlp.cs.washington.edu/triviaqa/data/triviaqa-rc.tar.gz\n",
            "Resolving nlp.cs.washington.edu (nlp.cs.washington.edu)... 128.208.3.120, 2607:4000:200:12::78\n",
            "Connecting to nlp.cs.washington.edu (nlp.cs.washington.edu)|128.208.3.120|:443... connected.\n",
            "HTTP request sent, awaiting response... 200 OK\n",
            "Length: 2665779500 (2.5G) [application/x-gzip]\n",
            "Saving to: ‘triviaqa-rc.tar.gz’\n",
            "\n",
            "triviaqa-rc.tar.gz  100%[===================>]   2.48G  8.73MB/s    in 2m 29s  \n",
            "\n",
            "2022-03-13 16:12:00 (17.0 MB/s) - ‘triviaqa-rc.tar.gz’ saved [2665779500/2665779500]\n",
            "\n"
          ]
        }
      ],
      "source": [
        "!wget https://nlp.cs.washington.edu/triviaqa/data/triviaqa-rc.tar.gz"
      ]
    },
    {
      "cell_type": "code",
      "execution_count": 19,
      "metadata": {
        "id": "BZ3yl94JUhuF",
        "trusted": true
      },
      "outputs": [],
      "source": [
        "import tarfile\n",
        "fname = \"triviaqa-rc.tar.gz\"\n",
        "if fname.endswith(\"tar.gz\"):\n",
        "    tar = tarfile.open(fname, \"r:gz\")\n",
        "    tar.extractall()\n",
        "    tar.close()"
      ]
    },
    {
      "cell_type": "code",
      "execution_count": 20,
      "metadata": {
        "colab": {
          "base_uri": "https://localhost:8080/"
        },
        "id": "y07l-LCeUjN1",
        "outputId": "7797abdf-d52c-4f90-a6cc-0ff447b60750",
        "trusted": true
      },
      "outputs": [
        {
          "name": "stdout",
          "output_type": "stream",
          "text": [
            "Cloning into 'triviaqa'...\n",
            "remote: Enumerating objects: 67, done.\u001b[K\n",
            "remote: Total 67 (delta 0), reused 0 (delta 0), pack-reused 67\u001b[K\n",
            "Unpacking objects: 100% (67/67), done.\n"
          ]
        }
      ],
      "source": [
        "!git clone https://github.com/mandarjoshi90/triviaqa"
      ]
    },
    {
      "cell_type": "code",
      "execution_count": 21,
      "metadata": {
        "id": "cLhnKfLRUkMk",
        "trusted": true
      },
      "outputs": [],
      "source": [
        "!mv /content/qa-dataset-converter/triviaqa/triviaqa_to_squad.py  triviaqa/"
      ]
    },
    {
      "cell_type": "code",
      "execution_count": 22,
      "metadata": {
        "colab": {
          "base_uri": "https://localhost:8080/"
        },
        "id": "qVC-VM7dUlVK",
        "outputId": "9492d3ae-fe05-4605-9878-329555c5230b",
        "trusted": true
      },
      "outputs": [
        {
          "name": "stdout",
          "output_type": "stream",
          "text": [
            "[nltk_data] Downloading package punkt to /root/nltk_data...\n",
            "[nltk_data]   Unzipping tokenizers/punkt.zip.\n"
          ]
        },
        {
          "data": {
            "text/plain": [
              "True"
            ]
          },
          "execution_count": 22,
          "metadata": {},
          "output_type": "execute_result"
        }
      ],
      "source": [
        "import nltk\n",
        "nltk.download('punkt')"
      ]
    },
    {
      "cell_type": "code",
      "execution_count": 23,
      "metadata": {
        "id": "47B4228MUmIF",
        "trusted": true
      },
      "outputs": [],
      "source": [
        "!python /content/triviaqa/triviaqa_to_squad.py --triviaqa_file qa/wikipedia-dev.json --data_dir evidence/wikipedia/ --output_file triviaqa_dev.json"
      ]
    },
    {
      "cell_type": "code",
      "execution_count": 24,
      "metadata": {
        "id": "QjDGf2yxUv00",
        "trusted": true
      },
      "outputs": [],
      "source": [
        "jsontriviaqa = \"triviaqa_dev.json\"\n",
        "\n",
        "with open(jsontriviaqa, 'r') as j:\n",
        "     triviaqaContents = json.loads(j.read())"
      ]
    },
    {
      "cell_type": "code",
      "execution_count": 25,
      "metadata": {
        "id": "w4sxA0LrUwkF",
        "trusted": true
      },
      "outputs": [],
      "source": [
        "predAnswersTrivia=prediction(triviaqaContents,model)"
      ]
    },
    {
      "cell_type": "code",
      "execution_count": 26,
      "metadata": {
        "id": "-eDa6O-lUxgB",
        "trusted": true
      },
      "outputs": [],
      "source": [
        "with open('resultsTriviaPredictedAnswers.txt', 'w') as convert_file:\n",
        "     convert_file.write(json.dumps(predAnswersTrivia))"
      ]
    },
    {
      "cell_type": "code",
      "execution_count": 33,
      "metadata": {
        "colab": {
          "base_uri": "https://localhost:8080/"
        },
        "id": "w2WbOSLDUyPv",
        "outputId": "4b7c7c06-64c9-4413-c314-74d4470a0072",
        "trusted": true
      },
      "outputs": [
        {
          "name": "stdout",
          "output_type": "stream",
          "text": [
            "{\n",
            "  \"exact\": 11.729566378522735,\n",
            "  \"f1\": 15.095680046651456,\n",
            "  \"total\": 14229,\n",
            "  \"HasAns_exact\": 8.656777077829709,\n",
            "  \"HasAns_f1\": 13.523311459439482,\n",
            "  \"HasAns_total\": 9842,\n",
            "  \"NoAns_exact\": 18.62320492363802,\n",
            "  \"NoAns_f1\": 18.62320492363802,\n",
            "  \"NoAns_total\": 4387\n",
            "}\n"
          ]
        }
      ],
      "source": [
        "!python evaluate-v2.0.py triviaqa_dev.json resultsTriviaPredictedAnswers.txt"
      ]
    },
    {
      "cell_type": "markdown",
      "metadata": {
        "id": "VZfGtBJbHtXy"
      },
      "source": [
        "## SQuAD 2.0"
      ]
    },
    {
      "cell_type": "code",
      "execution_count": 34,
      "metadata": {
        "colab": {
          "base_uri": "https://localhost:8080/"
        },
        "id": "6Vqec6IvH0NR",
        "outputId": "d8033ab3-d1b6-410e-d5c7-a921a90e5a33"
      },
      "outputs": [
        {
          "name": "stdout",
          "output_type": "stream",
          "text": [
            "--2022-03-13 16:47:27--  https://rajpurkar.github.io/SQuAD-explorer/dataset/dev-v2.0.json\n",
            "Resolving rajpurkar.github.io (rajpurkar.github.io)... 185.199.108.153, 185.199.109.153, 185.199.110.153, ...\n",
            "Connecting to rajpurkar.github.io (rajpurkar.github.io)|185.199.108.153|:443... connected.\n",
            "HTTP request sent, awaiting response... 200 OK\n",
            "Length: 4370528 (4.2M) [application/json]\n",
            "Saving to: ‘dev-v2.0.json’\n",
            "\n",
            "dev-v2.0.json       100%[===================>]   4.17M  --.-KB/s    in 0.09s   \n",
            "\n",
            "2022-03-13 16:47:27 (48.5 MB/s) - ‘dev-v2.0.json’ saved [4370528/4370528]\n",
            "\n"
          ]
        }
      ],
      "source": [
        "!wget https://rajpurkar.github.io/SQuAD-explorer/dataset/dev-v2.0.json\n",
        "jsonVal = \"dev-v2.0.json\"\n",
        "\n",
        "with open(jsonVal, 'r') as j:\n",
        "     squadContents = json.loads(j.read())"
      ]
    },
    {
      "cell_type": "code",
      "execution_count": 35,
      "metadata": {
        "id": "a0QNg8LFH1fL"
      },
      "outputs": [],
      "source": [
        "predAnswers=prediction(squadContents,model)"
      ]
    },
    {
      "cell_type": "code",
      "execution_count": 36,
      "metadata": {
        "id": "-MVPyVcCH2dr"
      },
      "outputs": [],
      "source": [
        "with open('resultsSquadPredictedAnswers.txt', 'w') as convert_file:\n",
        "     convert_file.write(json.dumps(predAnswers))"
      ]
    },
    {
      "cell_type": "code",
      "execution_count": 37,
      "metadata": {
        "colab": {
          "base_uri": "https://localhost:8080/"
        },
        "id": "yDny17kqH38h",
        "outputId": "3e690cf1-5cbf-4302-917d-8a5752ec8f95"
      },
      "outputs": [
        {
          "name": "stdout",
          "output_type": "stream",
          "text": [
            "{\n",
            "  \"exact\": 20.298155478817485,\n",
            "  \"f1\": 25.106894269248613,\n",
            "  \"total\": 11873,\n",
            "  \"HasAns_exact\": 25.843454790823213,\n",
            "  \"HasAns_f1\": 35.47472261450578,\n",
            "  \"HasAns_total\": 5928,\n",
            "  \"NoAns_exact\": 14.768713204373423,\n",
            "  \"NoAns_f1\": 14.768713204373423,\n",
            "  \"NoAns_total\": 5945\n",
            "}\n"
          ]
        }
      ],
      "source": [
        "!python evaluate-v2.0.py dev-v2.0.json resultsSquadPredictedAnswers.txt"
      ]
    },
    {
      "cell_type": "markdown",
      "metadata": {
        "id": "punU_U_mv7NC"
      },
      "source": [
        "## QuAC"
      ]
    },
    {
      "cell_type": "code",
      "execution_count": 38,
      "metadata": {
        "colab": {
          "base_uri": "https://localhost:8080/"
        },
        "id": "OSDybqaPl7si",
        "outputId": "c2677b3b-83ec-4388-bcc8-d133b9e45499",
        "trusted": true
      },
      "outputs": [
        {
          "name": "stdout",
          "output_type": "stream",
          "text": [
            "--2022-03-13 16:55:41--  https://s3.amazonaws.com/my89public/quac/val_v0.2.json\n",
            "Resolving s3.amazonaws.com (s3.amazonaws.com)... 54.231.194.56\n",
            "Connecting to s3.amazonaws.com (s3.amazonaws.com)|54.231.194.56|:443... connected.\n",
            "HTTP request sent, awaiting response... 200 OK\n",
            "Length: 8929167 (8.5M) [application/json]\n",
            "Saving to: ‘val_v0.2.json’\n",
            "\n",
            "val_v0.2.json       100%[===================>]   8.51M  4.68MB/s    in 1.8s    \n",
            "\n",
            "2022-03-13 16:55:44 (4.68 MB/s) - ‘val_v0.2.json’ saved [8929167/8929167]\n",
            "\n"
          ]
        }
      ],
      "source": [
        "!wget https://s3.amazonaws.com/my89public/quac/val_v0.2.json"
      ]
    },
    {
      "cell_type": "code",
      "execution_count": 39,
      "metadata": {
        "id": "KZ3Z8Xw9l9TF",
        "trusted": true
      },
      "outputs": [],
      "source": [
        "!python /content/qa-dataset-converter/quac/quac_to_squad.py --quac_file val_v0.2.json --output_file quac_dev.json"
      ]
    },
    {
      "cell_type": "code",
      "execution_count": 40,
      "metadata": {
        "id": "qLyHnIjul-_F",
        "trusted": true
      },
      "outputs": [],
      "source": [
        "jsonValQuAC = \"/content/quac_dev.json\"\n",
        "\n",
        "with open(jsonValQuAC, 'r') as j:\n",
        "     QuACValContents = json.loads(j.read())"
      ]
    },
    {
      "cell_type": "code",
      "execution_count": 41,
      "metadata": {
        "id": "eAyhMzQPmEEV",
        "trusted": true
      },
      "outputs": [],
      "source": [
        "predAnswersQuAC=prediction(QuACValContents,model)"
      ]
    },
    {
      "cell_type": "code",
      "execution_count": 42,
      "metadata": {
        "id": "Nc2PlcvDmJCu",
        "trusted": true
      },
      "outputs": [],
      "source": [
        "with open('resultsQuACPredictedAnswers.txt', 'w') as convert_file:\n",
        "     convert_file.write(json.dumps(predAnswersQuAC))"
      ]
    },
    {
      "cell_type": "code",
      "execution_count": 43,
      "metadata": {
        "colab": {
          "base_uri": "https://localhost:8080/"
        },
        "id": "Bjmo2jzJmE5s",
        "outputId": "23f0a8c7-74f7-4e5c-fe5e-648412a206ef",
        "trusted": true
      },
      "outputs": [
        {
          "name": "stdout",
          "output_type": "stream",
          "text": [
            "{\n",
            "  \"exact\": 4.161000815882513,\n",
            "  \"f1\": 9.774012924776155,\n",
            "  \"total\": 7354,\n",
            "  \"HasAns_exact\": 1.329243353783231,\n",
            "  \"HasAns_f1\": 8.363682864486007,\n",
            "  \"HasAns_total\": 5868,\n",
            "  \"NoAns_exact\": 15.343203230148049,\n",
            "  \"NoAns_f1\": 15.343203230148049,\n",
            "  \"NoAns_total\": 1486\n",
            "}\n"
          ]
        }
      ],
      "source": [
        "!python evaluate-v2.0.py quac_dev.json resultsQuACPredictedAnswers.txt"
      ]
    },
    {
      "cell_type": "markdown",
      "metadata": {
        "id": "oRusStzkv-nM"
      },
      "source": [
        "## NQ"
      ]
    },
    {
      "cell_type": "code",
      "execution_count": null,
      "metadata": {
        "id": "-oobxE7FoNpB",
        "trusted": true
      },
      "outputs": [],
      "source": [
        "!gsutil -m cp -R gs://natural_questions/v1.0 \"/content/drive/MyDrive\""
      ]
    },
    {
      "cell_type": "code",
      "execution_count": 44,
      "metadata": {
        "id": "nE8S3-4mpGx3",
        "trusted": true
      },
      "outputs": [],
      "source": [
        "!python /content/qa-dataset-converter/nq/nq_to_squad.py --nq_dir \"/content/drive/MyDrive/v1.0/dev\" --output_file nq_dev.json\n"
      ]
    },
    {
      "cell_type": "code",
      "execution_count": 45,
      "metadata": {
        "id": "u4cKMMh4pLVo",
        "trusted": true
      },
      "outputs": [],
      "source": [
        "jsonValnatural = \"/content/nq_dev.json\"\n",
        "\n",
        "with open(jsonValnatural, 'r') as j:\n",
        "     naturalValContents = json.loads(j.read())"
      ]
    },
    {
      "cell_type": "code",
      "execution_count": 46,
      "metadata": {
        "id": "lmF-2yUx4FjI",
        "trusted": true
      },
      "outputs": [],
      "source": [
        "predAnswersNatural=prediction(naturalValContents,model)"
      ]
    },
    {
      "cell_type": "code",
      "execution_count": 48,
      "metadata": {
        "id": "1CQ89zSPAJfA",
        "trusted": true
      },
      "outputs": [],
      "source": [
        "with open('resultsNaturalPredictedAnswers.txt', 'w') as convert_file:\n",
        "     convert_file.write(json.dumps(predAnswersNatural))"
      ]
    },
    {
      "cell_type": "code",
      "execution_count": 49,
      "metadata": {
        "colab": {
          "base_uri": "https://localhost:8080/"
        },
        "id": "anxlbQ-4v0RS",
        "outputId": "c71b57dd-a3bf-4f91-92a2-1da1a61fe04c",
        "trusted": true
      },
      "outputs": [
        {
          "name": "stdout",
          "output_type": "stream",
          "text": [
            "{\n",
            "  \"exact\": 22.67735233006827,\n",
            "  \"f1\": 29.919453265059584,\n",
            "  \"total\": 3369,\n",
            "  \"HasAns_exact\": 25.76400679117148,\n",
            "  \"HasAns_f1\": 36.11996521646256,\n",
            "  \"HasAns_total\": 2356,\n",
            "  \"NoAns_exact\": 15.498519249753208,\n",
            "  \"NoAns_f1\": 15.498519249753208,\n",
            "  \"NoAns_total\": 1013\n",
            "}\n"
          ]
        }
      ],
      "source": [
        "!python evaluate-v2.0.py nq_dev.json resultsNaturalPredictedAnswers.txt"
      ]
    }
  ],
  "metadata": {
    "accelerator": "GPU",
    "colab": {
      "collapsed_sections": [],
      "name": "hw4_newsqa_part3.ipynb",
      "provenance": []
    },
    "kernelspec": {
      "display_name": "Python 3",
      "language": "python",
      "name": "python3"
    },
    "language_info": {
      "codemirror_mode": {
        "name": "ipython",
        "version": 3
      },
      "file_extension": ".py",
      "mimetype": "text/x-python",
      "name": "python",
      "nbconvert_exporter": "python",
      "pygments_lexer": "ipython3",
      "version": "3.7.12"
    },
    "widgets": {
      "application/vnd.jupyter.widget-state+json": {
        "0319c1a6c962409b8df7a756758495a5": {
          "model_module": "@jupyter-widgets/controls",
          "model_module_version": "1.5.0",
          "model_name": "HTMLModel",
          "state": {
            "_dom_classes": [],
            "_model_module": "@jupyter-widgets/controls",
            "_model_module_version": "1.5.0",
            "_model_name": "HTMLModel",
            "_view_count": null,
            "_view_module": "@jupyter-widgets/controls",
            "_view_module_version": "1.5.0",
            "_view_name": "HTMLView",
            "description": "",
            "description_tooltip": null,
            "layout": "IPY_MODEL_c896d66e88304cef929f6d1da363c987",
            "placeholder": "​",
            "style": "IPY_MODEL_aef4a4d6dabe430696f19875ab7ecca5",
            "value": "Downloading: 100%"
          }
        },
        "09b0988824aa416ea308d4c55ae85143": {
          "model_module": "@jupyter-widgets/controls",
          "model_module_version": "1.5.0",
          "model_name": "DescriptionStyleModel",
          "state": {
            "_model_module": "@jupyter-widgets/controls",
            "_model_module_version": "1.5.0",
            "_model_name": "DescriptionStyleModel",
            "_view_count": null,
            "_view_module": "@jupyter-widgets/base",
            "_view_module_version": "1.2.0",
            "_view_name": "StyleView",
            "description_width": ""
          }
        },
        "0ad122ec897e43268285caf7b1838791": {
          "model_module": "@jupyter-widgets/controls",
          "model_module_version": "1.5.0",
          "model_name": "HTMLModel",
          "state": {
            "_dom_classes": [],
            "_model_module": "@jupyter-widgets/controls",
            "_model_module_version": "1.5.0",
            "_model_name": "HTMLModel",
            "_view_count": null,
            "_view_module": "@jupyter-widgets/controls",
            "_view_module_version": "1.5.0",
            "_view_name": "HTMLView",
            "description": "",
            "description_tooltip": null,
            "layout": "IPY_MODEL_7f8bb19464e84b47a940a642b286fd16",
            "placeholder": "​",
            "style": "IPY_MODEL_1e6b0417a7a046018058fc148a1fbb64",
            "value": "Downloading: 100%"
          }
        },
        "1e6b0417a7a046018058fc148a1fbb64": {
          "model_module": "@jupyter-widgets/controls",
          "model_module_version": "1.5.0",
          "model_name": "DescriptionStyleModel",
          "state": {
            "_model_module": "@jupyter-widgets/controls",
            "_model_module_version": "1.5.0",
            "_model_name": "DescriptionStyleModel",
            "_view_count": null,
            "_view_module": "@jupyter-widgets/base",
            "_view_module_version": "1.2.0",
            "_view_name": "StyleView",
            "description_width": ""
          }
        },
        "1ed3620c22b44df1bd2b777bb517dd63": {
          "model_module": "@jupyter-widgets/base",
          "model_module_version": "1.2.0",
          "model_name": "LayoutModel",
          "state": {
            "_model_module": "@jupyter-widgets/base",
            "_model_module_version": "1.2.0",
            "_model_name": "LayoutModel",
            "_view_count": null,
            "_view_module": "@jupyter-widgets/base",
            "_view_module_version": "1.2.0",
            "_view_name": "LayoutView",
            "align_content": null,
            "align_items": null,
            "align_self": null,
            "border": null,
            "bottom": null,
            "display": null,
            "flex": null,
            "flex_flow": null,
            "grid_area": null,
            "grid_auto_columns": null,
            "grid_auto_flow": null,
            "grid_auto_rows": null,
            "grid_column": null,
            "grid_gap": null,
            "grid_row": null,
            "grid_template_areas": null,
            "grid_template_columns": null,
            "grid_template_rows": null,
            "height": null,
            "justify_content": null,
            "justify_items": null,
            "left": null,
            "margin": null,
            "max_height": null,
            "max_width": null,
            "min_height": null,
            "min_width": null,
            "object_fit": null,
            "object_position": null,
            "order": null,
            "overflow": null,
            "overflow_x": null,
            "overflow_y": null,
            "padding": null,
            "right": null,
            "top": null,
            "visibility": null,
            "width": null
          }
        },
        "202f711d065948e5b9378f2a142b425c": {
          "model_module": "@jupyter-widgets/controls",
          "model_module_version": "1.5.0",
          "model_name": "ProgressStyleModel",
          "state": {
            "_model_module": "@jupyter-widgets/controls",
            "_model_module_version": "1.5.0",
            "_model_name": "ProgressStyleModel",
            "_view_count": null,
            "_view_module": "@jupyter-widgets/base",
            "_view_module_version": "1.2.0",
            "_view_name": "StyleView",
            "bar_color": null,
            "description_width": ""
          }
        },
        "2188310024734e4ca5d7d1673be0fca8": {
          "model_module": "@jupyter-widgets/base",
          "model_module_version": "1.2.0",
          "model_name": "LayoutModel",
          "state": {
            "_model_module": "@jupyter-widgets/base",
            "_model_module_version": "1.2.0",
            "_model_name": "LayoutModel",
            "_view_count": null,
            "_view_module": "@jupyter-widgets/base",
            "_view_module_version": "1.2.0",
            "_view_name": "LayoutView",
            "align_content": null,
            "align_items": null,
            "align_self": null,
            "border": null,
            "bottom": null,
            "display": null,
            "flex": null,
            "flex_flow": null,
            "grid_area": null,
            "grid_auto_columns": null,
            "grid_auto_flow": null,
            "grid_auto_rows": null,
            "grid_column": null,
            "grid_gap": null,
            "grid_row": null,
            "grid_template_areas": null,
            "grid_template_columns": null,
            "grid_template_rows": null,
            "height": null,
            "justify_content": null,
            "justify_items": null,
            "left": null,
            "margin": null,
            "max_height": null,
            "max_width": null,
            "min_height": null,
            "min_width": null,
            "object_fit": null,
            "object_position": null,
            "order": null,
            "overflow": null,
            "overflow_x": null,
            "overflow_y": null,
            "padding": null,
            "right": null,
            "top": null,
            "visibility": null,
            "width": null
          }
        },
        "26777076662f4ca7bd19e792dd4077e6": {
          "model_module": "@jupyter-widgets/controls",
          "model_module_version": "1.5.0",
          "model_name": "FloatProgressModel",
          "state": {
            "_dom_classes": [],
            "_model_module": "@jupyter-widgets/controls",
            "_model_module_version": "1.5.0",
            "_model_name": "FloatProgressModel",
            "_view_count": null,
            "_view_module": "@jupyter-widgets/controls",
            "_view_module_version": "1.5.0",
            "_view_name": "ProgressView",
            "bar_style": "success",
            "description": "",
            "description_tooltip": null,
            "layout": "IPY_MODEL_a1335c75977c4b219c48332d11219ecd",
            "max": 483,
            "min": 0,
            "orientation": "horizontal",
            "style": "IPY_MODEL_3a0070bced044b1e917b75ccb81d4b0d",
            "value": 483
          }
        },
        "2891f72b05cf491fb6f7428252d1ebfb": {
          "model_module": "@jupyter-widgets/controls",
          "model_module_version": "1.5.0",
          "model_name": "HBoxModel",
          "state": {
            "_dom_classes": [],
            "_model_module": "@jupyter-widgets/controls",
            "_model_module_version": "1.5.0",
            "_model_name": "HBoxModel",
            "_view_count": null,
            "_view_module": "@jupyter-widgets/controls",
            "_view_module_version": "1.5.0",
            "_view_name": "HBoxView",
            "box_style": "",
            "children": [
              "IPY_MODEL_0319c1a6c962409b8df7a756758495a5",
              "IPY_MODEL_971738535e44434aa419804f79d75a77",
              "IPY_MODEL_9a6bc4e3ce024c21bdeeaf7f0b8a349a"
            ],
            "layout": "IPY_MODEL_dbf1aece136d47a6b7dda12813fd860e"
          }
        },
        "2beb6a8b6c9c42f1b93a9dd3ef87da4e": {
          "model_module": "@jupyter-widgets/controls",
          "model_module_version": "1.5.0",
          "model_name": "ProgressStyleModel",
          "state": {
            "_model_module": "@jupyter-widgets/controls",
            "_model_module_version": "1.5.0",
            "_model_name": "ProgressStyleModel",
            "_view_count": null,
            "_view_module": "@jupyter-widgets/base",
            "_view_module_version": "1.2.0",
            "_view_name": "StyleView",
            "bar_color": null,
            "description_width": ""
          }
        },
        "39c27868c8b54269935ac3ac621f772d": {
          "model_module": "@jupyter-widgets/controls",
          "model_module_version": "1.5.0",
          "model_name": "ProgressStyleModel",
          "state": {
            "_model_module": "@jupyter-widgets/controls",
            "_model_module_version": "1.5.0",
            "_model_name": "ProgressStyleModel",
            "_view_count": null,
            "_view_module": "@jupyter-widgets/base",
            "_view_module_version": "1.2.0",
            "_view_name": "StyleView",
            "bar_color": null,
            "description_width": ""
          }
        },
        "3a0070bced044b1e917b75ccb81d4b0d": {
          "model_module": "@jupyter-widgets/controls",
          "model_module_version": "1.5.0",
          "model_name": "ProgressStyleModel",
          "state": {
            "_model_module": "@jupyter-widgets/controls",
            "_model_module_version": "1.5.0",
            "_model_name": "ProgressStyleModel",
            "_view_count": null,
            "_view_module": "@jupyter-widgets/base",
            "_view_module_version": "1.2.0",
            "_view_name": "StyleView",
            "bar_color": null,
            "description_width": ""
          }
        },
        "3ab3b6737a604d518e616e0f1c4523f6": {
          "model_module": "@jupyter-widgets/controls",
          "model_module_version": "1.5.0",
          "model_name": "DescriptionStyleModel",
          "state": {
            "_model_module": "@jupyter-widgets/controls",
            "_model_module_version": "1.5.0",
            "_model_name": "DescriptionStyleModel",
            "_view_count": null,
            "_view_module": "@jupyter-widgets/base",
            "_view_module_version": "1.2.0",
            "_view_name": "StyleView",
            "description_width": ""
          }
        },
        "417868623bb047feab561a89610e053a": {
          "model_module": "@jupyter-widgets/base",
          "model_module_version": "1.2.0",
          "model_name": "LayoutModel",
          "state": {
            "_model_module": "@jupyter-widgets/base",
            "_model_module_version": "1.2.0",
            "_model_name": "LayoutModel",
            "_view_count": null,
            "_view_module": "@jupyter-widgets/base",
            "_view_module_version": "1.2.0",
            "_view_name": "LayoutView",
            "align_content": null,
            "align_items": null,
            "align_self": null,
            "border": null,
            "bottom": null,
            "display": null,
            "flex": null,
            "flex_flow": null,
            "grid_area": null,
            "grid_auto_columns": null,
            "grid_auto_flow": null,
            "grid_auto_rows": null,
            "grid_column": null,
            "grid_gap": null,
            "grid_row": null,
            "grid_template_areas": null,
            "grid_template_columns": null,
            "grid_template_rows": null,
            "height": null,
            "justify_content": null,
            "justify_items": null,
            "left": null,
            "margin": null,
            "max_height": null,
            "max_width": null,
            "min_height": null,
            "min_width": null,
            "object_fit": null,
            "object_position": null,
            "order": null,
            "overflow": null,
            "overflow_x": null,
            "overflow_y": null,
            "padding": null,
            "right": null,
            "top": null,
            "visibility": null,
            "width": null
          }
        },
        "66dfde45745941a7a7f10ae91b941cb9": {
          "model_module": "@jupyter-widgets/controls",
          "model_module_version": "1.5.0",
          "model_name": "HTMLModel",
          "state": {
            "_dom_classes": [],
            "_model_module": "@jupyter-widgets/controls",
            "_model_module_version": "1.5.0",
            "_model_name": "HTMLModel",
            "_view_count": null,
            "_view_module": "@jupyter-widgets/controls",
            "_view_module_version": "1.5.0",
            "_view_name": "HTMLView",
            "description": "",
            "description_tooltip": null,
            "layout": "IPY_MODEL_c801090bcf784a3586c1c1b990c37adf",
            "placeholder": "​",
            "style": "IPY_MODEL_3ab3b6737a604d518e616e0f1c4523f6",
            "value": " 455k/455k [00:00&lt;00:00, 672kB/s]"
          }
        },
        "730e47937c2d4d48aa876299f27bfcf3": {
          "model_module": "@jupyter-widgets/controls",
          "model_module_version": "1.5.0",
          "model_name": "FloatProgressModel",
          "state": {
            "_dom_classes": [],
            "_model_module": "@jupyter-widgets/controls",
            "_model_module_version": "1.5.0",
            "_model_name": "FloatProgressModel",
            "_view_count": null,
            "_view_module": "@jupyter-widgets/controls",
            "_view_module_version": "1.5.0",
            "_view_name": "ProgressView",
            "bar_style": "success",
            "description": "",
            "description_tooltip": null,
            "layout": "IPY_MODEL_417868623bb047feab561a89610e053a",
            "max": 466062,
            "min": 0,
            "orientation": "horizontal",
            "style": "IPY_MODEL_39c27868c8b54269935ac3ac621f772d",
            "value": 466062
          }
        },
        "7346f1dce19d45a59925fb8d131db7b6": {
          "model_module": "@jupyter-widgets/controls",
          "model_module_version": "1.5.0",
          "model_name": "HBoxModel",
          "state": {
            "_dom_classes": [],
            "_model_module": "@jupyter-widgets/controls",
            "_model_module_version": "1.5.0",
            "_model_name": "HBoxModel",
            "_view_count": null,
            "_view_module": "@jupyter-widgets/controls",
            "_view_module_version": "1.5.0",
            "_view_name": "HBoxView",
            "box_style": "",
            "children": [
              "IPY_MODEL_d6a4ff907206495aaecd26dc3e84fe07",
              "IPY_MODEL_b52b99b326d04c6c8e60c0a1efa448a1",
              "IPY_MODEL_a7622566535c4148a936dd3256c3b707"
            ],
            "layout": "IPY_MODEL_96de17916e51489c90fa7da76703fe89"
          }
        },
        "7cd3743e7b1a4457b78edc848b51c400": {
          "model_module": "@jupyter-widgets/controls",
          "model_module_version": "1.5.0",
          "model_name": "HBoxModel",
          "state": {
            "_dom_classes": [],
            "_model_module": "@jupyter-widgets/controls",
            "_model_module_version": "1.5.0",
            "_model_name": "HBoxModel",
            "_view_count": null,
            "_view_module": "@jupyter-widgets/controls",
            "_view_module_version": "1.5.0",
            "_view_name": "HBoxView",
            "box_style": "",
            "children": [
              "IPY_MODEL_0ad122ec897e43268285caf7b1838791",
              "IPY_MODEL_730e47937c2d4d48aa876299f27bfcf3",
              "IPY_MODEL_66dfde45745941a7a7f10ae91b941cb9"
            ],
            "layout": "IPY_MODEL_8937fc1e7c4b48dd9fceb44c32f450de"
          }
        },
        "7d2867e7aaa94b129da0bfdbf6ab8ee1": {
          "model_module": "@jupyter-widgets/controls",
          "model_module_version": "1.5.0",
          "model_name": "DescriptionStyleModel",
          "state": {
            "_model_module": "@jupyter-widgets/controls",
            "_model_module_version": "1.5.0",
            "_model_name": "DescriptionStyleModel",
            "_view_count": null,
            "_view_module": "@jupyter-widgets/base",
            "_view_module_version": "1.2.0",
            "_view_name": "StyleView",
            "description_width": ""
          }
        },
        "7f8bb19464e84b47a940a642b286fd16": {
          "model_module": "@jupyter-widgets/base",
          "model_module_version": "1.2.0",
          "model_name": "LayoutModel",
          "state": {
            "_model_module": "@jupyter-widgets/base",
            "_model_module_version": "1.2.0",
            "_model_name": "LayoutModel",
            "_view_count": null,
            "_view_module": "@jupyter-widgets/base",
            "_view_module_version": "1.2.0",
            "_view_name": "LayoutView",
            "align_content": null,
            "align_items": null,
            "align_self": null,
            "border": null,
            "bottom": null,
            "display": null,
            "flex": null,
            "flex_flow": null,
            "grid_area": null,
            "grid_auto_columns": null,
            "grid_auto_flow": null,
            "grid_auto_rows": null,
            "grid_column": null,
            "grid_gap": null,
            "grid_row": null,
            "grid_template_areas": null,
            "grid_template_columns": null,
            "grid_template_rows": null,
            "height": null,
            "justify_content": null,
            "justify_items": null,
            "left": null,
            "margin": null,
            "max_height": null,
            "max_width": null,
            "min_height": null,
            "min_width": null,
            "object_fit": null,
            "object_position": null,
            "order": null,
            "overflow": null,
            "overflow_x": null,
            "overflow_y": null,
            "padding": null,
            "right": null,
            "top": null,
            "visibility": null,
            "width": null
          }
        },
        "8053bdf2850940b3add19ffc1c24f634": {
          "model_module": "@jupyter-widgets/base",
          "model_module_version": "1.2.0",
          "model_name": "LayoutModel",
          "state": {
            "_model_module": "@jupyter-widgets/base",
            "_model_module_version": "1.2.0",
            "_model_name": "LayoutModel",
            "_view_count": null,
            "_view_module": "@jupyter-widgets/base",
            "_view_module_version": "1.2.0",
            "_view_name": "LayoutView",
            "align_content": null,
            "align_items": null,
            "align_self": null,
            "border": null,
            "bottom": null,
            "display": null,
            "flex": null,
            "flex_flow": null,
            "grid_area": null,
            "grid_auto_columns": null,
            "grid_auto_flow": null,
            "grid_auto_rows": null,
            "grid_column": null,
            "grid_gap": null,
            "grid_row": null,
            "grid_template_areas": null,
            "grid_template_columns": null,
            "grid_template_rows": null,
            "height": null,
            "justify_content": null,
            "justify_items": null,
            "left": null,
            "margin": null,
            "max_height": null,
            "max_width": null,
            "min_height": null,
            "min_width": null,
            "object_fit": null,
            "object_position": null,
            "order": null,
            "overflow": null,
            "overflow_x": null,
            "overflow_y": null,
            "padding": null,
            "right": null,
            "top": null,
            "visibility": null,
            "width": null
          }
        },
        "81454dcf13714ef2b6a9659810f4af09": {
          "model_module": "@jupyter-widgets/controls",
          "model_module_version": "1.5.0",
          "model_name": "DescriptionStyleModel",
          "state": {
            "_model_module": "@jupyter-widgets/controls",
            "_model_module_version": "1.5.0",
            "_model_name": "DescriptionStyleModel",
            "_view_count": null,
            "_view_module": "@jupyter-widgets/base",
            "_view_module_version": "1.2.0",
            "_view_name": "StyleView",
            "description_width": ""
          }
        },
        "8937fc1e7c4b48dd9fceb44c32f450de": {
          "model_module": "@jupyter-widgets/base",
          "model_module_version": "1.2.0",
          "model_name": "LayoutModel",
          "state": {
            "_model_module": "@jupyter-widgets/base",
            "_model_module_version": "1.2.0",
            "_model_name": "LayoutModel",
            "_view_count": null,
            "_view_module": "@jupyter-widgets/base",
            "_view_module_version": "1.2.0",
            "_view_name": "LayoutView",
            "align_content": null,
            "align_items": null,
            "align_self": null,
            "border": null,
            "bottom": null,
            "display": null,
            "flex": null,
            "flex_flow": null,
            "grid_area": null,
            "grid_auto_columns": null,
            "grid_auto_flow": null,
            "grid_auto_rows": null,
            "grid_column": null,
            "grid_gap": null,
            "grid_row": null,
            "grid_template_areas": null,
            "grid_template_columns": null,
            "grid_template_rows": null,
            "height": null,
            "justify_content": null,
            "justify_items": null,
            "left": null,
            "margin": null,
            "max_height": null,
            "max_width": null,
            "min_height": null,
            "min_width": null,
            "object_fit": null,
            "object_position": null,
            "order": null,
            "overflow": null,
            "overflow_x": null,
            "overflow_y": null,
            "padding": null,
            "right": null,
            "top": null,
            "visibility": null,
            "width": null
          }
        },
        "8f00c78e38b946c98662f80fe834bc80": {
          "model_module": "@jupyter-widgets/base",
          "model_module_version": "1.2.0",
          "model_name": "LayoutModel",
          "state": {
            "_model_module": "@jupyter-widgets/base",
            "_model_module_version": "1.2.0",
            "_model_name": "LayoutModel",
            "_view_count": null,
            "_view_module": "@jupyter-widgets/base",
            "_view_module_version": "1.2.0",
            "_view_name": "LayoutView",
            "align_content": null,
            "align_items": null,
            "align_self": null,
            "border": null,
            "bottom": null,
            "display": null,
            "flex": null,
            "flex_flow": null,
            "grid_area": null,
            "grid_auto_columns": null,
            "grid_auto_flow": null,
            "grid_auto_rows": null,
            "grid_column": null,
            "grid_gap": null,
            "grid_row": null,
            "grid_template_areas": null,
            "grid_template_columns": null,
            "grid_template_rows": null,
            "height": null,
            "justify_content": null,
            "justify_items": null,
            "left": null,
            "margin": null,
            "max_height": null,
            "max_width": null,
            "min_height": null,
            "min_width": null,
            "object_fit": null,
            "object_position": null,
            "order": null,
            "overflow": null,
            "overflow_x": null,
            "overflow_y": null,
            "padding": null,
            "right": null,
            "top": null,
            "visibility": null,
            "width": null
          }
        },
        "96de17916e51489c90fa7da76703fe89": {
          "model_module": "@jupyter-widgets/base",
          "model_module_version": "1.2.0",
          "model_name": "LayoutModel",
          "state": {
            "_model_module": "@jupyter-widgets/base",
            "_model_module_version": "1.2.0",
            "_model_name": "LayoutModel",
            "_view_count": null,
            "_view_module": "@jupyter-widgets/base",
            "_view_module_version": "1.2.0",
            "_view_name": "LayoutView",
            "align_content": null,
            "align_items": null,
            "align_self": null,
            "border": null,
            "bottom": null,
            "display": null,
            "flex": null,
            "flex_flow": null,
            "grid_area": null,
            "grid_auto_columns": null,
            "grid_auto_flow": null,
            "grid_auto_rows": null,
            "grid_column": null,
            "grid_gap": null,
            "grid_row": null,
            "grid_template_areas": null,
            "grid_template_columns": null,
            "grid_template_rows": null,
            "height": null,
            "justify_content": null,
            "justify_items": null,
            "left": null,
            "margin": null,
            "max_height": null,
            "max_width": null,
            "min_height": null,
            "min_width": null,
            "object_fit": null,
            "object_position": null,
            "order": null,
            "overflow": null,
            "overflow_x": null,
            "overflow_y": null,
            "padding": null,
            "right": null,
            "top": null,
            "visibility": null,
            "width": null
          }
        },
        "971738535e44434aa419804f79d75a77": {
          "model_module": "@jupyter-widgets/controls",
          "model_module_version": "1.5.0",
          "model_name": "FloatProgressModel",
          "state": {
            "_dom_classes": [],
            "_model_module": "@jupyter-widgets/controls",
            "_model_module_version": "1.5.0",
            "_model_name": "FloatProgressModel",
            "_view_count": null,
            "_view_module": "@jupyter-widgets/controls",
            "_view_module_version": "1.5.0",
            "_view_name": "ProgressView",
            "bar_style": "success",
            "description": "",
            "description_tooltip": null,
            "layout": "IPY_MODEL_1ed3620c22b44df1bd2b777bb517dd63",
            "max": 28,
            "min": 0,
            "orientation": "horizontal",
            "style": "IPY_MODEL_202f711d065948e5b9378f2a142b425c",
            "value": 28
          }
        },
        "9a6bc4e3ce024c21bdeeaf7f0b8a349a": {
          "model_module": "@jupyter-widgets/controls",
          "model_module_version": "1.5.0",
          "model_name": "HTMLModel",
          "state": {
            "_dom_classes": [],
            "_model_module": "@jupyter-widgets/controls",
            "_model_module_version": "1.5.0",
            "_model_name": "HTMLModel",
            "_view_count": null,
            "_view_module": "@jupyter-widgets/controls",
            "_view_module_version": "1.5.0",
            "_view_name": "HTMLView",
            "description": "",
            "description_tooltip": null,
            "layout": "IPY_MODEL_ba3c8c1ede5f4b96a7b1af5f00f1d935",
            "placeholder": "​",
            "style": "IPY_MODEL_81454dcf13714ef2b6a9659810f4af09",
            "value": " 28.0/28.0 [00:00&lt;00:00, 372B/s]"
          }
        },
        "a0a9f0f4e1b64f159d61bdc8789594d1": {
          "model_module": "@jupyter-widgets/controls",
          "model_module_version": "1.5.0",
          "model_name": "DescriptionStyleModel",
          "state": {
            "_model_module": "@jupyter-widgets/controls",
            "_model_module_version": "1.5.0",
            "_model_name": "DescriptionStyleModel",
            "_view_count": null,
            "_view_module": "@jupyter-widgets/base",
            "_view_module_version": "1.2.0",
            "_view_name": "StyleView",
            "description_width": ""
          }
        },
        "a1335c75977c4b219c48332d11219ecd": {
          "model_module": "@jupyter-widgets/base",
          "model_module_version": "1.2.0",
          "model_name": "LayoutModel",
          "state": {
            "_model_module": "@jupyter-widgets/base",
            "_model_module_version": "1.2.0",
            "_model_name": "LayoutModel",
            "_view_count": null,
            "_view_module": "@jupyter-widgets/base",
            "_view_module_version": "1.2.0",
            "_view_name": "LayoutView",
            "align_content": null,
            "align_items": null,
            "align_self": null,
            "border": null,
            "bottom": null,
            "display": null,
            "flex": null,
            "flex_flow": null,
            "grid_area": null,
            "grid_auto_columns": null,
            "grid_auto_flow": null,
            "grid_auto_rows": null,
            "grid_column": null,
            "grid_gap": null,
            "grid_row": null,
            "grid_template_areas": null,
            "grid_template_columns": null,
            "grid_template_rows": null,
            "height": null,
            "justify_content": null,
            "justify_items": null,
            "left": null,
            "margin": null,
            "max_height": null,
            "max_width": null,
            "min_height": null,
            "min_width": null,
            "object_fit": null,
            "object_position": null,
            "order": null,
            "overflow": null,
            "overflow_x": null,
            "overflow_y": null,
            "padding": null,
            "right": null,
            "top": null,
            "visibility": null,
            "width": null
          }
        },
        "a13df42285474ad0bdd717c455a07e55": {
          "model_module": "@jupyter-widgets/base",
          "model_module_version": "1.2.0",
          "model_name": "LayoutModel",
          "state": {
            "_model_module": "@jupyter-widgets/base",
            "_model_module_version": "1.2.0",
            "_model_name": "LayoutModel",
            "_view_count": null,
            "_view_module": "@jupyter-widgets/base",
            "_view_module_version": "1.2.0",
            "_view_name": "LayoutView",
            "align_content": null,
            "align_items": null,
            "align_self": null,
            "border": null,
            "bottom": null,
            "display": null,
            "flex": null,
            "flex_flow": null,
            "grid_area": null,
            "grid_auto_columns": null,
            "grid_auto_flow": null,
            "grid_auto_rows": null,
            "grid_column": null,
            "grid_gap": null,
            "grid_row": null,
            "grid_template_areas": null,
            "grid_template_columns": null,
            "grid_template_rows": null,
            "height": null,
            "justify_content": null,
            "justify_items": null,
            "left": null,
            "margin": null,
            "max_height": null,
            "max_width": null,
            "min_height": null,
            "min_width": null,
            "object_fit": null,
            "object_position": null,
            "order": null,
            "overflow": null,
            "overflow_x": null,
            "overflow_y": null,
            "padding": null,
            "right": null,
            "top": null,
            "visibility": null,
            "width": null
          }
        },
        "a7622566535c4148a936dd3256c3b707": {
          "model_module": "@jupyter-widgets/controls",
          "model_module_version": "1.5.0",
          "model_name": "HTMLModel",
          "state": {
            "_dom_classes": [],
            "_model_module": "@jupyter-widgets/controls",
            "_model_module_version": "1.5.0",
            "_model_name": "HTMLModel",
            "_view_count": null,
            "_view_module": "@jupyter-widgets/controls",
            "_view_module_version": "1.5.0",
            "_view_name": "HTMLView",
            "description": "",
            "description_tooltip": null,
            "layout": "IPY_MODEL_2188310024734e4ca5d7d1673be0fca8",
            "placeholder": "​",
            "style": "IPY_MODEL_7d2867e7aaa94b129da0bfdbf6ab8ee1",
            "value": " 226k/226k [00:00&lt;00:00, 354kB/s]"
          }
        },
        "ad7e461837a3451d9795ff4bfee3c118": {
          "model_module": "@jupyter-widgets/controls",
          "model_module_version": "1.5.0",
          "model_name": "HBoxModel",
          "state": {
            "_dom_classes": [],
            "_model_module": "@jupyter-widgets/controls",
            "_model_module_version": "1.5.0",
            "_model_name": "HBoxModel",
            "_view_count": null,
            "_view_module": "@jupyter-widgets/controls",
            "_view_module_version": "1.5.0",
            "_view_name": "HBoxView",
            "box_style": "",
            "children": [
              "IPY_MODEL_dd08a3e86cb44cccabb33bc5416663bc",
              "IPY_MODEL_26777076662f4ca7bd19e792dd4077e6",
              "IPY_MODEL_f9e107c2ba634516ba356c48a84b751e"
            ],
            "layout": "IPY_MODEL_a13df42285474ad0bdd717c455a07e55"
          }
        },
        "aef4a4d6dabe430696f19875ab7ecca5": {
          "model_module": "@jupyter-widgets/controls",
          "model_module_version": "1.5.0",
          "model_name": "DescriptionStyleModel",
          "state": {
            "_model_module": "@jupyter-widgets/controls",
            "_model_module_version": "1.5.0",
            "_model_name": "DescriptionStyleModel",
            "_view_count": null,
            "_view_module": "@jupyter-widgets/base",
            "_view_module_version": "1.2.0",
            "_view_name": "StyleView",
            "description_width": ""
          }
        },
        "b3471a56776344c5b711df35db591659": {
          "model_module": "@jupyter-widgets/base",
          "model_module_version": "1.2.0",
          "model_name": "LayoutModel",
          "state": {
            "_model_module": "@jupyter-widgets/base",
            "_model_module_version": "1.2.0",
            "_model_name": "LayoutModel",
            "_view_count": null,
            "_view_module": "@jupyter-widgets/base",
            "_view_module_version": "1.2.0",
            "_view_name": "LayoutView",
            "align_content": null,
            "align_items": null,
            "align_self": null,
            "border": null,
            "bottom": null,
            "display": null,
            "flex": null,
            "flex_flow": null,
            "grid_area": null,
            "grid_auto_columns": null,
            "grid_auto_flow": null,
            "grid_auto_rows": null,
            "grid_column": null,
            "grid_gap": null,
            "grid_row": null,
            "grid_template_areas": null,
            "grid_template_columns": null,
            "grid_template_rows": null,
            "height": null,
            "justify_content": null,
            "justify_items": null,
            "left": null,
            "margin": null,
            "max_height": null,
            "max_width": null,
            "min_height": null,
            "min_width": null,
            "object_fit": null,
            "object_position": null,
            "order": null,
            "overflow": null,
            "overflow_x": null,
            "overflow_y": null,
            "padding": null,
            "right": null,
            "top": null,
            "visibility": null,
            "width": null
          }
        },
        "b52b99b326d04c6c8e60c0a1efa448a1": {
          "model_module": "@jupyter-widgets/controls",
          "model_module_version": "1.5.0",
          "model_name": "FloatProgressModel",
          "state": {
            "_dom_classes": [],
            "_model_module": "@jupyter-widgets/controls",
            "_model_module_version": "1.5.0",
            "_model_name": "FloatProgressModel",
            "_view_count": null,
            "_view_module": "@jupyter-widgets/controls",
            "_view_module_version": "1.5.0",
            "_view_name": "ProgressView",
            "bar_style": "success",
            "description": "",
            "description_tooltip": null,
            "layout": "IPY_MODEL_b3471a56776344c5b711df35db591659",
            "max": 231508,
            "min": 0,
            "orientation": "horizontal",
            "style": "IPY_MODEL_2beb6a8b6c9c42f1b93a9dd3ef87da4e",
            "value": 231508
          }
        },
        "ba3c8c1ede5f4b96a7b1af5f00f1d935": {
          "model_module": "@jupyter-widgets/base",
          "model_module_version": "1.2.0",
          "model_name": "LayoutModel",
          "state": {
            "_model_module": "@jupyter-widgets/base",
            "_model_module_version": "1.2.0",
            "_model_name": "LayoutModel",
            "_view_count": null,
            "_view_module": "@jupyter-widgets/base",
            "_view_module_version": "1.2.0",
            "_view_name": "LayoutView",
            "align_content": null,
            "align_items": null,
            "align_self": null,
            "border": null,
            "bottom": null,
            "display": null,
            "flex": null,
            "flex_flow": null,
            "grid_area": null,
            "grid_auto_columns": null,
            "grid_auto_flow": null,
            "grid_auto_rows": null,
            "grid_column": null,
            "grid_gap": null,
            "grid_row": null,
            "grid_template_areas": null,
            "grid_template_columns": null,
            "grid_template_rows": null,
            "height": null,
            "justify_content": null,
            "justify_items": null,
            "left": null,
            "margin": null,
            "max_height": null,
            "max_width": null,
            "min_height": null,
            "min_width": null,
            "object_fit": null,
            "object_position": null,
            "order": null,
            "overflow": null,
            "overflow_x": null,
            "overflow_y": null,
            "padding": null,
            "right": null,
            "top": null,
            "visibility": null,
            "width": null
          }
        },
        "c2a05ad3114a474697ef375cd45ad777": {
          "model_module": "@jupyter-widgets/controls",
          "model_module_version": "1.5.0",
          "model_name": "DescriptionStyleModel",
          "state": {
            "_model_module": "@jupyter-widgets/controls",
            "_model_module_version": "1.5.0",
            "_model_name": "DescriptionStyleModel",
            "_view_count": null,
            "_view_module": "@jupyter-widgets/base",
            "_view_module_version": "1.2.0",
            "_view_name": "StyleView",
            "description_width": ""
          }
        },
        "c801090bcf784a3586c1c1b990c37adf": {
          "model_module": "@jupyter-widgets/base",
          "model_module_version": "1.2.0",
          "model_name": "LayoutModel",
          "state": {
            "_model_module": "@jupyter-widgets/base",
            "_model_module_version": "1.2.0",
            "_model_name": "LayoutModel",
            "_view_count": null,
            "_view_module": "@jupyter-widgets/base",
            "_view_module_version": "1.2.0",
            "_view_name": "LayoutView",
            "align_content": null,
            "align_items": null,
            "align_self": null,
            "border": null,
            "bottom": null,
            "display": null,
            "flex": null,
            "flex_flow": null,
            "grid_area": null,
            "grid_auto_columns": null,
            "grid_auto_flow": null,
            "grid_auto_rows": null,
            "grid_column": null,
            "grid_gap": null,
            "grid_row": null,
            "grid_template_areas": null,
            "grid_template_columns": null,
            "grid_template_rows": null,
            "height": null,
            "justify_content": null,
            "justify_items": null,
            "left": null,
            "margin": null,
            "max_height": null,
            "max_width": null,
            "min_height": null,
            "min_width": null,
            "object_fit": null,
            "object_position": null,
            "order": null,
            "overflow": null,
            "overflow_x": null,
            "overflow_y": null,
            "padding": null,
            "right": null,
            "top": null,
            "visibility": null,
            "width": null
          }
        },
        "c896d66e88304cef929f6d1da363c987": {
          "model_module": "@jupyter-widgets/base",
          "model_module_version": "1.2.0",
          "model_name": "LayoutModel",
          "state": {
            "_model_module": "@jupyter-widgets/base",
            "_model_module_version": "1.2.0",
            "_model_name": "LayoutModel",
            "_view_count": null,
            "_view_module": "@jupyter-widgets/base",
            "_view_module_version": "1.2.0",
            "_view_name": "LayoutView",
            "align_content": null,
            "align_items": null,
            "align_self": null,
            "border": null,
            "bottom": null,
            "display": null,
            "flex": null,
            "flex_flow": null,
            "grid_area": null,
            "grid_auto_columns": null,
            "grid_auto_flow": null,
            "grid_auto_rows": null,
            "grid_column": null,
            "grid_gap": null,
            "grid_row": null,
            "grid_template_areas": null,
            "grid_template_columns": null,
            "grid_template_rows": null,
            "height": null,
            "justify_content": null,
            "justify_items": null,
            "left": null,
            "margin": null,
            "max_height": null,
            "max_width": null,
            "min_height": null,
            "min_width": null,
            "object_fit": null,
            "object_position": null,
            "order": null,
            "overflow": null,
            "overflow_x": null,
            "overflow_y": null,
            "padding": null,
            "right": null,
            "top": null,
            "visibility": null,
            "width": null
          }
        },
        "d6a4ff907206495aaecd26dc3e84fe07": {
          "model_module": "@jupyter-widgets/controls",
          "model_module_version": "1.5.0",
          "model_name": "HTMLModel",
          "state": {
            "_dom_classes": [],
            "_model_module": "@jupyter-widgets/controls",
            "_model_module_version": "1.5.0",
            "_model_name": "HTMLModel",
            "_view_count": null,
            "_view_module": "@jupyter-widgets/controls",
            "_view_module_version": "1.5.0",
            "_view_name": "HTMLView",
            "description": "",
            "description_tooltip": null,
            "layout": "IPY_MODEL_e98ac92901964afbb091e1a88390ce05",
            "placeholder": "​",
            "style": "IPY_MODEL_09b0988824aa416ea308d4c55ae85143",
            "value": "Downloading: 100%"
          }
        },
        "dbf1aece136d47a6b7dda12813fd860e": {
          "model_module": "@jupyter-widgets/base",
          "model_module_version": "1.2.0",
          "model_name": "LayoutModel",
          "state": {
            "_model_module": "@jupyter-widgets/base",
            "_model_module_version": "1.2.0",
            "_model_name": "LayoutModel",
            "_view_count": null,
            "_view_module": "@jupyter-widgets/base",
            "_view_module_version": "1.2.0",
            "_view_name": "LayoutView",
            "align_content": null,
            "align_items": null,
            "align_self": null,
            "border": null,
            "bottom": null,
            "display": null,
            "flex": null,
            "flex_flow": null,
            "grid_area": null,
            "grid_auto_columns": null,
            "grid_auto_flow": null,
            "grid_auto_rows": null,
            "grid_column": null,
            "grid_gap": null,
            "grid_row": null,
            "grid_template_areas": null,
            "grid_template_columns": null,
            "grid_template_rows": null,
            "height": null,
            "justify_content": null,
            "justify_items": null,
            "left": null,
            "margin": null,
            "max_height": null,
            "max_width": null,
            "min_height": null,
            "min_width": null,
            "object_fit": null,
            "object_position": null,
            "order": null,
            "overflow": null,
            "overflow_x": null,
            "overflow_y": null,
            "padding": null,
            "right": null,
            "top": null,
            "visibility": null,
            "width": null
          }
        },
        "dd08a3e86cb44cccabb33bc5416663bc": {
          "model_module": "@jupyter-widgets/controls",
          "model_module_version": "1.5.0",
          "model_name": "HTMLModel",
          "state": {
            "_dom_classes": [],
            "_model_module": "@jupyter-widgets/controls",
            "_model_module_version": "1.5.0",
            "_model_name": "HTMLModel",
            "_view_count": null,
            "_view_module": "@jupyter-widgets/controls",
            "_view_module_version": "1.5.0",
            "_view_name": "HTMLView",
            "description": "",
            "description_tooltip": null,
            "layout": "IPY_MODEL_8f00c78e38b946c98662f80fe834bc80",
            "placeholder": "​",
            "style": "IPY_MODEL_c2a05ad3114a474697ef375cd45ad777",
            "value": "Downloading: 100%"
          }
        },
        "e98ac92901964afbb091e1a88390ce05": {
          "model_module": "@jupyter-widgets/base",
          "model_module_version": "1.2.0",
          "model_name": "LayoutModel",
          "state": {
            "_model_module": "@jupyter-widgets/base",
            "_model_module_version": "1.2.0",
            "_model_name": "LayoutModel",
            "_view_count": null,
            "_view_module": "@jupyter-widgets/base",
            "_view_module_version": "1.2.0",
            "_view_name": "LayoutView",
            "align_content": null,
            "align_items": null,
            "align_self": null,
            "border": null,
            "bottom": null,
            "display": null,
            "flex": null,
            "flex_flow": null,
            "grid_area": null,
            "grid_auto_columns": null,
            "grid_auto_flow": null,
            "grid_auto_rows": null,
            "grid_column": null,
            "grid_gap": null,
            "grid_row": null,
            "grid_template_areas": null,
            "grid_template_columns": null,
            "grid_template_rows": null,
            "height": null,
            "justify_content": null,
            "justify_items": null,
            "left": null,
            "margin": null,
            "max_height": null,
            "max_width": null,
            "min_height": null,
            "min_width": null,
            "object_fit": null,
            "object_position": null,
            "order": null,
            "overflow": null,
            "overflow_x": null,
            "overflow_y": null,
            "padding": null,
            "right": null,
            "top": null,
            "visibility": null,
            "width": null
          }
        },
        "f9e107c2ba634516ba356c48a84b751e": {
          "model_module": "@jupyter-widgets/controls",
          "model_module_version": "1.5.0",
          "model_name": "HTMLModel",
          "state": {
            "_dom_classes": [],
            "_model_module": "@jupyter-widgets/controls",
            "_model_module_version": "1.5.0",
            "_model_name": "HTMLModel",
            "_view_count": null,
            "_view_module": "@jupyter-widgets/controls",
            "_view_module_version": "1.5.0",
            "_view_name": "HTMLView",
            "description": "",
            "description_tooltip": null,
            "layout": "IPY_MODEL_8053bdf2850940b3add19ffc1c24f634",
            "placeholder": "​",
            "style": "IPY_MODEL_a0a9f0f4e1b64f159d61bdc8789594d1",
            "value": " 483/483 [00:00&lt;00:00, 5.36kB/s]"
          }
        }
      }
    }
  },
  "nbformat": 4,
  "nbformat_minor": 0
}
