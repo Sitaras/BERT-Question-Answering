{
  "cells": [
    {
      "cell_type": "markdown",
      "metadata": {
        "id": "8arEioDPljQ3"
      },
      "source": [
        "# Artificial Intelligence II - Homework 4\n",
        "---\n",
        "## Fine-tuned on QUAC Dataset - Part 3\n",
        "---\n",
        "### Δημήτριος Σιταράς | 1115201800178\n",
        "---"
      ]
    },
    {
      "cell_type": "markdown",
      "metadata": {
        "id": "-wkGsf4Iloqv"
      },
      "source": [
        "## Libraries n' Functions"
      ]
    },
    {
      "cell_type": "code",
      "execution_count": 2,
      "metadata": {
        "execution": {
          "iopub.execute_input": "2022-03-11T23:30:34.805168Z",
          "iopub.status.busy": "2022-03-11T23:30:34.804352Z",
          "iopub.status.idle": "2022-03-11T23:30:34.810533Z",
          "shell.execute_reply": "2022-03-11T23:30:34.809589Z",
          "shell.execute_reply.started": "2022-03-11T23:30:34.805120Z"
        },
        "id": "oBVPb4yMc05M",
        "trusted": true
      },
      "outputs": [],
      "source": [
        "import torch\n",
        "import torch.nn as nn\n",
        "import matplotlib.pyplot as plt\n",
        "import pandas as pd\n",
        "import numpy as np\n",
        "import random\n",
        "import os\n",
        "import json"
      ]
    },
    {
      "cell_type": "code",
      "execution_count": 3,
      "metadata": {
        "execution": {
          "iopub.execute_input": "2022-03-11T23:30:34.814695Z",
          "iopub.status.busy": "2022-03-11T23:30:34.814164Z",
          "iopub.status.idle": "2022-03-11T23:30:34.821079Z",
          "shell.execute_reply": "2022-03-11T23:30:34.820229Z",
          "shell.execute_reply.started": "2022-03-11T23:30:34.814632Z"
        },
        "id": "cAO3U84EGW2L",
        "trusted": true
      },
      "outputs": [],
      "source": [
        "device = torch.device('cuda' if torch.cuda.is_available() else 'cpu')"
      ]
    },
    {
      "cell_type": "code",
      "execution_count": 4,
      "metadata": {
        "colab": {
          "base_uri": "https://localhost:8080/"
        },
        "execution": {
          "iopub.execute_input": "2022-03-11T23:30:34.824488Z",
          "iopub.status.busy": "2022-03-11T23:30:34.823793Z",
          "iopub.status.idle": "2022-03-11T23:30:34.833341Z",
          "shell.execute_reply": "2022-03-11T23:30:34.832475Z",
          "shell.execute_reply.started": "2022-03-11T23:30:34.824449Z"
        },
        "id": "z5BCiQPfGXg1",
        "outputId": "a81c39f7-10ee-4b3b-a817-962a75eaca4c",
        "trusted": true
      },
      "outputs": [
        {
          "output_type": "execute_result",
          "data": {
            "text/plain": [
              "device(type='cuda')"
            ]
          },
          "metadata": {},
          "execution_count": 4
        }
      ],
      "source": [
        "device"
      ]
    },
    {
      "cell_type": "code",
      "execution_count": 5,
      "metadata": {
        "execution": {
          "iopub.execute_input": "2022-03-11T23:30:34.837646Z",
          "iopub.status.busy": "2022-03-11T23:30:34.837210Z",
          "iopub.status.idle": "2022-03-11T23:30:34.845786Z",
          "shell.execute_reply": "2022-03-11T23:30:34.844998Z",
          "shell.execute_reply.started": "2022-03-11T23:30:34.837616Z"
        },
        "id": "2xuVm_W5deTJ",
        "trusted": true
      },
      "outputs": [],
      "source": [
        "def set_seed(seed = 1234):\n",
        "    '''Sets the seed of the entire notebook so results are the same every time we run.\n",
        "    This is for REPRODUCIBILITY.'''\n",
        "    np.random.seed(seed)\n",
        "    random.seed(seed)\n",
        "    torch.manual_seed(seed)\n",
        "    torch.cuda.manual_seed(seed)\n",
        "    # When running on the CuDNN backend, two further options must be set\n",
        "    torch.backends.cudnn.deterministic = True\n",
        "    # Set a fixed value for the hash seed\n",
        "    os.environ['PYTHONHASHSEED'] = str(seed)\n",
        "    \n",
        "set_seed()"
      ]
    },
    {
      "cell_type": "code",
      "execution_count": null,
      "metadata": {
        "execution": {
          "iopub.execute_input": "2022-03-11T23:30:34.850312Z",
          "iopub.status.busy": "2022-03-11T23:30:34.849658Z",
          "iopub.status.idle": "2022-03-11T23:30:34.856081Z",
          "shell.execute_reply": "2022-03-11T23:30:34.855406Z",
          "shell.execute_reply.started": "2022-03-11T23:30:34.850286Z"
        },
        "id": "z4OepeABvHP6",
        "trusted": true
      },
      "outputs": [],
      "source": [
        "def lossCurve(trainLosses,valLosses):\n",
        "  plt.plot(trainLosses, color=\"r\")\n",
        "  plt.plot(valLosses, color=\"g\")\n",
        "  plt.ylabel('Loss')\n",
        "  plt.xlabel('Epochs')\n",
        "  plt.legend(['Train Loss','Validation Loss'])\n",
        "  plt.show()"
      ]
    },
    {
      "cell_type": "code",
      "execution_count": 6,
      "metadata": {
        "colab": {
          "base_uri": "https://localhost:8080/"
        },
        "execution": {
          "iopub.execute_input": "2022-03-11T23:30:34.859936Z",
          "iopub.status.busy": "2022-03-11T23:30:34.859722Z",
          "iopub.status.idle": "2022-03-11T23:30:42.534488Z",
          "shell.execute_reply": "2022-03-11T23:30:42.533647Z",
          "shell.execute_reply.started": "2022-03-11T23:30:34.859894Z"
        },
        "id": "Am5EGMDGdhCy",
        "outputId": "95807c1e-0cfc-4853-b313-a50e42719dd6",
        "trusted": true
      },
      "outputs": [
        {
          "output_type": "stream",
          "name": "stdout",
          "text": [
            "Collecting transformers\n",
            "  Downloading transformers-4.17.0-py3-none-any.whl (3.8 MB)\n",
            "\u001b[K     |████████████████████████████████| 3.8 MB 12.0 MB/s \n",
            "\u001b[?25hCollecting sacremoses\n",
            "  Downloading sacremoses-0.0.47-py2.py3-none-any.whl (895 kB)\n",
            "\u001b[K     |████████████████████████████████| 895 kB 40.4 MB/s \n",
            "\u001b[?25hCollecting pyyaml>=5.1\n",
            "  Downloading PyYAML-6.0-cp37-cp37m-manylinux_2_5_x86_64.manylinux1_x86_64.manylinux_2_12_x86_64.manylinux2010_x86_64.whl (596 kB)\n",
            "\u001b[K     |████████████████████████████████| 596 kB 38.0 MB/s \n",
            "\u001b[?25hRequirement already satisfied: numpy>=1.17 in /usr/local/lib/python3.7/dist-packages (from transformers) (1.21.5)\n",
            "Requirement already satisfied: requests in /usr/local/lib/python3.7/dist-packages (from transformers) (2.23.0)\n",
            "Requirement already satisfied: regex!=2019.12.17 in /usr/local/lib/python3.7/dist-packages (from transformers) (2019.12.20)\n",
            "Requirement already satisfied: tqdm>=4.27 in /usr/local/lib/python3.7/dist-packages (from transformers) (4.63.0)\n",
            "Collecting huggingface-hub<1.0,>=0.1.0\n",
            "  Downloading huggingface_hub-0.4.0-py3-none-any.whl (67 kB)\n",
            "\u001b[K     |████████████████████████████████| 67 kB 5.4 MB/s \n",
            "\u001b[?25hRequirement already satisfied: importlib-metadata in /usr/local/lib/python3.7/dist-packages (from transformers) (4.11.2)\n",
            "Requirement already satisfied: filelock in /usr/local/lib/python3.7/dist-packages (from transformers) (3.6.0)\n",
            "Requirement already satisfied: packaging>=20.0 in /usr/local/lib/python3.7/dist-packages (from transformers) (21.3)\n",
            "Collecting tokenizers!=0.11.3,>=0.11.1\n",
            "  Downloading tokenizers-0.11.6-cp37-cp37m-manylinux_2_12_x86_64.manylinux2010_x86_64.whl (6.5 MB)\n",
            "\u001b[K     |████████████████████████████████| 6.5 MB 41.7 MB/s \n",
            "\u001b[?25hRequirement already satisfied: typing-extensions>=3.7.4.3 in /usr/local/lib/python3.7/dist-packages (from huggingface-hub<1.0,>=0.1.0->transformers) (3.10.0.2)\n",
            "Requirement already satisfied: pyparsing!=3.0.5,>=2.0.2 in /usr/local/lib/python3.7/dist-packages (from packaging>=20.0->transformers) (3.0.7)\n",
            "Requirement already satisfied: zipp>=0.5 in /usr/local/lib/python3.7/dist-packages (from importlib-metadata->transformers) (3.7.0)\n",
            "Requirement already satisfied: certifi>=2017.4.17 in /usr/local/lib/python3.7/dist-packages (from requests->transformers) (2021.10.8)\n",
            "Requirement already satisfied: urllib3!=1.25.0,!=1.25.1,<1.26,>=1.21.1 in /usr/local/lib/python3.7/dist-packages (from requests->transformers) (1.24.3)\n",
            "Requirement already satisfied: chardet<4,>=3.0.2 in /usr/local/lib/python3.7/dist-packages (from requests->transformers) (3.0.4)\n",
            "Requirement already satisfied: idna<3,>=2.5 in /usr/local/lib/python3.7/dist-packages (from requests->transformers) (2.10)\n",
            "Requirement already satisfied: joblib in /usr/local/lib/python3.7/dist-packages (from sacremoses->transformers) (1.1.0)\n",
            "Requirement already satisfied: six in /usr/local/lib/python3.7/dist-packages (from sacremoses->transformers) (1.15.0)\n",
            "Requirement already satisfied: click in /usr/local/lib/python3.7/dist-packages (from sacremoses->transformers) (7.1.2)\n",
            "Installing collected packages: pyyaml, tokenizers, sacremoses, huggingface-hub, transformers\n",
            "  Attempting uninstall: pyyaml\n",
            "    Found existing installation: PyYAML 3.13\n",
            "    Uninstalling PyYAML-3.13:\n",
            "      Successfully uninstalled PyYAML-3.13\n",
            "Successfully installed huggingface-hub-0.4.0 pyyaml-6.0 sacremoses-0.0.47 tokenizers-0.11.6 transformers-4.17.0\n"
          ]
        }
      ],
      "source": [
        "!pip install transformers"
      ]
    },
    {
      "cell_type": "markdown",
      "metadata": {
        "id": "aDRqWy0alxXP"
      },
      "source": [
        "## Download QUAC Dataset and convert it to SQuAD format"
      ]
    },
    {
      "cell_type": "code",
      "execution_count": null,
      "metadata": {
        "colab": {
          "base_uri": "https://localhost:8080/"
        },
        "id": "uEAOgaEJNy81",
        "outputId": "da927b4e-b745-4250-c972-fe17ccf285da",
        "trusted": true
      },
      "outputs": [
        {
          "output_type": "stream",
          "name": "stdout",
          "text": [
            "Cloning into 'qa-dataset-converter'...\n",
            "remote: Enumerating objects: 27, done.\u001b[K\n",
            "remote: Counting objects: 100% (27/27), done.\u001b[K\n",
            "remote: Compressing objects: 100% (22/22), done.\u001b[K\n",
            "remote: Total 27 (delta 8), reused 9 (delta 1), pack-reused 0\u001b[K\n",
            "Unpacking objects: 100% (27/27), done.\n"
          ]
        }
      ],
      "source": [
        "!git clone https://github.com/amazon-research/qa-dataset-converter"
      ]
    },
    {
      "cell_type": "code",
      "execution_count": null,
      "metadata": {
        "colab": {
          "base_uri": "https://localhost:8080/"
        },
        "id": "-Ei268zEPqEn",
        "outputId": "41d6c6b0-0605-47cc-dff6-ee69f1ebe86d"
      },
      "outputs": [
        {
          "name": "stdout",
          "output_type": "stream",
          "text": [
            "--2022-03-12 13:11:23--  https://s3.amazonaws.com/my89public/quac/train_v0.2.json\n",
            "Resolving s3.amazonaws.com (s3.amazonaws.com)... 52.216.140.246\n",
            "Connecting to s3.amazonaws.com (s3.amazonaws.com)|52.216.140.246|:443... connected.\n",
            "HTTP request sent, awaiting response... 200 OK\n",
            "Length: 68114819 (65M) [application/json]\n",
            "Saving to: ‘train_v0.2.json’\n",
            "\n",
            "train_v0.2.json     100%[===================>]  64.96M  70.5MB/s    in 0.9s    \n",
            "\n",
            "2022-03-12 13:11:24 (70.5 MB/s) - ‘train_v0.2.json’ saved [68114819/68114819]\n",
            "\n"
          ]
        }
      ],
      "source": [
        "!wget https://s3.amazonaws.com/my89public/quac/train_v0.2.json"
      ]
    },
    {
      "cell_type": "code",
      "execution_count": null,
      "metadata": {
        "colab": {
          "base_uri": "https://localhost:8080/"
        },
        "id": "lx_gzwP0Pr7E",
        "outputId": "2c9d1983-3333-46b2-901c-239f39b451ea"
      },
      "outputs": [
        {
          "name": "stdout",
          "output_type": "stream",
          "text": [
            "--2022-03-12 13:11:24--  https://s3.amazonaws.com/my89public/quac/val_v0.2.json\n",
            "Resolving s3.amazonaws.com (s3.amazonaws.com)... 52.216.140.246\n",
            "Connecting to s3.amazonaws.com (s3.amazonaws.com)|52.216.140.246|:443... connected.\n",
            "HTTP request sent, awaiting response... 200 OK\n",
            "Length: 8929167 (8.5M) [application/json]\n",
            "Saving to: ‘val_v0.2.json’\n",
            "\n",
            "val_v0.2.json       100%[===================>]   8.51M  31.7MB/s    in 0.3s    \n",
            "\n",
            "2022-03-12 13:11:25 (31.7 MB/s) - ‘val_v0.2.json’ saved [8929167/8929167]\n",
            "\n"
          ]
        }
      ],
      "source": [
        "!wget https://s3.amazonaws.com/my89public/quac/val_v0.2.json"
      ]
    },
    {
      "cell_type": "code",
      "execution_count": null,
      "metadata": {
        "id": "ExS2mY_-Pu7t"
      },
      "outputs": [],
      "source": [
        "!python qa-dataset-converter/quac/quac_to_squad.py --quac_file train_v0.2.json --output_file quac_train.json\n",
        "\n",
        "!python qa-dataset-converter/quac/quac_to_squad.py --quac_file val_v0.2.json --output_file quac_dev.json"
      ]
    },
    {
      "cell_type": "markdown",
      "metadata": {
        "id": "o1CHE1k0mdvx"
      },
      "source": [
        "## Take the texts, questions and answers from QUAC dataset and insert these into corresponding lists"
      ]
    },
    {
      "cell_type": "code",
      "execution_count": null,
      "metadata": {
        "execution": {
          "iopub.execute_input": "2022-03-11T23:30:44.279697Z",
          "iopub.status.busy": "2022-03-11T23:30:44.279479Z",
          "iopub.status.idle": "2022-03-11T23:30:46.728793Z",
          "shell.execute_reply": "2022-03-11T23:30:46.728102Z",
          "shell.execute_reply.started": "2022-03-11T23:30:44.279671Z"
        },
        "id": "GguQxebweOF3",
        "trusted": true
      },
      "outputs": [],
      "source": [
        "import math\n",
        "jsonTrain = \"./quac_train.json\"\n",
        "jsonVal = \"./quac_dev.json\"\n",
        " \n",
        "file_data = pd.read_json(jsonTrain)\n",
        "json_data = file_data['data']\n",
        "\n",
        "size = math.floor(json_data.shape[0]*0.7)\n",
        "trainContents = file_data['data'].loc[0:size]\n",
        "\n",
        "file_data = pd.read_json(jsonVal)\n",
        "json_data = file_data['data']\n",
        "\n",
        "size = math.floor(json_data.shape[0])\n",
        "valContents = file_data['data'].loc[0:size]"
      ]
    },
    {
      "cell_type": "code",
      "execution_count": null,
      "metadata": {
        "execution": {
          "iopub.execute_input": "2022-03-11T23:30:46.735271Z",
          "iopub.status.busy": "2022-03-11T23:30:46.733011Z",
          "iopub.status.idle": "2022-03-11T23:30:46.743902Z",
          "shell.execute_reply": "2022-03-11T23:30:46.743318Z",
          "shell.execute_reply.started": "2022-03-11T23:30:46.735227Z"
        },
        "id": "XNWrLQG3GuzI",
        "trusted": true
      },
      "outputs": [],
      "source": [
        "def jsonToLists(contents):\n",
        "  texts=[]\n",
        "  questions=[]\n",
        "  answers=[]\n",
        "  for data in contents:\n",
        "    for txt in data['paragraphs']: # every text,\n",
        "      text = txt['context']\n",
        "      for qa in txt['qas']: # has many questions,\n",
        "        question = qa['question']\n",
        "        for answer in qa['answers']: # questions have answers.\n",
        "          texts.append(text)\n",
        "          questions.append(question)\n",
        "          answers.append(answer)            \n",
        "                  \n",
        "  return texts,questions,answers\n"
      ]
    },
    {
      "cell_type": "code",
      "execution_count": null,
      "metadata": {
        "execution": {
          "iopub.execute_input": "2022-03-11T23:30:46.750662Z",
          "iopub.status.busy": "2022-03-11T23:30:46.748042Z",
          "iopub.status.idle": "2022-03-11T23:30:46.833956Z",
          "shell.execute_reply": "2022-03-11T23:30:46.833223Z",
          "shell.execute_reply.started": "2022-03-11T23:30:46.750625Z"
        },
        "id": "paYE-0YTgNHI",
        "trusted": true
      },
      "outputs": [],
      "source": [
        "trainTexts,trainQuestions,trainAnswers=jsonToLists(trainContents)\n",
        "valTexts,valQuestions,valAnswers=jsonToLists(valContents)"
      ]
    },
    {
      "cell_type": "code",
      "execution_count": null,
      "metadata": {
        "execution": {
          "iopub.execute_input": "2022-03-11T23:30:46.835462Z",
          "iopub.status.busy": "2022-03-11T23:30:46.835217Z",
          "iopub.status.idle": "2022-03-11T23:30:46.840839Z",
          "shell.execute_reply": "2022-03-11T23:30:46.840187Z",
          "shell.execute_reply.started": "2022-03-11T23:30:46.835428Z"
        },
        "id": "KN8ZXs-JiCJS",
        "outputId": "f29f517c-7ae8-4b22-b8c8-d049b100d4c5",
        "trusted": true
      },
      "outputs": [
        {
          "name": "stdout",
          "output_type": "stream",
          "text": [
            "48292\n",
            "48292\n",
            "48292\n",
            "-----\n",
            "5868\n",
            "5868\n",
            "5868\n"
          ]
        }
      ],
      "source": [
        "print(len(trainTexts))\n",
        "print(len(trainQuestions))\n",
        "print(len(trainAnswers))\n",
        "print(\"-----\")\n",
        "print(len(valTexts))\n",
        "print(len(valQuestions))\n",
        "print(len(valAnswers))"
      ]
    },
    {
      "cell_type": "markdown",
      "metadata": {
        "id": "VWB1ZVdrnlQs"
      },
      "source": [
        "## Find and store the end position of every answer"
      ]
    },
    {
      "cell_type": "code",
      "execution_count": null,
      "metadata": {
        "execution": {
          "iopub.execute_input": "2022-03-11T23:30:46.842588Z",
          "iopub.status.busy": "2022-03-11T23:30:46.842134Z",
          "iopub.status.idle": "2022-03-11T23:30:46.910980Z",
          "shell.execute_reply": "2022-03-11T23:30:46.910351Z",
          "shell.execute_reply.started": "2022-03-11T23:30:46.842553Z"
        },
        "id": "eekiczaeFf7e",
        "trusted": true
      },
      "outputs": [],
      "source": [
        "def add_end_idx(answers, contexts):\n",
        "    # get the character position at which every answer ends and store it\n",
        "    for answer, context in zip(answers, contexts):\n",
        "      end_idx = answer['answer_start'] + len(answer['text'])\n",
        "\n",
        "      if context[answer['answer_start']:end_idx] == answer['text']:\n",
        "        answer['answer_end'] = end_idx\n",
        "      # Sometimes SQuAD answers are off by one or two characters, so ...\n",
        "      elif context[answer['answer_start']-1:end_idx-1] == answer['text']:\n",
        "        answer['answer_start'] = answer['answer_start'] - 1\n",
        "        answer['answer_end'] = end_idx - 1\n",
        "      elif context[answer['answer_start']-2:end_idx-2] == answer['text']:\n",
        "        answer['answer_start'] = answer['answer_start'] - 2\n",
        "        answer['answer_end'] = end_idx - 2\n",
        "                \n",
        "add_end_idx(trainAnswers, trainTexts)\n",
        "add_end_idx(valAnswers, valTexts)"
      ]
    },
    {
      "cell_type": "markdown",
      "metadata": {
        "id": "WrjL4mRPoGOz"
      },
      "source": [
        "## BERT Tokenizer"
      ]
    },
    {
      "cell_type": "code",
      "execution_count": 7,
      "metadata": {
        "colab": {
          "base_uri": "https://localhost:8080/",
          "height": 145,
          "referenced_widgets": [
            "c7ee080a04014a85a922d5b230afcf0e",
            "7d7e4fc3e62c42848c2bd1cd1bc34825",
            "28a12b7acb59493d8cbacc176c44b62e",
            "edd775b57c294cad85d05f8f28fb7a38",
            "3c355a42a0fa4b6cad3343321697ebf8",
            "38c11741a0d54bcf8e41530e3e9e2b30",
            "cbb130fdd468463e818f03da7e5bab18",
            "d6289c66ee434456b165c7e6fa4ab58e",
            "51a6b213439e4eb7ad9d6ac9d63d5048",
            "d2b9b5075fee4f178b8fa50596c995d0",
            "fc8db9462c134b2996b53d20b45972f3",
            "cc15380285b04a71b328656729da5901",
            "9404eb5e9c4048c3847f3ccb957524b7",
            "fba15237b3ff4a37a3c41abc5c4f08a0",
            "8f5b920018d644f1941ab2d6c6e9aaca",
            "8ba45e6767404b9aa7cec52969f95ab4",
            "560f1c15d5bc425eafad4b291087d547",
            "aa4a0fb74ba241e8bb7e8dcb9104c7b9",
            "ef5eb38d465d457780330dc59262253e",
            "0e1b0dd71d534929b492aabb63c7a335",
            "67909fa230d74f6291eee0896ee1610e",
            "893efe1cc2c6491dbd96838d3db13012",
            "c981b431252046b59c210a877b2e6c7d",
            "3d8624fd68e643ffb1dae781589938c9",
            "16bd0d0bbd8c423db199aa82136f4a8d",
            "bfe5c432e2c049dda23eca21be86dad8",
            "026c1cb911f343b791015be84e7cc08e",
            "a0a26a8eedbf433e9e3989a5d8ea1828",
            "84492570d7f2417ba3062d5f0192d275",
            "b35dc8e7a90f46aaa404e909500aa84c",
            "cad876376c554c6cb50bbb949f8d2977",
            "7661dca495db42199e38d62a13934df0",
            "76566f3e67864661bb159a07b31daabe",
            "60a0a862e6f94e578dd5716099fd0ca7",
            "5f7598e99b35492b9a14bc3e3b396743",
            "f4a3cf09a0c94961bb7507afccb751ca",
            "e8d7888051a045be8127d654cda439fe",
            "640e2abb9ff048bab605afdf175f6993",
            "1a11dd1dbca5488ab5eacf1ebb6d3463",
            "41a75f48b68541a6a87f89582e83c7c6",
            "65053da281a848b890e6ac68f5a1565c",
            "56df27ff4cd245b0a9a11cc02c5f4925",
            "81d0d95eb0c547218b86debc812f8cfa",
            "c93ec52cdf474d008ab978e8f55f0ea3"
          ]
        },
        "execution": {
          "iopub.execute_input": "2022-03-11T23:30:46.912426Z",
          "iopub.status.busy": "2022-03-11T23:30:46.912186Z",
          "iopub.status.idle": "2022-03-11T23:30:56.847436Z",
          "shell.execute_reply": "2022-03-11T23:30:56.846775Z",
          "shell.execute_reply.started": "2022-03-11T23:30:46.912391Z"
        },
        "id": "G6efgWHFKdMN",
        "outputId": "d2a33ee9-f0d5-42c6-eff3-61c24e6f2955",
        "trusted": true
      },
      "outputs": [
        {
          "output_type": "display_data",
          "data": {
            "text/plain": [
              "Downloading:   0%|          | 0.00/28.0 [00:00<?, ?B/s]"
            ],
            "application/vnd.jupyter.widget-view+json": {
              "version_major": 2,
              "version_minor": 0,
              "model_id": "c7ee080a04014a85a922d5b230afcf0e"
            }
          },
          "metadata": {}
        },
        {
          "output_type": "display_data",
          "data": {
            "text/plain": [
              "Downloading:   0%|          | 0.00/226k [00:00<?, ?B/s]"
            ],
            "application/vnd.jupyter.widget-view+json": {
              "version_major": 2,
              "version_minor": 0,
              "model_id": "cc15380285b04a71b328656729da5901"
            }
          },
          "metadata": {}
        },
        {
          "output_type": "display_data",
          "data": {
            "text/plain": [
              "Downloading:   0%|          | 0.00/455k [00:00<?, ?B/s]"
            ],
            "application/vnd.jupyter.widget-view+json": {
              "version_major": 2,
              "version_minor": 0,
              "model_id": "c981b431252046b59c210a877b2e6c7d"
            }
          },
          "metadata": {}
        },
        {
          "output_type": "display_data",
          "data": {
            "text/plain": [
              "Downloading:   0%|          | 0.00/483 [00:00<?, ?B/s]"
            ],
            "application/vnd.jupyter.widget-view+json": {
              "version_major": 2,
              "version_minor": 0,
              "model_id": "60a0a862e6f94e578dd5716099fd0ca7"
            }
          },
          "metadata": {}
        }
      ],
      "source": [
        "from transformers import BertTokenizerFast,DistilBertTokenizerFast\n",
        "\n",
        "# tokenizer = BertTokenizerFast.from_pretrained('bert-base-uncased')\n",
        "tokenizer = DistilBertTokenizerFast.from_pretrained('distilbert-base-uncased')"
      ]
    },
    {
      "cell_type": "code",
      "execution_count": null,
      "metadata": {
        "execution": {
          "iopub.execute_input": "2022-03-11T23:30:56.850698Z",
          "iopub.status.busy": "2022-03-11T23:30:56.850488Z",
          "iopub.status.idle": "2022-03-11T23:32:09.383303Z",
          "shell.execute_reply": "2022-03-11T23:32:09.382529Z",
          "shell.execute_reply.started": "2022-03-11T23:30:56.850672Z"
        },
        "id": "2-62TIQyH-H0",
        "trusted": true
      },
      "outputs": [],
      "source": [
        "trainEncodings=tokenizer(trainTexts,trainQuestions, truncation=True, padding=True, max_length=512)\n",
        "valEncodings=tokenizer(valTexts,valQuestions, truncation=True, padding=True, max_length=512)"
      ]
    },
    {
      "cell_type": "markdown",
      "metadata": {
        "id": "T24OieeEoNn7"
      },
      "source": [
        "## Convert  character start/end positions to token start/end positions"
      ]
    },
    {
      "cell_type": "code",
      "execution_count": null,
      "metadata": {
        "execution": {
          "iopub.execute_input": "2022-03-11T23:32:09.385009Z",
          "iopub.status.busy": "2022-03-11T23:32:09.384761Z",
          "iopub.status.idle": "2022-03-11T23:32:09.639384Z",
          "shell.execute_reply": "2022-03-11T23:32:09.638650Z",
          "shell.execute_reply.started": "2022-03-11T23:32:09.384976Z"
        },
        "id": "Y_IyfehmLyhN",
        "trusted": true
      },
      "outputs": [],
      "source": [
        "def add_token_positions(encodings, answers):\n",
        "    # convert character start/end positions to token start/end positions.\n",
        "    start_positions = []\n",
        "    end_positions = []\n",
        "    for i in range(len(answers)):\n",
        "        start_positions.append(encodings.char_to_token(i, answers[i]['answer_start']))\n",
        "        if(answers[i]['answer_end']==0):\n",
        "            end_positions.append(encodings.char_to_token(i, answers[i]['answer_end'])) \n",
        "        else:\n",
        "            end_positions.append(encodings.char_to_token(i, answers[i]['answer_end'] - 1))\n",
        "\n",
        "         # if None, the answer passage has been truncated\n",
        "        if start_positions[-1] is None:\n",
        "            start_positions[-1] = tokenizer.model_max_length\n",
        "                   \n",
        "        if end_positions[-1] is None:\n",
        "            end_positions[-1] = tokenizer.model_max_length\n",
        "\n",
        "    encodings.update({'start_positions': start_positions, 'end_positions': end_positions})\n",
        "\n",
        "# apply function to our data\n",
        "add_token_positions(trainEncodings, trainAnswers)\n",
        "add_token_positions(valEncodings, valAnswers)"
      ]
    },
    {
      "cell_type": "markdown",
      "metadata": {
        "id": "99wzVdYloje-"
      },
      "source": [
        "## Custom Dataset"
      ]
    },
    {
      "cell_type": "code",
      "execution_count": null,
      "metadata": {
        "execution": {
          "iopub.execute_input": "2022-03-11T23:32:09.640915Z",
          "iopub.status.busy": "2022-03-11T23:32:09.640680Z",
          "iopub.status.idle": "2022-03-11T23:32:09.648799Z",
          "shell.execute_reply": "2022-03-11T23:32:09.648065Z",
          "shell.execute_reply.started": "2022-03-11T23:32:09.640881Z"
        },
        "id": "OPyW7VdgLKn4",
        "trusted": true
      },
      "outputs": [],
      "source": [
        "class SquadDataset(torch.utils.data.Dataset):\n",
        "  def __init__(self, encodings):\n",
        "    self.encodings = encodings\n",
        "\n",
        "  def __getitem__(self, idx):\n",
        "    return {key: torch.tensor(val[idx]) for key, val in self.encodings.items()}\n",
        "\n",
        "  def __len__(self):\n",
        "    return len(self.encodings.input_ids)\n",
        "\n",
        "# create the corresponding datasets\n",
        "trainSet = SquadDataset(trainEncodings)\n",
        "valSet = SquadDataset(valEncodings)"
      ]
    },
    {
      "cell_type": "markdown",
      "metadata": {
        "id": "FoniHC1wpRPd"
      },
      "source": [
        "## Build/Load the Bert model"
      ]
    },
    {
      "cell_type": "code",
      "execution_count": null,
      "metadata": {
        "colab": {
          "referenced_widgets": [
            "621b958561c14218b7c8b7014a5af4fb",
            "be803c5f051945579bb4fda13e475965"
          ]
        },
        "execution": {
          "iopub.execute_input": "2022-03-11T23:32:09.650322Z",
          "iopub.status.busy": "2022-03-11T23:32:09.649904Z",
          "iopub.status.idle": "2022-03-11T23:32:32.811898Z",
          "shell.execute_reply": "2022-03-11T23:32:32.811040Z",
          "shell.execute_reply.started": "2022-03-11T23:32:09.650286Z"
        },
        "id": "rfCl75yFZnZC",
        "outputId": "28f53c20-a08e-4594-8f95-c2cf8350aecd",
        "trusted": true
      },
      "outputs": [
        {
          "data": {
            "application/vnd.jupyter.widget-view+json": {
              "model_id": "621b958561c14218b7c8b7014a5af4fb",
              "version_major": 2,
              "version_minor": 0
            },
            "text/plain": [
              "Downloading:   0%|          | 0.00/570 [00:00<?, ?B/s]"
            ]
          },
          "metadata": {},
          "output_type": "display_data"
        },
        {
          "data": {
            "application/vnd.jupyter.widget-view+json": {
              "model_id": "be803c5f051945579bb4fda13e475965",
              "version_major": 2,
              "version_minor": 0
            },
            "text/plain": [
              "Downloading:   0%|          | 0.00/420M [00:00<?, ?B/s]"
            ]
          },
          "metadata": {},
          "output_type": "display_data"
        },
        {
          "name": "stderr",
          "output_type": "stream",
          "text": [
            "Some weights of the model checkpoint at bert-base-uncased were not used when initializing BertForQuestionAnswering: ['cls.predictions.transform.LayerNorm.bias', 'cls.predictions.transform.dense.weight', 'cls.seq_relationship.bias', 'cls.seq_relationship.weight', 'cls.predictions.bias', 'cls.predictions.transform.dense.bias', 'cls.predictions.decoder.weight', 'cls.predictions.transform.LayerNorm.weight']\n",
            "- This IS expected if you are initializing BertForQuestionAnswering from the checkpoint of a model trained on another task or with another architecture (e.g. initializing a BertForSequenceClassification model from a BertForPreTraining model).\n",
            "- This IS NOT expected if you are initializing BertForQuestionAnswering from the checkpoint of a model that you expect to be exactly identical (initializing a BertForSequenceClassification model from a BertForSequenceClassification model).\n",
            "Some weights of BertForQuestionAnswering were not initialized from the model checkpoint at bert-base-uncased and are newly initialized: ['qa_outputs.bias', 'qa_outputs.weight']\n",
            "You should probably TRAIN this model on a down-stream task to be able to use it for predictions and inference.\n"
          ]
        },
        {
          "data": {
            "text/plain": [
              "BertForQuestionAnswering(\n",
              "  (bert): BertModel(\n",
              "    (embeddings): BertEmbeddings(\n",
              "      (word_embeddings): Embedding(30522, 768, padding_idx=0)\n",
              "      (position_embeddings): Embedding(512, 768)\n",
              "      (token_type_embeddings): Embedding(2, 768)\n",
              "      (LayerNorm): LayerNorm((768,), eps=1e-12, elementwise_affine=True)\n",
              "      (dropout): Dropout(p=0.1, inplace=False)\n",
              "    )\n",
              "    (encoder): BertEncoder(\n",
              "      (layer): ModuleList(\n",
              "        (0): BertLayer(\n",
              "          (attention): BertAttention(\n",
              "            (self): BertSelfAttention(\n",
              "              (query): Linear(in_features=768, out_features=768, bias=True)\n",
              "              (key): Linear(in_features=768, out_features=768, bias=True)\n",
              "              (value): Linear(in_features=768, out_features=768, bias=True)\n",
              "              (dropout): Dropout(p=0.1, inplace=False)\n",
              "            )\n",
              "            (output): BertSelfOutput(\n",
              "              (dense): Linear(in_features=768, out_features=768, bias=True)\n",
              "              (LayerNorm): LayerNorm((768,), eps=1e-12, elementwise_affine=True)\n",
              "              (dropout): Dropout(p=0.1, inplace=False)\n",
              "            )\n",
              "          )\n",
              "          (intermediate): BertIntermediate(\n",
              "            (dense): Linear(in_features=768, out_features=3072, bias=True)\n",
              "          )\n",
              "          (output): BertOutput(\n",
              "            (dense): Linear(in_features=3072, out_features=768, bias=True)\n",
              "            (LayerNorm): LayerNorm((768,), eps=1e-12, elementwise_affine=True)\n",
              "            (dropout): Dropout(p=0.1, inplace=False)\n",
              "          )\n",
              "        )\n",
              "        (1): BertLayer(\n",
              "          (attention): BertAttention(\n",
              "            (self): BertSelfAttention(\n",
              "              (query): Linear(in_features=768, out_features=768, bias=True)\n",
              "              (key): Linear(in_features=768, out_features=768, bias=True)\n",
              "              (value): Linear(in_features=768, out_features=768, bias=True)\n",
              "              (dropout): Dropout(p=0.1, inplace=False)\n",
              "            )\n",
              "            (output): BertSelfOutput(\n",
              "              (dense): Linear(in_features=768, out_features=768, bias=True)\n",
              "              (LayerNorm): LayerNorm((768,), eps=1e-12, elementwise_affine=True)\n",
              "              (dropout): Dropout(p=0.1, inplace=False)\n",
              "            )\n",
              "          )\n",
              "          (intermediate): BertIntermediate(\n",
              "            (dense): Linear(in_features=768, out_features=3072, bias=True)\n",
              "          )\n",
              "          (output): BertOutput(\n",
              "            (dense): Linear(in_features=3072, out_features=768, bias=True)\n",
              "            (LayerNorm): LayerNorm((768,), eps=1e-12, elementwise_affine=True)\n",
              "            (dropout): Dropout(p=0.1, inplace=False)\n",
              "          )\n",
              "        )\n",
              "        (2): BertLayer(\n",
              "          (attention): BertAttention(\n",
              "            (self): BertSelfAttention(\n",
              "              (query): Linear(in_features=768, out_features=768, bias=True)\n",
              "              (key): Linear(in_features=768, out_features=768, bias=True)\n",
              "              (value): Linear(in_features=768, out_features=768, bias=True)\n",
              "              (dropout): Dropout(p=0.1, inplace=False)\n",
              "            )\n",
              "            (output): BertSelfOutput(\n",
              "              (dense): Linear(in_features=768, out_features=768, bias=True)\n",
              "              (LayerNorm): LayerNorm((768,), eps=1e-12, elementwise_affine=True)\n",
              "              (dropout): Dropout(p=0.1, inplace=False)\n",
              "            )\n",
              "          )\n",
              "          (intermediate): BertIntermediate(\n",
              "            (dense): Linear(in_features=768, out_features=3072, bias=True)\n",
              "          )\n",
              "          (output): BertOutput(\n",
              "            (dense): Linear(in_features=3072, out_features=768, bias=True)\n",
              "            (LayerNorm): LayerNorm((768,), eps=1e-12, elementwise_affine=True)\n",
              "            (dropout): Dropout(p=0.1, inplace=False)\n",
              "          )\n",
              "        )\n",
              "        (3): BertLayer(\n",
              "          (attention): BertAttention(\n",
              "            (self): BertSelfAttention(\n",
              "              (query): Linear(in_features=768, out_features=768, bias=True)\n",
              "              (key): Linear(in_features=768, out_features=768, bias=True)\n",
              "              (value): Linear(in_features=768, out_features=768, bias=True)\n",
              "              (dropout): Dropout(p=0.1, inplace=False)\n",
              "            )\n",
              "            (output): BertSelfOutput(\n",
              "              (dense): Linear(in_features=768, out_features=768, bias=True)\n",
              "              (LayerNorm): LayerNorm((768,), eps=1e-12, elementwise_affine=True)\n",
              "              (dropout): Dropout(p=0.1, inplace=False)\n",
              "            )\n",
              "          )\n",
              "          (intermediate): BertIntermediate(\n",
              "            (dense): Linear(in_features=768, out_features=3072, bias=True)\n",
              "          )\n",
              "          (output): BertOutput(\n",
              "            (dense): Linear(in_features=3072, out_features=768, bias=True)\n",
              "            (LayerNorm): LayerNorm((768,), eps=1e-12, elementwise_affine=True)\n",
              "            (dropout): Dropout(p=0.1, inplace=False)\n",
              "          )\n",
              "        )\n",
              "        (4): BertLayer(\n",
              "          (attention): BertAttention(\n",
              "            (self): BertSelfAttention(\n",
              "              (query): Linear(in_features=768, out_features=768, bias=True)\n",
              "              (key): Linear(in_features=768, out_features=768, bias=True)\n",
              "              (value): Linear(in_features=768, out_features=768, bias=True)\n",
              "              (dropout): Dropout(p=0.1, inplace=False)\n",
              "            )\n",
              "            (output): BertSelfOutput(\n",
              "              (dense): Linear(in_features=768, out_features=768, bias=True)\n",
              "              (LayerNorm): LayerNorm((768,), eps=1e-12, elementwise_affine=True)\n",
              "              (dropout): Dropout(p=0.1, inplace=False)\n",
              "            )\n",
              "          )\n",
              "          (intermediate): BertIntermediate(\n",
              "            (dense): Linear(in_features=768, out_features=3072, bias=True)\n",
              "          )\n",
              "          (output): BertOutput(\n",
              "            (dense): Linear(in_features=3072, out_features=768, bias=True)\n",
              "            (LayerNorm): LayerNorm((768,), eps=1e-12, elementwise_affine=True)\n",
              "            (dropout): Dropout(p=0.1, inplace=False)\n",
              "          )\n",
              "        )\n",
              "        (5): BertLayer(\n",
              "          (attention): BertAttention(\n",
              "            (self): BertSelfAttention(\n",
              "              (query): Linear(in_features=768, out_features=768, bias=True)\n",
              "              (key): Linear(in_features=768, out_features=768, bias=True)\n",
              "              (value): Linear(in_features=768, out_features=768, bias=True)\n",
              "              (dropout): Dropout(p=0.1, inplace=False)\n",
              "            )\n",
              "            (output): BertSelfOutput(\n",
              "              (dense): Linear(in_features=768, out_features=768, bias=True)\n",
              "              (LayerNorm): LayerNorm((768,), eps=1e-12, elementwise_affine=True)\n",
              "              (dropout): Dropout(p=0.1, inplace=False)\n",
              "            )\n",
              "          )\n",
              "          (intermediate): BertIntermediate(\n",
              "            (dense): Linear(in_features=768, out_features=3072, bias=True)\n",
              "          )\n",
              "          (output): BertOutput(\n",
              "            (dense): Linear(in_features=3072, out_features=768, bias=True)\n",
              "            (LayerNorm): LayerNorm((768,), eps=1e-12, elementwise_affine=True)\n",
              "            (dropout): Dropout(p=0.1, inplace=False)\n",
              "          )\n",
              "        )\n",
              "        (6): BertLayer(\n",
              "          (attention): BertAttention(\n",
              "            (self): BertSelfAttention(\n",
              "              (query): Linear(in_features=768, out_features=768, bias=True)\n",
              "              (key): Linear(in_features=768, out_features=768, bias=True)\n",
              "              (value): Linear(in_features=768, out_features=768, bias=True)\n",
              "              (dropout): Dropout(p=0.1, inplace=False)\n",
              "            )\n",
              "            (output): BertSelfOutput(\n",
              "              (dense): Linear(in_features=768, out_features=768, bias=True)\n",
              "              (LayerNorm): LayerNorm((768,), eps=1e-12, elementwise_affine=True)\n",
              "              (dropout): Dropout(p=0.1, inplace=False)\n",
              "            )\n",
              "          )\n",
              "          (intermediate): BertIntermediate(\n",
              "            (dense): Linear(in_features=768, out_features=3072, bias=True)\n",
              "          )\n",
              "          (output): BertOutput(\n",
              "            (dense): Linear(in_features=3072, out_features=768, bias=True)\n",
              "            (LayerNorm): LayerNorm((768,), eps=1e-12, elementwise_affine=True)\n",
              "            (dropout): Dropout(p=0.1, inplace=False)\n",
              "          )\n",
              "        )\n",
              "        (7): BertLayer(\n",
              "          (attention): BertAttention(\n",
              "            (self): BertSelfAttention(\n",
              "              (query): Linear(in_features=768, out_features=768, bias=True)\n",
              "              (key): Linear(in_features=768, out_features=768, bias=True)\n",
              "              (value): Linear(in_features=768, out_features=768, bias=True)\n",
              "              (dropout): Dropout(p=0.1, inplace=False)\n",
              "            )\n",
              "            (output): BertSelfOutput(\n",
              "              (dense): Linear(in_features=768, out_features=768, bias=True)\n",
              "              (LayerNorm): LayerNorm((768,), eps=1e-12, elementwise_affine=True)\n",
              "              (dropout): Dropout(p=0.1, inplace=False)\n",
              "            )\n",
              "          )\n",
              "          (intermediate): BertIntermediate(\n",
              "            (dense): Linear(in_features=768, out_features=3072, bias=True)\n",
              "          )\n",
              "          (output): BertOutput(\n",
              "            (dense): Linear(in_features=3072, out_features=768, bias=True)\n",
              "            (LayerNorm): LayerNorm((768,), eps=1e-12, elementwise_affine=True)\n",
              "            (dropout): Dropout(p=0.1, inplace=False)\n",
              "          )\n",
              "        )\n",
              "        (8): BertLayer(\n",
              "          (attention): BertAttention(\n",
              "            (self): BertSelfAttention(\n",
              "              (query): Linear(in_features=768, out_features=768, bias=True)\n",
              "              (key): Linear(in_features=768, out_features=768, bias=True)\n",
              "              (value): Linear(in_features=768, out_features=768, bias=True)\n",
              "              (dropout): Dropout(p=0.1, inplace=False)\n",
              "            )\n",
              "            (output): BertSelfOutput(\n",
              "              (dense): Linear(in_features=768, out_features=768, bias=True)\n",
              "              (LayerNorm): LayerNorm((768,), eps=1e-12, elementwise_affine=True)\n",
              "              (dropout): Dropout(p=0.1, inplace=False)\n",
              "            )\n",
              "          )\n",
              "          (intermediate): BertIntermediate(\n",
              "            (dense): Linear(in_features=768, out_features=3072, bias=True)\n",
              "          )\n",
              "          (output): BertOutput(\n",
              "            (dense): Linear(in_features=3072, out_features=768, bias=True)\n",
              "            (LayerNorm): LayerNorm((768,), eps=1e-12, elementwise_affine=True)\n",
              "            (dropout): Dropout(p=0.1, inplace=False)\n",
              "          )\n",
              "        )\n",
              "        (9): BertLayer(\n",
              "          (attention): BertAttention(\n",
              "            (self): BertSelfAttention(\n",
              "              (query): Linear(in_features=768, out_features=768, bias=True)\n",
              "              (key): Linear(in_features=768, out_features=768, bias=True)\n",
              "              (value): Linear(in_features=768, out_features=768, bias=True)\n",
              "              (dropout): Dropout(p=0.1, inplace=False)\n",
              "            )\n",
              "            (output): BertSelfOutput(\n",
              "              (dense): Linear(in_features=768, out_features=768, bias=True)\n",
              "              (LayerNorm): LayerNorm((768,), eps=1e-12, elementwise_affine=True)\n",
              "              (dropout): Dropout(p=0.1, inplace=False)\n",
              "            )\n",
              "          )\n",
              "          (intermediate): BertIntermediate(\n",
              "            (dense): Linear(in_features=768, out_features=3072, bias=True)\n",
              "          )\n",
              "          (output): BertOutput(\n",
              "            (dense): Linear(in_features=3072, out_features=768, bias=True)\n",
              "            (LayerNorm): LayerNorm((768,), eps=1e-12, elementwise_affine=True)\n",
              "            (dropout): Dropout(p=0.1, inplace=False)\n",
              "          )\n",
              "        )\n",
              "        (10): BertLayer(\n",
              "          (attention): BertAttention(\n",
              "            (self): BertSelfAttention(\n",
              "              (query): Linear(in_features=768, out_features=768, bias=True)\n",
              "              (key): Linear(in_features=768, out_features=768, bias=True)\n",
              "              (value): Linear(in_features=768, out_features=768, bias=True)\n",
              "              (dropout): Dropout(p=0.1, inplace=False)\n",
              "            )\n",
              "            (output): BertSelfOutput(\n",
              "              (dense): Linear(in_features=768, out_features=768, bias=True)\n",
              "              (LayerNorm): LayerNorm((768,), eps=1e-12, elementwise_affine=True)\n",
              "              (dropout): Dropout(p=0.1, inplace=False)\n",
              "            )\n",
              "          )\n",
              "          (intermediate): BertIntermediate(\n",
              "            (dense): Linear(in_features=768, out_features=3072, bias=True)\n",
              "          )\n",
              "          (output): BertOutput(\n",
              "            (dense): Linear(in_features=3072, out_features=768, bias=True)\n",
              "            (LayerNorm): LayerNorm((768,), eps=1e-12, elementwise_affine=True)\n",
              "            (dropout): Dropout(p=0.1, inplace=False)\n",
              "          )\n",
              "        )\n",
              "        (11): BertLayer(\n",
              "          (attention): BertAttention(\n",
              "            (self): BertSelfAttention(\n",
              "              (query): Linear(in_features=768, out_features=768, bias=True)\n",
              "              (key): Linear(in_features=768, out_features=768, bias=True)\n",
              "              (value): Linear(in_features=768, out_features=768, bias=True)\n",
              "              (dropout): Dropout(p=0.1, inplace=False)\n",
              "            )\n",
              "            (output): BertSelfOutput(\n",
              "              (dense): Linear(in_features=768, out_features=768, bias=True)\n",
              "              (LayerNorm): LayerNorm((768,), eps=1e-12, elementwise_affine=True)\n",
              "              (dropout): Dropout(p=0.1, inplace=False)\n",
              "            )\n",
              "          )\n",
              "          (intermediate): BertIntermediate(\n",
              "            (dense): Linear(in_features=768, out_features=3072, bias=True)\n",
              "          )\n",
              "          (output): BertOutput(\n",
              "            (dense): Linear(in_features=3072, out_features=768, bias=True)\n",
              "            (LayerNorm): LayerNorm((768,), eps=1e-12, elementwise_affine=True)\n",
              "            (dropout): Dropout(p=0.1, inplace=False)\n",
              "          )\n",
              "        )\n",
              "      )\n",
              "    )\n",
              "  )\n",
              "  (qa_outputs): Linear(in_features=768, out_features=2, bias=True)\n",
              ")"
            ]
          },
          "execution_count": 31,
          "metadata": {},
          "output_type": "execute_result"
        }
      ],
      "source": [
        "from transformers import BertForQuestionAnswering,DistilBertForQuestionAnswering\n",
        "model = BertForQuestionAnswering.from_pretrained('bert-base-uncased')\n",
        "# model = DistilBertForQuestionAnswering.from_pretrained('distilbert-base-uncased')\n",
        "model.to(device)"
      ]
    },
    {
      "cell_type": "code",
      "execution_count": null,
      "metadata": {
        "execution": {
          "iopub.execute_input": "2022-03-11T23:32:32.813616Z",
          "iopub.status.busy": "2022-03-11T23:32:32.813341Z",
          "iopub.status.idle": "2022-03-11T23:32:32.818911Z",
          "shell.execute_reply": "2022-03-11T23:32:32.818166Z",
          "shell.execute_reply.started": "2022-03-11T23:32:32.813572Z"
        },
        "id": "aKm02qunZ_2-",
        "trusted": true
      },
      "outputs": [],
      "source": [
        "from torch.utils.data import TensorDataset, DataLoader\n",
        "\n",
        "batch_size = 16\n",
        "trainDataloader = DataLoader(trainSet, batch_size=batch_size, shuffle=True)\n",
        "valDataloader = DataLoader(valSet, batch_size=batch_size, shuffle=False)"
      ]
    },
    {
      "cell_type": "code",
      "execution_count": null,
      "metadata": {
        "execution": {
          "iopub.execute_input": "2022-03-11T23:32:32.820364Z",
          "iopub.status.busy": "2022-03-11T23:32:32.820090Z",
          "iopub.status.idle": "2022-03-11T23:32:32.829283Z",
          "shell.execute_reply": "2022-03-11T23:32:32.828527Z",
          "shell.execute_reply.started": "2022-03-11T23:32:32.820327Z"
        },
        "id": "r1MdTddDZDYb",
        "trusted": true
      },
      "outputs": [],
      "source": [
        "lr = 2e-5\n",
        "optimizer = torch.optim.AdamW(model.parameters(), lr=lr)"
      ]
    },
    {
      "cell_type": "markdown",
      "metadata": {
        "id": "tlLJs3Zqpg5p"
      },
      "source": [
        "## Train and evalute the Bert model"
      ]
    },
    {
      "cell_type": "code",
      "execution_count": null,
      "metadata": {
        "execution": {
          "iopub.execute_input": "2022-03-11T23:32:32.832303Z",
          "iopub.status.busy": "2022-03-11T23:32:32.831059Z",
          "iopub.status.idle": "2022-03-12T01:03:15.597653Z",
          "shell.execute_reply": "2022-03-12T01:03:15.596889Z",
          "shell.execute_reply.started": "2022-03-11T23:32:32.832265Z"
        },
        "id": "y2gOhWGIacJ3",
        "outputId": "1d9b55ef-80b1-40ca-cc7c-5b88d979f64e",
        "trusted": true
      },
      "outputs": [
        {
          "name": "stdout",
          "output_type": "stream",
          "text": [
            "-Epoch: 1/2... Train Loss: 3.940991 | Val Loss: 3.441209\n",
            "-Epoch: 2/2... Train Loss: 3.239028 | Val Loss: 3.281936\n"
          ]
        }
      ],
      "source": [
        "epochs = 2\n",
        "trainLosses=[]\n",
        "valLosses=[]\n",
        "\n",
        "for i in range(epochs):\n",
        "  batchLosses = []\n",
        "  model.train() # training mode\n",
        "\n",
        "  for batch in trainDataloader:\n",
        "    \n",
        "    optimizer.zero_grad() # Delete previously stored gradients\n",
        "\n",
        "    input_ids = batch['input_ids'].to(device)\n",
        "    attention_mask = batch['attention_mask'].to(device)\n",
        "    start_positions = batch['start_positions'].to(device)\n",
        "    end_positions = batch['end_positions'].to(device)\n",
        "    \n",
        "    outputs = model(input_ids, attention_mask=attention_mask, start_positions=start_positions, end_positions=end_positions)\n",
        "\n",
        "    batchLosses.append(outputs[0].item())  \n",
        "\n",
        "    outputs[0].backward() # Perform backpropagation starting from the loss calculated in this epoch\n",
        "\n",
        "    nn.utils.clip_grad_norm_(model.parameters(),5.0) # Clip gradients to avoid vanishing gradients\n",
        "\n",
        "    optimizer.step() # Update model's weights based on the gradients calculated during backprop\n",
        "\n",
        "\n",
        "  trainCurrentLoss = sum(batchLosses)/len(trainDataloader)\n",
        "  trainLosses.append(trainCurrentLoss) \n",
        "\n",
        " \n",
        "  with torch.no_grad(): # evaluation, don't calculate gradients\n",
        "    model.eval() # evaluation mode\n",
        "    batchLosses = []\n",
        "    for batch in valDataloader:\n",
        "\n",
        "      input_ids = batch['input_ids'].to(device)\n",
        "      attention_mask = batch['attention_mask'].to(device)\n",
        "      start_positions = batch['start_positions'].to(device)\n",
        "      end_positions = batch['end_positions'].to(device)\n",
        "      \n",
        "      output = model(input_ids, attention_mask=attention_mask, start_positions=start_positions, end_positions=end_positions)\n",
        "      batchLosses.append(output[0].item())\n",
        "\n",
        "  valCurrentLoss = sum(batchLosses)/len(valDataloader)\n",
        "  valLosses.append(valCurrentLoss)\n",
        "  print(\"-Epoch: {}/{}...\".format(i+1, epochs), \"Train Loss: {:.6f} |\".format(trainCurrentLoss), \"Val Loss: {:.6f}\".format(valCurrentLoss))"
      ]
    },
    {
      "cell_type": "code",
      "execution_count": null,
      "metadata": {
        "execution": {
          "iopub.execute_input": "2022-03-12T01:04:10.468803Z",
          "iopub.status.busy": "2022-03-12T01:04:10.468035Z",
          "iopub.status.idle": "2022-03-12T01:04:10.688824Z",
          "shell.execute_reply": "2022-03-12T01:04:10.688181Z",
          "shell.execute_reply.started": "2022-03-12T01:04:10.468753Z"
        },
        "id": "CRWSHiPCR2uS",
        "outputId": "612d5880-6250-4347-f7af-cad1d6426609",
        "trusted": true
      },
      "outputs": [
        {
          "data": {
            "image/png": "[encoded data removed]",
            "text/plain": [
              "<Figure size 432x288 with 1 Axes>"
            ]
          },
          "metadata": {
            "needs_background": "light"
          },
          "output_type": "display_data"
        }
      ],
      "source": [
        "lossCurve(trainLosses,valLosses)"
      ]
    },
    {
      "cell_type": "code",
      "execution_count": 8,
      "metadata": {
        "execution": {
          "iopub.execute_input": "2022-03-12T01:04:12.909964Z",
          "iopub.status.busy": "2022-03-12T01:04:12.909720Z",
          "iopub.status.idle": "2022-03-12T01:04:12.915330Z",
          "shell.execute_reply": "2022-03-12T01:04:12.914629Z",
          "shell.execute_reply.started": "2022-03-12T01:04:12.909937Z"
        },
        "id": "TMjlBYDLNy80",
        "trusted": true
      },
      "outputs": [],
      "source": [
        "def predictTheAnswer(text,question,model):\n",
        "  inputs = tokenizer.encode_plus(question, text, return_tensors='pt',max_length=512, truncation=True).to(device)\n",
        "\n",
        "  outputs = model(**inputs)\n",
        "  answer_start = torch.argmax(outputs[0])  \n",
        "  answer_end = torch.argmax(outputs[1]) + 1 \n",
        "\n",
        "  answer = tokenizer.convert_tokens_to_string(tokenizer.convert_ids_to_tokens(inputs['input_ids'][0][answer_start:answer_end]))\n",
        "  return answer"
      ]
    },
    {
      "cell_type": "code",
      "execution_count": 9,
      "metadata": {
        "execution": {
          "iopub.execute_input": "2022-03-12T02:05:01.912743Z",
          "iopub.status.busy": "2022-03-12T02:05:01.912041Z",
          "iopub.status.idle": "2022-03-12T02:05:01.919937Z",
          "shell.execute_reply": "2022-03-12T02:05:01.917696Z",
          "shell.execute_reply.started": "2022-03-12T02:05:01.912705Z"
        },
        "id": "vC9VDTAGNy80",
        "trusted": true
      },
      "outputs": [],
      "source": [
        "def prediction(contents,model):\n",
        "  predAnswers={}\n",
        "  for data in contents['data']:\n",
        "    for txt in data['paragraphs']: \n",
        "      text = txt['context']\n",
        "      for qa in txt['qas']:\n",
        "        qid = qa['id']\n",
        "        question = qa['question']\n",
        "        predAnswers[qid]=predictTheAnswer(text,question,model)\n",
        "  return predAnswers"
      ]
    },
    {
      "cell_type": "code",
      "execution_count": null,
      "metadata": {
        "execution": {
          "iopub.execute_input": "2022-03-12T02:05:03.067232Z",
          "iopub.status.busy": "2022-03-12T02:05:03.066936Z",
          "iopub.status.idle": "2022-03-12T02:07:52.817573Z",
          "shell.execute_reply": "2022-03-12T02:07:52.816744Z",
          "shell.execute_reply.started": "2022-03-12T02:05:03.067195Z"
        },
        "id": "TLs9ZIuoNy81",
        "trusted": true
      },
      "outputs": [],
      "source": [
        "predAnswers=prediction(valContents,model)"
      ]
    },
    {
      "cell_type": "code",
      "execution_count": null,
      "metadata": {
        "execution": {
          "iopub.execute_input": "2022-03-12T02:07:52.926974Z",
          "iopub.status.busy": "2022-03-12T02:07:52.926427Z",
          "iopub.status.idle": "2022-03-12T02:07:52.946999Z",
          "shell.execute_reply": "2022-03-12T02:07:52.946231Z",
          "shell.execute_reply.started": "2022-03-12T02:07:52.926932Z"
        },
        "id": "jj68tcStNy81",
        "trusted": true
      },
      "outputs": [],
      "source": [
        "with open('results.txt', 'w') as convert_file:\n",
        "     convert_file.write(json.dumps(predAnswers))"
      ]
    },
    {
      "cell_type": "code",
      "execution_count": null,
      "metadata": {
        "execution": {
          "iopub.execute_input": "2022-03-12T02:07:57.800987Z",
          "iopub.status.busy": "2022-03-12T02:07:57.800288Z",
          "iopub.status.idle": "2022-03-12T02:08:00.084862Z",
          "shell.execute_reply": "2022-03-12T02:08:00.083996Z",
          "shell.execute_reply.started": "2022-03-12T02:07:57.800950Z"
        },
        "id": "CsuoxWTLNy81",
        "outputId": "aa46bb8d-e909-4d30-8f83-1a7fff998146",
        "trusted": true
      },
      "outputs": [
        {
          "name": "stdout",
          "output_type": "stream",
          "text": [
            "huggingface/tokenizers: The current process just got forked, after parallelism has already been used. Disabling parallelism to avoid deadlocks...\n",
            "To disable this warning, you can either:\n",
            "\t- Avoid using `tokenizers` before the fork if possible\n",
            "\t- Explicitly set the environment variable TOKENIZERS_PARALLELISM=(true | false)\n",
            "{\n",
            "  \"exact\": 8.335599673646994,\n",
            "  \"f1\": 18.876538919640474,\n",
            "  \"total\": 7354,\n",
            "  \"HasAns_exact\": 3.885480572597137,\n",
            "  \"HasAns_f1\": 17.095785142303377,\n",
            "  \"HasAns_total\": 5868,\n",
            "  \"NoAns_exact\": 25.908479138627186,\n",
            "  \"NoAns_f1\": 25.908479138627186,\n",
            "  \"NoAns_total\": 1486\n",
            "}\n"
          ]
        }
      ],
      "source": [
        "!python evaluate-v2.0.py ./quac_dev.json results.txt"
      ]
    },
    {
      "cell_type": "markdown",
      "metadata": {
        "id": "seGjEDJKNy81"
      },
      "source": [
        "## Trivia"
      ]
    },
    {
      "cell_type": "code",
      "execution_count": null,
      "metadata": {
        "execution": {
          "iopub.execute_input": "2022-03-12T01:14:22.493110Z",
          "iopub.status.busy": "2022-03-12T01:14:22.492829Z",
          "iopub.status.idle": "2022-03-12T01:17:46.087949Z",
          "shell.execute_reply": "2022-03-12T01:17:46.087133Z",
          "shell.execute_reply.started": "2022-03-12T01:14:22.493079Z"
        },
        "id": "GV65KjdZNy81",
        "outputId": "2e26ece7-307a-49a5-aec8-0bc1d417d392",
        "trusted": true
      },
      "outputs": [
        {
          "name": "stdout",
          "output_type": "stream",
          "text": [
            "huggingface/tokenizers: The current process just got forked, after parallelism has already been used. Disabling parallelism to avoid deadlocks...\n",
            "To disable this warning, you can either:\n",
            "\t- Avoid using `tokenizers` before the fork if possible\n",
            "\t- Explicitly set the environment variable TOKENIZERS_PARALLELISM=(true | false)\n",
            "--2022-03-12 01:14:23--  https://nlp.cs.washington.edu/triviaqa/data/triviaqa-rc.tar.gz\n",
            "Resolving nlp.cs.washington.edu (nlp.cs.washington.edu)... 128.208.3.120, 2607:4000:200:12::78\n",
            "Connecting to nlp.cs.washington.edu (nlp.cs.washington.edu)|128.208.3.120|:443... connected.\n",
            "HTTP request sent, awaiting response... 200 OK\n",
            "Length: 2665779500 (2.5G) [application/x-gzip]\n",
            "Saving to: ‘triviaqa-rc.tar.gz’\n",
            "\n",
            "triviaqa-rc.tar.gz  100%[===================>]   2.48G  8.59MB/s    in 3m 22s  \n",
            "\n",
            "2022-03-12 01:17:45 (12.6 MB/s) - ‘triviaqa-rc.tar.gz’ saved [2665779500/2665779500]\n",
            "\n"
          ]
        }
      ],
      "source": [
        "!wget https://nlp.cs.washington.edu/triviaqa/data/triviaqa-rc.tar.gz"
      ]
    },
    {
      "cell_type": "code",
      "execution_count": null,
      "metadata": {
        "execution": {
          "iopub.execute_input": "2022-03-12T01:32:57.589934Z",
          "iopub.status.busy": "2022-03-12T01:32:57.588816Z",
          "iopub.status.idle": "2022-03-12T01:36:56.209203Z",
          "shell.execute_reply": "2022-03-12T01:36:56.207513Z",
          "shell.execute_reply.started": "2022-03-12T01:32:57.589890Z"
        },
        "id": "FoIW00PkNy82",
        "trusted": true
      },
      "outputs": [],
      "source": [
        "import tarfile\n",
        "fname = \"triviaqa-rc.tar.gz\"\n",
        "if fname.endswith(\"tar.gz\"):\n",
        "    tar = tarfile.open(fname, \"r:gz\")\n",
        "    tar.extractall()\n",
        "    tar.close()"
      ]
    },
    {
      "cell_type": "code",
      "execution_count": null,
      "metadata": {
        "execution": {
          "iopub.execute_input": "2022-03-12T01:36:58.166289Z",
          "iopub.status.busy": "2022-03-12T01:36:58.165438Z",
          "iopub.status.idle": "2022-03-12T01:36:59.047905Z",
          "shell.execute_reply": "2022-03-12T01:36:59.046954Z",
          "shell.execute_reply.started": "2022-03-12T01:36:58.166247Z"
        },
        "id": "m9oIiDkFNy82",
        "outputId": "22463a0d-7d4a-4edb-a163-1160b0803c03",
        "trusted": true
      },
      "outputs": [
        {
          "name": "stdout",
          "output_type": "stream",
          "text": [
            "huggingface/tokenizers: The current process just got forked, after parallelism has already been used. Disabling parallelism to avoid deadlocks...\n",
            "To disable this warning, you can either:\n",
            "\t- Avoid using `tokenizers` before the fork if possible\n",
            "\t- Explicitly set the environment variable TOKENIZERS_PARALLELISM=(true | false)\n",
            "fatal: destination path 'triviaqa' already exists and is not an empty directory.\n"
          ]
        }
      ],
      "source": [
        "!git clone https://github.com/mandarjoshi90/triviaqa"
      ]
    },
    {
      "cell_type": "code",
      "execution_count": null,
      "metadata": {
        "execution": {
          "iopub.execute_input": "2022-03-12T01:36:59.943996Z",
          "iopub.status.busy": "2022-03-12T01:36:59.943768Z",
          "iopub.status.idle": "2022-03-12T01:37:00.830628Z",
          "shell.execute_reply": "2022-03-12T01:37:00.829614Z",
          "shell.execute_reply.started": "2022-03-12T01:36:59.943969Z"
        },
        "id": "q-31OrTzNy82",
        "outputId": "3298a590-7762-45df-9c38-fe0f0ab2b52d",
        "trusted": true
      },
      "outputs": [
        {
          "name": "stdout",
          "output_type": "stream",
          "text": [
            "huggingface/tokenizers: The current process just got forked, after parallelism has already been used. Disabling parallelism to avoid deadlocks...\n",
            "To disable this warning, you can either:\n",
            "\t- Avoid using `tokenizers` before the fork if possible\n",
            "\t- Explicitly set the environment variable TOKENIZERS_PARALLELISM=(true | false)\n",
            "mv: cannot stat 'qa-dataset-converter/triviaqa/triviaqa_to_squad.py': No such file or directory\n"
          ]
        }
      ],
      "source": [
        "!mv qa-dataset-converter/triviaqa/triviaqa_to_squad.py  triviaqa/"
      ]
    },
    {
      "cell_type": "code",
      "execution_count": null,
      "metadata": {
        "execution": {
          "iopub.execute_input": "2022-03-12T01:37:02.957093Z",
          "iopub.status.busy": "2022-03-12T01:37:02.956512Z",
          "iopub.status.idle": "2022-03-12T01:37:02.964990Z",
          "shell.execute_reply": "2022-03-12T01:37:02.964125Z",
          "shell.execute_reply.started": "2022-03-12T01:37:02.957053Z"
        },
        "id": "b90DZuiZNy82",
        "outputId": "28666a62-347c-4ab0-b375-ede7a4a2745a",
        "trusted": true
      },
      "outputs": [
        {
          "name": "stdout",
          "output_type": "stream",
          "text": [
            "[nltk_data] Downloading package punkt to /usr/share/nltk_data...\n",
            "[nltk_data]   Package punkt is already up-to-date!\n"
          ]
        },
        {
          "data": {
            "text/plain": [
              "True"
            ]
          },
          "execution_count": 64,
          "metadata": {},
          "output_type": "execute_result"
        }
      ],
      "source": [
        "import nltk\n",
        "nltk.download('punkt')"
      ]
    },
    {
      "cell_type": "code",
      "execution_count": null,
      "metadata": {
        "execution": {
          "iopub.execute_input": "2022-03-12T01:39:40.663689Z",
          "iopub.status.busy": "2022-03-12T01:39:40.663295Z",
          "iopub.status.idle": "2022-03-12T01:42:13.789554Z",
          "shell.execute_reply": "2022-03-12T01:42:13.788621Z",
          "shell.execute_reply.started": "2022-03-12T01:39:40.663648Z"
        },
        "id": "ASeWOf1GNy82",
        "outputId": "e3ba7a51-f0c6-4923-e13e-eaf04566350f",
        "trusted": true
      },
      "outputs": [
        {
          "name": "stdout",
          "output_type": "stream",
          "text": [
            "huggingface/tokenizers: The current process just got forked, after parallelism has already been used. Disabling parallelism to avoid deadlocks...\n",
            "To disable this warning, you can either:\n",
            "\t- Avoid using `tokenizers` before the fork if possible\n",
            "\t- Explicitly set the environment variable TOKENIZERS_PARALLELISM=(true | false)\n"
          ]
        }
      ],
      "source": [
        "!python triviaqa/triviaqa_to_squad.py --triviaqa_file qa/wikipedia-dev.json --data_dir evidence/wikipedia/ --output_file triviaqa_dev.json"
      ]
    },
    {
      "cell_type": "code",
      "execution_count": null,
      "metadata": {
        "execution": {
          "iopub.status.busy": "2022-03-12T01:03:15.632722Z",
          "iopub.status.idle": "2022-03-12T01:03:15.633338Z",
          "shell.execute_reply": "2022-03-12T01:03:15.633113Z",
          "shell.execute_reply.started": "2022-03-12T01:03:15.633089Z"
        },
        "id": "3uQh2M0NNy83",
        "trusted": true
      },
      "outputs": [],
      "source": [
        "!python triviaqa/triviaqa_to_squad.py --triviaqa_file qa/wikipedia-train.json --data_dir evidence/wikipedia/ --output_file triviaqa_train.json"
      ]
    },
    {
      "cell_type": "code",
      "execution_count": null,
      "metadata": {
        "execution": {
          "iopub.execute_input": "2022-03-12T01:42:57.721058Z",
          "iopub.status.busy": "2022-03-12T01:42:57.720798Z",
          "iopub.status.idle": "2022-03-12T01:42:58.754905Z",
          "shell.execute_reply": "2022-03-12T01:42:58.754140Z",
          "shell.execute_reply.started": "2022-03-12T01:42:57.721028Z"
        },
        "id": "bzv-PUVhNy83",
        "trusted": true
      },
      "outputs": [],
      "source": [
        "jsontriviaqa = \"triviaqa_dev.json\"\n",
        "\n",
        "with open(jsontriviaqa, 'r') as j:\n",
        "     triviaqaContents = json.loads(j.read())"
      ]
    },
    {
      "cell_type": "code",
      "execution_count": null,
      "metadata": {
        "execution": {
          "iopub.execute_input": "2022-03-12T01:43:21.525169Z",
          "iopub.status.busy": "2022-03-12T01:43:21.524767Z",
          "iopub.status.idle": "2022-03-12T01:49:21.799734Z",
          "shell.execute_reply": "2022-03-12T01:49:21.798947Z",
          "shell.execute_reply.started": "2022-03-12T01:43:21.525108Z"
        },
        "id": "R5-F_3V7Ny83",
        "trusted": true
      },
      "outputs": [],
      "source": [
        "predAnswersTrivia=prediction(triviaqaContents,model)"
      ]
    },
    {
      "cell_type": "code",
      "execution_count": null,
      "metadata": {
        "execution": {
          "iopub.execute_input": "2022-03-12T01:49:22.083221Z",
          "iopub.status.busy": "2022-03-12T01:49:22.082930Z",
          "iopub.status.idle": "2022-03-12T01:49:22.113301Z",
          "shell.execute_reply": "2022-03-12T01:49:22.112552Z",
          "shell.execute_reply.started": "2022-03-12T01:49:22.083168Z"
        },
        "id": "6SAnO1N-Ny83",
        "trusted": true
      },
      "outputs": [],
      "source": [
        "with open('resultsTriviaPredictedAnswers.txt', 'w') as convert_file:\n",
        "     convert_file.write(json.dumps(predAnswersTrivia))"
      ]
    },
    {
      "cell_type": "code",
      "execution_count": null,
      "metadata": {
        "execution": {
          "iopub.execute_input": "2022-03-12T01:49:37.787306Z",
          "iopub.status.busy": "2022-03-12T01:49:37.786358Z",
          "iopub.status.idle": "2022-03-12T01:49:41.576443Z",
          "shell.execute_reply": "2022-03-12T01:49:41.575506Z",
          "shell.execute_reply.started": "2022-03-12T01:49:37.787266Z"
        },
        "id": "NDE3i4uZNy83",
        "outputId": "67151649-5b5f-4a35-86ba-5f14fbe8d65b",
        "trusted": true
      },
      "outputs": [
        {
          "name": "stdout",
          "output_type": "stream",
          "text": [
            "huggingface/tokenizers: The current process just got forked, after parallelism has already been used. Disabling parallelism to avoid deadlocks...\n",
            "To disable this warning, you can either:\n",
            "\t- Avoid using `tokenizers` before the fork if possible\n",
            "\t- Explicitly set the environment variable TOKENIZERS_PARALLELISM=(true | false)\n",
            "{\n",
            "  \"exact\": 9.607140347178298,\n",
            "  \"f1\": 11.729864078591488,\n",
            "  \"total\": 14229,\n",
            "  \"HasAns_exact\": 0.1828896565738671,\n",
            "  \"HasAns_f1\": 3.251802070136029,\n",
            "  \"HasAns_total\": 9842,\n",
            "  \"NoAns_exact\": 30.749943013448824,\n",
            "  \"NoAns_f1\": 30.749943013448824,\n",
            "  \"NoAns_total\": 4387\n",
            "}\n"
          ]
        }
      ],
      "source": [
        "!python evaluate-v2.0.py triviaqa_dev.json resultsTriviaPredictedAnswers.txt"
      ]
    },
    {
      "cell_type": "markdown",
      "metadata": {
        "id": "P4vwHpbPNy83"
      },
      "source": [
        "## SQUAD 2.0"
      ]
    },
    {
      "cell_type": "code",
      "execution_count": null,
      "metadata": {
        "colab": {
          "base_uri": "https://localhost:8080/"
        },
        "execution": {
          "iopub.execute_input": "2022-03-12T01:58:52.359015Z",
          "iopub.status.busy": "2022-03-12T01:58:52.358717Z",
          "iopub.status.idle": "2022-03-12T01:58:53.343521Z",
          "shell.execute_reply": "2022-03-12T01:58:53.342644Z",
          "shell.execute_reply.started": "2022-03-12T01:58:52.358984Z"
        },
        "id": "qS4vxbbfNy84",
        "outputId": "754893f6-16e4-4f6f-eb00-067e6b7a4467",
        "trusted": true
      },
      "outputs": [
        {
          "name": "stdout",
          "output_type": "stream",
          "text": [
            "--2022-03-12 13:10:26--  https://rajpurkar.github.io/SQuAD-explorer/dataset/dev-v2.0.json\n",
            "Resolving rajpurkar.github.io (rajpurkar.github.io)... 185.199.108.153, 185.199.109.153, 185.199.110.153, ...\n",
            "Connecting to rajpurkar.github.io (rajpurkar.github.io)|185.199.108.153|:443... connected.\n",
            "HTTP request sent, awaiting response... 200 OK\n",
            "Length: 4370528 (4.2M) [application/json]\n",
            "Saving to: ‘dev-v2.0.json’\n",
            "\n",
            "dev-v2.0.json       100%[===================>]   4.17M  --.-KB/s    in 0.08s   \n",
            "\n",
            "2022-03-12 13:10:26 (53.5 MB/s) - ‘dev-v2.0.json’ saved [4370528/4370528]\n",
            "\n"
          ]
        }
      ],
      "source": [
        "!wget https://rajpurkar.github.io/SQuAD-explorer/dataset/dev-v2.0.json"
      ]
    },
    {
      "cell_type": "code",
      "execution_count": null,
      "metadata": {
        "execution": {
          "iopub.execute_input": "2022-03-12T01:58:56.053710Z",
          "iopub.status.busy": "2022-03-12T01:58:56.053434Z",
          "iopub.status.idle": "2022-03-12T01:58:57.191195Z",
          "shell.execute_reply": "2022-03-12T01:58:57.190418Z",
          "shell.execute_reply.started": "2022-03-12T01:58:56.053681Z"
        },
        "id": "hN0mVE9GNy84",
        "trusted": true
      },
      "outputs": [],
      "source": [
        "jsonValSquad = \"dev-v2.0.json\"\n",
        "\n",
        "with open(jsonValSquad, 'r') as j:\n",
        "     squadValContents = json.loads(j.read())"
      ]
    },
    {
      "cell_type": "code",
      "execution_count": null,
      "metadata": {
        "execution": {
          "iopub.execute_input": "2022-03-12T01:58:59.024208Z",
          "iopub.status.busy": "2022-03-12T01:58:59.023732Z",
          "iopub.status.idle": "2022-03-12T02:01:23.598850Z",
          "shell.execute_reply": "2022-03-12T02:01:23.598057Z",
          "shell.execute_reply.started": "2022-03-12T01:58:59.024154Z"
        },
        "id": "9EP480QjNy84",
        "trusted": true
      },
      "outputs": [],
      "source": [
        "predAnswersSquad=prediction(squadValContents,model)"
      ]
    },
    {
      "cell_type": "code",
      "execution_count": null,
      "metadata": {
        "execution": {
          "iopub.execute_input": "2022-03-12T02:01:23.641103Z",
          "iopub.status.busy": "2022-03-12T02:01:23.640707Z",
          "iopub.status.idle": "2022-03-12T02:01:23.671339Z",
          "shell.execute_reply": "2022-03-12T02:01:23.670623Z",
          "shell.execute_reply.started": "2022-03-12T02:01:23.641066Z"
        },
        "id": "HZbpCna_Ny84",
        "trusted": true
      },
      "outputs": [],
      "source": [
        "with open('resultsSquadPredictedAnswers.txt', 'w') as convert_file:\n",
        "     convert_file.write(json.dumps(predAnswersSquad))"
      ]
    },
    {
      "cell_type": "code",
      "execution_count": null,
      "metadata": {
        "execution": {
          "iopub.execute_input": "2022-03-12T02:01:23.677493Z",
          "iopub.status.busy": "2022-03-12T02:01:23.675478Z",
          "iopub.status.idle": "2022-03-12T02:01:27.531386Z",
          "shell.execute_reply": "2022-03-12T02:01:27.530445Z",
          "shell.execute_reply.started": "2022-03-12T02:01:23.677454Z"
        },
        "id": "a379-RbBNy84",
        "outputId": "ffca86a3-da79-44d6-f2cb-153e2c38b537",
        "trusted": true
      },
      "outputs": [
        {
          "name": "stdout",
          "output_type": "stream",
          "text": [
            "huggingface/tokenizers: The current process just got forked, after parallelism has already been used. Disabling parallelism to avoid deadlocks...\n",
            "To disable this warning, you can either:\n",
            "\t- Avoid using `tokenizers` before the fork if possible\n",
            "\t- Explicitly set the environment variable TOKENIZERS_PARALLELISM=(true | false)\n",
            "{\n",
            "  \"exact\": 12.423144950728544,\n",
            "  \"f1\": 18.021395721443653,\n",
            "  \"total\": 11873,\n",
            "  \"HasAns_exact\": 0.5904183535762483,\n",
            "  \"HasAns_f1\": 11.802974257878171,\n",
            "  \"HasAns_total\": 5928,\n",
            "  \"NoAns_exact\": 24.222035323801514,\n",
            "  \"NoAns_f1\": 24.222035323801514,\n",
            "  \"NoAns_total\": 5945\n",
            "}\n"
          ]
        }
      ],
      "source": [
        "!python evaluate-v2.0.py dev-v2.0.json resultsSquadPredictedAnswers.txt"
      ]
    },
    {
      "cell_type": "markdown",
      "metadata": {
        "id": "Bhj0Pz3kYeKc"
      },
      "source": [
        "## NQ"
      ]
    },
    {
      "cell_type": "code",
      "execution_count": null,
      "metadata": {
        "id": "HUSoD6LgZBiO"
      },
      "outputs": [],
      "source": [
        "!python /content/qa-dataset-converter/nq/nq_to_squad.py --nq_dir \"/content/drive/MyDrive/v1.0/dev\" --output_file nq_dev.json"
      ]
    },
    {
      "cell_type": "code",
      "execution_count": null,
      "metadata": {
        "id": "WLBIW1w2ZCgv"
      },
      "outputs": [],
      "source": [
        "jsonValnatural = \"/content/nq_dev.json\"\n",
        "\n",
        "with open(jsonValnatural, 'r') as j:\n",
        "     naturalValContents = json.loads(j.read())"
      ]
    },
    {
      "cell_type": "code",
      "execution_count": null,
      "metadata": {
        "id": "cCEDFfiEZEwn"
      },
      "outputs": [],
      "source": [
        "predAnswersNatural=prediction(naturalValContents,model)"
      ]
    },
    {
      "cell_type": "code",
      "execution_count": null,
      "metadata": {
        "id": "I4IXOfayZGHV"
      },
      "outputs": [],
      "source": [
        "with open('resultsNaturalPredictedAnswers.txt', 'w') as convert_file:\n",
        "     convert_file.write(json.dumps(predAnswersNatural))"
      ]
    },
    {
      "cell_type": "code",
      "execution_count": null,
      "metadata": {
        "colab": {
          "base_uri": "https://localhost:8080/"
        },
        "id": "1C-yUG6dZJwD",
        "outputId": "de40ebc2-bb49-4bb6-ad0a-a80024189f61"
      },
      "outputs": [
        {
          "name": "stdout",
          "output_type": "stream",
          "text": [
            "{\n",
            "  \"exact\": 7.479964381121994,\n",
            "  \"f1\": 18.648931927027057,\n",
            "  \"total\": 3369,\n",
            "  \"HasAns_exact\": 0.8488964346349746,\n",
            "  \"HasAns_f1\": 16.820140773410085,\n",
            "  \"HasAns_total\": 2356,\n",
            "  \"NoAns_exact\": 22.902270483711746,\n",
            "  \"NoAns_f1\": 22.902270483711746,\n",
            "  \"NoAns_total\": 1013\n",
            "}\n"
          ]
        }
      ],
      "source": [
        "!python evaluate-v2.0.py nq_dev.json resultsNaturalPredictedAnswers.txt"
      ]
    },
    {
      "cell_type": "markdown",
      "source": [
        "## NewsQA"
      ],
      "metadata": {
        "id": "qxfrQwjaQYoH"
      }
    },
    {
      "cell_type": "code",
      "source": [
        "!python /content/qa-dataset-converter/newsqa/newsqa_to_squad.py --newsqa_file /content/drive/MyDrive/datasets/newsqa_dev.json --output_file newsqa_dev.json"
      ],
      "metadata": {
        "id": "LrcjIl-1Qob1"
      },
      "execution_count": null,
      "outputs": []
    },
    {
      "cell_type": "code",
      "source": [
        "jsonValnatural = \"/content/newsqa_dev.json\"\n",
        "\n",
        "with open(jsonValnatural, 'r') as j:\n",
        "     newsQAValContents = json.loads(j.read())"
      ],
      "metadata": {
        "id": "25lGXBshQy-I"
      },
      "execution_count": 14,
      "outputs": []
    },
    {
      "cell_type": "code",
      "source": [
        "predAnswersnewsQA=prediction(newsQAValContents,model)"
      ],
      "metadata": {
        "id": "UzQQRPYFQ_9N"
      },
      "execution_count": 15,
      "outputs": []
    },
    {
      "cell_type": "code",
      "source": [
        "with open('resultsnewsQAPredictedAnswers.txt', 'w') as convert_file:\n",
        "     convert_file.write(json.dumps(predAnswersnewsQA))"
      ],
      "metadata": {
        "id": "plkSTPwwhbf9"
      },
      "execution_count": 16,
      "outputs": []
    },
    {
      "cell_type": "code",
      "source": [
        "!python evaluate-v2.0.py newsqa_dev.json resultsnewsQAPredictedAnswers.txt"
      ],
      "metadata": {
        "colab": {
          "base_uri": "https://localhost:8080/"
        },
        "id": "oXHWaXmShcL5",
        "outputId": "416fc113-8c10-448c-9451-db8c141828b5"
      },
      "execution_count": 17,
      "outputs": [
        {
          "output_type": "stream",
          "name": "stdout",
          "text": [
            "{\n",
            "  \"exact\": 0.34843205574912894,\n",
            "  \"f1\": 7.652256592255389,\n",
            "  \"total\": 5166,\n",
            "  \"HasAns_exact\": 0.34843205574912894,\n",
            "  \"HasAns_f1\": 7.652256592255389,\n",
            "  \"HasAns_total\": 5166\n",
            "}\n"
          ]
        }
      ]
    }
  ],
  "metadata": {
    "accelerator": "GPU",
    "colab": {
      "collapsed_sections": [],
      "name": "hw4_quac_part3.ipynb",
      "provenance": []
    },
    "kernelspec": {
      "display_name": "Python 3",
      "language": "python",
      "name": "python3"
    },
    "language_info": {
      "codemirror_mode": {
        "name": "ipython",
        "version": 3
      },
      "file_extension": ".py",
      "mimetype": "text/x-python",
      "name": "python",
      "nbconvert_exporter": "python",
      "pygments_lexer": "ipython3",
      "version": "3.7.12"
    },
    "widgets": {
      "application/vnd.jupyter.widget-state+json": {
        "c7ee080a04014a85a922d5b230afcf0e": {
          "model_module": "@jupyter-widgets/controls",
          "model_name": "HBoxModel",
          "model_module_version": "1.5.0",
          "state": {
            "_dom_classes": [],
            "_model_module": "@jupyter-widgets/controls",
            "_model_module_version": "1.5.0",
            "_model_name": "HBoxModel",
            "_view_count": null,
            "_view_module": "@jupyter-widgets/controls",
            "_view_module_version": "1.5.0",
            "_view_name": "HBoxView",
            "box_style": "",
            "children": [
              "IPY_MODEL_7d7e4fc3e62c42848c2bd1cd1bc34825",
              "IPY_MODEL_28a12b7acb59493d8cbacc176c44b62e",
              "IPY_MODEL_edd775b57c294cad85d05f8f28fb7a38"
            ],
            "layout": "IPY_MODEL_3c355a42a0fa4b6cad3343321697ebf8"
          }
        },
        "7d7e4fc3e62c42848c2bd1cd1bc34825": {
          "model_module": "@jupyter-widgets/controls",
          "model_name": "HTMLModel",
          "model_module_version": "1.5.0",
          "state": {
            "_dom_classes": [],
            "_model_module": "@jupyter-widgets/controls",
            "_model_module_version": "1.5.0",
            "_model_name": "HTMLModel",
            "_view_count": null,
            "_view_module": "@jupyter-widgets/controls",
            "_view_module_version": "1.5.0",
            "_view_name": "HTMLView",
            "description": "",
            "description_tooltip": null,
            "layout": "IPY_MODEL_38c11741a0d54bcf8e41530e3e9e2b30",
            "placeholder": "​",
            "style": "IPY_MODEL_cbb130fdd468463e818f03da7e5bab18",
            "value": "Downloading: 100%"
          }
        },
        "28a12b7acb59493d8cbacc176c44b62e": {
          "model_module": "@jupyter-widgets/controls",
          "model_name": "FloatProgressModel",
          "model_module_version": "1.5.0",
          "state": {
            "_dom_classes": [],
            "_model_module": "@jupyter-widgets/controls",
            "_model_module_version": "1.5.0",
            "_model_name": "FloatProgressModel",
            "_view_count": null,
            "_view_module": "@jupyter-widgets/controls",
            "_view_module_version": "1.5.0",
            "_view_name": "ProgressView",
            "bar_style": "success",
            "description": "",
            "description_tooltip": null,
            "layout": "IPY_MODEL_d6289c66ee434456b165c7e6fa4ab58e",
            "max": 28,
            "min": 0,
            "orientation": "horizontal",
            "style": "IPY_MODEL_51a6b213439e4eb7ad9d6ac9d63d5048",
            "value": 28
          }
        },
        "edd775b57c294cad85d05f8f28fb7a38": {
          "model_module": "@jupyter-widgets/controls",
          "model_name": "HTMLModel",
          "model_module_version": "1.5.0",
          "state": {
            "_dom_classes": [],
            "_model_module": "@jupyter-widgets/controls",
            "_model_module_version": "1.5.0",
            "_model_name": "HTMLModel",
            "_view_count": null,
            "_view_module": "@jupyter-widgets/controls",
            "_view_module_version": "1.5.0",
            "_view_name": "HTMLView",
            "description": "",
            "description_tooltip": null,
            "layout": "IPY_MODEL_d2b9b5075fee4f178b8fa50596c995d0",
            "placeholder": "​",
            "style": "IPY_MODEL_fc8db9462c134b2996b53d20b45972f3",
            "value": " 28.0/28.0 [00:00&lt;00:00, 204B/s]"
          }
        },
        "3c355a42a0fa4b6cad3343321697ebf8": {
          "model_module": "@jupyter-widgets/base",
          "model_name": "LayoutModel",
          "model_module_version": "1.2.0",
          "state": {
            "_model_module": "@jupyter-widgets/base",
            "_model_module_version": "1.2.0",
            "_model_name": "LayoutModel",
            "_view_count": null,
            "_view_module": "@jupyter-widgets/base",
            "_view_module_version": "1.2.0",
            "_view_name": "LayoutView",
            "align_content": null,
            "align_items": null,
            "align_self": null,
            "border": null,
            "bottom": null,
            "display": null,
            "flex": null,
            "flex_flow": null,
            "grid_area": null,
            "grid_auto_columns": null,
            "grid_auto_flow": null,
            "grid_auto_rows": null,
            "grid_column": null,
            "grid_gap": null,
            "grid_row": null,
            "grid_template_areas": null,
            "grid_template_columns": null,
            "grid_template_rows": null,
            "height": null,
            "justify_content": null,
            "justify_items": null,
            "left": null,
            "margin": null,
            "max_height": null,
            "max_width": null,
            "min_height": null,
            "min_width": null,
            "object_fit": null,
            "object_position": null,
            "order": null,
            "overflow": null,
            "overflow_x": null,
            "overflow_y": null,
            "padding": null,
            "right": null,
            "top": null,
            "visibility": null,
            "width": null
          }
        },
        "38c11741a0d54bcf8e41530e3e9e2b30": {
          "model_module": "@jupyter-widgets/base",
          "model_name": "LayoutModel",
          "model_module_version": "1.2.0",
          "state": {
            "_model_module": "@jupyter-widgets/base",
            "_model_module_version": "1.2.0",
            "_model_name": "LayoutModel",
            "_view_count": null,
            "_view_module": "@jupyter-widgets/base",
            "_view_module_version": "1.2.0",
            "_view_name": "LayoutView",
            "align_content": null,
            "align_items": null,
            "align_self": null,
            "border": null,
            "bottom": null,
            "display": null,
            "flex": null,
            "flex_flow": null,
            "grid_area": null,
            "grid_auto_columns": null,
            "grid_auto_flow": null,
            "grid_auto_rows": null,
            "grid_column": null,
            "grid_gap": null,
            "grid_row": null,
            "grid_template_areas": null,
            "grid_template_columns": null,
            "grid_template_rows": null,
            "height": null,
            "justify_content": null,
            "justify_items": null,
            "left": null,
            "margin": null,
            "max_height": null,
            "max_width": null,
            "min_height": null,
            "min_width": null,
            "object_fit": null,
            "object_position": null,
            "order": null,
            "overflow": null,
            "overflow_x": null,
            "overflow_y": null,
            "padding": null,
            "right": null,
            "top": null,
            "visibility": null,
            "width": null
          }
        },
        "cbb130fdd468463e818f03da7e5bab18": {
          "model_module": "@jupyter-widgets/controls",
          "model_name": "DescriptionStyleModel",
          "model_module_version": "1.5.0",
          "state": {
            "_model_module": "@jupyter-widgets/controls",
            "_model_module_version": "1.5.0",
            "_model_name": "DescriptionStyleModel",
            "_view_count": null,
            "_view_module": "@jupyter-widgets/base",
            "_view_module_version": "1.2.0",
            "_view_name": "StyleView",
            "description_width": ""
          }
        },
        "d6289c66ee434456b165c7e6fa4ab58e": {
          "model_module": "@jupyter-widgets/base",
          "model_name": "LayoutModel",
          "model_module_version": "1.2.0",
          "state": {
            "_model_module": "@jupyter-widgets/base",
            "_model_module_version": "1.2.0",
            "_model_name": "LayoutModel",
            "_view_count": null,
            "_view_module": "@jupyter-widgets/base",
            "_view_module_version": "1.2.0",
            "_view_name": "LayoutView",
            "align_content": null,
            "align_items": null,
            "align_self": null,
            "border": null,
            "bottom": null,
            "display": null,
            "flex": null,
            "flex_flow": null,
            "grid_area": null,
            "grid_auto_columns": null,
            "grid_auto_flow": null,
            "grid_auto_rows": null,
            "grid_column": null,
            "grid_gap": null,
            "grid_row": null,
            "grid_template_areas": null,
            "grid_template_columns": null,
            "grid_template_rows": null,
            "height": null,
            "justify_content": null,
            "justify_items": null,
            "left": null,
            "margin": null,
            "max_height": null,
            "max_width": null,
            "min_height": null,
            "min_width": null,
            "object_fit": null,
            "object_position": null,
            "order": null,
            "overflow": null,
            "overflow_x": null,
            "overflow_y": null,
            "padding": null,
            "right": null,
            "top": null,
            "visibility": null,
            "width": null
          }
        },
        "51a6b213439e4eb7ad9d6ac9d63d5048": {
          "model_module": "@jupyter-widgets/controls",
          "model_name": "ProgressStyleModel",
          "model_module_version": "1.5.0",
          "state": {
            "_model_module": "@jupyter-widgets/controls",
            "_model_module_version": "1.5.0",
            "_model_name": "ProgressStyleModel",
            "_view_count": null,
            "_view_module": "@jupyter-widgets/base",
            "_view_module_version": "1.2.0",
            "_view_name": "StyleView",
            "bar_color": null,
            "description_width": ""
          }
        },
        "d2b9b5075fee4f178b8fa50596c995d0": {
          "model_module": "@jupyter-widgets/base",
          "model_name": "LayoutModel",
          "model_module_version": "1.2.0",
          "state": {
            "_model_module": "@jupyter-widgets/base",
            "_model_module_version": "1.2.0",
            "_model_name": "LayoutModel",
            "_view_count": null,
            "_view_module": "@jupyter-widgets/base",
            "_view_module_version": "1.2.0",
            "_view_name": "LayoutView",
            "align_content": null,
            "align_items": null,
            "align_self": null,
            "border": null,
            "bottom": null,
            "display": null,
            "flex": null,
            "flex_flow": null,
            "grid_area": null,
            "grid_auto_columns": null,
            "grid_auto_flow": null,
            "grid_auto_rows": null,
            "grid_column": null,
            "grid_gap": null,
            "grid_row": null,
            "grid_template_areas": null,
            "grid_template_columns": null,
            "grid_template_rows": null,
            "height": null,
            "justify_content": null,
            "justify_items": null,
            "left": null,
            "margin": null,
            "max_height": null,
            "max_width": null,
            "min_height": null,
            "min_width": null,
            "object_fit": null,
            "object_position": null,
            "order": null,
            "overflow": null,
            "overflow_x": null,
            "overflow_y": null,
            "padding": null,
            "right": null,
            "top": null,
            "visibility": null,
            "width": null
          }
        },
        "fc8db9462c134b2996b53d20b45972f3": {
          "model_module": "@jupyter-widgets/controls",
          "model_name": "DescriptionStyleModel",
          "model_module_version": "1.5.0",
          "state": {
            "_model_module": "@jupyter-widgets/controls",
            "_model_module_version": "1.5.0",
            "_model_name": "DescriptionStyleModel",
            "_view_count": null,
            "_view_module": "@jupyter-widgets/base",
            "_view_module_version": "1.2.0",
            "_view_name": "StyleView",
            "description_width": ""
          }
        },
        "cc15380285b04a71b328656729da5901": {
          "model_module": "@jupyter-widgets/controls",
          "model_name": "HBoxModel",
          "model_module_version": "1.5.0",
          "state": {
            "_dom_classes": [],
            "_model_module": "@jupyter-widgets/controls",
            "_model_module_version": "1.5.0",
            "_model_name": "HBoxModel",
            "_view_count": null,
            "_view_module": "@jupyter-widgets/controls",
            "_view_module_version": "1.5.0",
            "_view_name": "HBoxView",
            "box_style": "",
            "children": [
              "IPY_MODEL_9404eb5e9c4048c3847f3ccb957524b7",
              "IPY_MODEL_fba15237b3ff4a37a3c41abc5c4f08a0",
              "IPY_MODEL_8f5b920018d644f1941ab2d6c6e9aaca"
            ],
            "layout": "IPY_MODEL_8ba45e6767404b9aa7cec52969f95ab4"
          }
        },
        "9404eb5e9c4048c3847f3ccb957524b7": {
          "model_module": "@jupyter-widgets/controls",
          "model_name": "HTMLModel",
          "model_module_version": "1.5.0",
          "state": {
            "_dom_classes": [],
            "_model_module": "@jupyter-widgets/controls",
            "_model_module_version": "1.5.0",
            "_model_name": "HTMLModel",
            "_view_count": null,
            "_view_module": "@jupyter-widgets/controls",
            "_view_module_version": "1.5.0",
            "_view_name": "HTMLView",
            "description": "",
            "description_tooltip": null,
            "layout": "IPY_MODEL_560f1c15d5bc425eafad4b291087d547",
            "placeholder": "​",
            "style": "IPY_MODEL_aa4a0fb74ba241e8bb7e8dcb9104c7b9",
            "value": "Downloading: 100%"
          }
        },
        "fba15237b3ff4a37a3c41abc5c4f08a0": {
          "model_module": "@jupyter-widgets/controls",
          "model_name": "FloatProgressModel",
          "model_module_version": "1.5.0",
          "state": {
            "_dom_classes": [],
            "_model_module": "@jupyter-widgets/controls",
            "_model_module_version": "1.5.0",
            "_model_name": "FloatProgressModel",
            "_view_count": null,
            "_view_module": "@jupyter-widgets/controls",
            "_view_module_version": "1.5.0",
            "_view_name": "ProgressView",
            "bar_style": "success",
            "description": "",
            "description_tooltip": null,
            "layout": "IPY_MODEL_ef5eb38d465d457780330dc59262253e",
            "max": 231508,
            "min": 0,
            "orientation": "horizontal",
            "style": "IPY_MODEL_0e1b0dd71d534929b492aabb63c7a335",
            "value": 231508
          }
        },
        "8f5b920018d644f1941ab2d6c6e9aaca": {
          "model_module": "@jupyter-widgets/controls",
          "model_name": "HTMLModel",
          "model_module_version": "1.5.0",
          "state": {
            "_dom_classes": [],
            "_model_module": "@jupyter-widgets/controls",
            "_model_module_version": "1.5.0",
            "_model_name": "HTMLModel",
            "_view_count": null,
            "_view_module": "@jupyter-widgets/controls",
            "_view_module_version": "1.5.0",
            "_view_name": "HTMLView",
            "description": "",
            "description_tooltip": null,
            "layout": "IPY_MODEL_67909fa230d74f6291eee0896ee1610e",
            "placeholder": "​",
            "style": "IPY_MODEL_893efe1cc2c6491dbd96838d3db13012",
            "value": " 226k/226k [00:00&lt;00:00, 497kB/s]"
          }
        },
        "8ba45e6767404b9aa7cec52969f95ab4": {
          "model_module": "@jupyter-widgets/base",
          "model_name": "LayoutModel",
          "model_module_version": "1.2.0",
          "state": {
            "_model_module": "@jupyter-widgets/base",
            "_model_module_version": "1.2.0",
            "_model_name": "LayoutModel",
            "_view_count": null,
            "_view_module": "@jupyter-widgets/base",
            "_view_module_version": "1.2.0",
            "_view_name": "LayoutView",
            "align_content": null,
            "align_items": null,
            "align_self": null,
            "border": null,
            "bottom": null,
            "display": null,
            "flex": null,
            "flex_flow": null,
            "grid_area": null,
            "grid_auto_columns": null,
            "grid_auto_flow": null,
            "grid_auto_rows": null,
            "grid_column": null,
            "grid_gap": null,
            "grid_row": null,
            "grid_template_areas": null,
            "grid_template_columns": null,
            "grid_template_rows": null,
            "height": null,
            "justify_content": null,
            "justify_items": null,
            "left": null,
            "margin": null,
            "max_height": null,
            "max_width": null,
            "min_height": null,
            "min_width": null,
            "object_fit": null,
            "object_position": null,
            "order": null,
            "overflow": null,
            "overflow_x": null,
            "overflow_y": null,
            "padding": null,
            "right": null,
            "top": null,
            "visibility": null,
            "width": null
          }
        },
        "560f1c15d5bc425eafad4b291087d547": {
          "model_module": "@jupyter-widgets/base",
          "model_name": "LayoutModel",
          "model_module_version": "1.2.0",
          "state": {
            "_model_module": "@jupyter-widgets/base",
            "_model_module_version": "1.2.0",
            "_model_name": "LayoutModel",
            "_view_count": null,
            "_view_module": "@jupyter-widgets/base",
            "_view_module_version": "1.2.0",
            "_view_name": "LayoutView",
            "align_content": null,
            "align_items": null,
            "align_self": null,
            "border": null,
            "bottom": null,
            "display": null,
            "flex": null,
            "flex_flow": null,
            "grid_area": null,
            "grid_auto_columns": null,
            "grid_auto_flow": null,
            "grid_auto_rows": null,
            "grid_column": null,
            "grid_gap": null,
            "grid_row": null,
            "grid_template_areas": null,
            "grid_template_columns": null,
            "grid_template_rows": null,
            "height": null,
            "justify_content": null,
            "justify_items": null,
            "left": null,
            "margin": null,
            "max_height": null,
            "max_width": null,
            "min_height": null,
            "min_width": null,
            "object_fit": null,
            "object_position": null,
            "order": null,
            "overflow": null,
            "overflow_x": null,
            "overflow_y": null,
            "padding": null,
            "right": null,
            "top": null,
            "visibility": null,
            "width": null
          }
        },
        "aa4a0fb74ba241e8bb7e8dcb9104c7b9": {
          "model_module": "@jupyter-widgets/controls",
          "model_name": "DescriptionStyleModel",
          "model_module_version": "1.5.0",
          "state": {
            "_model_module": "@jupyter-widgets/controls",
            "_model_module_version": "1.5.0",
            "_model_name": "DescriptionStyleModel",
            "_view_count": null,
            "_view_module": "@jupyter-widgets/base",
            "_view_module_version": "1.2.0",
            "_view_name": "StyleView",
            "description_width": ""
          }
        },
        "ef5eb38d465d457780330dc59262253e": {
          "model_module": "@jupyter-widgets/base",
          "model_name": "LayoutModel",
          "model_module_version": "1.2.0",
          "state": {
            "_model_module": "@jupyter-widgets/base",
            "_model_module_version": "1.2.0",
            "_model_name": "LayoutModel",
            "_view_count": null,
            "_view_module": "@jupyter-widgets/base",
            "_view_module_version": "1.2.0",
            "_view_name": "LayoutView",
            "align_content": null,
            "align_items": null,
            "align_self": null,
            "border": null,
            "bottom": null,
            "display": null,
            "flex": null,
            "flex_flow": null,
            "grid_area": null,
            "grid_auto_columns": null,
            "grid_auto_flow": null,
            "grid_auto_rows": null,
            "grid_column": null,
            "grid_gap": null,
            "grid_row": null,
            "grid_template_areas": null,
            "grid_template_columns": null,
            "grid_template_rows": null,
            "height": null,
            "justify_content": null,
            "justify_items": null,
            "left": null,
            "margin": null,
            "max_height": null,
            "max_width": null,
            "min_height": null,
            "min_width": null,
            "object_fit": null,
            "object_position": null,
            "order": null,
            "overflow": null,
            "overflow_x": null,
            "overflow_y": null,
            "padding": null,
            "right": null,
            "top": null,
            "visibility": null,
            "width": null
          }
        },
        "0e1b0dd71d534929b492aabb63c7a335": {
          "model_module": "@jupyter-widgets/controls",
          "model_name": "ProgressStyleModel",
          "model_module_version": "1.5.0",
          "state": {
            "_model_module": "@jupyter-widgets/controls",
            "_model_module_version": "1.5.0",
            "_model_name": "ProgressStyleModel",
            "_view_count": null,
            "_view_module": "@jupyter-widgets/base",
            "_view_module_version": "1.2.0",
            "_view_name": "StyleView",
            "bar_color": null,
            "description_width": ""
          }
        },
        "67909fa230d74f6291eee0896ee1610e": {
          "model_module": "@jupyter-widgets/base",
          "model_name": "LayoutModel",
          "model_module_version": "1.2.0",
          "state": {
            "_model_module": "@jupyter-widgets/base",
            "_model_module_version": "1.2.0",
            "_model_name": "LayoutModel",
            "_view_count": null,
            "_view_module": "@jupyter-widgets/base",
            "_view_module_version": "1.2.0",
            "_view_name": "LayoutView",
            "align_content": null,
            "align_items": null,
            "align_self": null,
            "border": null,
            "bottom": null,
            "display": null,
            "flex": null,
            "flex_flow": null,
            "grid_area": null,
            "grid_auto_columns": null,
            "grid_auto_flow": null,
            "grid_auto_rows": null,
            "grid_column": null,
            "grid_gap": null,
            "grid_row": null,
            "grid_template_areas": null,
            "grid_template_columns": null,
            "grid_template_rows": null,
            "height": null,
            "justify_content": null,
            "justify_items": null,
            "left": null,
            "margin": null,
            "max_height": null,
            "max_width": null,
            "min_height": null,
            "min_width": null,
            "object_fit": null,
            "object_position": null,
            "order": null,
            "overflow": null,
            "overflow_x": null,
            "overflow_y": null,
            "padding": null,
            "right": null,
            "top": null,
            "visibility": null,
            "width": null
          }
        },
        "893efe1cc2c6491dbd96838d3db13012": {
          "model_module": "@jupyter-widgets/controls",
          "model_name": "DescriptionStyleModel",
          "model_module_version": "1.5.0",
          "state": {
            "_model_module": "@jupyter-widgets/controls",
            "_model_module_version": "1.5.0",
            "_model_name": "DescriptionStyleModel",
            "_view_count": null,
            "_view_module": "@jupyter-widgets/base",
            "_view_module_version": "1.2.0",
            "_view_name": "StyleView",
            "description_width": ""
          }
        },
        "c981b431252046b59c210a877b2e6c7d": {
          "model_module": "@jupyter-widgets/controls",
          "model_name": "HBoxModel",
          "model_module_version": "1.5.0",
          "state": {
            "_dom_classes": [],
            "_model_module": "@jupyter-widgets/controls",
            "_model_module_version": "1.5.0",
            "_model_name": "HBoxModel",
            "_view_count": null,
            "_view_module": "@jupyter-widgets/controls",
            "_view_module_version": "1.5.0",
            "_view_name": "HBoxView",
            "box_style": "",
            "children": [
              "IPY_MODEL_3d8624fd68e643ffb1dae781589938c9",
              "IPY_MODEL_16bd0d0bbd8c423db199aa82136f4a8d",
              "IPY_MODEL_bfe5c432e2c049dda23eca21be86dad8"
            ],
            "layout": "IPY_MODEL_026c1cb911f343b791015be84e7cc08e"
          }
        },
        "3d8624fd68e643ffb1dae781589938c9": {
          "model_module": "@jupyter-widgets/controls",
          "model_name": "HTMLModel",
          "model_module_version": "1.5.0",
          "state": {
            "_dom_classes": [],
            "_model_module": "@jupyter-widgets/controls",
            "_model_module_version": "1.5.0",
            "_model_name": "HTMLModel",
            "_view_count": null,
            "_view_module": "@jupyter-widgets/controls",
            "_view_module_version": "1.5.0",
            "_view_name": "HTMLView",
            "description": "",
            "description_tooltip": null,
            "layout": "IPY_MODEL_a0a26a8eedbf433e9e3989a5d8ea1828",
            "placeholder": "​",
            "style": "IPY_MODEL_84492570d7f2417ba3062d5f0192d275",
            "value": "Downloading: 100%"
          }
        },
        "16bd0d0bbd8c423db199aa82136f4a8d": {
          "model_module": "@jupyter-widgets/controls",
          "model_name": "FloatProgressModel",
          "model_module_version": "1.5.0",
          "state": {
            "_dom_classes": [],
            "_model_module": "@jupyter-widgets/controls",
            "_model_module_version": "1.5.0",
            "_model_name": "FloatProgressModel",
            "_view_count": null,
            "_view_module": "@jupyter-widgets/controls",
            "_view_module_version": "1.5.0",
            "_view_name": "ProgressView",
            "bar_style": "success",
            "description": "",
            "description_tooltip": null,
            "layout": "IPY_MODEL_b35dc8e7a90f46aaa404e909500aa84c",
            "max": 466062,
            "min": 0,
            "orientation": "horizontal",
            "style": "IPY_MODEL_cad876376c554c6cb50bbb949f8d2977",
            "value": 466062
          }
        },
        "bfe5c432e2c049dda23eca21be86dad8": {
          "model_module": "@jupyter-widgets/controls",
          "model_name": "HTMLModel",
          "model_module_version": "1.5.0",
          "state": {
            "_dom_classes": [],
            "_model_module": "@jupyter-widgets/controls",
            "_model_module_version": "1.5.0",
            "_model_name": "HTMLModel",
            "_view_count": null,
            "_view_module": "@jupyter-widgets/controls",
            "_view_module_version": "1.5.0",
            "_view_name": "HTMLView",
            "description": "",
            "description_tooltip": null,
            "layout": "IPY_MODEL_7661dca495db42199e38d62a13934df0",
            "placeholder": "​",
            "style": "IPY_MODEL_76566f3e67864661bb159a07b31daabe",
            "value": " 455k/455k [00:00&lt;00:00, 586kB/s]"
          }
        },
        "026c1cb911f343b791015be84e7cc08e": {
          "model_module": "@jupyter-widgets/base",
          "model_name": "LayoutModel",
          "model_module_version": "1.2.0",
          "state": {
            "_model_module": "@jupyter-widgets/base",
            "_model_module_version": "1.2.0",
            "_model_name": "LayoutModel",
            "_view_count": null,
            "_view_module": "@jupyter-widgets/base",
            "_view_module_version": "1.2.0",
            "_view_name": "LayoutView",
            "align_content": null,
            "align_items": null,
            "align_self": null,
            "border": null,
            "bottom": null,
            "display": null,
            "flex": null,
            "flex_flow": null,
            "grid_area": null,
            "grid_auto_columns": null,
            "grid_auto_flow": null,
            "grid_auto_rows": null,
            "grid_column": null,
            "grid_gap": null,
            "grid_row": null,
            "grid_template_areas": null,
            "grid_template_columns": null,
            "grid_template_rows": null,
            "height": null,
            "justify_content": null,
            "justify_items": null,
            "left": null,
            "margin": null,
            "max_height": null,
            "max_width": null,
            "min_height": null,
            "min_width": null,
            "object_fit": null,
            "object_position": null,
            "order": null,
            "overflow": null,
            "overflow_x": null,
            "overflow_y": null,
            "padding": null,
            "right": null,
            "top": null,
            "visibility": null,
            "width": null
          }
        },
        "a0a26a8eedbf433e9e3989a5d8ea1828": {
          "model_module": "@jupyter-widgets/base",
          "model_name": "LayoutModel",
          "model_module_version": "1.2.0",
          "state": {
            "_model_module": "@jupyter-widgets/base",
            "_model_module_version": "1.2.0",
            "_model_name": "LayoutModel",
            "_view_count": null,
            "_view_module": "@jupyter-widgets/base",
            "_view_module_version": "1.2.0",
            "_view_name": "LayoutView",
            "align_content": null,
            "align_items": null,
            "align_self": null,
            "border": null,
            "bottom": null,
            "display": null,
            "flex": null,
            "flex_flow": null,
            "grid_area": null,
            "grid_auto_columns": null,
            "grid_auto_flow": null,
            "grid_auto_rows": null,
            "grid_column": null,
            "grid_gap": null,
            "grid_row": null,
            "grid_template_areas": null,
            "grid_template_columns": null,
            "grid_template_rows": null,
            "height": null,
            "justify_content": null,
            "justify_items": null,
            "left": null,
            "margin": null,
            "max_height": null,
            "max_width": null,
            "min_height": null,
            "min_width": null,
            "object_fit": null,
            "object_position": null,
            "order": null,
            "overflow": null,
            "overflow_x": null,
            "overflow_y": null,
            "padding": null,
            "right": null,
            "top": null,
            "visibility": null,
            "width": null
          }
        },
        "84492570d7f2417ba3062d5f0192d275": {
          "model_module": "@jupyter-widgets/controls",
          "model_name": "DescriptionStyleModel",
          "model_module_version": "1.5.0",
          "state": {
            "_model_module": "@jupyter-widgets/controls",
            "_model_module_version": "1.5.0",
            "_model_name": "DescriptionStyleModel",
            "_view_count": null,
            "_view_module": "@jupyter-widgets/base",
            "_view_module_version": "1.2.0",
            "_view_name": "StyleView",
            "description_width": ""
          }
        },
        "b35dc8e7a90f46aaa404e909500aa84c": {
          "model_module": "@jupyter-widgets/base",
          "model_name": "LayoutModel",
          "model_module_version": "1.2.0",
          "state": {
            "_model_module": "@jupyter-widgets/base",
            "_model_module_version": "1.2.0",
            "_model_name": "LayoutModel",
            "_view_count": null,
            "_view_module": "@jupyter-widgets/base",
            "_view_module_version": "1.2.0",
            "_view_name": "LayoutView",
            "align_content": null,
            "align_items": null,
            "align_self": null,
            "border": null,
            "bottom": null,
            "display": null,
            "flex": null,
            "flex_flow": null,
            "grid_area": null,
            "grid_auto_columns": null,
            "grid_auto_flow": null,
            "grid_auto_rows": null,
            "grid_column": null,
            "grid_gap": null,
            "grid_row": null,
            "grid_template_areas": null,
            "grid_template_columns": null,
            "grid_template_rows": null,
            "height": null,
            "justify_content": null,
            "justify_items": null,
            "left": null,
            "margin": null,
            "max_height": null,
            "max_width": null,
            "min_height": null,
            "min_width": null,
            "object_fit": null,
            "object_position": null,
            "order": null,
            "overflow": null,
            "overflow_x": null,
            "overflow_y": null,
            "padding": null,
            "right": null,
            "top": null,
            "visibility": null,
            "width": null
          }
        },
        "cad876376c554c6cb50bbb949f8d2977": {
          "model_module": "@jupyter-widgets/controls",
          "model_name": "ProgressStyleModel",
          "model_module_version": "1.5.0",
          "state": {
            "_model_module": "@jupyter-widgets/controls",
            "_model_module_version": "1.5.0",
            "_model_name": "ProgressStyleModel",
            "_view_count": null,
            "_view_module": "@jupyter-widgets/base",
            "_view_module_version": "1.2.0",
            "_view_name": "StyleView",
            "bar_color": null,
            "description_width": ""
          }
        },
        "7661dca495db42199e38d62a13934df0": {
          "model_module": "@jupyter-widgets/base",
          "model_name": "LayoutModel",
          "model_module_version": "1.2.0",
          "state": {
            "_model_module": "@jupyter-widgets/base",
            "_model_module_version": "1.2.0",
            "_model_name": "LayoutModel",
            "_view_count": null,
            "_view_module": "@jupyter-widgets/base",
            "_view_module_version": "1.2.0",
            "_view_name": "LayoutView",
            "align_content": null,
            "align_items": null,
            "align_self": null,
            "border": null,
            "bottom": null,
            "display": null,
            "flex": null,
            "flex_flow": null,
            "grid_area": null,
            "grid_auto_columns": null,
            "grid_auto_flow": null,
            "grid_auto_rows": null,
            "grid_column": null,
            "grid_gap": null,
            "grid_row": null,
            "grid_template_areas": null,
            "grid_template_columns": null,
            "grid_template_rows": null,
            "height": null,
            "justify_content": null,
            "justify_items": null,
            "left": null,
            "margin": null,
            "max_height": null,
            "max_width": null,
            "min_height": null,
            "min_width": null,
            "object_fit": null,
            "object_position": null,
            "order": null,
            "overflow": null,
            "overflow_x": null,
            "overflow_y": null,
            "padding": null,
            "right": null,
            "top": null,
            "visibility": null,
            "width": null
          }
        },
        "76566f3e67864661bb159a07b31daabe": {
          "model_module": "@jupyter-widgets/controls",
          "model_name": "DescriptionStyleModel",
          "model_module_version": "1.5.0",
          "state": {
            "_model_module": "@jupyter-widgets/controls",
            "_model_module_version": "1.5.0",
            "_model_name": "DescriptionStyleModel",
            "_view_count": null,
            "_view_module": "@jupyter-widgets/base",
            "_view_module_version": "1.2.0",
            "_view_name": "StyleView",
            "description_width": ""
          }
        },
        "60a0a862e6f94e578dd5716099fd0ca7": {
          "model_module": "@jupyter-widgets/controls",
          "model_name": "HBoxModel",
          "model_module_version": "1.5.0",
          "state": {
            "_dom_classes": [],
            "_model_module": "@jupyter-widgets/controls",
            "_model_module_version": "1.5.0",
            "_model_name": "HBoxModel",
            "_view_count": null,
            "_view_module": "@jupyter-widgets/controls",
            "_view_module_version": "1.5.0",
            "_view_name": "HBoxView",
            "box_style": "",
            "children": [
              "IPY_MODEL_5f7598e99b35492b9a14bc3e3b396743",
              "IPY_MODEL_f4a3cf09a0c94961bb7507afccb751ca",
              "IPY_MODEL_e8d7888051a045be8127d654cda439fe"
            ],
            "layout": "IPY_MODEL_640e2abb9ff048bab605afdf175f6993"
          }
        },
        "5f7598e99b35492b9a14bc3e3b396743": {
          "model_module": "@jupyter-widgets/controls",
          "model_name": "HTMLModel",
          "model_module_version": "1.5.0",
          "state": {
            "_dom_classes": [],
            "_model_module": "@jupyter-widgets/controls",
            "_model_module_version": "1.5.0",
            "_model_name": "HTMLModel",
            "_view_count": null,
            "_view_module": "@jupyter-widgets/controls",
            "_view_module_version": "1.5.0",
            "_view_name": "HTMLView",
            "description": "",
            "description_tooltip": null,
            "layout": "IPY_MODEL_1a11dd1dbca5488ab5eacf1ebb6d3463",
            "placeholder": "​",
            "style": "IPY_MODEL_41a75f48b68541a6a87f89582e83c7c6",
            "value": "Downloading: 100%"
          }
        },
        "f4a3cf09a0c94961bb7507afccb751ca": {
          "model_module": "@jupyter-widgets/controls",
          "model_name": "FloatProgressModel",
          "model_module_version": "1.5.0",
          "state": {
            "_dom_classes": [],
            "_model_module": "@jupyter-widgets/controls",
            "_model_module_version": "1.5.0",
            "_model_name": "FloatProgressModel",
            "_view_count": null,
            "_view_module": "@jupyter-widgets/controls",
            "_view_module_version": "1.5.0",
            "_view_name": "ProgressView",
            "bar_style": "success",
            "description": "",
            "description_tooltip": null,
            "layout": "IPY_MODEL_65053da281a848b890e6ac68f5a1565c",
            "max": 483,
            "min": 0,
            "orientation": "horizontal",
            "style": "IPY_MODEL_56df27ff4cd245b0a9a11cc02c5f4925",
            "value": 483
          }
        },
        "e8d7888051a045be8127d654cda439fe": {
          "model_module": "@jupyter-widgets/controls",
          "model_name": "HTMLModel",
          "model_module_version": "1.5.0",
          "state": {
            "_dom_classes": [],
            "_model_module": "@jupyter-widgets/controls",
            "_model_module_version": "1.5.0",
            "_model_name": "HTMLModel",
            "_view_count": null,
            "_view_module": "@jupyter-widgets/controls",
            "_view_module_version": "1.5.0",
            "_view_name": "HTMLView",
            "description": "",
            "description_tooltip": null,
            "layout": "IPY_MODEL_81d0d95eb0c547218b86debc812f8cfa",
            "placeholder": "​",
            "style": "IPY_MODEL_c93ec52cdf474d008ab978e8f55f0ea3",
            "value": " 483/483 [00:00&lt;00:00, 3.43kB/s]"
          }
        },
        "640e2abb9ff048bab605afdf175f6993": {
          "model_module": "@jupyter-widgets/base",
          "model_name": "LayoutModel",
          "model_module_version": "1.2.0",
          "state": {
            "_model_module": "@jupyter-widgets/base",
            "_model_module_version": "1.2.0",
            "_model_name": "LayoutModel",
            "_view_count": null,
            "_view_module": "@jupyter-widgets/base",
            "_view_module_version": "1.2.0",
            "_view_name": "LayoutView",
            "align_content": null,
            "align_items": null,
            "align_self": null,
            "border": null,
            "bottom": null,
            "display": null,
            "flex": null,
            "flex_flow": null,
            "grid_area": null,
            "grid_auto_columns": null,
            "grid_auto_flow": null,
            "grid_auto_rows": null,
            "grid_column": null,
            "grid_gap": null,
            "grid_row": null,
            "grid_template_areas": null,
            "grid_template_columns": null,
            "grid_template_rows": null,
            "height": null,
            "justify_content": null,
            "justify_items": null,
            "left": null,
            "margin": null,
            "max_height": null,
            "max_width": null,
            "min_height": null,
            "min_width": null,
            "object_fit": null,
            "object_position": null,
            "order": null,
            "overflow": null,
            "overflow_x": null,
            "overflow_y": null,
            "padding": null,
            "right": null,
            "top": null,
            "visibility": null,
            "width": null
          }
        },
        "1a11dd1dbca5488ab5eacf1ebb6d3463": {
          "model_module": "@jupyter-widgets/base",
          "model_name": "LayoutModel",
          "model_module_version": "1.2.0",
          "state": {
            "_model_module": "@jupyter-widgets/base",
            "_model_module_version": "1.2.0",
            "_model_name": "LayoutModel",
            "_view_count": null,
            "_view_module": "@jupyter-widgets/base",
            "_view_module_version": "1.2.0",
            "_view_name": "LayoutView",
            "align_content": null,
            "align_items": null,
            "align_self": null,
            "border": null,
            "bottom": null,
            "display": null,
            "flex": null,
            "flex_flow": null,
            "grid_area": null,
            "grid_auto_columns": null,
            "grid_auto_flow": null,
            "grid_auto_rows": null,
            "grid_column": null,
            "grid_gap": null,
            "grid_row": null,
            "grid_template_areas": null,
            "grid_template_columns": null,
            "grid_template_rows": null,
            "height": null,
            "justify_content": null,
            "justify_items": null,
            "left": null,
            "margin": null,
            "max_height": null,
            "max_width": null,
            "min_height": null,
            "min_width": null,
            "object_fit": null,
            "object_position": null,
            "order": null,
            "overflow": null,
            "overflow_x": null,
            "overflow_y": null,
            "padding": null,
            "right": null,
            "top": null,
            "visibility": null,
            "width": null
          }
        },
        "41a75f48b68541a6a87f89582e83c7c6": {
          "model_module": "@jupyter-widgets/controls",
          "model_name": "DescriptionStyleModel",
          "model_module_version": "1.5.0",
          "state": {
            "_model_module": "@jupyter-widgets/controls",
            "_model_module_version": "1.5.0",
            "_model_name": "DescriptionStyleModel",
            "_view_count": null,
            "_view_module": "@jupyter-widgets/base",
            "_view_module_version": "1.2.0",
            "_view_name": "StyleView",
            "description_width": ""
          }
        },
        "65053da281a848b890e6ac68f5a1565c": {
          "model_module": "@jupyter-widgets/base",
          "model_name": "LayoutModel",
          "model_module_version": "1.2.0",
          "state": {
            "_model_module": "@jupyter-widgets/base",
            "_model_module_version": "1.2.0",
            "_model_name": "LayoutModel",
            "_view_count": null,
            "_view_module": "@jupyter-widgets/base",
            "_view_module_version": "1.2.0",
            "_view_name": "LayoutView",
            "align_content": null,
            "align_items": null,
            "align_self": null,
            "border": null,
            "bottom": null,
            "display": null,
            "flex": null,
            "flex_flow": null,
            "grid_area": null,
            "grid_auto_columns": null,
            "grid_auto_flow": null,
            "grid_auto_rows": null,
            "grid_column": null,
            "grid_gap": null,
            "grid_row": null,
            "grid_template_areas": null,
            "grid_template_columns": null,
            "grid_template_rows": null,
            "height": null,
            "justify_content": null,
            "justify_items": null,
            "left": null,
            "margin": null,
            "max_height": null,
            "max_width": null,
            "min_height": null,
            "min_width": null,
            "object_fit": null,
            "object_position": null,
            "order": null,
            "overflow": null,
            "overflow_x": null,
            "overflow_y": null,
            "padding": null,
            "right": null,
            "top": null,
            "visibility": null,
            "width": null
          }
        },
        "56df27ff4cd245b0a9a11cc02c5f4925": {
          "model_module": "@jupyter-widgets/controls",
          "model_name": "ProgressStyleModel",
          "model_module_version": "1.5.0",
          "state": {
            "_model_module": "@jupyter-widgets/controls",
            "_model_module_version": "1.5.0",
            "_model_name": "ProgressStyleModel",
            "_view_count": null,
            "_view_module": "@jupyter-widgets/base",
            "_view_module_version": "1.2.0",
            "_view_name": "StyleView",
            "bar_color": null,
            "description_width": ""
          }
        },
        "81d0d95eb0c547218b86debc812f8cfa": {
          "model_module": "@jupyter-widgets/base",
          "model_name": "LayoutModel",
          "model_module_version": "1.2.0",
          "state": {
            "_model_module": "@jupyter-widgets/base",
            "_model_module_version": "1.2.0",
            "_model_name": "LayoutModel",
            "_view_count": null,
            "_view_module": "@jupyter-widgets/base",
            "_view_module_version": "1.2.0",
            "_view_name": "LayoutView",
            "align_content": null,
            "align_items": null,
            "align_self": null,
            "border": null,
            "bottom": null,
            "display": null,
            "flex": null,
            "flex_flow": null,
            "grid_area": null,
            "grid_auto_columns": null,
            "grid_auto_flow": null,
            "grid_auto_rows": null,
            "grid_column": null,
            "grid_gap": null,
            "grid_row": null,
            "grid_template_areas": null,
            "grid_template_columns": null,
            "grid_template_rows": null,
            "height": null,
            "justify_content": null,
            "justify_items": null,
            "left": null,
            "margin": null,
            "max_height": null,
            "max_width": null,
            "min_height": null,
            "min_width": null,
            "object_fit": null,
            "object_position": null,
            "order": null,
            "overflow": null,
            "overflow_x": null,
            "overflow_y": null,
            "padding": null,
            "right": null,
            "top": null,
            "visibility": null,
            "width": null
          }
        },
        "c93ec52cdf474d008ab978e8f55f0ea3": {
          "model_module": "@jupyter-widgets/controls",
          "model_name": "DescriptionStyleModel",
          "model_module_version": "1.5.0",
          "state": {
            "_model_module": "@jupyter-widgets/controls",
            "_model_module_version": "1.5.0",
            "_model_name": "DescriptionStyleModel",
            "_view_count": null,
            "_view_module": "@jupyter-widgets/base",
            "_view_module_version": "1.2.0",
            "_view_name": "StyleView",
            "description_width": ""
          }
        }
      }
    }
  },
  "nbformat": 4,
  "nbformat_minor": 0
}