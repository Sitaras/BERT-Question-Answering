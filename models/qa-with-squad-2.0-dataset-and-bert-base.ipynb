{
  "cells": [
    {
      "cell_type": "markdown",
      "metadata": {
        "id": "8arEioDPljQ3"
      },
      "source": [
        "# Artificial Intelligence II - Homework 4\n",
        "---\n",
        "## Fine-tuned on SQuAD 2.0 Dataset - Part 2,3\n",
        "---\n",
        "### Δημήτριος Σιταράς | 1115201800178\n",
        "---"
      ]
    },
    {
      "cell_type": "markdown",
      "metadata": {
        "id": "-wkGsf4Iloqv"
      },
      "source": [
        "## Libraries n' Functions"
      ]
    },
    {
      "cell_type": "code",
      "execution_count": 2,
      "metadata": {
        "execution": {
          "iopub.execute_input": "2022-03-05T02:40:47.254873Z",
          "iopub.status.busy": "2022-03-05T02:40:47.254125Z",
          "iopub.status.idle": "2022-03-05T02:40:48.636714Z",
          "shell.execute_reply": "2022-03-05T02:40:48.635985Z",
          "shell.execute_reply.started": "2022-03-05T02:40:47.254781Z"
        },
        "id": "oBVPb4yMc05M",
        "trusted": true
      },
      "outputs": [],
      "source": [
        "import torch\n",
        "import torch.nn as nn\n",
        "import matplotlib.pyplot as plt\n",
        "import pandas as pd\n",
        "import numpy as np\n",
        "import random\n",
        "import os\n",
        "import json"
      ]
    },
    {
      "cell_type": "code",
      "execution_count": 3,
      "metadata": {
        "execution": {
          "iopub.execute_input": "2022-03-05T02:40:48.638752Z",
          "iopub.status.busy": "2022-03-05T02:40:48.638442Z",
          "iopub.status.idle": "2022-03-05T02:40:48.687111Z",
          "shell.execute_reply": "2022-03-05T02:40:48.686396Z",
          "shell.execute_reply.started": "2022-03-05T02:40:48.638716Z"
        },
        "id": "cAO3U84EGW2L",
        "trusted": true
      },
      "outputs": [],
      "source": [
        "device = torch.device('cuda' if torch.cuda.is_available() else 'cpu')"
      ]
    },
    {
      "cell_type": "code",
      "execution_count": 4,
      "metadata": {
        "colab": {
          "base_uri": "https://localhost:8080/"
        },
        "execution": {
          "iopub.execute_input": "2022-03-05T02:40:48.688904Z",
          "iopub.status.busy": "2022-03-05T02:40:48.688466Z",
          "iopub.status.idle": "2022-03-05T02:40:48.699511Z",
          "shell.execute_reply": "2022-03-05T02:40:48.698817Z",
          "shell.execute_reply.started": "2022-03-05T02:40:48.688865Z"
        },
        "id": "z5BCiQPfGXg1",
        "outputId": "81ac114d-5513-4961-ab27-087b1892e6d3",
        "trusted": true
      },
      "outputs": [
        {
          "data": {
            "text/plain": [
              "device(type='cuda')"
            ]
          },
          "execution_count": 4,
          "metadata": {},
          "output_type": "execute_result"
        }
      ],
      "source": [
        "device"
      ]
    },
    {
      "cell_type": "code",
      "execution_count": null,
      "metadata": {
        "execution": {
          "iopub.execute_input": "2022-03-05T02:40:48.702087Z",
          "iopub.status.busy": "2022-03-05T02:40:48.701407Z",
          "iopub.status.idle": "2022-03-05T02:40:48.710010Z",
          "shell.execute_reply": "2022-03-05T02:40:48.709395Z",
          "shell.execute_reply.started": "2022-03-05T02:40:48.702050Z"
        },
        "id": "2xuVm_W5deTJ",
        "trusted": true
      },
      "outputs": [],
      "source": [
        "def set_seed(seed = 1234):\n",
        "    '''Sets the seed of the entire notebook so results are the same every time we run.\n",
        "    This is for REPRODUCIBILITY.'''\n",
        "    np.random.seed(seed)\n",
        "    random.seed(seed)\n",
        "    torch.manual_seed(seed)\n",
        "    torch.cuda.manual_seed(seed)\n",
        "    # When running on the CuDNN backend, two further options must be set\n",
        "    torch.backends.cudnn.deterministic = True\n",
        "    # Set a fixed value for the hash seed\n",
        "    os.environ['PYTHONHASHSEED'] = str(seed)\n",
        "    \n",
        "set_seed()"
      ]
    },
    {
      "cell_type": "code",
      "execution_count": null,
      "metadata": {
        "execution": {
          "iopub.execute_input": "2022-03-05T02:40:48.711777Z",
          "iopub.status.busy": "2022-03-05T02:40:48.711437Z",
          "iopub.status.idle": "2022-03-05T02:40:48.716952Z",
          "shell.execute_reply": "2022-03-05T02:40:48.716222Z",
          "shell.execute_reply.started": "2022-03-05T02:40:48.711742Z"
        },
        "id": "z4OepeABvHP6",
        "trusted": true
      },
      "outputs": [],
      "source": [
        "def lossCurve(trainLosses,valLosses):\n",
        "  plt.plot(trainLosses, color=\"r\")\n",
        "  plt.plot(valLosses, color=\"g\")\n",
        "  plt.ylabel('Loss')\n",
        "  plt.xlabel('Epochs')\n",
        "  plt.legend(['Train Loss','Validation Loss'])\n",
        "  plt.show()"
      ]
    },
    {
      "cell_type": "code",
      "execution_count": 5,
      "metadata": {
        "colab": {
          "base_uri": "https://localhost:8080/"
        },
        "execution": {
          "iopub.execute_input": "2022-03-05T02:40:48.719027Z",
          "iopub.status.busy": "2022-03-05T02:40:48.718170Z",
          "iopub.status.idle": "2022-03-05T02:40:57.229169Z",
          "shell.execute_reply": "2022-03-05T02:40:57.228384Z",
          "shell.execute_reply.started": "2022-03-05T02:40:48.718982Z"
        },
        "id": "Am5EGMDGdhCy",
        "outputId": "2db1e910-7b5c-48d8-fb1f-11648f9b83e5",
        "trusted": true
      },
      "outputs": [
        {
          "name": "stdout",
          "output_type": "stream",
          "text": [
            "Collecting transformers\n",
            "  Downloading transformers-4.17.0-py3-none-any.whl (3.8 MB)\n",
            "\u001b[K     |████████████████████████████████| 3.8 MB 5.4 MB/s \n",
            "\u001b[?25hCollecting tokenizers!=0.11.3,>=0.11.1\n",
            "  Downloading tokenizers-0.11.6-cp37-cp37m-manylinux_2_12_x86_64.manylinux2010_x86_64.whl (6.5 MB)\n",
            "\u001b[K     |████████████████████████████████| 6.5 MB 36.0 MB/s \n",
            "\u001b[?25hCollecting huggingface-hub<1.0,>=0.1.0\n",
            "  Downloading huggingface_hub-0.4.0-py3-none-any.whl (67 kB)\n",
            "\u001b[K     |████████████████████████████████| 67 kB 5.4 MB/s \n",
            "\u001b[?25hRequirement already satisfied: regex!=2019.12.17 in /usr/local/lib/python3.7/dist-packages (from transformers) (2019.12.20)\n",
            "Collecting pyyaml>=5.1\n",
            "  Downloading PyYAML-6.0-cp37-cp37m-manylinux_2_5_x86_64.manylinux1_x86_64.manylinux_2_12_x86_64.manylinux2010_x86_64.whl (596 kB)\n",
            "\u001b[K     |████████████████████████████████| 596 kB 42.8 MB/s \n",
            "\u001b[?25hRequirement already satisfied: importlib-metadata in /usr/local/lib/python3.7/dist-packages (from transformers) (4.11.2)\n",
            "Requirement already satisfied: numpy>=1.17 in /usr/local/lib/python3.7/dist-packages (from transformers) (1.21.5)\n",
            "Requirement already satisfied: filelock in /usr/local/lib/python3.7/dist-packages (from transformers) (3.6.0)\n",
            "Requirement already satisfied: requests in /usr/local/lib/python3.7/dist-packages (from transformers) (2.23.0)\n",
            "Requirement already satisfied: tqdm>=4.27 in /usr/local/lib/python3.7/dist-packages (from transformers) (4.63.0)\n",
            "Collecting sacremoses\n",
            "  Downloading sacremoses-0.0.47-py2.py3-none-any.whl (895 kB)\n",
            "\u001b[K     |████████████████████████████████| 895 kB 38.3 MB/s \n",
            "\u001b[?25hRequirement already satisfied: packaging>=20.0 in /usr/local/lib/python3.7/dist-packages (from transformers) (21.3)\n",
            "Requirement already satisfied: typing-extensions>=3.7.4.3 in /usr/local/lib/python3.7/dist-packages (from huggingface-hub<1.0,>=0.1.0->transformers) (3.10.0.2)\n",
            "Requirement already satisfied: pyparsing!=3.0.5,>=2.0.2 in /usr/local/lib/python3.7/dist-packages (from packaging>=20.0->transformers) (3.0.7)\n",
            "Requirement already satisfied: zipp>=0.5 in /usr/local/lib/python3.7/dist-packages (from importlib-metadata->transformers) (3.7.0)\n",
            "Requirement already satisfied: idna<3,>=2.5 in /usr/local/lib/python3.7/dist-packages (from requests->transformers) (2.10)\n",
            "Requirement already satisfied: certifi>=2017.4.17 in /usr/local/lib/python3.7/dist-packages (from requests->transformers) (2021.10.8)\n",
            "Requirement already satisfied: urllib3!=1.25.0,!=1.25.1,<1.26,>=1.21.1 in /usr/local/lib/python3.7/dist-packages (from requests->transformers) (1.24.3)\n",
            "Requirement already satisfied: chardet<4,>=3.0.2 in /usr/local/lib/python3.7/dist-packages (from requests->transformers) (3.0.4)\n",
            "Requirement already satisfied: click in /usr/local/lib/python3.7/dist-packages (from sacremoses->transformers) (7.1.2)\n",
            "Requirement already satisfied: joblib in /usr/local/lib/python3.7/dist-packages (from sacremoses->transformers) (1.1.0)\n",
            "Requirement already satisfied: six in /usr/local/lib/python3.7/dist-packages (from sacremoses->transformers) (1.15.0)\n",
            "Installing collected packages: pyyaml, tokenizers, sacremoses, huggingface-hub, transformers\n",
            "  Attempting uninstall: pyyaml\n",
            "    Found existing installation: PyYAML 3.13\n",
            "    Uninstalling PyYAML-3.13:\n",
            "      Successfully uninstalled PyYAML-3.13\n",
            "Successfully installed huggingface-hub-0.4.0 pyyaml-6.0 sacremoses-0.0.47 tokenizers-0.11.6 transformers-4.17.0\n"
          ]
        }
      ],
      "source": [
        "!pip install transformers"
      ]
    },
    {
      "cell_type": "markdown",
      "metadata": {
        "id": "aDRqWy0alxXP"
      },
      "source": [
        "## Download SQuAD 2.0 dataset"
      ]
    },
    {
      "cell_type": "code",
      "execution_count": 7,
      "metadata": {
        "colab": {
          "base_uri": "https://localhost:8080/"
        },
        "execution": {
          "iopub.execute_input": "2022-03-05T02:40:57.231020Z",
          "iopub.status.busy": "2022-03-05T02:40:57.230731Z",
          "iopub.status.idle": "2022-03-05T02:40:59.551579Z",
          "shell.execute_reply": "2022-03-05T02:40:59.550790Z",
          "shell.execute_reply.started": "2022-03-05T02:40:57.230982Z"
        },
        "id": "I5vKsWZfdFfp",
        "outputId": "52e98fdc-8678-4706-85a1-d824ca2f954e",
        "trusted": true
      },
      "outputs": [
        {
          "name": "stdout",
          "output_type": "stream",
          "text": [
            "--2022-03-12 21:07:27--  https://rajpurkar.github.io/SQuAD-explorer/dataset/train-v2.0.json\n",
            "Resolving rajpurkar.github.io (rajpurkar.github.io)... 185.199.108.153, 185.199.110.153, 185.199.111.153, ...\n",
            "Connecting to rajpurkar.github.io (rajpurkar.github.io)|185.199.108.153|:443... connected.\n",
            "HTTP request sent, awaiting response... 200 OK\n",
            "Length: 42123633 (40M) [application/json]\n",
            "Saving to: ‘train-v2.0.json’\n",
            "\n",
            "train-v2.0.json     100%[===================>]  40.17M   188MB/s    in 0.2s    \n",
            "\n",
            "2022-03-12 21:07:27 (188 MB/s) - ‘train-v2.0.json’ saved [42123633/42123633]\n",
            "\n"
          ]
        }
      ],
      "source": [
        "!wget https://rajpurkar.github.io/SQuAD-explorer/dataset/train-v2.0.json"
      ]
    },
    {
      "cell_type": "code",
      "execution_count": 8,
      "metadata": {
        "colab": {
          "base_uri": "https://localhost:8080/"
        },
        "execution": {
          "iopub.execute_input": "2022-03-05T02:40:59.554894Z",
          "iopub.status.busy": "2022-03-05T02:40:59.554674Z",
          "iopub.status.idle": "2022-03-05T02:41:00.726839Z",
          "shell.execute_reply": "2022-03-05T02:41:00.726104Z",
          "shell.execute_reply.started": "2022-03-05T02:40:59.554867Z"
        },
        "id": "kSzFxVf1dNWY",
        "outputId": "7c5b3530-eb84-4954-b25a-50fcc1977ad1",
        "trusted": true
      },
      "outputs": [
        {
          "name": "stdout",
          "output_type": "stream",
          "text": [
            "--2022-03-12 21:07:28--  https://rajpurkar.github.io/SQuAD-explorer/dataset/dev-v2.0.json\n",
            "Resolving rajpurkar.github.io (rajpurkar.github.io)... 185.199.108.153, 185.199.110.153, 185.199.111.153, ...\n",
            "Connecting to rajpurkar.github.io (rajpurkar.github.io)|185.199.108.153|:443... connected.\n",
            "HTTP request sent, awaiting response... 200 OK\n",
            "Length: 4370528 (4.2M) [application/json]\n",
            "Saving to: ‘dev-v2.0.json’\n",
            "\n",
            "\rdev-v2.0.json         0%[                    ]       0  --.-KB/s               \rdev-v2.0.json       100%[===================>]   4.17M  --.-KB/s    in 0.08s   \n",
            "\n",
            "2022-03-12 21:07:28 (52.8 MB/s) - ‘dev-v2.0.json’ saved [4370528/4370528]\n",
            "\n"
          ]
        }
      ],
      "source": [
        "!wget https://rajpurkar.github.io/SQuAD-explorer/dataset/dev-v2.0.json"
      ]
    },
    {
      "cell_type": "markdown",
      "metadata": {
        "id": "o1CHE1k0mdvx"
      },
      "source": [
        "## Take the texts, questions and answers from SQuAD 2.0 dataset and insert these into corresponding lists"
      ]
    },
    {
      "cell_type": "code",
      "execution_count": 9,
      "metadata": {
        "execution": {
          "iopub.execute_input": "2022-03-05T02:41:00.728336Z",
          "iopub.status.busy": "2022-03-05T02:41:00.728123Z",
          "iopub.status.idle": "2022-03-05T02:41:02.084587Z",
          "shell.execute_reply": "2022-03-05T02:41:02.083836Z",
          "shell.execute_reply.started": "2022-03-05T02:41:00.728311Z"
        },
        "id": "GguQxebweOF3",
        "trusted": true
      },
      "outputs": [],
      "source": [
        "jsonTrain = \"train-v2.0.json\"\n",
        "jsonVal = \"dev-v2.0.json\"\n",
        "\n",
        "with open(jsonTrain, 'r') as j:\n",
        "     trainContents = json.loads(j.read())\n",
        "\n",
        "with open(jsonVal, 'r') as j:\n",
        "     valContents = json.loads(j.read())"
      ]
    },
    {
      "cell_type": "code",
      "execution_count": null,
      "metadata": {
        "execution": {
          "iopub.execute_input": "2022-03-05T02:41:02.087937Z",
          "iopub.status.busy": "2022-03-05T02:41:02.087679Z",
          "iopub.status.idle": "2022-03-05T02:41:02.094252Z",
          "shell.execute_reply": "2022-03-05T02:41:02.093366Z",
          "shell.execute_reply.started": "2022-03-05T02:41:02.087903Z"
        },
        "id": "XNWrLQG3GuzI",
        "trusted": true
      },
      "outputs": [],
      "source": [
        "def jsonToLists(contents):\n",
        "  texts=[]\n",
        "  questions=[]\n",
        "  answers=[]\n",
        "  for data in contents['data']:\n",
        "    for txt in data['paragraphs']: # every text,\n",
        "      text = txt['context']\n",
        "      for qa in txt['qas']: # has many questions,\n",
        "        question = qa['question']\n",
        "        for answer in qa['answers']: # questions have answers.\n",
        "          texts.append(text)\n",
        "          questions.append(question)\n",
        "          answers.append(answer)            \n",
        "                  \n",
        "  return texts,questions,answers\n"
      ]
    },
    {
      "cell_type": "code",
      "execution_count": null,
      "metadata": {
        "execution": {
          "iopub.execute_input": "2022-03-05T02:41:02.096570Z",
          "iopub.status.busy": "2022-03-05T02:41:02.095646Z",
          "iopub.status.idle": "2022-03-05T02:41:02.162780Z",
          "shell.execute_reply": "2022-03-05T02:41:02.162104Z",
          "shell.execute_reply.started": "2022-03-05T02:41:02.096459Z"
        },
        "id": "paYE-0YTgNHI",
        "trusted": true
      },
      "outputs": [],
      "source": [
        "trainTexts,trainQuestions,trainAnswers=jsonToLists(trainContents)\n",
        "valTexts,valQuestions,valAnswers=jsonToLists(valContents)"
      ]
    },
    {
      "cell_type": "code",
      "execution_count": null,
      "metadata": {
        "colab": {
          "base_uri": "https://localhost:8080/"
        },
        "execution": {
          "iopub.execute_input": "2022-03-05T02:41:02.164462Z",
          "iopub.status.busy": "2022-03-05T02:41:02.164070Z",
          "iopub.status.idle": "2022-03-05T02:41:02.172044Z",
          "shell.execute_reply": "2022-03-05T02:41:02.171254Z",
          "shell.execute_reply.started": "2022-03-05T02:41:02.164421Z"
        },
        "id": "KN8ZXs-JiCJS",
        "outputId": "993fbbe1-44dd-40ef-c85b-541f645e8910",
        "trusted": true
      },
      "outputs": [
        {
          "name": "stdout",
          "output_type": "stream",
          "text": [
            "86821\n",
            "86821\n",
            "86821\n",
            "-----\n",
            "20302\n",
            "20302\n",
            "20302\n"
          ]
        }
      ],
      "source": [
        "print(len(trainTexts))\n",
        "print(len(trainQuestions))\n",
        "print(len(trainAnswers))\n",
        "print(\"-----\")\n",
        "print(len(valTexts))\n",
        "print(len(valQuestions))\n",
        "print(len(valAnswers))"
      ]
    },
    {
      "cell_type": "markdown",
      "metadata": {
        "id": "VWB1ZVdrnlQs"
      },
      "source": [
        "## Find and store the end position of every answer"
      ]
    },
    {
      "cell_type": "code",
      "execution_count": null,
      "metadata": {
        "execution": {
          "iopub.execute_input": "2022-03-05T02:41:02.173724Z",
          "iopub.status.busy": "2022-03-05T02:41:02.173469Z",
          "iopub.status.idle": "2022-03-05T02:41:02.260679Z",
          "shell.execute_reply": "2022-03-05T02:41:02.259967Z",
          "shell.execute_reply.started": "2022-03-05T02:41:02.173691Z"
        },
        "id": "eekiczaeFf7e",
        "trusted": true
      },
      "outputs": [],
      "source": [
        "def add_end_idx(answers, contexts):\n",
        "    # get the character position at which every answer ends and store it\n",
        "    for answer, context in zip(answers, contexts):\n",
        "      end_idx = answer['answer_start'] + len(answer['text'])\n",
        "\n",
        "      if context[answer['answer_start']:end_idx] == answer['text']:\n",
        "        answer['answer_end'] = end_idx\n",
        "      # Sometimes SQuAD answers are off by one or two characters, so ...\n",
        "      elif context[answer['answer_start']-1:end_idx-1] == answer['text']:\n",
        "        answer['answer_start'] = answer['answer_start'] - 1\n",
        "        answer['answer_end'] = end_idx - 1\n",
        "      elif context[answer['answer_start']-2:end_idx-2] == answer['text']:\n",
        "        answer['answer_start'] = answer['answer_start'] - 2\n",
        "        answer['answer_end'] = end_idx - 2\n",
        "                \n",
        "add_end_idx(trainAnswers, trainTexts)\n",
        "add_end_idx(valAnswers, valTexts)"
      ]
    },
    {
      "cell_type": "markdown",
      "metadata": {
        "id": "WrjL4mRPoGOz"
      },
      "source": [
        "## BERT Tokenizer"
      ]
    },
    {
      "cell_type": "code",
      "execution_count": 10,
      "metadata": {
        "colab": {
          "base_uri": "https://localhost:8080/",
          "height": 145,
          "referenced_widgets": [
            "d1911a8eb8c54503a2359eef7eee5787",
            "5e2453b44dca4407b93b3d8aec36bc4e",
            "031d8af6e7424d42a21e79b6ad806a88",
            "17aaffa75473450bb0ddfcc06499d691",
            "20a2126c878d4e8294dc0b3bf92ec634",
            "b486412eab99492680781a9b94048b47",
            "583aa04dafe84eed85342ab0dd5f8533",
            "9871e11d57c54ca1a850391581ac1321",
            "8519da8d5fbe49079f35a177b1fa8199",
            "2deb82e5d0614a2cb6317e6a0243b63b",
            "196cb05b4bb04d11851a4e91f3e19565",
            "a16ded0c5907442dafda56b5a9abf124",
            "def972e31ff64b4ba1a59ecafab73703",
            "651d3437f4a943fd92738b9c2a1eb218",
            "2461eb7073374dbba3b7c7544caac676",
            "fa318a3b18bc4e158e3219f8679a2b94",
            "81883331b9524de8889d291a28032544",
            "086eece48489455dbe447e38100640af",
            "a83fa627f70442a3b6e99ad7af74b372",
            "97aee6caf215406596087d017962270c",
            "eadba510f9374d5a9d6b305be55b9236",
            "d9a103e6befb43dcba9bda39f4aea3d2",
            "6549584109c84f749e68bff4e6279b90",
            "4230cdb093794980aff60f7ac54ebfc9",
            "02f2c27cb7354b9a8e7ea440a3aa7ca0",
            "db341bf88d3d426380dbe09707cc8cea",
            "9aba03b92ec24035ae4e59d71f31e583",
            "ad926c08f7014c78b38e8bf9f560805b",
            "3763c504f3064fee973626c77a276644",
            "45727d9abcc24e849aae43d68212153a",
            "d076da03d4f4416b82e1aed793baf1d1",
            "0edc8ad54f454e35829408ace17c3b68",
            "be0754f4b2d14c0494e0fa788d567bbd",
            "05dba6cdde734209a727710844641a66",
            "92c4f591e2414856989f4768ffea09d7",
            "371b186ce1ad44358ef7f2d3ee423381",
            "4d35a02361b04b0c866787973f341690",
            "44c3ef545a3945aca68b839ce61224bc",
            "c077faccb47f4a11a286274450223bb7",
            "7855da5913f14a48a0d26642915846d6",
            "0b14850e76e54e4a85cea28e92caa580",
            "00cc57178c8748a0afb13f732debdbc2",
            "89fc7fbe9acb4496b5117132741bc5bc",
            "35d35ad6bd8e4af3b6d89647614896ce"
          ]
        },
        "execution": {
          "iopub.execute_input": "2022-03-05T02:41:02.262854Z",
          "iopub.status.busy": "2022-03-05T02:41:02.262381Z",
          "iopub.status.idle": "2022-03-05T02:41:07.378168Z",
          "shell.execute_reply": "2022-03-05T02:41:07.377519Z",
          "shell.execute_reply.started": "2022-03-05T02:41:02.262819Z"
        },
        "id": "G6efgWHFKdMN",
        "outputId": "8b320477-3e2a-4052-8a2a-6b91a65b4787",
        "trusted": true
      },
      "outputs": [
        {
          "data": {
            "application/vnd.jupyter.widget-view+json": {
              "model_id": "d1911a8eb8c54503a2359eef7eee5787",
              "version_major": 2,
              "version_minor": 0
            },
            "text/plain": [
              "Downloading:   0%|          | 0.00/28.0 [00:00<?, ?B/s]"
            ]
          },
          "metadata": {},
          "output_type": "display_data"
        },
        {
          "data": {
            "application/vnd.jupyter.widget-view+json": {
              "model_id": "a16ded0c5907442dafda56b5a9abf124",
              "version_major": 2,
              "version_minor": 0
            },
            "text/plain": [
              "Downloading:   0%|          | 0.00/226k [00:00<?, ?B/s]"
            ]
          },
          "metadata": {},
          "output_type": "display_data"
        },
        {
          "data": {
            "application/vnd.jupyter.widget-view+json": {
              "model_id": "6549584109c84f749e68bff4e6279b90",
              "version_major": 2,
              "version_minor": 0
            },
            "text/plain": [
              "Downloading:   0%|          | 0.00/455k [00:00<?, ?B/s]"
            ]
          },
          "metadata": {},
          "output_type": "display_data"
        },
        {
          "data": {
            "application/vnd.jupyter.widget-view+json": {
              "model_id": "05dba6cdde734209a727710844641a66",
              "version_major": 2,
              "version_minor": 0
            },
            "text/plain": [
              "Downloading:   0%|          | 0.00/483 [00:00<?, ?B/s]"
            ]
          },
          "metadata": {},
          "output_type": "display_data"
        }
      ],
      "source": [
        "from transformers import BertTokenizerFast,DistilBertTokenizerFast\n",
        "\n",
        "# tokenizer = BertTokenizerFast.from_pretrained('bert-base-uncased')\n",
        "tokenizer = DistilBertTokenizerFast.from_pretrained('distilbert-base-uncased')"
      ]
    },
    {
      "cell_type": "code",
      "execution_count": null,
      "metadata": {
        "execution": {
          "iopub.execute_input": "2022-03-05T02:41:07.379919Z",
          "iopub.status.busy": "2022-03-05T02:41:07.379311Z",
          "iopub.status.idle": "2022-03-05T02:42:11.642016Z",
          "shell.execute_reply": "2022-03-05T02:42:11.641225Z",
          "shell.execute_reply.started": "2022-03-05T02:41:07.379880Z"
        },
        "id": "2-62TIQyH-H0",
        "trusted": true
      },
      "outputs": [],
      "source": [
        "trainEncodings=tokenizer(trainTexts,trainQuestions, truncation=True, padding=True, max_length=512)\n",
        "valEncodings=tokenizer(valTexts,valQuestions, truncation=True, padding=True, max_length=512)"
      ]
    },
    {
      "cell_type": "markdown",
      "metadata": {
        "id": "T24OieeEoNn7"
      },
      "source": [
        "## Convert  character start/end positions to token start/end positions"
      ]
    },
    {
      "cell_type": "code",
      "execution_count": null,
      "metadata": {
        "execution": {
          "iopub.execute_input": "2022-03-05T02:42:11.643714Z",
          "iopub.status.busy": "2022-03-05T02:42:11.643440Z",
          "iopub.status.idle": "2022-03-05T02:42:12.116062Z",
          "shell.execute_reply": "2022-03-05T02:42:12.115286Z",
          "shell.execute_reply.started": "2022-03-05T02:42:11.643677Z"
        },
        "id": "Y_IyfehmLyhN",
        "trusted": true
      },
      "outputs": [],
      "source": [
        "def add_token_positions(encodings, answers):\n",
        "    # convert character start/end positions to token start/end positions.\n",
        "    start_positions = []\n",
        "    end_positions = []\n",
        "    for i in range(len(answers)):\n",
        "        start_positions.append(encodings.char_to_token(i, answers[i]['answer_start']))\n",
        "        if(answers[i]['answer_end']==0):\n",
        "            end_positions.append(encodings.char_to_token(i, answers[i]['answer_end'])) \n",
        "        else:\n",
        "            end_positions.append(encodings.char_to_token(i, answers[i]['answer_end'] - 1))\n",
        "\n",
        "         # if None, the answer passage has been truncated\n",
        "        if start_positions[-1] is None:\n",
        "            start_positions[-1] = tokenizer.model_max_length\n",
        "                   \n",
        "        if end_positions[-1] is None:\n",
        "            end_positions[-1] = tokenizer.model_max_length\n",
        "\n",
        "    encodings.update({'start_positions': start_positions, 'end_positions': end_positions})\n",
        "\n",
        "add_token_positions(trainEncodings, trainAnswers)\n",
        "add_token_positions(valEncodings, valAnswers)"
      ]
    },
    {
      "cell_type": "markdown",
      "metadata": {
        "id": "99wzVdYloje-"
      },
      "source": [
        "## Custom Dataset"
      ]
    },
    {
      "cell_type": "code",
      "execution_count": null,
      "metadata": {
        "execution": {
          "iopub.execute_input": "2022-03-05T02:42:12.118883Z",
          "iopub.status.busy": "2022-03-05T02:42:12.118279Z",
          "iopub.status.idle": "2022-03-05T02:42:12.126152Z",
          "shell.execute_reply": "2022-03-05T02:42:12.125306Z",
          "shell.execute_reply.started": "2022-03-05T02:42:12.118838Z"
        },
        "id": "OPyW7VdgLKn4",
        "trusted": true
      },
      "outputs": [],
      "source": [
        "class SquadDataset(torch.utils.data.Dataset):\n",
        "  def __init__(self, encodings):\n",
        "    self.encodings = encodings\n",
        "\n",
        "  def __getitem__(self, idx):\n",
        "    return {key: torch.tensor(val[idx]) for key, val in self.encodings.items()}\n",
        "\n",
        "  def __len__(self):\n",
        "    return len(self.encodings.input_ids)\n",
        "\n",
        "# create the corresponding datasets\n",
        "trainSet = SquadDataset(trainEncodings)\n",
        "valSet = SquadDataset(valEncodings)"
      ]
    },
    {
      "cell_type": "markdown",
      "metadata": {
        "id": "FoniHC1wpRPd"
      },
      "source": [
        "## Build/Load the Bert model"
      ]
    },
    {
      "cell_type": "code",
      "execution_count": null,
      "metadata": {
        "colab": {
          "base_uri": "https://localhost:8080/",
          "height": 1000,
          "referenced_widgets": [
            "4513ae7fb309452b8fc1c3a2f9c7d073",
            "14fa3844f66c42008575cf72bd67a5ac",
            "835e72b86ebc42aa8cb128f608878190",
            "5840289c8de34f409c09ebc9f56ca24b",
            "be41a49bb1064e2fb2427e1688ee25ab",
            "cbd144e156904971aa0f07abb3d81782",
            "373e519b0ed644069ea976e0f4cfe7c5",
            "67e17b353e6643eaa504efd739a36066",
            "79c88c144125437baf703cc427c1ab05",
            "f58039d77d9245f5a26a40ac3fe2ab35",
            "d41c7857e43b467ca19ea2bbf552e0c8",
            "129084251b6e470d840815893a9f6172",
            "52019834604e465fa539a8676b1d5682",
            "9925f3ab25654beaa3026b6b9251305c",
            "664c5206f8bb4ac1a7126f0cc896f98a",
            "2c759d4218c94a2dab4682c9c2f23018",
            "6f432a048f854e80bf6a14c49c498e84",
            "f7f09ac818084a23a3f4c434fdec8668",
            "30f3d8e6e6204eeeb0a3fe4e35f72e8e",
            "bcc52f203165408490eab273f289c3cc",
            "260886421df34cb2830a594d4c44c7c6",
            "07c244c6ca4d4c60bc666d10e7d5ff71"
          ]
        },
        "execution": {
          "iopub.execute_input": "2022-03-05T02:42:12.127616Z",
          "iopub.status.busy": "2022-03-05T02:42:12.127301Z",
          "iopub.status.idle": "2022-03-05T02:42:45.424907Z",
          "shell.execute_reply": "2022-03-05T02:42:45.424070Z",
          "shell.execute_reply.started": "2022-03-05T02:42:12.127577Z"
        },
        "id": "rfCl75yFZnZC",
        "outputId": "4061da03-7001-4505-cf13-51b5d23ae83e",
        "trusted": true
      },
      "outputs": [
        {
          "data": {
            "application/vnd.jupyter.widget-view+json": {
              "model_id": "4513ae7fb309452b8fc1c3a2f9c7d073",
              "version_major": 2,
              "version_minor": 0
            },
            "text/plain": [
              "Downloading:   0%|          | 0.00/570 [00:00<?, ?B/s]"
            ]
          },
          "metadata": {},
          "output_type": "display_data"
        },
        {
          "data": {
            "application/vnd.jupyter.widget-view+json": {
              "model_id": "129084251b6e470d840815893a9f6172",
              "version_major": 2,
              "version_minor": 0
            },
            "text/plain": [
              "Downloading:   0%|          | 0.00/420M [00:00<?, ?B/s]"
            ]
          },
          "metadata": {},
          "output_type": "display_data"
        },
        {
          "name": "stderr",
          "output_type": "stream",
          "text": [
            "Some weights of the model checkpoint at bert-base-uncased were not used when initializing BertForQuestionAnswering: ['cls.predictions.transform.LayerNorm.bias', 'cls.predictions.transform.LayerNorm.weight', 'cls.predictions.transform.dense.weight', 'cls.predictions.decoder.weight', 'cls.seq_relationship.weight', 'cls.predictions.transform.dense.bias', 'cls.seq_relationship.bias', 'cls.predictions.bias']\n",
            "- This IS expected if you are initializing BertForQuestionAnswering from the checkpoint of a model trained on another task or with another architecture (e.g. initializing a BertForSequenceClassification model from a BertForPreTraining model).\n",
            "- This IS NOT expected if you are initializing BertForQuestionAnswering from the checkpoint of a model that you expect to be exactly identical (initializing a BertForSequenceClassification model from a BertForSequenceClassification model).\n",
            "Some weights of BertForQuestionAnswering were not initialized from the model checkpoint at bert-base-uncased and are newly initialized: ['qa_outputs.bias', 'qa_outputs.weight']\n",
            "You should probably TRAIN this model on a down-stream task to be able to use it for predictions and inference.\n"
          ]
        },
        {
          "data": {
            "text/plain": [
              "BertForQuestionAnswering(\n",
              "  (bert): BertModel(\n",
              "    (embeddings): BertEmbeddings(\n",
              "      (word_embeddings): Embedding(30522, 768, padding_idx=0)\n",
              "      (position_embeddings): Embedding(512, 768)\n",
              "      (token_type_embeddings): Embedding(2, 768)\n",
              "      (LayerNorm): LayerNorm((768,), eps=1e-12, elementwise_affine=True)\n",
              "      (dropout): Dropout(p=0.1, inplace=False)\n",
              "    )\n",
              "    (encoder): BertEncoder(\n",
              "      (layer): ModuleList(\n",
              "        (0): BertLayer(\n",
              "          (attention): BertAttention(\n",
              "            (self): BertSelfAttention(\n",
              "              (query): Linear(in_features=768, out_features=768, bias=True)\n",
              "              (key): Linear(in_features=768, out_features=768, bias=True)\n",
              "              (value): Linear(in_features=768, out_features=768, bias=True)\n",
              "              (dropout): Dropout(p=0.1, inplace=False)\n",
              "            )\n",
              "            (output): BertSelfOutput(\n",
              "              (dense): Linear(in_features=768, out_features=768, bias=True)\n",
              "              (LayerNorm): LayerNorm((768,), eps=1e-12, elementwise_affine=True)\n",
              "              (dropout): Dropout(p=0.1, inplace=False)\n",
              "            )\n",
              "          )\n",
              "          (intermediate): BertIntermediate(\n",
              "            (dense): Linear(in_features=768, out_features=3072, bias=True)\n",
              "            (intermediate_act_fn): GELUActivation()\n",
              "          )\n",
              "          (output): BertOutput(\n",
              "            (dense): Linear(in_features=3072, out_features=768, bias=True)\n",
              "            (LayerNorm): LayerNorm((768,), eps=1e-12, elementwise_affine=True)\n",
              "            (dropout): Dropout(p=0.1, inplace=False)\n",
              "          )\n",
              "        )\n",
              "        (1): BertLayer(\n",
              "          (attention): BertAttention(\n",
              "            (self): BertSelfAttention(\n",
              "              (query): Linear(in_features=768, out_features=768, bias=True)\n",
              "              (key): Linear(in_features=768, out_features=768, bias=True)\n",
              "              (value): Linear(in_features=768, out_features=768, bias=True)\n",
              "              (dropout): Dropout(p=0.1, inplace=False)\n",
              "            )\n",
              "            (output): BertSelfOutput(\n",
              "              (dense): Linear(in_features=768, out_features=768, bias=True)\n",
              "              (LayerNorm): LayerNorm((768,), eps=1e-12, elementwise_affine=True)\n",
              "              (dropout): Dropout(p=0.1, inplace=False)\n",
              "            )\n",
              "          )\n",
              "          (intermediate): BertIntermediate(\n",
              "            (dense): Linear(in_features=768, out_features=3072, bias=True)\n",
              "            (intermediate_act_fn): GELUActivation()\n",
              "          )\n",
              "          (output): BertOutput(\n",
              "            (dense): Linear(in_features=3072, out_features=768, bias=True)\n",
              "            (LayerNorm): LayerNorm((768,), eps=1e-12, elementwise_affine=True)\n",
              "            (dropout): Dropout(p=0.1, inplace=False)\n",
              "          )\n",
              "        )\n",
              "        (2): BertLayer(\n",
              "          (attention): BertAttention(\n",
              "            (self): BertSelfAttention(\n",
              "              (query): Linear(in_features=768, out_features=768, bias=True)\n",
              "              (key): Linear(in_features=768, out_features=768, bias=True)\n",
              "              (value): Linear(in_features=768, out_features=768, bias=True)\n",
              "              (dropout): Dropout(p=0.1, inplace=False)\n",
              "            )\n",
              "            (output): BertSelfOutput(\n",
              "              (dense): Linear(in_features=768, out_features=768, bias=True)\n",
              "              (LayerNorm): LayerNorm((768,), eps=1e-12, elementwise_affine=True)\n",
              "              (dropout): Dropout(p=0.1, inplace=False)\n",
              "            )\n",
              "          )\n",
              "          (intermediate): BertIntermediate(\n",
              "            (dense): Linear(in_features=768, out_features=3072, bias=True)\n",
              "            (intermediate_act_fn): GELUActivation()\n",
              "          )\n",
              "          (output): BertOutput(\n",
              "            (dense): Linear(in_features=3072, out_features=768, bias=True)\n",
              "            (LayerNorm): LayerNorm((768,), eps=1e-12, elementwise_affine=True)\n",
              "            (dropout): Dropout(p=0.1, inplace=False)\n",
              "          )\n",
              "        )\n",
              "        (3): BertLayer(\n",
              "          (attention): BertAttention(\n",
              "            (self): BertSelfAttention(\n",
              "              (query): Linear(in_features=768, out_features=768, bias=True)\n",
              "              (key): Linear(in_features=768, out_features=768, bias=True)\n",
              "              (value): Linear(in_features=768, out_features=768, bias=True)\n",
              "              (dropout): Dropout(p=0.1, inplace=False)\n",
              "            )\n",
              "            (output): BertSelfOutput(\n",
              "              (dense): Linear(in_features=768, out_features=768, bias=True)\n",
              "              (LayerNorm): LayerNorm((768,), eps=1e-12, elementwise_affine=True)\n",
              "              (dropout): Dropout(p=0.1, inplace=False)\n",
              "            )\n",
              "          )\n",
              "          (intermediate): BertIntermediate(\n",
              "            (dense): Linear(in_features=768, out_features=3072, bias=True)\n",
              "            (intermediate_act_fn): GELUActivation()\n",
              "          )\n",
              "          (output): BertOutput(\n",
              "            (dense): Linear(in_features=3072, out_features=768, bias=True)\n",
              "            (LayerNorm): LayerNorm((768,), eps=1e-12, elementwise_affine=True)\n",
              "            (dropout): Dropout(p=0.1, inplace=False)\n",
              "          )\n",
              "        )\n",
              "        (4): BertLayer(\n",
              "          (attention): BertAttention(\n",
              "            (self): BertSelfAttention(\n",
              "              (query): Linear(in_features=768, out_features=768, bias=True)\n",
              "              (key): Linear(in_features=768, out_features=768, bias=True)\n",
              "              (value): Linear(in_features=768, out_features=768, bias=True)\n",
              "              (dropout): Dropout(p=0.1, inplace=False)\n",
              "            )\n",
              "            (output): BertSelfOutput(\n",
              "              (dense): Linear(in_features=768, out_features=768, bias=True)\n",
              "              (LayerNorm): LayerNorm((768,), eps=1e-12, elementwise_affine=True)\n",
              "              (dropout): Dropout(p=0.1, inplace=False)\n",
              "            )\n",
              "          )\n",
              "          (intermediate): BertIntermediate(\n",
              "            (dense): Linear(in_features=768, out_features=3072, bias=True)\n",
              "            (intermediate_act_fn): GELUActivation()\n",
              "          )\n",
              "          (output): BertOutput(\n",
              "            (dense): Linear(in_features=3072, out_features=768, bias=True)\n",
              "            (LayerNorm): LayerNorm((768,), eps=1e-12, elementwise_affine=True)\n",
              "            (dropout): Dropout(p=0.1, inplace=False)\n",
              "          )\n",
              "        )\n",
              "        (5): BertLayer(\n",
              "          (attention): BertAttention(\n",
              "            (self): BertSelfAttention(\n",
              "              (query): Linear(in_features=768, out_features=768, bias=True)\n",
              "              (key): Linear(in_features=768, out_features=768, bias=True)\n",
              "              (value): Linear(in_features=768, out_features=768, bias=True)\n",
              "              (dropout): Dropout(p=0.1, inplace=False)\n",
              "            )\n",
              "            (output): BertSelfOutput(\n",
              "              (dense): Linear(in_features=768, out_features=768, bias=True)\n",
              "              (LayerNorm): LayerNorm((768,), eps=1e-12, elementwise_affine=True)\n",
              "              (dropout): Dropout(p=0.1, inplace=False)\n",
              "            )\n",
              "          )\n",
              "          (intermediate): BertIntermediate(\n",
              "            (dense): Linear(in_features=768, out_features=3072, bias=True)\n",
              "            (intermediate_act_fn): GELUActivation()\n",
              "          )\n",
              "          (output): BertOutput(\n",
              "            (dense): Linear(in_features=3072, out_features=768, bias=True)\n",
              "            (LayerNorm): LayerNorm((768,), eps=1e-12, elementwise_affine=True)\n",
              "            (dropout): Dropout(p=0.1, inplace=False)\n",
              "          )\n",
              "        )\n",
              "        (6): BertLayer(\n",
              "          (attention): BertAttention(\n",
              "            (self): BertSelfAttention(\n",
              "              (query): Linear(in_features=768, out_features=768, bias=True)\n",
              "              (key): Linear(in_features=768, out_features=768, bias=True)\n",
              "              (value): Linear(in_features=768, out_features=768, bias=True)\n",
              "              (dropout): Dropout(p=0.1, inplace=False)\n",
              "            )\n",
              "            (output): BertSelfOutput(\n",
              "              (dense): Linear(in_features=768, out_features=768, bias=True)\n",
              "              (LayerNorm): LayerNorm((768,), eps=1e-12, elementwise_affine=True)\n",
              "              (dropout): Dropout(p=0.1, inplace=False)\n",
              "            )\n",
              "          )\n",
              "          (intermediate): BertIntermediate(\n",
              "            (dense): Linear(in_features=768, out_features=3072, bias=True)\n",
              "            (intermediate_act_fn): GELUActivation()\n",
              "          )\n",
              "          (output): BertOutput(\n",
              "            (dense): Linear(in_features=3072, out_features=768, bias=True)\n",
              "            (LayerNorm): LayerNorm((768,), eps=1e-12, elementwise_affine=True)\n",
              "            (dropout): Dropout(p=0.1, inplace=False)\n",
              "          )\n",
              "        )\n",
              "        (7): BertLayer(\n",
              "          (attention): BertAttention(\n",
              "            (self): BertSelfAttention(\n",
              "              (query): Linear(in_features=768, out_features=768, bias=True)\n",
              "              (key): Linear(in_features=768, out_features=768, bias=True)\n",
              "              (value): Linear(in_features=768, out_features=768, bias=True)\n",
              "              (dropout): Dropout(p=0.1, inplace=False)\n",
              "            )\n",
              "            (output): BertSelfOutput(\n",
              "              (dense): Linear(in_features=768, out_features=768, bias=True)\n",
              "              (LayerNorm): LayerNorm((768,), eps=1e-12, elementwise_affine=True)\n",
              "              (dropout): Dropout(p=0.1, inplace=False)\n",
              "            )\n",
              "          )\n",
              "          (intermediate): BertIntermediate(\n",
              "            (dense): Linear(in_features=768, out_features=3072, bias=True)\n",
              "            (intermediate_act_fn): GELUActivation()\n",
              "          )\n",
              "          (output): BertOutput(\n",
              "            (dense): Linear(in_features=3072, out_features=768, bias=True)\n",
              "            (LayerNorm): LayerNorm((768,), eps=1e-12, elementwise_affine=True)\n",
              "            (dropout): Dropout(p=0.1, inplace=False)\n",
              "          )\n",
              "        )\n",
              "        (8): BertLayer(\n",
              "          (attention): BertAttention(\n",
              "            (self): BertSelfAttention(\n",
              "              (query): Linear(in_features=768, out_features=768, bias=True)\n",
              "              (key): Linear(in_features=768, out_features=768, bias=True)\n",
              "              (value): Linear(in_features=768, out_features=768, bias=True)\n",
              "              (dropout): Dropout(p=0.1, inplace=False)\n",
              "            )\n",
              "            (output): BertSelfOutput(\n",
              "              (dense): Linear(in_features=768, out_features=768, bias=True)\n",
              "              (LayerNorm): LayerNorm((768,), eps=1e-12, elementwise_affine=True)\n",
              "              (dropout): Dropout(p=0.1, inplace=False)\n",
              "            )\n",
              "          )\n",
              "          (intermediate): BertIntermediate(\n",
              "            (dense): Linear(in_features=768, out_features=3072, bias=True)\n",
              "            (intermediate_act_fn): GELUActivation()\n",
              "          )\n",
              "          (output): BertOutput(\n",
              "            (dense): Linear(in_features=3072, out_features=768, bias=True)\n",
              "            (LayerNorm): LayerNorm((768,), eps=1e-12, elementwise_affine=True)\n",
              "            (dropout): Dropout(p=0.1, inplace=False)\n",
              "          )\n",
              "        )\n",
              "        (9): BertLayer(\n",
              "          (attention): BertAttention(\n",
              "            (self): BertSelfAttention(\n",
              "              (query): Linear(in_features=768, out_features=768, bias=True)\n",
              "              (key): Linear(in_features=768, out_features=768, bias=True)\n",
              "              (value): Linear(in_features=768, out_features=768, bias=True)\n",
              "              (dropout): Dropout(p=0.1, inplace=False)\n",
              "            )\n",
              "            (output): BertSelfOutput(\n",
              "              (dense): Linear(in_features=768, out_features=768, bias=True)\n",
              "              (LayerNorm): LayerNorm((768,), eps=1e-12, elementwise_affine=True)\n",
              "              (dropout): Dropout(p=0.1, inplace=False)\n",
              "            )\n",
              "          )\n",
              "          (intermediate): BertIntermediate(\n",
              "            (dense): Linear(in_features=768, out_features=3072, bias=True)\n",
              "            (intermediate_act_fn): GELUActivation()\n",
              "          )\n",
              "          (output): BertOutput(\n",
              "            (dense): Linear(in_features=3072, out_features=768, bias=True)\n",
              "            (LayerNorm): LayerNorm((768,), eps=1e-12, elementwise_affine=True)\n",
              "            (dropout): Dropout(p=0.1, inplace=False)\n",
              "          )\n",
              "        )\n",
              "        (10): BertLayer(\n",
              "          (attention): BertAttention(\n",
              "            (self): BertSelfAttention(\n",
              "              (query): Linear(in_features=768, out_features=768, bias=True)\n",
              "              (key): Linear(in_features=768, out_features=768, bias=True)\n",
              "              (value): Linear(in_features=768, out_features=768, bias=True)\n",
              "              (dropout): Dropout(p=0.1, inplace=False)\n",
              "            )\n",
              "            (output): BertSelfOutput(\n",
              "              (dense): Linear(in_features=768, out_features=768, bias=True)\n",
              "              (LayerNorm): LayerNorm((768,), eps=1e-12, elementwise_affine=True)\n",
              "              (dropout): Dropout(p=0.1, inplace=False)\n",
              "            )\n",
              "          )\n",
              "          (intermediate): BertIntermediate(\n",
              "            (dense): Linear(in_features=768, out_features=3072, bias=True)\n",
              "            (intermediate_act_fn): GELUActivation()\n",
              "          )\n",
              "          (output): BertOutput(\n",
              "            (dense): Linear(in_features=3072, out_features=768, bias=True)\n",
              "            (LayerNorm): LayerNorm((768,), eps=1e-12, elementwise_affine=True)\n",
              "            (dropout): Dropout(p=0.1, inplace=False)\n",
              "          )\n",
              "        )\n",
              "        (11): BertLayer(\n",
              "          (attention): BertAttention(\n",
              "            (self): BertSelfAttention(\n",
              "              (query): Linear(in_features=768, out_features=768, bias=True)\n",
              "              (key): Linear(in_features=768, out_features=768, bias=True)\n",
              "              (value): Linear(in_features=768, out_features=768, bias=True)\n",
              "              (dropout): Dropout(p=0.1, inplace=False)\n",
              "            )\n",
              "            (output): BertSelfOutput(\n",
              "              (dense): Linear(in_features=768, out_features=768, bias=True)\n",
              "              (LayerNorm): LayerNorm((768,), eps=1e-12, elementwise_affine=True)\n",
              "              (dropout): Dropout(p=0.1, inplace=False)\n",
              "            )\n",
              "          )\n",
              "          (intermediate): BertIntermediate(\n",
              "            (dense): Linear(in_features=768, out_features=3072, bias=True)\n",
              "            (intermediate_act_fn): GELUActivation()\n",
              "          )\n",
              "          (output): BertOutput(\n",
              "            (dense): Linear(in_features=3072, out_features=768, bias=True)\n",
              "            (LayerNorm): LayerNorm((768,), eps=1e-12, elementwise_affine=True)\n",
              "            (dropout): Dropout(p=0.1, inplace=False)\n",
              "          )\n",
              "        )\n",
              "      )\n",
              "    )\n",
              "  )\n",
              "  (qa_outputs): Linear(in_features=768, out_features=2, bias=True)\n",
              ")"
            ]
          },
          "execution_count": 24,
          "metadata": {},
          "output_type": "execute_result"
        }
      ],
      "source": [
        "from transformers import BertForQuestionAnswering,DistilBertForQuestionAnswering\n",
        "model = BertForQuestionAnswering.from_pretrained('bert-base-uncased')\n",
        "# model = DistilBertForQuestionAnswering.from_pretrained('distilbert-base-uncased')\n",
        "model.to(device)"
      ]
    },
    {
      "cell_type": "code",
      "execution_count": null,
      "metadata": {
        "execution": {
          "iopub.execute_input": "2022-03-05T02:42:45.427556Z",
          "iopub.status.busy": "2022-03-05T02:42:45.426327Z",
          "iopub.status.idle": "2022-03-05T02:42:45.433402Z",
          "shell.execute_reply": "2022-03-05T02:42:45.432621Z",
          "shell.execute_reply.started": "2022-03-05T02:42:45.427497Z"
        },
        "id": "aKm02qunZ_2-",
        "trusted": true
      },
      "outputs": [],
      "source": [
        "from torch.utils.data import TensorDataset, DataLoader\n",
        "\n",
        "batch_size = 16\n",
        "trainDataloader = DataLoader(trainSet, batch_size=batch_size, shuffle=True)\n",
        "valDataloader = DataLoader(valSet, batch_size=batch_size, shuffle=False)"
      ]
    },
    {
      "cell_type": "code",
      "execution_count": null,
      "metadata": {
        "execution": {
          "iopub.execute_input": "2022-03-05T02:42:45.434696Z",
          "iopub.status.busy": "2022-03-05T02:42:45.434420Z",
          "iopub.status.idle": "2022-03-05T02:42:45.444866Z",
          "shell.execute_reply": "2022-03-05T02:42:45.443980Z",
          "shell.execute_reply.started": "2022-03-05T02:42:45.434658Z"
        },
        "id": "r1MdTddDZDYb",
        "trusted": true
      },
      "outputs": [],
      "source": [
        "lr = 1e-5\n",
        "optimizer = torch.optim.AdamW(model.parameters(), lr=lr)"
      ]
    },
    {
      "cell_type": "markdown",
      "metadata": {
        "id": "tlLJs3Zqpg5p"
      },
      "source": [
        "## Train and evalute the Bert model"
      ]
    },
    {
      "cell_type": "code",
      "execution_count": null,
      "metadata": {
        "execution": {
          "iopub.execute_input": "2022-03-05T02:42:45.447145Z",
          "iopub.status.busy": "2022-03-05T02:42:45.446543Z",
          "iopub.status.idle": "2022-03-05T05:30:16.319689Z",
          "shell.execute_reply": "2022-03-05T05:30:16.318802Z",
          "shell.execute_reply.started": "2022-03-05T02:42:45.447102Z"
        },
        "id": "y2gOhWGIacJ3",
        "outputId": "1d9b55ef-80b1-40ca-cc7c-5b88d979f64e",
        "trusted": true
      },
      "outputs": [
        {
          "name": "stdout",
          "output_type": "stream",
          "text": [
            "-Epoch: 1/2... Train Loss: 1.581905 | Val Loss: 1.170385\n",
            "-Epoch: 2/2... Train Loss: 0.968578 | Val Loss: 1.100995\n"
          ]
        }
      ],
      "source": [
        "epochs = 2\n",
        "trainLosses=[]\n",
        "valLosses=[]\n",
        "\n",
        "for i in range(epochs):\n",
        "  batchLosses = []\n",
        "  model.train() # training mode\n",
        "\n",
        "  for batch in trainDataloader:\n",
        "    \n",
        "    optimizer.zero_grad() # Delete previously stored gradients\n",
        "\n",
        "    input_ids = batch['input_ids'].to(device)\n",
        "    attention_mask = batch['attention_mask'].to(device)\n",
        "    start_positions = batch['start_positions'].to(device)\n",
        "    end_positions = batch['end_positions'].to(device)\n",
        "    \n",
        "    outputs = model(input_ids, attention_mask=attention_mask, start_positions=start_positions, end_positions=end_positions)\n",
        "\n",
        "    batchLosses.append(outputs[0].item())  \n",
        "\n",
        "    outputs[0].backward() # Perform backpropagation starting from the loss calculated in this epoch\n",
        "\n",
        "    nn.utils.clip_grad_norm_(model.parameters(),5.0) # Clip gradients to avoid vanishing gradients\n",
        "\n",
        "    optimizer.step() # Update model's weights based on the gradients calculated during backprop\n",
        "\n",
        "\n",
        "  trainCurrentLoss = sum(batchLosses)/len(trainDataloader)\n",
        "  trainLosses.append(trainCurrentLoss) \n",
        "\n",
        " \n",
        "  with torch.no_grad(): # evaluation, don't calculate gradients\n",
        "    model.eval() # evaluation mode\n",
        "    batchLosses = []\n",
        "    for batch in valDataloader:\n",
        "\n",
        "      input_ids = batch['input_ids'].to(device)\n",
        "      attention_mask = batch['attention_mask'].to(device)\n",
        "      start_positions = batch['start_positions'].to(device)\n",
        "      end_positions = batch['end_positions'].to(device)\n",
        "      \n",
        "      output = model(input_ids, attention_mask=attention_mask, start_positions=start_positions, end_positions=end_positions)\n",
        "      batchLosses.append(output[0].item())\n",
        "\n",
        "  valCurrentLoss = sum(batchLosses)/len(valDataloader)\n",
        "  valLosses.append(valCurrentLoss)\n",
        "  print(\"-Epoch: {}/{}...\".format(i+1, epochs), \"Train Loss: {:.6f} |\".format(trainCurrentLoss), \"Val Loss: {:.6f}\".format(valCurrentLoss))"
      ]
    },
    {
      "cell_type": "code",
      "execution_count": null,
      "metadata": {
        "execution": {
          "iopub.execute_input": "2022-03-05T05:30:17.128096Z",
          "iopub.status.busy": "2022-03-05T05:30:17.127781Z",
          "iopub.status.idle": "2022-03-05T05:30:17.376922Z",
          "shell.execute_reply": "2022-03-05T05:30:17.376222Z",
          "shell.execute_reply.started": "2022-03-05T05:30:17.128061Z"
        },
        "id": "MimR1F_lmFKT",
        "outputId": "612d5880-6250-4347-f7af-cad1d6426609",
        "trusted": true
      },
      "outputs": [
        {
          "data": {
            "image/png": "[encoded data removed]",
            "text/plain": [
              "<Figure size 432x288 with 1 Axes>"
            ]
          },
          "metadata": {
            "needs_background": "light"
          },
          "output_type": "display_data"
        }
      ],
      "source": [
        "lossCurve(trainLosses,valLosses)"
      ]
    },
    {
      "cell_type": "code",
      "execution_count": 19,
      "metadata": {
        "execution": {
          "iopub.execute_input": "2022-03-05T05:30:17.118725Z",
          "iopub.status.busy": "2022-03-05T05:30:17.118437Z",
          "iopub.status.idle": "2022-03-05T05:30:17.126736Z",
          "shell.execute_reply": "2022-03-05T05:30:17.126044Z",
          "shell.execute_reply.started": "2022-03-05T05:30:17.118689Z"
        },
        "id": "ZFsdWgs8TJ9R",
        "trusted": true
      },
      "outputs": [],
      "source": [
        "def predictTheAnswer(text,question,model):\n",
        "  inputs = tokenizer.encode_plus(question, text, return_tensors='pt',max_length=512, truncation=True).to(device)\n",
        "\n",
        "  outputs = model(**inputs)\n",
        "  answer_start = torch.argmax(outputs[0])\n",
        "  answer_end = torch.argmax(outputs[1]) + 1 \n",
        "\n",
        "  answer = tokenizer.convert_tokens_to_string(tokenizer.convert_ids_to_tokens(inputs['input_ids'][0][answer_start:answer_end]))\n",
        "  return answer"
      ]
    },
    {
      "cell_type": "code",
      "execution_count": 20,
      "metadata": {
        "execution": {
          "iopub.execute_input": "2022-03-05T05:30:17.378831Z",
          "iopub.status.busy": "2022-03-05T05:30:17.378210Z",
          "iopub.status.idle": "2022-03-05T05:30:17.384469Z",
          "shell.execute_reply": "2022-03-05T05:30:17.383734Z",
          "shell.execute_reply.started": "2022-03-05T05:30:17.378790Z"
        },
        "id": "_8BLJpEATJ9R",
        "trusted": true
      },
      "outputs": [],
      "source": [
        "def prediction(contents,model):\n",
        "  predAnswers={}\n",
        "  for data in contents['data']:\n",
        "    for txt in data['paragraphs']: \n",
        "      text = txt['context']\n",
        "      for qa in txt['qas']:\n",
        "        qid = qa['id']\n",
        "        question = qa['question']\n",
        "        predAnswers[qid]=predictTheAnswer(text,question,model)\n",
        "  return predAnswers"
      ]
    },
    {
      "cell_type": "code",
      "execution_count": null,
      "metadata": {
        "execution": {
          "iopub.execute_input": "2022-03-05T05:30:17.386821Z",
          "iopub.status.busy": "2022-03-05T05:30:17.386287Z",
          "iopub.status.idle": "2022-03-05T05:32:36.376538Z",
          "shell.execute_reply": "2022-03-05T05:32:36.375762Z",
          "shell.execute_reply.started": "2022-03-05T05:30:17.386783Z"
        },
        "id": "bAGZXBh5TJ9R",
        "trusted": true
      },
      "outputs": [],
      "source": [
        "predAnswers=prediction(valContents,model)"
      ]
    },
    {
      "cell_type": "code",
      "execution_count": null,
      "metadata": {
        "execution": {
          "iopub.execute_input": "2022-03-05T05:32:36.378462Z",
          "iopub.status.busy": "2022-03-05T05:32:36.378204Z",
          "iopub.status.idle": "2022-03-05T05:32:36.395384Z",
          "shell.execute_reply": "2022-03-05T05:32:36.394634Z",
          "shell.execute_reply.started": "2022-03-05T05:32:36.378429Z"
        },
        "id": "x9yqdBGZTJ9R",
        "trusted": true
      },
      "outputs": [],
      "source": [
        "with open('results.txt', 'w') as convert_file:\n",
        "     convert_file.write(json.dumps(predAnswers))"
      ]
    },
    {
      "cell_type": "code",
      "execution_count": null,
      "metadata": {
        "colab": {
          "base_uri": "https://localhost:8080/"
        },
        "execution": {
          "iopub.execute_input": "2022-03-05T05:32:36.399595Z",
          "iopub.status.busy": "2022-03-05T05:32:36.399310Z",
          "iopub.status.idle": "2022-03-05T05:32:39.863010Z",
          "shell.execute_reply": "2022-03-05T05:32:39.862171Z",
          "shell.execute_reply.started": "2022-03-05T05:32:36.399564Z"
        },
        "id": "zETBx_A-TJ9S",
        "outputId": "e6720f73-1526-448f-a5e4-db8ea86cc928",
        "trusted": true
      },
      "outputs": [
        {
          "name": "stdout",
          "output_type": "stream",
          "text": [
            "{\n",
            "  \"exact\": 26.90979533395098,\n",
            "  \"f1\": 31.6935412928105,\n",
            "  \"total\": 11873,\n",
            "  \"HasAns_exact\": 41.34615384615385,\n",
            "  \"HasAns_f1\": 50.92736433359298,\n",
            "  \"HasAns_total\": 5928,\n",
            "  \"NoAns_exact\": 12.514718250630782,\n",
            "  \"NoAns_f1\": 12.514718250630782,\n",
            "  \"NoAns_total\": 5945\n",
            "}\n"
          ]
        }
      ],
      "source": [
        "!python evaluate-v2.0.py dev-v2.0.json results.txt"
      ]
    },
    {
      "cell_type": "code",
      "execution_count": 12,
      "metadata": {
        "colab": {
          "base_uri": "https://localhost:8080/"
        },
        "id": "OV6XfYaJWI3l",
        "outputId": "e2dbf26b-d2f8-44c6-d1aa-5260deea215e"
      },
      "outputs": [
        {
          "name": "stdout",
          "output_type": "stream",
          "text": [
            "Cloning into 'qa-dataset-converter'...\n",
            "remote: Enumerating objects: 27, done.\u001b[K\n",
            "remote: Counting objects: 100% (27/27), done.\u001b[K\n",
            "remote: Compressing objects: 100% (22/22), done.\u001b[K\n",
            "remote: Total 27 (delta 8), reused 9 (delta 1), pack-reused 0\u001b[K\n",
            "Unpacking objects: 100% (27/27), done.\n"
          ]
        }
      ],
      "source": [
        "!git clone https://github.com/amazon-research/qa-dataset-converter"
      ]
    },
    {
      "cell_type": "markdown",
      "metadata": {
        "id": "gts0LAGQvwgT"
      },
      "source": [
        "## TriviaQA"
      ]
    },
    {
      "cell_type": "code",
      "execution_count": null,
      "metadata": {
        "colab": {
          "base_uri": "https://localhost:8080/"
        },
        "id": "cfDO8HoXUg9H",
        "outputId": "281e02a9-d5ec-441b-cf00-efa9af7c7af9"
      },
      "outputs": [
        {
          "name": "stdout",
          "output_type": "stream",
          "text": [
            "--2022-03-08 20:56:59--  https://nlp.cs.washington.edu/triviaqa/data/triviaqa-rc.tar.gz\n",
            "Resolving nlp.cs.washington.edu (nlp.cs.washington.edu)... 128.208.3.120, 2607:4000:200:12::78\n",
            "Connecting to nlp.cs.washington.edu (nlp.cs.washington.edu)|128.208.3.120|:443... connected.\n",
            "HTTP request sent, awaiting response... 200 OK\n",
            "Length: 2665779500 (2.5G) [application/x-gzip]\n",
            "Saving to: ‘triviaqa-rc.tar.gz’\n",
            "\n",
            "triviaqa-rc.tar.gz  100%[===================>]   2.48G  15.9MB/s    in 3m 4s   \n",
            "\n",
            "2022-03-08 21:00:04 (13.8 MB/s) - ‘triviaqa-rc.tar.gz’ saved [2665779500/2665779500]\n",
            "\n"
          ]
        }
      ],
      "source": [
        "!wget https://nlp.cs.washington.edu/triviaqa/data/triviaqa-rc.tar.gz"
      ]
    },
    {
      "cell_type": "code",
      "execution_count": null,
      "metadata": {
        "id": "BZ3yl94JUhuF"
      },
      "outputs": [],
      "source": [
        "import tarfile\n",
        "fname = \"triviaqa-rc.tar.gz\"\n",
        "if fname.endswith(\"tar.gz\"):\n",
        "    tar = tarfile.open(fname, \"r:gz\")\n",
        "    tar.extractall()\n",
        "    tar.close()"
      ]
    },
    {
      "cell_type": "code",
      "execution_count": null,
      "metadata": {
        "colab": {
          "base_uri": "https://localhost:8080/"
        },
        "id": "y07l-LCeUjN1",
        "outputId": "5de41914-97f5-422a-ef6e-31d7404e7d76"
      },
      "outputs": [
        {
          "name": "stdout",
          "output_type": "stream",
          "text": [
            "Cloning into 'triviaqa'...\n",
            "remote: Enumerating objects: 67, done.\u001b[K\n",
            "remote: Total 67 (delta 0), reused 0 (delta 0), pack-reused 67\u001b[K\n",
            "Unpacking objects: 100% (67/67), done.\n"
          ]
        }
      ],
      "source": [
        "!git clone https://github.com/mandarjoshi90/triviaqa"
      ]
    },
    {
      "cell_type": "code",
      "execution_count": null,
      "metadata": {
        "id": "cLhnKfLRUkMk"
      },
      "outputs": [],
      "source": [
        "!mv /content/qa-dataset-converter/triviaqa/triviaqa_to_squad.py  triviaqa/"
      ]
    },
    {
      "cell_type": "code",
      "execution_count": null,
      "metadata": {
        "colab": {
          "base_uri": "https://localhost:8080/"
        },
        "id": "qVC-VM7dUlVK",
        "outputId": "cdef6724-0cb2-4fb6-cb77-27a638fe670d"
      },
      "outputs": [
        {
          "name": "stdout",
          "output_type": "stream",
          "text": [
            "[nltk_data] Downloading package punkt to /root/nltk_data...\n",
            "[nltk_data]   Unzipping tokenizers/punkt.zip.\n"
          ]
        },
        {
          "data": {
            "text/plain": [
              "True"
            ]
          },
          "execution_count": 4,
          "metadata": {},
          "output_type": "execute_result"
        }
      ],
      "source": [
        "import nltk\n",
        "nltk.download('punkt')"
      ]
    },
    {
      "cell_type": "code",
      "execution_count": null,
      "metadata": {
        "id": "47B4228MUmIF"
      },
      "outputs": [],
      "source": [
        "!python /content/triviaqa/triviaqa_to_squad.py --triviaqa_file qa/wikipedia-dev.json --data_dir evidence/wikipedia/ --output_file triviaqa_dev.json"
      ]
    },
    {
      "cell_type": "code",
      "execution_count": null,
      "metadata": {
        "id": "QjDGf2yxUv00"
      },
      "outputs": [],
      "source": [
        "jsontriviaqa = \"triviaqa_dev.json\"\n",
        "\n",
        "with open(jsontriviaqa, 'r') as j:\n",
        "     triviaqaContents = json.loads(j.read())"
      ]
    },
    {
      "cell_type": "code",
      "execution_count": null,
      "metadata": {
        "id": "w4sxA0LrUwkF"
      },
      "outputs": [],
      "source": [
        "predAnswersTrivia=prediction(triviaqaContents,model)"
      ]
    },
    {
      "cell_type": "code",
      "execution_count": null,
      "metadata": {
        "id": "-eDa6O-lUxgB"
      },
      "outputs": [],
      "source": [
        "with open('resultsTriviaPredictedAnswers.txt', 'w') as convert_file:\n",
        "     convert_file.write(json.dumps(predAnswersTrivia))"
      ]
    },
    {
      "cell_type": "code",
      "execution_count": null,
      "metadata": {
        "colab": {
          "base_uri": "https://localhost:8080/"
        },
        "id": "w2WbOSLDUyPv",
        "outputId": "534f22b6-fff5-456e-a629-b2b882612840"
      },
      "outputs": [
        {
          "name": "stdout",
          "output_type": "stream",
          "text": [
            "{\n",
            "  \"exact\": 16.31878557874763,\n",
            "  \"f1\": 19.836033537520148,\n",
            "  \"total\": 14229,\n",
            "  \"HasAns_exact\": 11.156269051005893,\n",
            "  \"HasAns_f1\": 16.241304735356117,\n",
            "  \"HasAns_total\": 9842,\n",
            "  \"NoAns_exact\": 27.90061545475268,\n",
            "  \"NoAns_f1\": 27.90061545475268,\n",
            "  \"NoAns_total\": 4387\n",
            "}\n"
          ]
        }
      ],
      "source": [
        "!python evaluate-v2.0.py triviaqa_dev.json resultsTriviaPredictedAnswers.txt"
      ]
    },
    {
      "cell_type": "markdown",
      "metadata": {
        "id": "punU_U_mv7NC"
      },
      "source": [
        "## QUAC"
      ]
    },
    {
      "cell_type": "code",
      "execution_count": null,
      "metadata": {
        "colab": {
          "base_uri": "https://localhost:8080/"
        },
        "id": "OSDybqaPl7si",
        "outputId": "ff55fe61-d732-46c7-ff32-00429c9a0679"
      },
      "outputs": [
        {
          "name": "stdout",
          "output_type": "stream",
          "text": [
            "--2022-03-08 22:13:15--  https://s3.amazonaws.com/my89public/quac/val_v0.2.json\n",
            "Resolving s3.amazonaws.com (s3.amazonaws.com)... 52.217.17.134\n",
            "Connecting to s3.amazonaws.com (s3.amazonaws.com)|52.217.17.134|:443... connected.\n",
            "HTTP request sent, awaiting response... 200 OK\n",
            "Length: 8929167 (8.5M) [application/json]\n",
            "Saving to: ‘val_v0.2.json’\n",
            "\n",
            "val_v0.2.json       100%[===================>]   8.51M  4.42MB/s    in 1.9s    \n",
            "\n",
            "2022-03-08 22:13:18 (4.42 MB/s) - ‘val_v0.2.json’ saved [8929167/8929167]\n",
            "\n"
          ]
        }
      ],
      "source": [
        "!wget https://s3.amazonaws.com/my89public/quac/val_v0.2.json"
      ]
    },
    {
      "cell_type": "code",
      "execution_count": null,
      "metadata": {
        "colab": {
          "base_uri": "https://localhost:8080/"
        },
        "id": "KZ3Z8Xw9l9TF",
        "outputId": "459a16d1-7f5c-4193-a039-167c886050c5"
      },
      "outputs": [
        {
          "name": "stdout",
          "output_type": "stream",
          "text": [
            "python3: can't open file '/content/qa-dataset-converter/quac/quac_to_squad.py': [Errno 2] No such file or directory\n"
          ]
        }
      ],
      "source": [
        "!python /content/qa-dataset-converter/quac/quac_to_squad.py --quac_file val_v0.2.json --output_file quac_dev.json"
      ]
    },
    {
      "cell_type": "code",
      "execution_count": null,
      "metadata": {
        "id": "qLyHnIjul-_F"
      },
      "outputs": [],
      "source": [
        "jsonValQuAC = \"/content/quac_dev.json\"\n",
        "\n",
        "with open(jsonValQuAC, 'r') as j:\n",
        "     QuACValContents = json.loads(j.read())"
      ]
    },
    {
      "cell_type": "code",
      "execution_count": null,
      "metadata": {
        "id": "eAyhMzQPmEEV"
      },
      "outputs": [],
      "source": [
        "predAnswersQuAC=prediction(QuACValContents,model)"
      ]
    },
    {
      "cell_type": "code",
      "execution_count": null,
      "metadata": {
        "id": "Nc2PlcvDmJCu"
      },
      "outputs": [],
      "source": [
        "with open('resultsQuACPredictedAnswers.txt', 'w') as convert_file:\n",
        "     convert_file.write(json.dumps(predAnswersQuAC))"
      ]
    },
    {
      "cell_type": "code",
      "execution_count": null,
      "metadata": {
        "colab": {
          "base_uri": "https://localhost:8080/"
        },
        "id": "Bjmo2jzJmE5s",
        "outputId": "8d947586-5e88-442c-c3ae-bc0a13eb8d3c"
      },
      "outputs": [
        {
          "name": "stdout",
          "output_type": "stream",
          "text": [
            "{\n",
            "  \"exact\": 6.023932553712266,\n",
            "  \"f1\": 12.548489200752222,\n",
            "  \"total\": 7354,\n",
            "  \"HasAns_exact\": 1.141785957736878,\n",
            "  \"HasAns_f1\": 9.318607631617578,\n",
            "  \"HasAns_total\": 5868,\n",
            "  \"NoAns_exact\": 25.302826379542395,\n",
            "  \"NoAns_f1\": 25.302826379542395,\n",
            "  \"NoAns_total\": 1486\n",
            "}\n"
          ]
        }
      ],
      "source": [
        "!python evaluate-v2.0.py quac_dev.json resultsQuACPredictedAnswers.txt"
      ]
    },
    {
      "cell_type": "markdown",
      "metadata": {
        "id": "oRusStzkv-nM"
      },
      "source": [
        "## NQ"
      ]
    },
    {
      "cell_type": "code",
      "execution_count": null,
      "metadata": {
        "colab": {
          "base_uri": "https://localhost:8080/"
        },
        "id": "-oobxE7FoNpB",
        "outputId": "e91e1bfd-1c27-4dac-d375-e695c1ffa100"
      },
      "outputs": [
        {
          "name": "stdout",
          "output_type": "stream",
          "text": [
            "Copying gs://natural_questions/v1.0/README.txt...\n",
            "/ [0/62 files][    0.0 B/ 42.0 GiB]   0% Done                                   \rCopying gs://natural_questions/v1.0/LICENSE.txt...\n",
            "Copying gs://natural_questions/v1.0/dev/nq-dev-00.jsonl.gz...\n",
            "/ [0/62 files][    0.0 B/ 42.0 GiB]   0% Done                                   \r/ [0/62 files][    0.0 B/ 42.0 GiB]   0% Done                                   \rCopying gs://natural_questions/v1.0/dev/nq-dev-01.jsonl.gz...\n",
            "/ [0/62 files][    0.0 B/ 42.0 GiB]   0% Done                                   \rCopying gs://natural_questions/v1.0/dev/nq-dev-02.jsonl.gz...\n",
            "/ [0/62 files][    0.0 B/ 42.0 GiB]   0% Done                                   \rCopying gs://natural_questions/v1.0/sample/nq-train-sample.jsonl.gz...\n",
            "/ [0/62 files][    0.0 B/ 42.0 GiB]   0% Done                                   \rCopying gs://natural_questions/v1.0/sample/nq-dev-sample.jsonl.gz...\n",
            "/ [0/62 files][    0.0 B/ 42.0 GiB]   0% Done                                   \rCopying gs://natural_questions/v1.0/dev/nq-dev-04.jsonl.gz...\n",
            "/ [0/62 files][    0.0 B/ 42.0 GiB]   0% Done                                   \rCopying gs://natural_questions/v1.0/dev/nq-dev-03.jsonl.gz...\n",
            "Copying gs://natural_questions/v1.0/train/nq-train-00.jsonl.gz...\n",
            "Copying gs://natural_questions/v1.0/train/nq-train-01.jsonl.gz...\n",
            "Copying gs://natural_questions/v1.0/train/nq-train-02.jsonl.gz...\n",
            "Copying gs://natural_questions/v1.0/train/nq-train-03.jsonl.gz...\n",
            "Copying gs://natural_questions/v1.0/train/nq-train-04.jsonl.gz...\n",
            "Copying gs://natural_questions/v1.0/train/nq-train-05.jsonl.gz...\n",
            "Copying gs://natural_questions/v1.0/train/nq-train-06.jsonl.gz...\n",
            "Copying gs://natural_questions/v1.0/train/nq-train-07.jsonl.gz...\n",
            "Copying gs://natural_questions/v1.0/train/nq-train-08.jsonl.gz...\n",
            "Copying gs://natural_questions/v1.0/train/nq-train-09.jsonl.gz...\n",
            "Copying gs://natural_questions/v1.0/train/nq-train-10.jsonl.gz...\n",
            "Copying gs://natural_questions/v1.0/train/nq-train-11.jsonl.gz...\n",
            "Copying gs://natural_questions/v1.0/train/nq-train-12.jsonl.gz...\n",
            "Copying gs://natural_questions/v1.0/train/nq-train-13.jsonl.gz...\n",
            "Copying gs://natural_questions/v1.0/train/nq-train-14.jsonl.gz...\n",
            "Copying gs://natural_questions/v1.0/train/nq-train-15.jsonl.gz...\n",
            "Copying gs://natural_questions/v1.0/train/nq-train-16.jsonl.gz...\n",
            "Copying gs://natural_questions/v1.0/train/nq-train-17.jsonl.gz...\n",
            "Copying gs://natural_questions/v1.0/train/nq-train-18.jsonl.gz...\n",
            "Copying gs://natural_questions/v1.0/train/nq-train-19.jsonl.gz...\n",
            "Copying gs://natural_questions/v1.0/train/nq-train-20.jsonl.gz...\n",
            "Copying gs://natural_questions/v1.0/train/nq-train-21.jsonl.gz...\n",
            "Copying gs://natural_questions/v1.0/train/nq-train-22.jsonl.gz...\n",
            "Copying gs://natural_questions/v1.0/train/nq-train-23.jsonl.gz...\n",
            "Copying gs://natural_questions/v1.0/train/nq-train-24.jsonl.gz...\n",
            "Copying gs://natural_questions/v1.0/train/nq-train-25.jsonl.gz...\n",
            "Copying gs://natural_questions/v1.0/train/nq-train-26.jsonl.gz...\n",
            "Copying gs://natural_questions/v1.0/train/nq-train-27.jsonl.gz...\n",
            "Copying gs://natural_questions/v1.0/train/nq-train-28.jsonl.gz...\n",
            "Copying gs://natural_questions/v1.0/train/nq-train-29.jsonl.gz...\n",
            "Copying gs://natural_questions/v1.0/train/nq-train-30.jsonl.gz...\n",
            "Copying gs://natural_questions/v1.0/train/nq-train-31.jsonl.gz...\n",
            "Copying gs://natural_questions/v1.0/train/nq-train-32.jsonl.gz...\n",
            "Copying gs://natural_questions/v1.0/train/nq-train-33.jsonl.gz...\n",
            "Copying gs://natural_questions/v1.0/train/nq-train-34.jsonl.gz...\n",
            "Copying gs://natural_questions/v1.0/train/nq-train-35.jsonl.gz...\n",
            "Copying gs://natural_questions/v1.0/train/nq-train-36.jsonl.gz...\n",
            "Copying gs://natural_questions/v1.0/train/nq-train-37.jsonl.gz...\n",
            "Copying gs://natural_questions/v1.0/train/nq-train-38.jsonl.gz...\n",
            "Copying gs://natural_questions/v1.0/train/nq-train-39.jsonl.gz...\n",
            "Copying gs://natural_questions/v1.0/train/nq-train-40.jsonl.gz...\n",
            "Copying gs://natural_questions/v1.0/train/nq-train-41.jsonl.gz...\n",
            "Copying gs://natural_questions/v1.0/train/nq-train-42.jsonl.gz...\n",
            "Copying gs://natural_questions/v1.0/train/nq-train-43.jsonl.gz...\n",
            "Copying gs://natural_questions/v1.0/train/nq-train-44.jsonl.gz...\n",
            "Copying gs://natural_questions/v1.0/train/nq-train-45.jsonl.gz...\n",
            "Copying gs://natural_questions/v1.0/train/nq-train-46.jsonl.gz...\n",
            "Copying gs://natural_questions/v1.0/train/nq-train-47.jsonl.gz...\n",
            "Copying gs://natural_questions/v1.0/train/nq-train-48.jsonl.gz...\n",
            "Copying gs://natural_questions/v1.0/train/nq-train-49.jsonl.gz...\n"
          ]
        }
      ],
      "source": [
        "!gsutil -m cp -R gs://natural_questions/v1.0 \"/content/drive/MyDrive\""
      ]
    },
    {
      "cell_type": "code",
      "execution_count": null,
      "metadata": {
        "id": "nE8S3-4mpGx3"
      },
      "outputs": [],
      "source": [
        "!python /content/qa-dataset-converter/nq/nq_to_squad.py --nq_dir \"/content/drive/MyDrive/v1.0/dev\" --output_file nq_dev.json\n"
      ]
    },
    {
      "cell_type": "code",
      "execution_count": null,
      "metadata": {
        "id": "u4cKMMh4pLVo"
      },
      "outputs": [],
      "source": [
        "jsonValnatural = \"/content/nq_dev.json\"\n",
        "\n",
        "with open(jsonValnatural, 'r') as j:\n",
        "     naturalValContents = json.loads(j.read())"
      ]
    },
    {
      "cell_type": "code",
      "execution_count": null,
      "metadata": {
        "id": "lmF-2yUx4FjI"
      },
      "outputs": [],
      "source": [
        "predAnswersNatural=prediction(naturalValContents,model)"
      ]
    },
    {
      "cell_type": "code",
      "execution_count": null,
      "metadata": {
        "id": "1CQ89zSPAJfA"
      },
      "outputs": [],
      "source": [
        "with open('resultsNaturalPredictedAnswers.txt', 'w') as convert_file:\n",
        "     convert_file.write(json.dumps(predAnswersNatural))"
      ]
    },
    {
      "cell_type": "code",
      "execution_count": null,
      "metadata": {
        "colab": {
          "base_uri": "https://localhost:8080/"
        },
        "id": "anxlbQ-4v0RS",
        "outputId": "4def1dac-3c08-4a69-ae64-b3cb2b71ec08"
      },
      "outputs": [
        {
          "name": "stdout",
          "output_type": "stream",
          "text": [
            "{\n",
            "  \"exact\": 18.017215791035916,\n",
            "  \"f1\": 26.30832092861449,\n",
            "  \"total\": 3369,\n",
            "  \"HasAns_exact\": 16.723259762309,\n",
            "  \"HasAns_f1\": 28.579258577462742,\n",
            "  \"HasAns_total\": 2356,\n",
            "  \"NoAns_exact\": 21.02665350444225,\n",
            "  \"NoAns_f1\": 21.02665350444225,\n",
            "  \"NoAns_total\": 1013\n",
            "}\n"
          ]
        }
      ],
      "source": [
        "!python evaluate-v2.0.py nq_dev.json resultsNaturalPredictedAnswers.txt"
      ]
    },
    {
      "cell_type": "markdown",
      "metadata": {
        "id": "gFs7TvK9-gMZ"
      },
      "source": [
        "## NewsQA"
      ]
    },
    {
      "cell_type": "code",
      "execution_count": null,
      "metadata": {
        "id": "B4ZIpazkE1Qi"
      },
      "outputs": [],
      "source": [
        "!python /content/qa-dataset-converter/newsqa/newsqa_to_squad.py --newsqa_file /content/drive/MyDrive/datasets/newsqa_dev.json --output_file newsqa_dev.json"
      ]
    },
    {
      "cell_type": "code",
      "execution_count": 29,
      "metadata": {
        "id": "kR2Nh0Fv-TG7"
      },
      "outputs": [],
      "source": [
        "jsonValnatural = \"/content/newsqa_dev.json\"\n",
        "\n",
        "with open(jsonValnatural, 'r') as j:\n",
        "     newsQAValContents = json.loads(j.read())"
      ]
    },
    {
      "cell_type": "code",
      "execution_count": 23,
      "metadata": {
        "id": "U0TsDJ-x-le-"
      },
      "outputs": [],
      "source": [
        "predAnswersnewsQA=prediction(newsQAValContents,model)"
      ]
    },
    {
      "cell_type": "code",
      "execution_count": 25,
      "metadata": {
        "id": "EPl7R71LCr1h"
      },
      "outputs": [],
      "source": [
        "with open('resultsnewsQAPredictedAnswers.txt', 'w') as convert_file:\n",
        "     convert_file.write(json.dumps(predAnswersnewsQA))"
      ]
    },
    {
      "cell_type": "code",
      "execution_count": 28,
      "metadata": {
        "colab": {
          "base_uri": "https://localhost:8080/"
        },
        "id": "XU63L80aCm2_",
        "outputId": "c95dc06e-14b1-47f8-eb15-ff3c62f7cb96"
      },
      "outputs": [
        {
          "name": "stdout",
          "output_type": "stream",
          "text": [
            "{\n",
            "  \"exact\": 9.368950832365467,\n",
            "  \"f1\": 16.191332038236872,\n",
            "  \"total\": 5166,\n",
            "  \"HasAns_exact\": 9.368950832365467,\n",
            "  \"HasAns_f1\": 16.191332038236872,\n",
            "  \"HasAns_total\": 5166\n",
            "}\n"
          ]
        }
      ],
      "source": [
        "!python evaluate-v2.0.py newsqa_dev.json resultsnewsQAPredictedAnswers.txt"
      ]
    }
  ],
  "metadata": {
    "accelerator": "GPU",
    "colab": {
      "collapsed_sections": [],
      "name": "hw4_Squad_part2part3.ipynb",
      "provenance": []
    },
    "kernelspec": {
      "display_name": "Python 3",
      "language": "python",
      "name": "python3"
    },
    "language_info": {
      "codemirror_mode": {
        "name": "ipython",
        "version": 3
      },
      "file_extension": ".py",
      "mimetype": "text/x-python",
      "name": "python",
      "nbconvert_exporter": "python",
      "pygments_lexer": "ipython3",
      "version": "3.7.12"
    },
    "widgets": {
      "application/vnd.jupyter.widget-state+json": {
        "00cc57178c8748a0afb13f732debdbc2": {
          "model_module": "@jupyter-widgets/controls",
          "model_module_version": "1.5.0",
          "model_name": "ProgressStyleModel",
          "state": {
            "_model_module": "@jupyter-widgets/controls",
            "_model_module_version": "1.5.0",
            "_model_name": "ProgressStyleModel",
            "_view_count": null,
            "_view_module": "@jupyter-widgets/base",
            "_view_module_version": "1.2.0",
            "_view_name": "StyleView",
            "bar_color": null,
            "description_width": ""
          }
        },
        "02f2c27cb7354b9a8e7ea440a3aa7ca0": {
          "model_module": "@jupyter-widgets/controls",
          "model_module_version": "1.5.0",
          "model_name": "FloatProgressModel",
          "state": {
            "_dom_classes": [],
            "_model_module": "@jupyter-widgets/controls",
            "_model_module_version": "1.5.0",
            "_model_name": "FloatProgressModel",
            "_view_count": null,
            "_view_module": "@jupyter-widgets/controls",
            "_view_module_version": "1.5.0",
            "_view_name": "ProgressView",
            "bar_style": "success",
            "description": "",
            "description_tooltip": null,
            "layout": "IPY_MODEL_45727d9abcc24e849aae43d68212153a",
            "max": 466062,
            "min": 0,
            "orientation": "horizontal",
            "style": "IPY_MODEL_d076da03d4f4416b82e1aed793baf1d1",
            "value": 466062
          }
        },
        "031d8af6e7424d42a21e79b6ad806a88": {
          "model_module": "@jupyter-widgets/controls",
          "model_module_version": "1.5.0",
          "model_name": "FloatProgressModel",
          "state": {
            "_dom_classes": [],
            "_model_module": "@jupyter-widgets/controls",
            "_model_module_version": "1.5.0",
            "_model_name": "FloatProgressModel",
            "_view_count": null,
            "_view_module": "@jupyter-widgets/controls",
            "_view_module_version": "1.5.0",
            "_view_name": "ProgressView",
            "bar_style": "success",
            "description": "",
            "description_tooltip": null,
            "layout": "IPY_MODEL_9871e11d57c54ca1a850391581ac1321",
            "max": 28,
            "min": 0,
            "orientation": "horizontal",
            "style": "IPY_MODEL_8519da8d5fbe49079f35a177b1fa8199",
            "value": 28
          }
        },
        "05dba6cdde734209a727710844641a66": {
          "model_module": "@jupyter-widgets/controls",
          "model_module_version": "1.5.0",
          "model_name": "HBoxModel",
          "state": {
            "_dom_classes": [],
            "_model_module": "@jupyter-widgets/controls",
            "_model_module_version": "1.5.0",
            "_model_name": "HBoxModel",
            "_view_count": null,
            "_view_module": "@jupyter-widgets/controls",
            "_view_module_version": "1.5.0",
            "_view_name": "HBoxView",
            "box_style": "",
            "children": [
              "IPY_MODEL_92c4f591e2414856989f4768ffea09d7",
              "IPY_MODEL_371b186ce1ad44358ef7f2d3ee423381",
              "IPY_MODEL_4d35a02361b04b0c866787973f341690"
            ],
            "layout": "IPY_MODEL_44c3ef545a3945aca68b839ce61224bc"
          }
        },
        "07c244c6ca4d4c60bc666d10e7d5ff71": {
          "model_module": "@jupyter-widgets/base",
          "model_module_version": "1.2.0",
          "model_name": "LayoutModel",
          "state": {
            "_model_module": "@jupyter-widgets/base",
            "_model_module_version": "1.2.0",
            "_model_name": "LayoutModel",
            "_view_count": null,
            "_view_module": "@jupyter-widgets/base",
            "_view_module_version": "1.2.0",
            "_view_name": "LayoutView",
            "align_content": null,
            "align_items": null,
            "align_self": null,
            "border": null,
            "bottom": null,
            "display": null,
            "flex": null,
            "flex_flow": null,
            "grid_area": null,
            "grid_auto_columns": null,
            "grid_auto_flow": null,
            "grid_auto_rows": null,
            "grid_column": null,
            "grid_gap": null,
            "grid_row": null,
            "grid_template_areas": null,
            "grid_template_columns": null,
            "grid_template_rows": null,
            "height": null,
            "justify_content": null,
            "justify_items": null,
            "left": null,
            "margin": null,
            "max_height": null,
            "max_width": null,
            "min_height": null,
            "min_width": null,
            "object_fit": null,
            "object_position": null,
            "order": null,
            "overflow": null,
            "overflow_x": null,
            "overflow_y": null,
            "padding": null,
            "right": null,
            "top": null,
            "visibility": null,
            "width": null
          }
        },
        "086eece48489455dbe447e38100640af": {
          "model_module": "@jupyter-widgets/controls",
          "model_module_version": "1.5.0",
          "model_name": "DescriptionStyleModel",
          "state": {
            "_model_module": "@jupyter-widgets/controls",
            "_model_module_version": "1.5.0",
            "_model_name": "DescriptionStyleModel",
            "_view_count": null,
            "_view_module": "@jupyter-widgets/base",
            "_view_module_version": "1.2.0",
            "_view_name": "StyleView",
            "description_width": ""
          }
        },
        "0b14850e76e54e4a85cea28e92caa580": {
          "model_module": "@jupyter-widgets/base",
          "model_module_version": "1.2.0",
          "model_name": "LayoutModel",
          "state": {
            "_model_module": "@jupyter-widgets/base",
            "_model_module_version": "1.2.0",
            "_model_name": "LayoutModel",
            "_view_count": null,
            "_view_module": "@jupyter-widgets/base",
            "_view_module_version": "1.2.0",
            "_view_name": "LayoutView",
            "align_content": null,
            "align_items": null,
            "align_self": null,
            "border": null,
            "bottom": null,
            "display": null,
            "flex": null,
            "flex_flow": null,
            "grid_area": null,
            "grid_auto_columns": null,
            "grid_auto_flow": null,
            "grid_auto_rows": null,
            "grid_column": null,
            "grid_gap": null,
            "grid_row": null,
            "grid_template_areas": null,
            "grid_template_columns": null,
            "grid_template_rows": null,
            "height": null,
            "justify_content": null,
            "justify_items": null,
            "left": null,
            "margin": null,
            "max_height": null,
            "max_width": null,
            "min_height": null,
            "min_width": null,
            "object_fit": null,
            "object_position": null,
            "order": null,
            "overflow": null,
            "overflow_x": null,
            "overflow_y": null,
            "padding": null,
            "right": null,
            "top": null,
            "visibility": null,
            "width": null
          }
        },
        "0edc8ad54f454e35829408ace17c3b68": {
          "model_module": "@jupyter-widgets/base",
          "model_module_version": "1.2.0",
          "model_name": "LayoutModel",
          "state": {
            "_model_module": "@jupyter-widgets/base",
            "_model_module_version": "1.2.0",
            "_model_name": "LayoutModel",
            "_view_count": null,
            "_view_module": "@jupyter-widgets/base",
            "_view_module_version": "1.2.0",
            "_view_name": "LayoutView",
            "align_content": null,
            "align_items": null,
            "align_self": null,
            "border": null,
            "bottom": null,
            "display": null,
            "flex": null,
            "flex_flow": null,
            "grid_area": null,
            "grid_auto_columns": null,
            "grid_auto_flow": null,
            "grid_auto_rows": null,
            "grid_column": null,
            "grid_gap": null,
            "grid_row": null,
            "grid_template_areas": null,
            "grid_template_columns": null,
            "grid_template_rows": null,
            "height": null,
            "justify_content": null,
            "justify_items": null,
            "left": null,
            "margin": null,
            "max_height": null,
            "max_width": null,
            "min_height": null,
            "min_width": null,
            "object_fit": null,
            "object_position": null,
            "order": null,
            "overflow": null,
            "overflow_x": null,
            "overflow_y": null,
            "padding": null,
            "right": null,
            "top": null,
            "visibility": null,
            "width": null
          }
        },
        "129084251b6e470d840815893a9f6172": {
          "model_module": "@jupyter-widgets/controls",
          "model_module_version": "1.5.0",
          "model_name": "HBoxModel",
          "state": {
            "_dom_classes": [],
            "_model_module": "@jupyter-widgets/controls",
            "_model_module_version": "1.5.0",
            "_model_name": "HBoxModel",
            "_view_count": null,
            "_view_module": "@jupyter-widgets/controls",
            "_view_module_version": "1.5.0",
            "_view_name": "HBoxView",
            "box_style": "",
            "children": [
              "IPY_MODEL_9925f3ab25654beaa3026b6b9251305c",
              "IPY_MODEL_664c5206f8bb4ac1a7126f0cc896f98a",
              "IPY_MODEL_2c759d4218c94a2dab4682c9c2f23018"
            ],
            "layout": "IPY_MODEL_52019834604e465fa539a8676b1d5682"
          }
        },
        "14fa3844f66c42008575cf72bd67a5ac": {
          "model_module": "@jupyter-widgets/base",
          "model_module_version": "1.2.0",
          "model_name": "LayoutModel",
          "state": {
            "_model_module": "@jupyter-widgets/base",
            "_model_module_version": "1.2.0",
            "_model_name": "LayoutModel",
            "_view_count": null,
            "_view_module": "@jupyter-widgets/base",
            "_view_module_version": "1.2.0",
            "_view_name": "LayoutView",
            "align_content": null,
            "align_items": null,
            "align_self": null,
            "border": null,
            "bottom": null,
            "display": null,
            "flex": null,
            "flex_flow": null,
            "grid_area": null,
            "grid_auto_columns": null,
            "grid_auto_flow": null,
            "grid_auto_rows": null,
            "grid_column": null,
            "grid_gap": null,
            "grid_row": null,
            "grid_template_areas": null,
            "grid_template_columns": null,
            "grid_template_rows": null,
            "height": null,
            "justify_content": null,
            "justify_items": null,
            "left": null,
            "margin": null,
            "max_height": null,
            "max_width": null,
            "min_height": null,
            "min_width": null,
            "object_fit": null,
            "object_position": null,
            "order": null,
            "overflow": null,
            "overflow_x": null,
            "overflow_y": null,
            "padding": null,
            "right": null,
            "top": null,
            "visibility": null,
            "width": null
          }
        },
        "17aaffa75473450bb0ddfcc06499d691": {
          "model_module": "@jupyter-widgets/controls",
          "model_module_version": "1.5.0",
          "model_name": "HTMLModel",
          "state": {
            "_dom_classes": [],
            "_model_module": "@jupyter-widgets/controls",
            "_model_module_version": "1.5.0",
            "_model_name": "HTMLModel",
            "_view_count": null,
            "_view_module": "@jupyter-widgets/controls",
            "_view_module_version": "1.5.0",
            "_view_name": "HTMLView",
            "description": "",
            "description_tooltip": null,
            "layout": "IPY_MODEL_2deb82e5d0614a2cb6317e6a0243b63b",
            "placeholder": "​",
            "style": "IPY_MODEL_196cb05b4bb04d11851a4e91f3e19565",
            "value": " 28.0/28.0 [00:00&lt;00:00, 159B/s]"
          }
        },
        "196cb05b4bb04d11851a4e91f3e19565": {
          "model_module": "@jupyter-widgets/controls",
          "model_module_version": "1.5.0",
          "model_name": "DescriptionStyleModel",
          "state": {
            "_model_module": "@jupyter-widgets/controls",
            "_model_module_version": "1.5.0",
            "_model_name": "DescriptionStyleModel",
            "_view_count": null,
            "_view_module": "@jupyter-widgets/base",
            "_view_module_version": "1.2.0",
            "_view_name": "StyleView",
            "description_width": ""
          }
        },
        "20a2126c878d4e8294dc0b3bf92ec634": {
          "model_module": "@jupyter-widgets/base",
          "model_module_version": "1.2.0",
          "model_name": "LayoutModel",
          "state": {
            "_model_module": "@jupyter-widgets/base",
            "_model_module_version": "1.2.0",
            "_model_name": "LayoutModel",
            "_view_count": null,
            "_view_module": "@jupyter-widgets/base",
            "_view_module_version": "1.2.0",
            "_view_name": "LayoutView",
            "align_content": null,
            "align_items": null,
            "align_self": null,
            "border": null,
            "bottom": null,
            "display": null,
            "flex": null,
            "flex_flow": null,
            "grid_area": null,
            "grid_auto_columns": null,
            "grid_auto_flow": null,
            "grid_auto_rows": null,
            "grid_column": null,
            "grid_gap": null,
            "grid_row": null,
            "grid_template_areas": null,
            "grid_template_columns": null,
            "grid_template_rows": null,
            "height": null,
            "justify_content": null,
            "justify_items": null,
            "left": null,
            "margin": null,
            "max_height": null,
            "max_width": null,
            "min_height": null,
            "min_width": null,
            "object_fit": null,
            "object_position": null,
            "order": null,
            "overflow": null,
            "overflow_x": null,
            "overflow_y": null,
            "padding": null,
            "right": null,
            "top": null,
            "visibility": null,
            "width": null
          }
        },
        "2461eb7073374dbba3b7c7544caac676": {
          "model_module": "@jupyter-widgets/controls",
          "model_module_version": "1.5.0",
          "model_name": "HTMLModel",
          "state": {
            "_dom_classes": [],
            "_model_module": "@jupyter-widgets/controls",
            "_model_module_version": "1.5.0",
            "_model_name": "HTMLModel",
            "_view_count": null,
            "_view_module": "@jupyter-widgets/controls",
            "_view_module_version": "1.5.0",
            "_view_name": "HTMLView",
            "description": "",
            "description_tooltip": null,
            "layout": "IPY_MODEL_eadba510f9374d5a9d6b305be55b9236",
            "placeholder": "​",
            "style": "IPY_MODEL_d9a103e6befb43dcba9bda39f4aea3d2",
            "value": " 226k/226k [00:00&lt;00:00, 956kB/s]"
          }
        },
        "260886421df34cb2830a594d4c44c7c6": {
          "model_module": "@jupyter-widgets/controls",
          "model_module_version": "1.5.0",
          "model_name": "DescriptionStyleModel",
          "state": {
            "_model_module": "@jupyter-widgets/controls",
            "_model_module_version": "1.5.0",
            "_model_name": "DescriptionStyleModel",
            "_view_count": null,
            "_view_module": "@jupyter-widgets/base",
            "_view_module_version": "1.2.0",
            "_view_name": "StyleView",
            "description_width": ""
          }
        },
        "2c759d4218c94a2dab4682c9c2f23018": {
          "model_module": "@jupyter-widgets/controls",
          "model_module_version": "1.5.0",
          "model_name": "HTMLModel",
          "state": {
            "_dom_classes": [],
            "_model_module": "@jupyter-widgets/controls",
            "_model_module_version": "1.5.0",
            "_model_name": "HTMLModel",
            "_view_count": null,
            "_view_module": "@jupyter-widgets/controls",
            "_view_module_version": "1.5.0",
            "_view_name": "HTMLView",
            "description": "",
            "description_tooltip": null,
            "layout": "IPY_MODEL_07c244c6ca4d4c60bc666d10e7d5ff71",
            "placeholder": "​",
            "style": "IPY_MODEL_260886421df34cb2830a594d4c44c7c6",
            "value": " 420M/420M [00:15&lt;00:00, 29.5MB/s]"
          }
        },
        "2deb82e5d0614a2cb6317e6a0243b63b": {
          "model_module": "@jupyter-widgets/base",
          "model_module_version": "1.2.0",
          "model_name": "LayoutModel",
          "state": {
            "_model_module": "@jupyter-widgets/base",
            "_model_module_version": "1.2.0",
            "_model_name": "LayoutModel",
            "_view_count": null,
            "_view_module": "@jupyter-widgets/base",
            "_view_module_version": "1.2.0",
            "_view_name": "LayoutView",
            "align_content": null,
            "align_items": null,
            "align_self": null,
            "border": null,
            "bottom": null,
            "display": null,
            "flex": null,
            "flex_flow": null,
            "grid_area": null,
            "grid_auto_columns": null,
            "grid_auto_flow": null,
            "grid_auto_rows": null,
            "grid_column": null,
            "grid_gap": null,
            "grid_row": null,
            "grid_template_areas": null,
            "grid_template_columns": null,
            "grid_template_rows": null,
            "height": null,
            "justify_content": null,
            "justify_items": null,
            "left": null,
            "margin": null,
            "max_height": null,
            "max_width": null,
            "min_height": null,
            "min_width": null,
            "object_fit": null,
            "object_position": null,
            "order": null,
            "overflow": null,
            "overflow_x": null,
            "overflow_y": null,
            "padding": null,
            "right": null,
            "top": null,
            "visibility": null,
            "width": null
          }
        },
        "30f3d8e6e6204eeeb0a3fe4e35f72e8e": {
          "model_module": "@jupyter-widgets/controls",
          "model_module_version": "1.5.0",
          "model_name": "ProgressStyleModel",
          "state": {
            "_model_module": "@jupyter-widgets/controls",
            "_model_module_version": "1.5.0",
            "_model_name": "ProgressStyleModel",
            "_view_count": null,
            "_view_module": "@jupyter-widgets/base",
            "_view_module_version": "1.2.0",
            "_view_name": "StyleView",
            "bar_color": null,
            "description_width": ""
          }
        },
        "35d35ad6bd8e4af3b6d89647614896ce": {
          "model_module": "@jupyter-widgets/controls",
          "model_module_version": "1.5.0",
          "model_name": "DescriptionStyleModel",
          "state": {
            "_model_module": "@jupyter-widgets/controls",
            "_model_module_version": "1.5.0",
            "_model_name": "DescriptionStyleModel",
            "_view_count": null,
            "_view_module": "@jupyter-widgets/base",
            "_view_module_version": "1.2.0",
            "_view_name": "StyleView",
            "description_width": ""
          }
        },
        "371b186ce1ad44358ef7f2d3ee423381": {
          "model_module": "@jupyter-widgets/controls",
          "model_module_version": "1.5.0",
          "model_name": "FloatProgressModel",
          "state": {
            "_dom_classes": [],
            "_model_module": "@jupyter-widgets/controls",
            "_model_module_version": "1.5.0",
            "_model_name": "FloatProgressModel",
            "_view_count": null,
            "_view_module": "@jupyter-widgets/controls",
            "_view_module_version": "1.5.0",
            "_view_name": "ProgressView",
            "bar_style": "success",
            "description": "",
            "description_tooltip": null,
            "layout": "IPY_MODEL_0b14850e76e54e4a85cea28e92caa580",
            "max": 483,
            "min": 0,
            "orientation": "horizontal",
            "style": "IPY_MODEL_00cc57178c8748a0afb13f732debdbc2",
            "value": 483
          }
        },
        "373e519b0ed644069ea976e0f4cfe7c5": {
          "model_module": "@jupyter-widgets/base",
          "model_module_version": "1.2.0",
          "model_name": "LayoutModel",
          "state": {
            "_model_module": "@jupyter-widgets/base",
            "_model_module_version": "1.2.0",
            "_model_name": "LayoutModel",
            "_view_count": null,
            "_view_module": "@jupyter-widgets/base",
            "_view_module_version": "1.2.0",
            "_view_name": "LayoutView",
            "align_content": null,
            "align_items": null,
            "align_self": null,
            "border": null,
            "bottom": null,
            "display": null,
            "flex": null,
            "flex_flow": null,
            "grid_area": null,
            "grid_auto_columns": null,
            "grid_auto_flow": null,
            "grid_auto_rows": null,
            "grid_column": null,
            "grid_gap": null,
            "grid_row": null,
            "grid_template_areas": null,
            "grid_template_columns": null,
            "grid_template_rows": null,
            "height": null,
            "justify_content": null,
            "justify_items": null,
            "left": null,
            "margin": null,
            "max_height": null,
            "max_width": null,
            "min_height": null,
            "min_width": null,
            "object_fit": null,
            "object_position": null,
            "order": null,
            "overflow": null,
            "overflow_x": null,
            "overflow_y": null,
            "padding": null,
            "right": null,
            "top": null,
            "visibility": null,
            "width": null
          }
        },
        "3763c504f3064fee973626c77a276644": {
          "model_module": "@jupyter-widgets/controls",
          "model_module_version": "1.5.0",
          "model_name": "DescriptionStyleModel",
          "state": {
            "_model_module": "@jupyter-widgets/controls",
            "_model_module_version": "1.5.0",
            "_model_name": "DescriptionStyleModel",
            "_view_count": null,
            "_view_module": "@jupyter-widgets/base",
            "_view_module_version": "1.2.0",
            "_view_name": "StyleView",
            "description_width": ""
          }
        },
        "4230cdb093794980aff60f7ac54ebfc9": {
          "model_module": "@jupyter-widgets/controls",
          "model_module_version": "1.5.0",
          "model_name": "HTMLModel",
          "state": {
            "_dom_classes": [],
            "_model_module": "@jupyter-widgets/controls",
            "_model_module_version": "1.5.0",
            "_model_name": "HTMLModel",
            "_view_count": null,
            "_view_module": "@jupyter-widgets/controls",
            "_view_module_version": "1.5.0",
            "_view_name": "HTMLView",
            "description": "",
            "description_tooltip": null,
            "layout": "IPY_MODEL_ad926c08f7014c78b38e8bf9f560805b",
            "placeholder": "​",
            "style": "IPY_MODEL_3763c504f3064fee973626c77a276644",
            "value": "Downloading: 100%"
          }
        },
        "44c3ef545a3945aca68b839ce61224bc": {
          "model_module": "@jupyter-widgets/base",
          "model_module_version": "1.2.0",
          "model_name": "LayoutModel",
          "state": {
            "_model_module": "@jupyter-widgets/base",
            "_model_module_version": "1.2.0",
            "_model_name": "LayoutModel",
            "_view_count": null,
            "_view_module": "@jupyter-widgets/base",
            "_view_module_version": "1.2.0",
            "_view_name": "LayoutView",
            "align_content": null,
            "align_items": null,
            "align_self": null,
            "border": null,
            "bottom": null,
            "display": null,
            "flex": null,
            "flex_flow": null,
            "grid_area": null,
            "grid_auto_columns": null,
            "grid_auto_flow": null,
            "grid_auto_rows": null,
            "grid_column": null,
            "grid_gap": null,
            "grid_row": null,
            "grid_template_areas": null,
            "grid_template_columns": null,
            "grid_template_rows": null,
            "height": null,
            "justify_content": null,
            "justify_items": null,
            "left": null,
            "margin": null,
            "max_height": null,
            "max_width": null,
            "min_height": null,
            "min_width": null,
            "object_fit": null,
            "object_position": null,
            "order": null,
            "overflow": null,
            "overflow_x": null,
            "overflow_y": null,
            "padding": null,
            "right": null,
            "top": null,
            "visibility": null,
            "width": null
          }
        },
        "4513ae7fb309452b8fc1c3a2f9c7d073": {
          "model_module": "@jupyter-widgets/controls",
          "model_module_version": "1.5.0",
          "model_name": "HBoxModel",
          "state": {
            "_dom_classes": [],
            "_model_module": "@jupyter-widgets/controls",
            "_model_module_version": "1.5.0",
            "_model_name": "HBoxModel",
            "_view_count": null,
            "_view_module": "@jupyter-widgets/controls",
            "_view_module_version": "1.5.0",
            "_view_name": "HBoxView",
            "box_style": "",
            "children": [
              "IPY_MODEL_835e72b86ebc42aa8cb128f608878190",
              "IPY_MODEL_5840289c8de34f409c09ebc9f56ca24b",
              "IPY_MODEL_be41a49bb1064e2fb2427e1688ee25ab"
            ],
            "layout": "IPY_MODEL_14fa3844f66c42008575cf72bd67a5ac"
          }
        },
        "45727d9abcc24e849aae43d68212153a": {
          "model_module": "@jupyter-widgets/base",
          "model_module_version": "1.2.0",
          "model_name": "LayoutModel",
          "state": {
            "_model_module": "@jupyter-widgets/base",
            "_model_module_version": "1.2.0",
            "_model_name": "LayoutModel",
            "_view_count": null,
            "_view_module": "@jupyter-widgets/base",
            "_view_module_version": "1.2.0",
            "_view_name": "LayoutView",
            "align_content": null,
            "align_items": null,
            "align_self": null,
            "border": null,
            "bottom": null,
            "display": null,
            "flex": null,
            "flex_flow": null,
            "grid_area": null,
            "grid_auto_columns": null,
            "grid_auto_flow": null,
            "grid_auto_rows": null,
            "grid_column": null,
            "grid_gap": null,
            "grid_row": null,
            "grid_template_areas": null,
            "grid_template_columns": null,
            "grid_template_rows": null,
            "height": null,
            "justify_content": null,
            "justify_items": null,
            "left": null,
            "margin": null,
            "max_height": null,
            "max_width": null,
            "min_height": null,
            "min_width": null,
            "object_fit": null,
            "object_position": null,
            "order": null,
            "overflow": null,
            "overflow_x": null,
            "overflow_y": null,
            "padding": null,
            "right": null,
            "top": null,
            "visibility": null,
            "width": null
          }
        },
        "4d35a02361b04b0c866787973f341690": {
          "model_module": "@jupyter-widgets/controls",
          "model_module_version": "1.5.0",
          "model_name": "HTMLModel",
          "state": {
            "_dom_classes": [],
            "_model_module": "@jupyter-widgets/controls",
            "_model_module_version": "1.5.0",
            "_model_name": "HTMLModel",
            "_view_count": null,
            "_view_module": "@jupyter-widgets/controls",
            "_view_module_version": "1.5.0",
            "_view_name": "HTMLView",
            "description": "",
            "description_tooltip": null,
            "layout": "IPY_MODEL_89fc7fbe9acb4496b5117132741bc5bc",
            "placeholder": "​",
            "style": "IPY_MODEL_35d35ad6bd8e4af3b6d89647614896ce",
            "value": " 483/483 [00:00&lt;00:00, 2.53kB/s]"
          }
        },
        "52019834604e465fa539a8676b1d5682": {
          "model_module": "@jupyter-widgets/base",
          "model_module_version": "1.2.0",
          "model_name": "LayoutModel",
          "state": {
            "_model_module": "@jupyter-widgets/base",
            "_model_module_version": "1.2.0",
            "_model_name": "LayoutModel",
            "_view_count": null,
            "_view_module": "@jupyter-widgets/base",
            "_view_module_version": "1.2.0",
            "_view_name": "LayoutView",
            "align_content": null,
            "align_items": null,
            "align_self": null,
            "border": null,
            "bottom": null,
            "display": null,
            "flex": null,
            "flex_flow": null,
            "grid_area": null,
            "grid_auto_columns": null,
            "grid_auto_flow": null,
            "grid_auto_rows": null,
            "grid_column": null,
            "grid_gap": null,
            "grid_row": null,
            "grid_template_areas": null,
            "grid_template_columns": null,
            "grid_template_rows": null,
            "height": null,
            "justify_content": null,
            "justify_items": null,
            "left": null,
            "margin": null,
            "max_height": null,
            "max_width": null,
            "min_height": null,
            "min_width": null,
            "object_fit": null,
            "object_position": null,
            "order": null,
            "overflow": null,
            "overflow_x": null,
            "overflow_y": null,
            "padding": null,
            "right": null,
            "top": null,
            "visibility": null,
            "width": null
          }
        },
        "583aa04dafe84eed85342ab0dd5f8533": {
          "model_module": "@jupyter-widgets/controls",
          "model_module_version": "1.5.0",
          "model_name": "DescriptionStyleModel",
          "state": {
            "_model_module": "@jupyter-widgets/controls",
            "_model_module_version": "1.5.0",
            "_model_name": "DescriptionStyleModel",
            "_view_count": null,
            "_view_module": "@jupyter-widgets/base",
            "_view_module_version": "1.2.0",
            "_view_name": "StyleView",
            "description_width": ""
          }
        },
        "5840289c8de34f409c09ebc9f56ca24b": {
          "model_module": "@jupyter-widgets/controls",
          "model_module_version": "1.5.0",
          "model_name": "FloatProgressModel",
          "state": {
            "_dom_classes": [],
            "_model_module": "@jupyter-widgets/controls",
            "_model_module_version": "1.5.0",
            "_model_name": "FloatProgressModel",
            "_view_count": null,
            "_view_module": "@jupyter-widgets/controls",
            "_view_module_version": "1.5.0",
            "_view_name": "ProgressView",
            "bar_style": "success",
            "description": "",
            "description_tooltip": null,
            "layout": "IPY_MODEL_79c88c144125437baf703cc427c1ab05",
            "max": 570,
            "min": 0,
            "orientation": "horizontal",
            "style": "IPY_MODEL_67e17b353e6643eaa504efd739a36066",
            "value": 570
          }
        },
        "5e2453b44dca4407b93b3d8aec36bc4e": {
          "model_module": "@jupyter-widgets/controls",
          "model_module_version": "1.5.0",
          "model_name": "HTMLModel",
          "state": {
            "_dom_classes": [],
            "_model_module": "@jupyter-widgets/controls",
            "_model_module_version": "1.5.0",
            "_model_name": "HTMLModel",
            "_view_count": null,
            "_view_module": "@jupyter-widgets/controls",
            "_view_module_version": "1.5.0",
            "_view_name": "HTMLView",
            "description": "",
            "description_tooltip": null,
            "layout": "IPY_MODEL_b486412eab99492680781a9b94048b47",
            "placeholder": "​",
            "style": "IPY_MODEL_583aa04dafe84eed85342ab0dd5f8533",
            "value": "Downloading: 100%"
          }
        },
        "651d3437f4a943fd92738b9c2a1eb218": {
          "model_module": "@jupyter-widgets/controls",
          "model_module_version": "1.5.0",
          "model_name": "FloatProgressModel",
          "state": {
            "_dom_classes": [],
            "_model_module": "@jupyter-widgets/controls",
            "_model_module_version": "1.5.0",
            "_model_name": "FloatProgressModel",
            "_view_count": null,
            "_view_module": "@jupyter-widgets/controls",
            "_view_module_version": "1.5.0",
            "_view_name": "ProgressView",
            "bar_style": "success",
            "description": "",
            "description_tooltip": null,
            "layout": "IPY_MODEL_a83fa627f70442a3b6e99ad7af74b372",
            "max": 231508,
            "min": 0,
            "orientation": "horizontal",
            "style": "IPY_MODEL_97aee6caf215406596087d017962270c",
            "value": 231508
          }
        },
        "6549584109c84f749e68bff4e6279b90": {
          "model_module": "@jupyter-widgets/controls",
          "model_module_version": "1.5.0",
          "model_name": "HBoxModel",
          "state": {
            "_dom_classes": [],
            "_model_module": "@jupyter-widgets/controls",
            "_model_module_version": "1.5.0",
            "_model_name": "HBoxModel",
            "_view_count": null,
            "_view_module": "@jupyter-widgets/controls",
            "_view_module_version": "1.5.0",
            "_view_name": "HBoxView",
            "box_style": "",
            "children": [
              "IPY_MODEL_4230cdb093794980aff60f7ac54ebfc9",
              "IPY_MODEL_02f2c27cb7354b9a8e7ea440a3aa7ca0",
              "IPY_MODEL_db341bf88d3d426380dbe09707cc8cea"
            ],
            "layout": "IPY_MODEL_9aba03b92ec24035ae4e59d71f31e583"
          }
        },
        "664c5206f8bb4ac1a7126f0cc896f98a": {
          "model_module": "@jupyter-widgets/controls",
          "model_module_version": "1.5.0",
          "model_name": "FloatProgressModel",
          "state": {
            "_dom_classes": [],
            "_model_module": "@jupyter-widgets/controls",
            "_model_module_version": "1.5.0",
            "_model_name": "FloatProgressModel",
            "_view_count": null,
            "_view_module": "@jupyter-widgets/controls",
            "_view_module_version": "1.5.0",
            "_view_name": "ProgressView",
            "bar_style": "success",
            "description": "",
            "description_tooltip": null,
            "layout": "IPY_MODEL_bcc52f203165408490eab273f289c3cc",
            "max": 440473133,
            "min": 0,
            "orientation": "horizontal",
            "style": "IPY_MODEL_30f3d8e6e6204eeeb0a3fe4e35f72e8e",
            "value": 440473133
          }
        },
        "67e17b353e6643eaa504efd739a36066": {
          "model_module": "@jupyter-widgets/controls",
          "model_module_version": "1.5.0",
          "model_name": "ProgressStyleModel",
          "state": {
            "_model_module": "@jupyter-widgets/controls",
            "_model_module_version": "1.5.0",
            "_model_name": "ProgressStyleModel",
            "_view_count": null,
            "_view_module": "@jupyter-widgets/base",
            "_view_module_version": "1.2.0",
            "_view_name": "StyleView",
            "bar_color": null,
            "description_width": ""
          }
        },
        "6f432a048f854e80bf6a14c49c498e84": {
          "model_module": "@jupyter-widgets/controls",
          "model_module_version": "1.5.0",
          "model_name": "DescriptionStyleModel",
          "state": {
            "_model_module": "@jupyter-widgets/controls",
            "_model_module_version": "1.5.0",
            "_model_name": "DescriptionStyleModel",
            "_view_count": null,
            "_view_module": "@jupyter-widgets/base",
            "_view_module_version": "1.2.0",
            "_view_name": "StyleView",
            "description_width": ""
          }
        },
        "7855da5913f14a48a0d26642915846d6": {
          "model_module": "@jupyter-widgets/controls",
          "model_module_version": "1.5.0",
          "model_name": "DescriptionStyleModel",
          "state": {
            "_model_module": "@jupyter-widgets/controls",
            "_model_module_version": "1.5.0",
            "_model_name": "DescriptionStyleModel",
            "_view_count": null,
            "_view_module": "@jupyter-widgets/base",
            "_view_module_version": "1.2.0",
            "_view_name": "StyleView",
            "description_width": ""
          }
        },
        "79c88c144125437baf703cc427c1ab05": {
          "model_module": "@jupyter-widgets/base",
          "model_module_version": "1.2.0",
          "model_name": "LayoutModel",
          "state": {
            "_model_module": "@jupyter-widgets/base",
            "_model_module_version": "1.2.0",
            "_model_name": "LayoutModel",
            "_view_count": null,
            "_view_module": "@jupyter-widgets/base",
            "_view_module_version": "1.2.0",
            "_view_name": "LayoutView",
            "align_content": null,
            "align_items": null,
            "align_self": null,
            "border": null,
            "bottom": null,
            "display": null,
            "flex": null,
            "flex_flow": null,
            "grid_area": null,
            "grid_auto_columns": null,
            "grid_auto_flow": null,
            "grid_auto_rows": null,
            "grid_column": null,
            "grid_gap": null,
            "grid_row": null,
            "grid_template_areas": null,
            "grid_template_columns": null,
            "grid_template_rows": null,
            "height": null,
            "justify_content": null,
            "justify_items": null,
            "left": null,
            "margin": null,
            "max_height": null,
            "max_width": null,
            "min_height": null,
            "min_width": null,
            "object_fit": null,
            "object_position": null,
            "order": null,
            "overflow": null,
            "overflow_x": null,
            "overflow_y": null,
            "padding": null,
            "right": null,
            "top": null,
            "visibility": null,
            "width": null
          }
        },
        "81883331b9524de8889d291a28032544": {
          "model_module": "@jupyter-widgets/base",
          "model_module_version": "1.2.0",
          "model_name": "LayoutModel",
          "state": {
            "_model_module": "@jupyter-widgets/base",
            "_model_module_version": "1.2.0",
            "_model_name": "LayoutModel",
            "_view_count": null,
            "_view_module": "@jupyter-widgets/base",
            "_view_module_version": "1.2.0",
            "_view_name": "LayoutView",
            "align_content": null,
            "align_items": null,
            "align_self": null,
            "border": null,
            "bottom": null,
            "display": null,
            "flex": null,
            "flex_flow": null,
            "grid_area": null,
            "grid_auto_columns": null,
            "grid_auto_flow": null,
            "grid_auto_rows": null,
            "grid_column": null,
            "grid_gap": null,
            "grid_row": null,
            "grid_template_areas": null,
            "grid_template_columns": null,
            "grid_template_rows": null,
            "height": null,
            "justify_content": null,
            "justify_items": null,
            "left": null,
            "margin": null,
            "max_height": null,
            "max_width": null,
            "min_height": null,
            "min_width": null,
            "object_fit": null,
            "object_position": null,
            "order": null,
            "overflow": null,
            "overflow_x": null,
            "overflow_y": null,
            "padding": null,
            "right": null,
            "top": null,
            "visibility": null,
            "width": null
          }
        },
        "835e72b86ebc42aa8cb128f608878190": {
          "model_module": "@jupyter-widgets/controls",
          "model_module_version": "1.5.0",
          "model_name": "HTMLModel",
          "state": {
            "_dom_classes": [],
            "_model_module": "@jupyter-widgets/controls",
            "_model_module_version": "1.5.0",
            "_model_name": "HTMLModel",
            "_view_count": null,
            "_view_module": "@jupyter-widgets/controls",
            "_view_module_version": "1.5.0",
            "_view_name": "HTMLView",
            "description": "",
            "description_tooltip": null,
            "layout": "IPY_MODEL_373e519b0ed644069ea976e0f4cfe7c5",
            "placeholder": "​",
            "style": "IPY_MODEL_cbd144e156904971aa0f07abb3d81782",
            "value": "Downloading: 100%"
          }
        },
        "8519da8d5fbe49079f35a177b1fa8199": {
          "model_module": "@jupyter-widgets/controls",
          "model_module_version": "1.5.0",
          "model_name": "ProgressStyleModel",
          "state": {
            "_model_module": "@jupyter-widgets/controls",
            "_model_module_version": "1.5.0",
            "_model_name": "ProgressStyleModel",
            "_view_count": null,
            "_view_module": "@jupyter-widgets/base",
            "_view_module_version": "1.2.0",
            "_view_name": "StyleView",
            "bar_color": null,
            "description_width": ""
          }
        },
        "89fc7fbe9acb4496b5117132741bc5bc": {
          "model_module": "@jupyter-widgets/base",
          "model_module_version": "1.2.0",
          "model_name": "LayoutModel",
          "state": {
            "_model_module": "@jupyter-widgets/base",
            "_model_module_version": "1.2.0",
            "_model_name": "LayoutModel",
            "_view_count": null,
            "_view_module": "@jupyter-widgets/base",
            "_view_module_version": "1.2.0",
            "_view_name": "LayoutView",
            "align_content": null,
            "align_items": null,
            "align_self": null,
            "border": null,
            "bottom": null,
            "display": null,
            "flex": null,
            "flex_flow": null,
            "grid_area": null,
            "grid_auto_columns": null,
            "grid_auto_flow": null,
            "grid_auto_rows": null,
            "grid_column": null,
            "grid_gap": null,
            "grid_row": null,
            "grid_template_areas": null,
            "grid_template_columns": null,
            "grid_template_rows": null,
            "height": null,
            "justify_content": null,
            "justify_items": null,
            "left": null,
            "margin": null,
            "max_height": null,
            "max_width": null,
            "min_height": null,
            "min_width": null,
            "object_fit": null,
            "object_position": null,
            "order": null,
            "overflow": null,
            "overflow_x": null,
            "overflow_y": null,
            "padding": null,
            "right": null,
            "top": null,
            "visibility": null,
            "width": null
          }
        },
        "92c4f591e2414856989f4768ffea09d7": {
          "model_module": "@jupyter-widgets/controls",
          "model_module_version": "1.5.0",
          "model_name": "HTMLModel",
          "state": {
            "_dom_classes": [],
            "_model_module": "@jupyter-widgets/controls",
            "_model_module_version": "1.5.0",
            "_model_name": "HTMLModel",
            "_view_count": null,
            "_view_module": "@jupyter-widgets/controls",
            "_view_module_version": "1.5.0",
            "_view_name": "HTMLView",
            "description": "",
            "description_tooltip": null,
            "layout": "IPY_MODEL_c077faccb47f4a11a286274450223bb7",
            "placeholder": "​",
            "style": "IPY_MODEL_7855da5913f14a48a0d26642915846d6",
            "value": "Downloading: 100%"
          }
        },
        "97aee6caf215406596087d017962270c": {
          "model_module": "@jupyter-widgets/controls",
          "model_module_version": "1.5.0",
          "model_name": "ProgressStyleModel",
          "state": {
            "_model_module": "@jupyter-widgets/controls",
            "_model_module_version": "1.5.0",
            "_model_name": "ProgressStyleModel",
            "_view_count": null,
            "_view_module": "@jupyter-widgets/base",
            "_view_module_version": "1.2.0",
            "_view_name": "StyleView",
            "bar_color": null,
            "description_width": ""
          }
        },
        "9871e11d57c54ca1a850391581ac1321": {
          "model_module": "@jupyter-widgets/base",
          "model_module_version": "1.2.0",
          "model_name": "LayoutModel",
          "state": {
            "_model_module": "@jupyter-widgets/base",
            "_model_module_version": "1.2.0",
            "_model_name": "LayoutModel",
            "_view_count": null,
            "_view_module": "@jupyter-widgets/base",
            "_view_module_version": "1.2.0",
            "_view_name": "LayoutView",
            "align_content": null,
            "align_items": null,
            "align_self": null,
            "border": null,
            "bottom": null,
            "display": null,
            "flex": null,
            "flex_flow": null,
            "grid_area": null,
            "grid_auto_columns": null,
            "grid_auto_flow": null,
            "grid_auto_rows": null,
            "grid_column": null,
            "grid_gap": null,
            "grid_row": null,
            "grid_template_areas": null,
            "grid_template_columns": null,
            "grid_template_rows": null,
            "height": null,
            "justify_content": null,
            "justify_items": null,
            "left": null,
            "margin": null,
            "max_height": null,
            "max_width": null,
            "min_height": null,
            "min_width": null,
            "object_fit": null,
            "object_position": null,
            "order": null,
            "overflow": null,
            "overflow_x": null,
            "overflow_y": null,
            "padding": null,
            "right": null,
            "top": null,
            "visibility": null,
            "width": null
          }
        },
        "9925f3ab25654beaa3026b6b9251305c": {
          "model_module": "@jupyter-widgets/controls",
          "model_module_version": "1.5.0",
          "model_name": "HTMLModel",
          "state": {
            "_dom_classes": [],
            "_model_module": "@jupyter-widgets/controls",
            "_model_module_version": "1.5.0",
            "_model_name": "HTMLModel",
            "_view_count": null,
            "_view_module": "@jupyter-widgets/controls",
            "_view_module_version": "1.5.0",
            "_view_name": "HTMLView",
            "description": "",
            "description_tooltip": null,
            "layout": "IPY_MODEL_f7f09ac818084a23a3f4c434fdec8668",
            "placeholder": "​",
            "style": "IPY_MODEL_6f432a048f854e80bf6a14c49c498e84",
            "value": "Downloading: 100%"
          }
        },
        "9aba03b92ec24035ae4e59d71f31e583": {
          "model_module": "@jupyter-widgets/base",
          "model_module_version": "1.2.0",
          "model_name": "LayoutModel",
          "state": {
            "_model_module": "@jupyter-widgets/base",
            "_model_module_version": "1.2.0",
            "_model_name": "LayoutModel",
            "_view_count": null,
            "_view_module": "@jupyter-widgets/base",
            "_view_module_version": "1.2.0",
            "_view_name": "LayoutView",
            "align_content": null,
            "align_items": null,
            "align_self": null,
            "border": null,
            "bottom": null,
            "display": null,
            "flex": null,
            "flex_flow": null,
            "grid_area": null,
            "grid_auto_columns": null,
            "grid_auto_flow": null,
            "grid_auto_rows": null,
            "grid_column": null,
            "grid_gap": null,
            "grid_row": null,
            "grid_template_areas": null,
            "grid_template_columns": null,
            "grid_template_rows": null,
            "height": null,
            "justify_content": null,
            "justify_items": null,
            "left": null,
            "margin": null,
            "max_height": null,
            "max_width": null,
            "min_height": null,
            "min_width": null,
            "object_fit": null,
            "object_position": null,
            "order": null,
            "overflow": null,
            "overflow_x": null,
            "overflow_y": null,
            "padding": null,
            "right": null,
            "top": null,
            "visibility": null,
            "width": null
          }
        },
        "a16ded0c5907442dafda56b5a9abf124": {
          "model_module": "@jupyter-widgets/controls",
          "model_module_version": "1.5.0",
          "model_name": "HBoxModel",
          "state": {
            "_dom_classes": [],
            "_model_module": "@jupyter-widgets/controls",
            "_model_module_version": "1.5.0",
            "_model_name": "HBoxModel",
            "_view_count": null,
            "_view_module": "@jupyter-widgets/controls",
            "_view_module_version": "1.5.0",
            "_view_name": "HBoxView",
            "box_style": "",
            "children": [
              "IPY_MODEL_def972e31ff64b4ba1a59ecafab73703",
              "IPY_MODEL_651d3437f4a943fd92738b9c2a1eb218",
              "IPY_MODEL_2461eb7073374dbba3b7c7544caac676"
            ],
            "layout": "IPY_MODEL_fa318a3b18bc4e158e3219f8679a2b94"
          }
        },
        "a83fa627f70442a3b6e99ad7af74b372": {
          "model_module": "@jupyter-widgets/base",
          "model_module_version": "1.2.0",
          "model_name": "LayoutModel",
          "state": {
            "_model_module": "@jupyter-widgets/base",
            "_model_module_version": "1.2.0",
            "_model_name": "LayoutModel",
            "_view_count": null,
            "_view_module": "@jupyter-widgets/base",
            "_view_module_version": "1.2.0",
            "_view_name": "LayoutView",
            "align_content": null,
            "align_items": null,
            "align_self": null,
            "border": null,
            "bottom": null,
            "display": null,
            "flex": null,
            "flex_flow": null,
            "grid_area": null,
            "grid_auto_columns": null,
            "grid_auto_flow": null,
            "grid_auto_rows": null,
            "grid_column": null,
            "grid_gap": null,
            "grid_row": null,
            "grid_template_areas": null,
            "grid_template_columns": null,
            "grid_template_rows": null,
            "height": null,
            "justify_content": null,
            "justify_items": null,
            "left": null,
            "margin": null,
            "max_height": null,
            "max_width": null,
            "min_height": null,
            "min_width": null,
            "object_fit": null,
            "object_position": null,
            "order": null,
            "overflow": null,
            "overflow_x": null,
            "overflow_y": null,
            "padding": null,
            "right": null,
            "top": null,
            "visibility": null,
            "width": null
          }
        },
        "ad926c08f7014c78b38e8bf9f560805b": {
          "model_module": "@jupyter-widgets/base",
          "model_module_version": "1.2.0",
          "model_name": "LayoutModel",
          "state": {
            "_model_module": "@jupyter-widgets/base",
            "_model_module_version": "1.2.0",
            "_model_name": "LayoutModel",
            "_view_count": null,
            "_view_module": "@jupyter-widgets/base",
            "_view_module_version": "1.2.0",
            "_view_name": "LayoutView",
            "align_content": null,
            "align_items": null,
            "align_self": null,
            "border": null,
            "bottom": null,
            "display": null,
            "flex": null,
            "flex_flow": null,
            "grid_area": null,
            "grid_auto_columns": null,
            "grid_auto_flow": null,
            "grid_auto_rows": null,
            "grid_column": null,
            "grid_gap": null,
            "grid_row": null,
            "grid_template_areas": null,
            "grid_template_columns": null,
            "grid_template_rows": null,
            "height": null,
            "justify_content": null,
            "justify_items": null,
            "left": null,
            "margin": null,
            "max_height": null,
            "max_width": null,
            "min_height": null,
            "min_width": null,
            "object_fit": null,
            "object_position": null,
            "order": null,
            "overflow": null,
            "overflow_x": null,
            "overflow_y": null,
            "padding": null,
            "right": null,
            "top": null,
            "visibility": null,
            "width": null
          }
        },
        "b486412eab99492680781a9b94048b47": {
          "model_module": "@jupyter-widgets/base",
          "model_module_version": "1.2.0",
          "model_name": "LayoutModel",
          "state": {
            "_model_module": "@jupyter-widgets/base",
            "_model_module_version": "1.2.0",
            "_model_name": "LayoutModel",
            "_view_count": null,
            "_view_module": "@jupyter-widgets/base",
            "_view_module_version": "1.2.0",
            "_view_name": "LayoutView",
            "align_content": null,
            "align_items": null,
            "align_self": null,
            "border": null,
            "bottom": null,
            "display": null,
            "flex": null,
            "flex_flow": null,
            "grid_area": null,
            "grid_auto_columns": null,
            "grid_auto_flow": null,
            "grid_auto_rows": null,
            "grid_column": null,
            "grid_gap": null,
            "grid_row": null,
            "grid_template_areas": null,
            "grid_template_columns": null,
            "grid_template_rows": null,
            "height": null,
            "justify_content": null,
            "justify_items": null,
            "left": null,
            "margin": null,
            "max_height": null,
            "max_width": null,
            "min_height": null,
            "min_width": null,
            "object_fit": null,
            "object_position": null,
            "order": null,
            "overflow": null,
            "overflow_x": null,
            "overflow_y": null,
            "padding": null,
            "right": null,
            "top": null,
            "visibility": null,
            "width": null
          }
        },
        "bcc52f203165408490eab273f289c3cc": {
          "model_module": "@jupyter-widgets/base",
          "model_module_version": "1.2.0",
          "model_name": "LayoutModel",
          "state": {
            "_model_module": "@jupyter-widgets/base",
            "_model_module_version": "1.2.0",
            "_model_name": "LayoutModel",
            "_view_count": null,
            "_view_module": "@jupyter-widgets/base",
            "_view_module_version": "1.2.0",
            "_view_name": "LayoutView",
            "align_content": null,
            "align_items": null,
            "align_self": null,
            "border": null,
            "bottom": null,
            "display": null,
            "flex": null,
            "flex_flow": null,
            "grid_area": null,
            "grid_auto_columns": null,
            "grid_auto_flow": null,
            "grid_auto_rows": null,
            "grid_column": null,
            "grid_gap": null,
            "grid_row": null,
            "grid_template_areas": null,
            "grid_template_columns": null,
            "grid_template_rows": null,
            "height": null,
            "justify_content": null,
            "justify_items": null,
            "left": null,
            "margin": null,
            "max_height": null,
            "max_width": null,
            "min_height": null,
            "min_width": null,
            "object_fit": null,
            "object_position": null,
            "order": null,
            "overflow": null,
            "overflow_x": null,
            "overflow_y": null,
            "padding": null,
            "right": null,
            "top": null,
            "visibility": null,
            "width": null
          }
        },
        "be0754f4b2d14c0494e0fa788d567bbd": {
          "model_module": "@jupyter-widgets/controls",
          "model_module_version": "1.5.0",
          "model_name": "DescriptionStyleModel",
          "state": {
            "_model_module": "@jupyter-widgets/controls",
            "_model_module_version": "1.5.0",
            "_model_name": "DescriptionStyleModel",
            "_view_count": null,
            "_view_module": "@jupyter-widgets/base",
            "_view_module_version": "1.2.0",
            "_view_name": "StyleView",
            "description_width": ""
          }
        },
        "be41a49bb1064e2fb2427e1688ee25ab": {
          "model_module": "@jupyter-widgets/controls",
          "model_module_version": "1.5.0",
          "model_name": "HTMLModel",
          "state": {
            "_dom_classes": [],
            "_model_module": "@jupyter-widgets/controls",
            "_model_module_version": "1.5.0",
            "_model_name": "HTMLModel",
            "_view_count": null,
            "_view_module": "@jupyter-widgets/controls",
            "_view_module_version": "1.5.0",
            "_view_name": "HTMLView",
            "description": "",
            "description_tooltip": null,
            "layout": "IPY_MODEL_d41c7857e43b467ca19ea2bbf552e0c8",
            "placeholder": "​",
            "style": "IPY_MODEL_f58039d77d9245f5a26a40ac3fe2ab35",
            "value": " 570/570 [00:00&lt;00:00, 13.6kB/s]"
          }
        },
        "c077faccb47f4a11a286274450223bb7": {
          "model_module": "@jupyter-widgets/base",
          "model_module_version": "1.2.0",
          "model_name": "LayoutModel",
          "state": {
            "_model_module": "@jupyter-widgets/base",
            "_model_module_version": "1.2.0",
            "_model_name": "LayoutModel",
            "_view_count": null,
            "_view_module": "@jupyter-widgets/base",
            "_view_module_version": "1.2.0",
            "_view_name": "LayoutView",
            "align_content": null,
            "align_items": null,
            "align_self": null,
            "border": null,
            "bottom": null,
            "display": null,
            "flex": null,
            "flex_flow": null,
            "grid_area": null,
            "grid_auto_columns": null,
            "grid_auto_flow": null,
            "grid_auto_rows": null,
            "grid_column": null,
            "grid_gap": null,
            "grid_row": null,
            "grid_template_areas": null,
            "grid_template_columns": null,
            "grid_template_rows": null,
            "height": null,
            "justify_content": null,
            "justify_items": null,
            "left": null,
            "margin": null,
            "max_height": null,
            "max_width": null,
            "min_height": null,
            "min_width": null,
            "object_fit": null,
            "object_position": null,
            "order": null,
            "overflow": null,
            "overflow_x": null,
            "overflow_y": null,
            "padding": null,
            "right": null,
            "top": null,
            "visibility": null,
            "width": null
          }
        },
        "cbd144e156904971aa0f07abb3d81782": {
          "model_module": "@jupyter-widgets/controls",
          "model_module_version": "1.5.0",
          "model_name": "DescriptionStyleModel",
          "state": {
            "_model_module": "@jupyter-widgets/controls",
            "_model_module_version": "1.5.0",
            "_model_name": "DescriptionStyleModel",
            "_view_count": null,
            "_view_module": "@jupyter-widgets/base",
            "_view_module_version": "1.2.0",
            "_view_name": "StyleView",
            "description_width": ""
          }
        },
        "d076da03d4f4416b82e1aed793baf1d1": {
          "model_module": "@jupyter-widgets/controls",
          "model_module_version": "1.5.0",
          "model_name": "ProgressStyleModel",
          "state": {
            "_model_module": "@jupyter-widgets/controls",
            "_model_module_version": "1.5.0",
            "_model_name": "ProgressStyleModel",
            "_view_count": null,
            "_view_module": "@jupyter-widgets/base",
            "_view_module_version": "1.2.0",
            "_view_name": "StyleView",
            "bar_color": null,
            "description_width": ""
          }
        },
        "d1911a8eb8c54503a2359eef7eee5787": {
          "model_module": "@jupyter-widgets/controls",
          "model_module_version": "1.5.0",
          "model_name": "HBoxModel",
          "state": {
            "_dom_classes": [],
            "_model_module": "@jupyter-widgets/controls",
            "_model_module_version": "1.5.0",
            "_model_name": "HBoxModel",
            "_view_count": null,
            "_view_module": "@jupyter-widgets/controls",
            "_view_module_version": "1.5.0",
            "_view_name": "HBoxView",
            "box_style": "",
            "children": [
              "IPY_MODEL_5e2453b44dca4407b93b3d8aec36bc4e",
              "IPY_MODEL_031d8af6e7424d42a21e79b6ad806a88",
              "IPY_MODEL_17aaffa75473450bb0ddfcc06499d691"
            ],
            "layout": "IPY_MODEL_20a2126c878d4e8294dc0b3bf92ec634"
          }
        },
        "d41c7857e43b467ca19ea2bbf552e0c8": {
          "model_module": "@jupyter-widgets/base",
          "model_module_version": "1.2.0",
          "model_name": "LayoutModel",
          "state": {
            "_model_module": "@jupyter-widgets/base",
            "_model_module_version": "1.2.0",
            "_model_name": "LayoutModel",
            "_view_count": null,
            "_view_module": "@jupyter-widgets/base",
            "_view_module_version": "1.2.0",
            "_view_name": "LayoutView",
            "align_content": null,
            "align_items": null,
            "align_self": null,
            "border": null,
            "bottom": null,
            "display": null,
            "flex": null,
            "flex_flow": null,
            "grid_area": null,
            "grid_auto_columns": null,
            "grid_auto_flow": null,
            "grid_auto_rows": null,
            "grid_column": null,
            "grid_gap": null,
            "grid_row": null,
            "grid_template_areas": null,
            "grid_template_columns": null,
            "grid_template_rows": null,
            "height": null,
            "justify_content": null,
            "justify_items": null,
            "left": null,
            "margin": null,
            "max_height": null,
            "max_width": null,
            "min_height": null,
            "min_width": null,
            "object_fit": null,
            "object_position": null,
            "order": null,
            "overflow": null,
            "overflow_x": null,
            "overflow_y": null,
            "padding": null,
            "right": null,
            "top": null,
            "visibility": null,
            "width": null
          }
        },
        "d9a103e6befb43dcba9bda39f4aea3d2": {
          "model_module": "@jupyter-widgets/controls",
          "model_module_version": "1.5.0",
          "model_name": "DescriptionStyleModel",
          "state": {
            "_model_module": "@jupyter-widgets/controls",
            "_model_module_version": "1.5.0",
            "_model_name": "DescriptionStyleModel",
            "_view_count": null,
            "_view_module": "@jupyter-widgets/base",
            "_view_module_version": "1.2.0",
            "_view_name": "StyleView",
            "description_width": ""
          }
        },
        "db341bf88d3d426380dbe09707cc8cea": {
          "model_module": "@jupyter-widgets/controls",
          "model_module_version": "1.5.0",
          "model_name": "HTMLModel",
          "state": {
            "_dom_classes": [],
            "_model_module": "@jupyter-widgets/controls",
            "_model_module_version": "1.5.0",
            "_model_name": "HTMLModel",
            "_view_count": null,
            "_view_module": "@jupyter-widgets/controls",
            "_view_module_version": "1.5.0",
            "_view_name": "HTMLView",
            "description": "",
            "description_tooltip": null,
            "layout": "IPY_MODEL_0edc8ad54f454e35829408ace17c3b68",
            "placeholder": "​",
            "style": "IPY_MODEL_be0754f4b2d14c0494e0fa788d567bbd",
            "value": " 455k/455k [00:00&lt;00:00, 1.50MB/s]"
          }
        },
        "def972e31ff64b4ba1a59ecafab73703": {
          "model_module": "@jupyter-widgets/controls",
          "model_module_version": "1.5.0",
          "model_name": "HTMLModel",
          "state": {
            "_dom_classes": [],
            "_model_module": "@jupyter-widgets/controls",
            "_model_module_version": "1.5.0",
            "_model_name": "HTMLModel",
            "_view_count": null,
            "_view_module": "@jupyter-widgets/controls",
            "_view_module_version": "1.5.0",
            "_view_name": "HTMLView",
            "description": "",
            "description_tooltip": null,
            "layout": "IPY_MODEL_81883331b9524de8889d291a28032544",
            "placeholder": "​",
            "style": "IPY_MODEL_086eece48489455dbe447e38100640af",
            "value": "Downloading: 100%"
          }
        },
        "eadba510f9374d5a9d6b305be55b9236": {
          "model_module": "@jupyter-widgets/base",
          "model_module_version": "1.2.0",
          "model_name": "LayoutModel",
          "state": {
            "_model_module": "@jupyter-widgets/base",
            "_model_module_version": "1.2.0",
            "_model_name": "LayoutModel",
            "_view_count": null,
            "_view_module": "@jupyter-widgets/base",
            "_view_module_version": "1.2.0",
            "_view_name": "LayoutView",
            "align_content": null,
            "align_items": null,
            "align_self": null,
            "border": null,
            "bottom": null,
            "display": null,
            "flex": null,
            "flex_flow": null,
            "grid_area": null,
            "grid_auto_columns": null,
            "grid_auto_flow": null,
            "grid_auto_rows": null,
            "grid_column": null,
            "grid_gap": null,
            "grid_row": null,
            "grid_template_areas": null,
            "grid_template_columns": null,
            "grid_template_rows": null,
            "height": null,
            "justify_content": null,
            "justify_items": null,
            "left": null,
            "margin": null,
            "max_height": null,
            "max_width": null,
            "min_height": null,
            "min_width": null,
            "object_fit": null,
            "object_position": null,
            "order": null,
            "overflow": null,
            "overflow_x": null,
            "overflow_y": null,
            "padding": null,
            "right": null,
            "top": null,
            "visibility": null,
            "width": null
          }
        },
        "f58039d77d9245f5a26a40ac3fe2ab35": {
          "model_module": "@jupyter-widgets/controls",
          "model_module_version": "1.5.0",
          "model_name": "DescriptionStyleModel",
          "state": {
            "_model_module": "@jupyter-widgets/controls",
            "_model_module_version": "1.5.0",
            "_model_name": "DescriptionStyleModel",
            "_view_count": null,
            "_view_module": "@jupyter-widgets/base",
            "_view_module_version": "1.2.0",
            "_view_name": "StyleView",
            "description_width": ""
          }
        },
        "f7f09ac818084a23a3f4c434fdec8668": {
          "model_module": "@jupyter-widgets/base",
          "model_module_version": "1.2.0",
          "model_name": "LayoutModel",
          "state": {
            "_model_module": "@jupyter-widgets/base",
            "_model_module_version": "1.2.0",
            "_model_name": "LayoutModel",
            "_view_count": null,
            "_view_module": "@jupyter-widgets/base",
            "_view_module_version": "1.2.0",
            "_view_name": "LayoutView",
            "align_content": null,
            "align_items": null,
            "align_self": null,
            "border": null,
            "bottom": null,
            "display": null,
            "flex": null,
            "flex_flow": null,
            "grid_area": null,
            "grid_auto_columns": null,
            "grid_auto_flow": null,
            "grid_auto_rows": null,
            "grid_column": null,
            "grid_gap": null,
            "grid_row": null,
            "grid_template_areas": null,
            "grid_template_columns": null,
            "grid_template_rows": null,
            "height": null,
            "justify_content": null,
            "justify_items": null,
            "left": null,
            "margin": null,
            "max_height": null,
            "max_width": null,
            "min_height": null,
            "min_width": null,
            "object_fit": null,
            "object_position": null,
            "order": null,
            "overflow": null,
            "overflow_x": null,
            "overflow_y": null,
            "padding": null,
            "right": null,
            "top": null,
            "visibility": null,
            "width": null
          }
        },
        "fa318a3b18bc4e158e3219f8679a2b94": {
          "model_module": "@jupyter-widgets/base",
          "model_module_version": "1.2.0",
          "model_name": "LayoutModel",
          "state": {
            "_model_module": "@jupyter-widgets/base",
            "_model_module_version": "1.2.0",
            "_model_name": "LayoutModel",
            "_view_count": null,
            "_view_module": "@jupyter-widgets/base",
            "_view_module_version": "1.2.0",
            "_view_name": "LayoutView",
            "align_content": null,
            "align_items": null,
            "align_self": null,
            "border": null,
            "bottom": null,
            "display": null,
            "flex": null,
            "flex_flow": null,
            "grid_area": null,
            "grid_auto_columns": null,
            "grid_auto_flow": null,
            "grid_auto_rows": null,
            "grid_column": null,
            "grid_gap": null,
            "grid_row": null,
            "grid_template_areas": null,
            "grid_template_columns": null,
            "grid_template_rows": null,
            "height": null,
            "justify_content": null,
            "justify_items": null,
            "left": null,
            "margin": null,
            "max_height": null,
            "max_width": null,
            "min_height": null,
            "min_width": null,
            "object_fit": null,
            "object_position": null,
            "order": null,
            "overflow": null,
            "overflow_x": null,
            "overflow_y": null,
            "padding": null,
            "right": null,
            "top": null,
            "visibility": null,
            "width": null
          }
        }
      }
    }
  },
  "nbformat": 4,
  "nbformat_minor": 0
}
