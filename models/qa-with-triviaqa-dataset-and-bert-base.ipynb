{
  "cells": [
    {
      "cell_type": "markdown",
      "metadata": {
        "id": "8arEioDPljQ3"
      },
      "source": [
        "# Artificial Intelligence II - Homework 4\n",
        "---\n",
        "## Fine-tuned on TriviaQA Dataset - Part 3\n",
        "---\n",
        "### Δημήτριος Σιταράς | 1115201800178\n",
        "---"
      ]
    },
    {
      "cell_type": "markdown",
      "metadata": {
        "id": "-wkGsf4Iloqv"
      },
      "source": [
        "## Libraries n' Functions"
      ]
    },
    {
      "cell_type": "code",
      "execution_count": 22,
      "metadata": {
        "execution": {
          "iopub.execute_input": "2022-03-10T20:48:11.729989Z",
          "iopub.status.busy": "2022-03-10T20:48:11.729651Z",
          "iopub.status.idle": "2022-03-10T20:48:13.164958Z",
          "shell.execute_reply": "2022-03-10T20:48:13.164097Z",
          "shell.execute_reply.started": "2022-03-10T20:48:11.729905Z"
        },
        "id": "oBVPb4yMc05M",
        "trusted": true
      },
      "outputs": [],
      "source": [
        "import torch\n",
        "import torch.nn as nn\n",
        "import matplotlib.pyplot as plt\n",
        "import pandas as pd\n",
        "import numpy as np\n",
        "import random\n",
        "import os\n",
        "import json\n",
        "import math"
      ]
    },
    {
      "cell_type": "code",
      "execution_count": 10,
      "metadata": {
        "execution": {
          "iopub.execute_input": "2022-03-10T20:48:13.168774Z",
          "iopub.status.busy": "2022-03-10T20:48:13.168543Z",
          "iopub.status.idle": "2022-03-10T20:48:13.240732Z",
          "shell.execute_reply": "2022-03-10T20:48:13.238887Z",
          "shell.execute_reply.started": "2022-03-10T20:48:13.168747Z"
        },
        "id": "cAO3U84EGW2L",
        "trusted": true
      },
      "outputs": [],
      "source": [
        "device = torch.device('cuda' if torch.cuda.is_available() else 'cpu')"
      ]
    },
    {
      "cell_type": "code",
      "execution_count": 11,
      "metadata": {
        "colab": {
          "base_uri": "https://localhost:8080/"
        },
        "execution": {
          "iopub.execute_input": "2022-03-10T20:48:13.242356Z",
          "iopub.status.busy": "2022-03-10T20:48:13.242120Z",
          "iopub.status.idle": "2022-03-10T20:48:13.254039Z",
          "shell.execute_reply": "2022-03-10T20:48:13.253248Z",
          "shell.execute_reply.started": "2022-03-10T20:48:13.242326Z"
        },
        "id": "z5BCiQPfGXg1",
        "outputId": "dc038854-0a81-447f-d715-67abcf195c2b",
        "trusted": true
      },
      "outputs": [
        {
          "data": {
            "text/plain": [
              "device(type='cuda')"
            ]
          },
          "execution_count": 11,
          "metadata": {},
          "output_type": "execute_result"
        }
      ],
      "source": [
        "device"
      ]
    },
    {
      "cell_type": "code",
      "execution_count": 12,
      "metadata": {
        "execution": {
          "iopub.execute_input": "2022-03-10T20:48:13.257679Z",
          "iopub.status.busy": "2022-03-10T20:48:13.257467Z",
          "iopub.status.idle": "2022-03-10T20:48:13.266058Z",
          "shell.execute_reply": "2022-03-10T20:48:13.265179Z",
          "shell.execute_reply.started": "2022-03-10T20:48:13.257653Z"
        },
        "id": "2xuVm_W5deTJ",
        "trusted": true
      },
      "outputs": [],
      "source": [
        "def set_seed(seed = 1234):\n",
        "    '''Sets the seed of the entire notebook so results are the same every time we run.\n",
        "    This is for REPRODUCIBILITY.'''\n",
        "    np.random.seed(seed)\n",
        "    random.seed(seed)\n",
        "    torch.manual_seed(seed)\n",
        "    torch.cuda.manual_seed(seed)\n",
        "    # When running on the CuDNN backend, two further options must be set\n",
        "    torch.backends.cudnn.deterministic = True\n",
        "    # Set a fixed value for the hash seed\n",
        "    os.environ['PYTHONHASHSEED'] = str(seed)\n",
        "    \n",
        "set_seed()"
      ]
    },
    {
      "cell_type": "code",
      "execution_count": null,
      "metadata": {
        "execution": {
          "iopub.execute_input": "2022-03-10T20:48:13.267994Z",
          "iopub.status.busy": "2022-03-10T20:48:13.267539Z",
          "iopub.status.idle": "2022-03-10T20:48:13.276376Z",
          "shell.execute_reply": "2022-03-10T20:48:13.275502Z",
          "shell.execute_reply.started": "2022-03-10T20:48:13.267956Z"
        },
        "id": "z4OepeABvHP6",
        "trusted": true
      },
      "outputs": [],
      "source": [
        "def lossCurve(trainLosses,valLosses):\n",
        "  plt.plot(trainLosses, color=\"r\")\n",
        "  plt.plot(valLosses, color=\"g\")\n",
        "  plt.ylabel('Loss')\n",
        "  plt.xlabel('Epochs')\n",
        "  plt.legend(['Train Loss','Validation Loss'])\n",
        "  plt.show()"
      ]
    },
    {
      "cell_type": "code",
      "execution_count": 14,
      "metadata": {
        "colab": {
          "base_uri": "https://localhost:8080/"
        },
        "execution": {
          "iopub.execute_input": "2022-03-10T20:48:13.279603Z",
          "iopub.status.busy": "2022-03-10T20:48:13.277471Z",
          "iopub.status.idle": "2022-03-10T20:48:21.995504Z",
          "shell.execute_reply": "2022-03-10T20:48:21.994624Z",
          "shell.execute_reply.started": "2022-03-10T20:48:13.279572Z"
        },
        "id": "Am5EGMDGdhCy",
        "outputId": "5cfc70e6-a6e7-45c2-a2f2-0ba3a3a280b9",
        "trusted": true
      },
      "outputs": [
        {
          "name": "stdout",
          "output_type": "stream",
          "text": [
            "Collecting transformers\n",
            "  Downloading transformers-4.17.0-py3-none-any.whl (3.8 MB)\n",
            "\u001b[K     |████████████████████████████████| 3.8 MB 4.0 MB/s \n",
            "\u001b[?25hCollecting sacremoses\n",
            "  Downloading sacremoses-0.0.47-py2.py3-none-any.whl (895 kB)\n",
            "\u001b[K     |████████████████████████████████| 895 kB 40.3 MB/s \n",
            "\u001b[?25hCollecting pyyaml>=5.1\n",
            "  Downloading PyYAML-6.0-cp37-cp37m-manylinux_2_5_x86_64.manylinux1_x86_64.manylinux_2_12_x86_64.manylinux2010_x86_64.whl (596 kB)\n",
            "\u001b[K     |████████████████████████████████| 596 kB 38.8 MB/s \n",
            "\u001b[?25hRequirement already satisfied: numpy>=1.17 in /usr/local/lib/python3.7/dist-packages (from transformers) (1.21.5)\n",
            "Requirement already satisfied: requests in /usr/local/lib/python3.7/dist-packages (from transformers) (2.23.0)\n",
            "Requirement already satisfied: regex!=2019.12.17 in /usr/local/lib/python3.7/dist-packages (from transformers) (2019.12.20)\n",
            "Requirement already satisfied: tqdm>=4.27 in /usr/local/lib/python3.7/dist-packages (from transformers) (4.63.0)\n",
            "Collecting huggingface-hub<1.0,>=0.1.0\n",
            "  Downloading huggingface_hub-0.4.0-py3-none-any.whl (67 kB)\n",
            "\u001b[K     |████████████████████████████████| 67 kB 5.2 MB/s \n",
            "\u001b[?25hRequirement already satisfied: importlib-metadata in /usr/local/lib/python3.7/dist-packages (from transformers) (4.11.2)\n",
            "Requirement already satisfied: filelock in /usr/local/lib/python3.7/dist-packages (from transformers) (3.6.0)\n",
            "Requirement already satisfied: packaging>=20.0 in /usr/local/lib/python3.7/dist-packages (from transformers) (21.3)\n",
            "Collecting tokenizers!=0.11.3,>=0.11.1\n",
            "  Downloading tokenizers-0.11.6-cp37-cp37m-manylinux_2_12_x86_64.manylinux2010_x86_64.whl (6.5 MB)\n",
            "\u001b[K     |████████████████████████████████| 6.5 MB 36.5 MB/s \n",
            "\u001b[?25hRequirement already satisfied: typing-extensions>=3.7.4.3 in /usr/local/lib/python3.7/dist-packages (from huggingface-hub<1.0,>=0.1.0->transformers) (3.10.0.2)\n",
            "Requirement already satisfied: pyparsing!=3.0.5,>=2.0.2 in /usr/local/lib/python3.7/dist-packages (from packaging>=20.0->transformers) (3.0.7)\n",
            "Requirement already satisfied: zipp>=0.5 in /usr/local/lib/python3.7/dist-packages (from importlib-metadata->transformers) (3.7.0)\n",
            "Requirement already satisfied: certifi>=2017.4.17 in /usr/local/lib/python3.7/dist-packages (from requests->transformers) (2021.10.8)\n",
            "Requirement already satisfied: urllib3!=1.25.0,!=1.25.1,<1.26,>=1.21.1 in /usr/local/lib/python3.7/dist-packages (from requests->transformers) (1.24.3)\n",
            "Requirement already satisfied: chardet<4,>=3.0.2 in /usr/local/lib/python3.7/dist-packages (from requests->transformers) (3.0.4)\n",
            "Requirement already satisfied: idna<3,>=2.5 in /usr/local/lib/python3.7/dist-packages (from requests->transformers) (2.10)\n",
            "Requirement already satisfied: joblib in /usr/local/lib/python3.7/dist-packages (from sacremoses->transformers) (1.1.0)\n",
            "Requirement already satisfied: six in /usr/local/lib/python3.7/dist-packages (from sacremoses->transformers) (1.15.0)\n",
            "Requirement already satisfied: click in /usr/local/lib/python3.7/dist-packages (from sacremoses->transformers) (7.1.2)\n",
            "Installing collected packages: pyyaml, tokenizers, sacremoses, huggingface-hub, transformers\n",
            "  Attempting uninstall: pyyaml\n",
            "    Found existing installation: PyYAML 3.13\n",
            "    Uninstalling PyYAML-3.13:\n",
            "      Successfully uninstalled PyYAML-3.13\n",
            "Successfully installed huggingface-hub-0.4.0 pyyaml-6.0 sacremoses-0.0.47 tokenizers-0.11.6 transformers-4.17.0\n"
          ]
        }
      ],
      "source": [
        "!pip install transformers"
      ]
    },
    {
      "cell_type": "markdown",
      "metadata": {
        "id": "aDRqWy0alxXP"
      },
      "source": [
        "## Download Trivia Dataset and convert it to SQuAD format"
      ]
    },
    {
      "cell_type": "code",
      "execution_count": 5,
      "metadata": {
        "colab": {
          "base_uri": "https://localhost:8080/"
        },
        "id": "zhoT3xGCItfc",
        "outputId": "ec5e54ee-6983-4d6d-db04-1964c908f318"
      },
      "outputs": [
        {
          "name": "stdout",
          "output_type": "stream",
          "text": [
            "Cloning into 'qa-dataset-converter'...\n",
            "remote: Enumerating objects: 27, done.\u001b[K\n",
            "remote: Counting objects: 100% (27/27), done.\u001b[K\n",
            "remote: Compressing objects: 100% (22/22), done.\u001b[K\n",
            "remote: Total 27 (delta 8), reused 9 (delta 1), pack-reused 0\u001b[K\n",
            "Unpacking objects: 100% (27/27), done.\n"
          ]
        }
      ],
      "source": [
        "!git clone https://github.com/amazon-research/qa-dataset-converter"
      ]
    },
    {
      "cell_type": "code",
      "execution_count": null,
      "metadata": {
        "colab": {
          "base_uri": "https://localhost:8080/"
        },
        "id": "2MgpjFMQItfd",
        "outputId": "9fa38735-e9fb-4527-8795-c72506719203"
      },
      "outputs": [
        {
          "name": "stdout",
          "output_type": "stream",
          "text": [
            "--2022-03-12 13:33:36--  https://nlp.cs.washington.edu/triviaqa/data/triviaqa-rc.tar.gz\n",
            "Resolving nlp.cs.washington.edu (nlp.cs.washington.edu)... 128.208.3.120, 2607:4000:200:12::78\n",
            "Connecting to nlp.cs.washington.edu (nlp.cs.washington.edu)|128.208.3.120|:443... connected.\n",
            "HTTP request sent, awaiting response... 200 OK\n",
            "Length: 2665779500 (2.5G) [application/x-gzip]\n",
            "Saving to: ‘triviaqa-rc.tar.gz’\n",
            "\n",
            "triviaqa-rc.tar.gz  100%[===================>]   2.48G  21.1MB/s    in 2m 11s  \n",
            "\n",
            "2022-03-12 13:35:47 (19.4 MB/s) - ‘triviaqa-rc.tar.gz’ saved [2665779500/2665779500]\n",
            "\n"
          ]
        }
      ],
      "source": [
        "!wget https://nlp.cs.washington.edu/triviaqa/data/triviaqa-rc.tar.gz"
      ]
    },
    {
      "cell_type": "code",
      "execution_count": null,
      "metadata": {
        "id": "-gCubGpEItfd"
      },
      "outputs": [],
      "source": [
        "import tarfile\n",
        "fname = \"triviaqa-rc.tar.gz\"\n",
        "if fname.endswith(\"tar.gz\"):\n",
        "    tar = tarfile.open(fname, \"r:gz\")\n",
        "    tar.extractall()\n",
        "    tar.close()"
      ]
    },
    {
      "cell_type": "code",
      "execution_count": null,
      "metadata": {
        "colab": {
          "base_uri": "https://localhost:8080/"
        },
        "id": "H8Hop30zItfd",
        "outputId": "07227256-3495-407b-9e11-30e320f7d534"
      },
      "outputs": [
        {
          "name": "stdout",
          "output_type": "stream",
          "text": [
            "Cloning into 'triviaqa'...\n",
            "remote: Enumerating objects: 67, done.\u001b[K\n",
            "remote: Total 67 (delta 0), reused 0 (delta 0), pack-reused 67\u001b[K\n",
            "Unpacking objects: 100% (67/67), done.\n"
          ]
        }
      ],
      "source": [
        "!git clone https://github.com/mandarjoshi90/triviaqa"
      ]
    },
    {
      "cell_type": "code",
      "execution_count": null,
      "metadata": {
        "id": "Q7wFP4l4Itfe"
      },
      "outputs": [],
      "source": [
        "!mv qa-dataset-converter/triviaqa/triviaqa_to_squad.py  triviaqa/"
      ]
    },
    {
      "cell_type": "code",
      "execution_count": null,
      "metadata": {
        "colab": {
          "base_uri": "https://localhost:8080/"
        },
        "id": "NFah9NpYItfe",
        "outputId": "cb292743-b60a-4625-cd1f-5c27d8c2acb5"
      },
      "outputs": [
        {
          "name": "stdout",
          "output_type": "stream",
          "text": [
            "[nltk_data] Downloading package punkt to /root/nltk_data...\n",
            "[nltk_data]   Unzipping tokenizers/punkt.zip.\n"
          ]
        }
      ],
      "source": [
        "import nltk\n",
        "nltk.download('punkt')\n",
        "!python triviaqa/triviaqa_to_squad.py --triviaqa_file qa/wikipedia-dev.json --data_dir evidence/wikipedia/ --output_file triviaqa_dev.json\n",
        "!python triviaqa/triviaqa_to_squad.py --triviaqa_file qa/wikipedia-train.json --data_dir evidence/wikipedia/ --output_file triviaqa_train.json"
      ]
    },
    {
      "cell_type": "markdown",
      "metadata": {
        "id": "o1CHE1k0mdvx"
      },
      "source": [
        "## Take the texts, questions and answers from Trivia dataset and insert these into corresponding lists"
      ]
    },
    {
      "cell_type": "code",
      "execution_count": null,
      "metadata": {
        "execution": {
          "iopub.execute_input": "2022-03-10T20:48:24.206709Z",
          "iopub.status.busy": "2022-03-10T20:48:24.206306Z",
          "iopub.status.idle": "2022-03-10T20:48:31.425224Z",
          "shell.execute_reply": "2022-03-10T20:48:31.424451Z",
          "shell.execute_reply.started": "2022-03-10T20:48:24.206641Z"
        },
        "id": "GguQxebweOF3",
        "trusted": true
      },
      "outputs": [],
      "source": [
        "jsonTrain = \"./triviaqa_train.json\"\n",
        "jsonVal = \"./triviaqa_dev.json\"\n",
        "\n",
        "file_data = pd.read_json(jsonTrain)\n",
        "json_data = file_data['data']\n",
        "\n",
        "size = math.floor(json_data.shape[0]*0.7)\n",
        "trainContents = file_data['data'].loc[0:size]\n",
        "\n",
        "file_data = pd.read_json(jsonVal)\n",
        "json_data = file_data['data']\n",
        "\n",
        "size = math.floor(json_data.shape[0])\n",
        "valContents = file_data['data'].loc[0:size]"
      ]
    },
    {
      "cell_type": "code",
      "execution_count": null,
      "metadata": {
        "execution": {
          "iopub.execute_input": "2022-03-10T20:48:31.429018Z",
          "iopub.status.busy": "2022-03-10T20:48:31.428545Z",
          "iopub.status.idle": "2022-03-10T20:48:31.436241Z",
          "shell.execute_reply": "2022-03-10T20:48:31.435473Z",
          "shell.execute_reply.started": "2022-03-10T20:48:31.428986Z"
        },
        "id": "XNWrLQG3GuzI",
        "trusted": true
      },
      "outputs": [],
      "source": [
        "def jsonToLists(contents):\n",
        "  texts=[]\n",
        "  questions=[]\n",
        "  answers=[]\n",
        "  for data in contents:\n",
        "    for txt in data['paragraphs']: # every text,\n",
        "      text = txt['context']\n",
        "      for qa in txt['qas']: # has many questions,\n",
        "        question = qa['question']\n",
        "        for answer in qa['answers']: # questions have answers.\n",
        "          texts.append(text)\n",
        "          questions.append(question)\n",
        "          answers.append(answer)            \n",
        "                  \n",
        "  return texts,questions,answers\n"
      ]
    },
    {
      "cell_type": "code",
      "execution_count": null,
      "metadata": {
        "execution": {
          "iopub.execute_input": "2022-03-10T20:48:31.437601Z",
          "iopub.status.busy": "2022-03-10T20:48:31.437331Z",
          "iopub.status.idle": "2022-03-10T20:48:31.536992Z",
          "shell.execute_reply": "2022-03-10T20:48:31.536227Z",
          "shell.execute_reply.started": "2022-03-10T20:48:31.437565Z"
        },
        "id": "paYE-0YTgNHI",
        "trusted": true
      },
      "outputs": [],
      "source": [
        "trainTexts,trainQuestions,trainAnswers=jsonToLists(trainContents)\n",
        "valTexts,valQuestions,valAnswers=jsonToLists(valContents)"
      ]
    },
    {
      "cell_type": "code",
      "execution_count": null,
      "metadata": {
        "colab": {
          "base_uri": "https://localhost:8080/"
        },
        "execution": {
          "iopub.execute_input": "2022-03-10T20:48:31.538633Z",
          "iopub.status.busy": "2022-03-10T20:48:31.538353Z",
          "iopub.status.idle": "2022-03-10T20:48:31.547410Z",
          "shell.execute_reply": "2022-03-10T20:48:31.546601Z",
          "shell.execute_reply.started": "2022-03-10T20:48:31.538583Z"
        },
        "id": "KN8ZXs-JiCJS",
        "outputId": "0fbe46d1-1d89-4286-fd02-e2529f9eed27",
        "trusted": true
      },
      "outputs": [
        {
          "name": "stdout",
          "output_type": "stream",
          "text": [
            "54482\n",
            "54482\n",
            "54482\n",
            "-----\n",
            "9842\n",
            "9842\n",
            "9842\n"
          ]
        }
      ],
      "source": [
        "print(len(trainTexts))\n",
        "print(len(trainQuestions))\n",
        "print(len(trainAnswers))\n",
        "print(\"-----\")\n",
        "print(len(valTexts))\n",
        "print(len(valQuestions))\n",
        "print(len(valAnswers))"
      ]
    },
    {
      "cell_type": "markdown",
      "metadata": {
        "id": "VWB1ZVdrnlQs"
      },
      "source": [
        "## Find and store the end position of every answer"
      ]
    },
    {
      "cell_type": "code",
      "execution_count": null,
      "metadata": {
        "execution": {
          "iopub.execute_input": "2022-03-10T20:48:31.549079Z",
          "iopub.status.busy": "2022-03-10T20:48:31.548779Z",
          "iopub.status.idle": "2022-03-10T20:48:31.633852Z",
          "shell.execute_reply": "2022-03-10T20:48:31.633106Z",
          "shell.execute_reply.started": "2022-03-10T20:48:31.549040Z"
        },
        "id": "eekiczaeFf7e",
        "trusted": true
      },
      "outputs": [],
      "source": [
        "def add_end_idx(answers, contexts):\n",
        "    # get the character position at which every answer ends and store it\n",
        "    for answer, context in zip(answers, contexts):\n",
        "      end_idx = answer['answer_start'] + len(answer['text'])\n",
        "\n",
        "      if context[answer['answer_start']:end_idx] == answer['text']:\n",
        "        answer['answer_end'] = end_idx\n",
        "      # Sometimes SQuAD answers are off by one or two characters, so ...\n",
        "      elif context[answer['answer_start']-1:end_idx-1] == answer['text']:\n",
        "        answer['answer_start'] = answer['answer_start'] - 1\n",
        "        answer['answer_end'] = end_idx - 1\n",
        "      elif context[answer['answer_start']-2:end_idx-2] == answer['text']:\n",
        "        answer['answer_start'] = answer['answer_start'] - 2\n",
        "        answer['answer_end'] = end_idx - 2\n",
        "                \n",
        "add_end_idx(trainAnswers, trainTexts)\n",
        "add_end_idx(valAnswers, valTexts)"
      ]
    },
    {
      "cell_type": "markdown",
      "metadata": {
        "id": "WrjL4mRPoGOz"
      },
      "source": [
        "## BERT Tokenizer"
      ]
    },
    {
      "cell_type": "code",
      "execution_count": 15,
      "metadata": {
        "colab": {
          "base_uri": "https://localhost:8080/",
          "height": 145,
          "referenced_widgets": [
            "6c9b34be12fb410a8ab2f7dde9c66c71",
            "cdc0ee11f9e642ddb908988863d92b0b",
            "b99f2ae569854699b0a7bc6c69a9ea08",
            "59dc2499e7d7406db9fbd0ab24968ccb",
            "629d21ca79a94d858c22d7c31b330418",
            "9d3fec1b022348518764384510abae24",
            "73c7c5cfe2104aae92eb0a8ff29a568b",
            "2c7b0343b94247328f4a9eaa873fff9e",
            "a88df897160c4a9e9746ac6f53ea30ea",
            "74b25535cdcb41a395488c0516dec8ae",
            "4e47d859ff46437a904d388d655b2746",
            "20c98f354cd14817a81aa89cd63e15ac",
            "8682b4fbda7a4ba39270f52666527d6b",
            "347c3f3a83824230833dbde45b74a495",
            "942bdeee2571467f862c2c7ea788d900",
            "5ed110396a2547d08b68e4ddf1a29229",
            "58723e8948124971807ca2effd01edca",
            "8996c6172cbe4640a99de29596c78f0f",
            "a76a0572d5444d95b2f40f10e6d29c45",
            "77c703a115fc4d35a0e9894c7404bb54",
            "5b1c63540bfb4849b690d45fc4b7d75a",
            "8319e3e138104375969e1768a4a38f37",
            "aa556a042b1f49b3a2d75d523aa68c52",
            "d2ee895df09a458ea750cd7af5f31bd3",
            "5f9006848ec84e769aaa53f766bbb8b6",
            "a062e1e0518345ff886fad2db00fa821",
            "e36936ac5aae40f6b355ea2d98c20756",
            "4caa6325613c4a038567a2a43e1cf04c",
            "f0ce260d73ca49ddbdf851986d3ca644",
            "bd3d401cfdc542b7a7cd3533e82deb5e",
            "be6678f903924c97ab1b186526befe97",
            "949050c8b863474d8509950c695ddec0",
            "0fbc916a61624a8988a30ac9d211de73",
            "51ee2ba3b13049fa943ee2ef7473d2cd",
            "41af2eaa87f4484fb7a1fd8e40d5ecab",
            "d884596fecad45d4a8221787d12d3b98",
            "4e0231a7efcc4f38a91efd7794d5b561",
            "fd5e7845dbf6436ab8f298a616684183",
            "332c8aeff58f41898d8659f13aad38cd",
            "438b24a2b6d9401786e5d99c5908bc9a",
            "184bdfa0e4364bb5a49d8c3548020289",
            "953ddc07b4494e79868e452fae2be5b0",
            "546be6c6fea24d89813e691f62329190",
            "14842863da5444fcad0be15435a792be"
          ]
        },
        "execution": {
          "iopub.execute_input": "2022-03-10T20:48:31.635238Z",
          "iopub.status.busy": "2022-03-10T20:48:31.634989Z",
          "iopub.status.idle": "2022-03-10T20:48:32.961959Z",
          "shell.execute_reply": "2022-03-10T20:48:32.961170Z",
          "shell.execute_reply.started": "2022-03-10T20:48:31.635198Z"
        },
        "id": "G6efgWHFKdMN",
        "outputId": "d0485567-8df7-4591-ae47-9e90fede22a0",
        "trusted": true
      },
      "outputs": [
        {
          "data": {
            "application/vnd.jupyter.widget-view+json": {
              "model_id": "6c9b34be12fb410a8ab2f7dde9c66c71",
              "version_major": 2,
              "version_minor": 0
            },
            "text/plain": [
              "Downloading:   0%|          | 0.00/28.0 [00:00<?, ?B/s]"
            ]
          },
          "metadata": {},
          "output_type": "display_data"
        },
        {
          "data": {
            "application/vnd.jupyter.widget-view+json": {
              "model_id": "20c98f354cd14817a81aa89cd63e15ac",
              "version_major": 2,
              "version_minor": 0
            },
            "text/plain": [
              "Downloading:   0%|          | 0.00/226k [00:00<?, ?B/s]"
            ]
          },
          "metadata": {},
          "output_type": "display_data"
        },
        {
          "data": {
            "application/vnd.jupyter.widget-view+json": {
              "model_id": "aa556a042b1f49b3a2d75d523aa68c52",
              "version_major": 2,
              "version_minor": 0
            },
            "text/plain": [
              "Downloading:   0%|          | 0.00/455k [00:00<?, ?B/s]"
            ]
          },
          "metadata": {},
          "output_type": "display_data"
        },
        {
          "data": {
            "application/vnd.jupyter.widget-view+json": {
              "model_id": "51ee2ba3b13049fa943ee2ef7473d2cd",
              "version_major": 2,
              "version_minor": 0
            },
            "text/plain": [
              "Downloading:   0%|          | 0.00/483 [00:00<?, ?B/s]"
            ]
          },
          "metadata": {},
          "output_type": "display_data"
        }
      ],
      "source": [
        "from transformers import BertTokenizerFast,DistilBertTokenizerFast\n",
        "\n",
        "# tokenizer = BertTokenizerFast.from_pretrained('bert-base-uncased')\n",
        "tokenizer = DistilBertTokenizerFast.from_pretrained('distilbert-base-uncased')"
      ]
    },
    {
      "cell_type": "code",
      "execution_count": null,
      "metadata": {
        "execution": {
          "iopub.execute_input": "2022-03-10T20:48:32.963404Z",
          "iopub.status.busy": "2022-03-10T20:48:32.963147Z",
          "iopub.status.idle": "2022-03-10T20:51:06.199101Z",
          "shell.execute_reply": "2022-03-10T20:51:06.198097Z",
          "shell.execute_reply.started": "2022-03-10T20:48:32.963369Z"
        },
        "id": "2-62TIQyH-H0",
        "trusted": true
      },
      "outputs": [],
      "source": [
        "trainEncodings=tokenizer(trainTexts,trainQuestions, truncation=True, padding=True, max_length=512)\n",
        "valEncodings=tokenizer(valTexts,valQuestions, truncation=True, padding=True, max_length=512)"
      ]
    },
    {
      "cell_type": "markdown",
      "metadata": {
        "id": "T24OieeEoNn7"
      },
      "source": [
        "## Convert  character start/end positions to token start/end positions"
      ]
    },
    {
      "cell_type": "code",
      "execution_count": null,
      "metadata": {
        "execution": {
          "iopub.execute_input": "2022-03-10T20:51:06.201386Z",
          "iopub.status.busy": "2022-03-10T20:51:06.200878Z",
          "iopub.status.idle": "2022-03-10T20:51:06.554016Z",
          "shell.execute_reply": "2022-03-10T20:51:06.553063Z",
          "shell.execute_reply.started": "2022-03-10T20:51:06.201344Z"
        },
        "id": "Y_IyfehmLyhN",
        "trusted": true
      },
      "outputs": [],
      "source": [
        "def add_token_positions(encodings, answers):\n",
        "    # convert character start/end positions to token start/end positions.\n",
        "    start_positions = []\n",
        "    end_positions = []\n",
        "    for i in range(len(answers)):\n",
        "        start_positions.append(encodings.char_to_token(i, answers[i]['answer_start']))\n",
        "        if(answers[i]['answer_end']==0):\n",
        "            end_positions.append(encodings.char_to_token(i, answers[i]['answer_end'])) \n",
        "        else:\n",
        "            end_positions.append(encodings.char_to_token(i, answers[i]['answer_end'] - 1))\n",
        "\n",
        "         # if None, the answer passage has been truncated\n",
        "        if start_positions[-1] is None:\n",
        "            start_positions[-1] = tokenizer.model_max_length\n",
        "                   \n",
        "        if end_positions[-1] is None:\n",
        "            end_positions[-1] = tokenizer.model_max_length\n",
        "\n",
        "    encodings.update({'start_positions': start_positions, 'end_positions': end_positions})\n",
        "\n",
        "add_token_positions(trainEncodings, trainAnswers)\n",
        "add_token_positions(valEncodings, valAnswers)"
      ]
    },
    {
      "cell_type": "markdown",
      "metadata": {
        "id": "99wzVdYloje-"
      },
      "source": [
        "## Custom Dataset"
      ]
    },
    {
      "cell_type": "code",
      "execution_count": null,
      "metadata": {
        "execution": {
          "iopub.execute_input": "2022-03-10T20:51:06.555753Z",
          "iopub.status.busy": "2022-03-10T20:51:06.555481Z",
          "iopub.status.idle": "2022-03-10T20:51:06.563183Z",
          "shell.execute_reply": "2022-03-10T20:51:06.562299Z",
          "shell.execute_reply.started": "2022-03-10T20:51:06.555714Z"
        },
        "id": "OPyW7VdgLKn4",
        "trusted": true
      },
      "outputs": [],
      "source": [
        "class SquadDataset(torch.utils.data.Dataset):\n",
        "  def __init__(self, encodings):\n",
        "    self.encodings = encodings\n",
        "\n",
        "  def __getitem__(self, idx):\n",
        "    return {key: torch.tensor(val[idx]) for key, val in self.encodings.items()}\n",
        "\n",
        "  def __len__(self):\n",
        "    return len(self.encodings.input_ids)\n",
        "\n",
        "# create the corresponding datasets\n",
        "trainSet = SquadDataset(trainEncodings)\n",
        "valSet = SquadDataset(valEncodings)"
      ]
    },
    {
      "cell_type": "markdown",
      "metadata": {
        "id": "FoniHC1wpRPd"
      },
      "source": [
        "## Build/Load the Bert model"
      ]
    },
    {
      "cell_type": "code",
      "execution_count": null,
      "metadata": {
        "execution": {
          "iopub.execute_input": "2022-03-10T20:51:06.566298Z",
          "iopub.status.busy": "2022-03-10T20:51:06.564846Z",
          "iopub.status.idle": "2022-03-10T20:51:12.138579Z",
          "shell.execute_reply": "2022-03-10T20:51:12.137839Z",
          "shell.execute_reply.started": "2022-03-10T20:51:06.566258Z"
        },
        "id": "rfCl75yFZnZC",
        "outputId": "28f53c20-a08e-4594-8f95-c2cf8350aecd",
        "trusted": true
      },
      "outputs": [
        {
          "name": "stderr",
          "output_type": "stream",
          "text": [
            "Some weights of the model checkpoint at bert-base-uncased were not used when initializing BertForQuestionAnswering: ['cls.seq_relationship.weight', 'cls.predictions.bias', 'cls.predictions.transform.dense.weight', 'cls.predictions.transform.LayerNorm.bias', 'cls.seq_relationship.bias', 'cls.predictions.transform.LayerNorm.weight', 'cls.predictions.decoder.weight', 'cls.predictions.transform.dense.bias']\n",
            "- This IS expected if you are initializing BertForQuestionAnswering from the checkpoint of a model trained on another task or with another architecture (e.g. initializing a BertForSequenceClassification model from a BertForPreTraining model).\n",
            "- This IS NOT expected if you are initializing BertForQuestionAnswering from the checkpoint of a model that you expect to be exactly identical (initializing a BertForSequenceClassification model from a BertForSequenceClassification model).\n",
            "Some weights of BertForQuestionAnswering were not initialized from the model checkpoint at bert-base-uncased and are newly initialized: ['qa_outputs.bias', 'qa_outputs.weight']\n",
            "You should probably TRAIN this model on a down-stream task to be able to use it for predictions and inference.\n"
          ]
        },
        {
          "data": {
            "text/plain": [
              "BertForQuestionAnswering(\n",
              "  (bert): BertModel(\n",
              "    (embeddings): BertEmbeddings(\n",
              "      (word_embeddings): Embedding(30522, 768, padding_idx=0)\n",
              "      (position_embeddings): Embedding(512, 768)\n",
              "      (token_type_embeddings): Embedding(2, 768)\n",
              "      (LayerNorm): LayerNorm((768,), eps=1e-12, elementwise_affine=True)\n",
              "      (dropout): Dropout(p=0.1, inplace=False)\n",
              "    )\n",
              "    (encoder): BertEncoder(\n",
              "      (layer): ModuleList(\n",
              "        (0): BertLayer(\n",
              "          (attention): BertAttention(\n",
              "            (self): BertSelfAttention(\n",
              "              (query): Linear(in_features=768, out_features=768, bias=True)\n",
              "              (key): Linear(in_features=768, out_features=768, bias=True)\n",
              "              (value): Linear(in_features=768, out_features=768, bias=True)\n",
              "              (dropout): Dropout(p=0.1, inplace=False)\n",
              "            )\n",
              "            (output): BertSelfOutput(\n",
              "              (dense): Linear(in_features=768, out_features=768, bias=True)\n",
              "              (LayerNorm): LayerNorm((768,), eps=1e-12, elementwise_affine=True)\n",
              "              (dropout): Dropout(p=0.1, inplace=False)\n",
              "            )\n",
              "          )\n",
              "          (intermediate): BertIntermediate(\n",
              "            (dense): Linear(in_features=768, out_features=3072, bias=True)\n",
              "          )\n",
              "          (output): BertOutput(\n",
              "            (dense): Linear(in_features=3072, out_features=768, bias=True)\n",
              "            (LayerNorm): LayerNorm((768,), eps=1e-12, elementwise_affine=True)\n",
              "            (dropout): Dropout(p=0.1, inplace=False)\n",
              "          )\n",
              "        )\n",
              "        (1): BertLayer(\n",
              "          (attention): BertAttention(\n",
              "            (self): BertSelfAttention(\n",
              "              (query): Linear(in_features=768, out_features=768, bias=True)\n",
              "              (key): Linear(in_features=768, out_features=768, bias=True)\n",
              "              (value): Linear(in_features=768, out_features=768, bias=True)\n",
              "              (dropout): Dropout(p=0.1, inplace=False)\n",
              "            )\n",
              "            (output): BertSelfOutput(\n",
              "              (dense): Linear(in_features=768, out_features=768, bias=True)\n",
              "              (LayerNorm): LayerNorm((768,), eps=1e-12, elementwise_affine=True)\n",
              "              (dropout): Dropout(p=0.1, inplace=False)\n",
              "            )\n",
              "          )\n",
              "          (intermediate): BertIntermediate(\n",
              "            (dense): Linear(in_features=768, out_features=3072, bias=True)\n",
              "          )\n",
              "          (output): BertOutput(\n",
              "            (dense): Linear(in_features=3072, out_features=768, bias=True)\n",
              "            (LayerNorm): LayerNorm((768,), eps=1e-12, elementwise_affine=True)\n",
              "            (dropout): Dropout(p=0.1, inplace=False)\n",
              "          )\n",
              "        )\n",
              "        (2): BertLayer(\n",
              "          (attention): BertAttention(\n",
              "            (self): BertSelfAttention(\n",
              "              (query): Linear(in_features=768, out_features=768, bias=True)\n",
              "              (key): Linear(in_features=768, out_features=768, bias=True)\n",
              "              (value): Linear(in_features=768, out_features=768, bias=True)\n",
              "              (dropout): Dropout(p=0.1, inplace=False)\n",
              "            )\n",
              "            (output): BertSelfOutput(\n",
              "              (dense): Linear(in_features=768, out_features=768, bias=True)\n",
              "              (LayerNorm): LayerNorm((768,), eps=1e-12, elementwise_affine=True)\n",
              "              (dropout): Dropout(p=0.1, inplace=False)\n",
              "            )\n",
              "          )\n",
              "          (intermediate): BertIntermediate(\n",
              "            (dense): Linear(in_features=768, out_features=3072, bias=True)\n",
              "          )\n",
              "          (output): BertOutput(\n",
              "            (dense): Linear(in_features=3072, out_features=768, bias=True)\n",
              "            (LayerNorm): LayerNorm((768,), eps=1e-12, elementwise_affine=True)\n",
              "            (dropout): Dropout(p=0.1, inplace=False)\n",
              "          )\n",
              "        )\n",
              "        (3): BertLayer(\n",
              "          (attention): BertAttention(\n",
              "            (self): BertSelfAttention(\n",
              "              (query): Linear(in_features=768, out_features=768, bias=True)\n",
              "              (key): Linear(in_features=768, out_features=768, bias=True)\n",
              "              (value): Linear(in_features=768, out_features=768, bias=True)\n",
              "              (dropout): Dropout(p=0.1, inplace=False)\n",
              "            )\n",
              "            (output): BertSelfOutput(\n",
              "              (dense): Linear(in_features=768, out_features=768, bias=True)\n",
              "              (LayerNorm): LayerNorm((768,), eps=1e-12, elementwise_affine=True)\n",
              "              (dropout): Dropout(p=0.1, inplace=False)\n",
              "            )\n",
              "          )\n",
              "          (intermediate): BertIntermediate(\n",
              "            (dense): Linear(in_features=768, out_features=3072, bias=True)\n",
              "          )\n",
              "          (output): BertOutput(\n",
              "            (dense): Linear(in_features=3072, out_features=768, bias=True)\n",
              "            (LayerNorm): LayerNorm((768,), eps=1e-12, elementwise_affine=True)\n",
              "            (dropout): Dropout(p=0.1, inplace=False)\n",
              "          )\n",
              "        )\n",
              "        (4): BertLayer(\n",
              "          (attention): BertAttention(\n",
              "            (self): BertSelfAttention(\n",
              "              (query): Linear(in_features=768, out_features=768, bias=True)\n",
              "              (key): Linear(in_features=768, out_features=768, bias=True)\n",
              "              (value): Linear(in_features=768, out_features=768, bias=True)\n",
              "              (dropout): Dropout(p=0.1, inplace=False)\n",
              "            )\n",
              "            (output): BertSelfOutput(\n",
              "              (dense): Linear(in_features=768, out_features=768, bias=True)\n",
              "              (LayerNorm): LayerNorm((768,), eps=1e-12, elementwise_affine=True)\n",
              "              (dropout): Dropout(p=0.1, inplace=False)\n",
              "            )\n",
              "          )\n",
              "          (intermediate): BertIntermediate(\n",
              "            (dense): Linear(in_features=768, out_features=3072, bias=True)\n",
              "          )\n",
              "          (output): BertOutput(\n",
              "            (dense): Linear(in_features=3072, out_features=768, bias=True)\n",
              "            (LayerNorm): LayerNorm((768,), eps=1e-12, elementwise_affine=True)\n",
              "            (dropout): Dropout(p=0.1, inplace=False)\n",
              "          )\n",
              "        )\n",
              "        (5): BertLayer(\n",
              "          (attention): BertAttention(\n",
              "            (self): BertSelfAttention(\n",
              "              (query): Linear(in_features=768, out_features=768, bias=True)\n",
              "              (key): Linear(in_features=768, out_features=768, bias=True)\n",
              "              (value): Linear(in_features=768, out_features=768, bias=True)\n",
              "              (dropout): Dropout(p=0.1, inplace=False)\n",
              "            )\n",
              "            (output): BertSelfOutput(\n",
              "              (dense): Linear(in_features=768, out_features=768, bias=True)\n",
              "              (LayerNorm): LayerNorm((768,), eps=1e-12, elementwise_affine=True)\n",
              "              (dropout): Dropout(p=0.1, inplace=False)\n",
              "            )\n",
              "          )\n",
              "          (intermediate): BertIntermediate(\n",
              "            (dense): Linear(in_features=768, out_features=3072, bias=True)\n",
              "          )\n",
              "          (output): BertOutput(\n",
              "            (dense): Linear(in_features=3072, out_features=768, bias=True)\n",
              "            (LayerNorm): LayerNorm((768,), eps=1e-12, elementwise_affine=True)\n",
              "            (dropout): Dropout(p=0.1, inplace=False)\n",
              "          )\n",
              "        )\n",
              "        (6): BertLayer(\n",
              "          (attention): BertAttention(\n",
              "            (self): BertSelfAttention(\n",
              "              (query): Linear(in_features=768, out_features=768, bias=True)\n",
              "              (key): Linear(in_features=768, out_features=768, bias=True)\n",
              "              (value): Linear(in_features=768, out_features=768, bias=True)\n",
              "              (dropout): Dropout(p=0.1, inplace=False)\n",
              "            )\n",
              "            (output): BertSelfOutput(\n",
              "              (dense): Linear(in_features=768, out_features=768, bias=True)\n",
              "              (LayerNorm): LayerNorm((768,), eps=1e-12, elementwise_affine=True)\n",
              "              (dropout): Dropout(p=0.1, inplace=False)\n",
              "            )\n",
              "          )\n",
              "          (intermediate): BertIntermediate(\n",
              "            (dense): Linear(in_features=768, out_features=3072, bias=True)\n",
              "          )\n",
              "          (output): BertOutput(\n",
              "            (dense): Linear(in_features=3072, out_features=768, bias=True)\n",
              "            (LayerNorm): LayerNorm((768,), eps=1e-12, elementwise_affine=True)\n",
              "            (dropout): Dropout(p=0.1, inplace=False)\n",
              "          )\n",
              "        )\n",
              "        (7): BertLayer(\n",
              "          (attention): BertAttention(\n",
              "            (self): BertSelfAttention(\n",
              "              (query): Linear(in_features=768, out_features=768, bias=True)\n",
              "              (key): Linear(in_features=768, out_features=768, bias=True)\n",
              "              (value): Linear(in_features=768, out_features=768, bias=True)\n",
              "              (dropout): Dropout(p=0.1, inplace=False)\n",
              "            )\n",
              "            (output): BertSelfOutput(\n",
              "              (dense): Linear(in_features=768, out_features=768, bias=True)\n",
              "              (LayerNorm): LayerNorm((768,), eps=1e-12, elementwise_affine=True)\n",
              "              (dropout): Dropout(p=0.1, inplace=False)\n",
              "            )\n",
              "          )\n",
              "          (intermediate): BertIntermediate(\n",
              "            (dense): Linear(in_features=768, out_features=3072, bias=True)\n",
              "          )\n",
              "          (output): BertOutput(\n",
              "            (dense): Linear(in_features=3072, out_features=768, bias=True)\n",
              "            (LayerNorm): LayerNorm((768,), eps=1e-12, elementwise_affine=True)\n",
              "            (dropout): Dropout(p=0.1, inplace=False)\n",
              "          )\n",
              "        )\n",
              "        (8): BertLayer(\n",
              "          (attention): BertAttention(\n",
              "            (self): BertSelfAttention(\n",
              "              (query): Linear(in_features=768, out_features=768, bias=True)\n",
              "              (key): Linear(in_features=768, out_features=768, bias=True)\n",
              "              (value): Linear(in_features=768, out_features=768, bias=True)\n",
              "              (dropout): Dropout(p=0.1, inplace=False)\n",
              "            )\n",
              "            (output): BertSelfOutput(\n",
              "              (dense): Linear(in_features=768, out_features=768, bias=True)\n",
              "              (LayerNorm): LayerNorm((768,), eps=1e-12, elementwise_affine=True)\n",
              "              (dropout): Dropout(p=0.1, inplace=False)\n",
              "            )\n",
              "          )\n",
              "          (intermediate): BertIntermediate(\n",
              "            (dense): Linear(in_features=768, out_features=3072, bias=True)\n",
              "          )\n",
              "          (output): BertOutput(\n",
              "            (dense): Linear(in_features=3072, out_features=768, bias=True)\n",
              "            (LayerNorm): LayerNorm((768,), eps=1e-12, elementwise_affine=True)\n",
              "            (dropout): Dropout(p=0.1, inplace=False)\n",
              "          )\n",
              "        )\n",
              "        (9): BertLayer(\n",
              "          (attention): BertAttention(\n",
              "            (self): BertSelfAttention(\n",
              "              (query): Linear(in_features=768, out_features=768, bias=True)\n",
              "              (key): Linear(in_features=768, out_features=768, bias=True)\n",
              "              (value): Linear(in_features=768, out_features=768, bias=True)\n",
              "              (dropout): Dropout(p=0.1, inplace=False)\n",
              "            )\n",
              "            (output): BertSelfOutput(\n",
              "              (dense): Linear(in_features=768, out_features=768, bias=True)\n",
              "              (LayerNorm): LayerNorm((768,), eps=1e-12, elementwise_affine=True)\n",
              "              (dropout): Dropout(p=0.1, inplace=False)\n",
              "            )\n",
              "          )\n",
              "          (intermediate): BertIntermediate(\n",
              "            (dense): Linear(in_features=768, out_features=3072, bias=True)\n",
              "          )\n",
              "          (output): BertOutput(\n",
              "            (dense): Linear(in_features=3072, out_features=768, bias=True)\n",
              "            (LayerNorm): LayerNorm((768,), eps=1e-12, elementwise_affine=True)\n",
              "            (dropout): Dropout(p=0.1, inplace=False)\n",
              "          )\n",
              "        )\n",
              "        (10): BertLayer(\n",
              "          (attention): BertAttention(\n",
              "            (self): BertSelfAttention(\n",
              "              (query): Linear(in_features=768, out_features=768, bias=True)\n",
              "              (key): Linear(in_features=768, out_features=768, bias=True)\n",
              "              (value): Linear(in_features=768, out_features=768, bias=True)\n",
              "              (dropout): Dropout(p=0.1, inplace=False)\n",
              "            )\n",
              "            (output): BertSelfOutput(\n",
              "              (dense): Linear(in_features=768, out_features=768, bias=True)\n",
              "              (LayerNorm): LayerNorm((768,), eps=1e-12, elementwise_affine=True)\n",
              "              (dropout): Dropout(p=0.1, inplace=False)\n",
              "            )\n",
              "          )\n",
              "          (intermediate): BertIntermediate(\n",
              "            (dense): Linear(in_features=768, out_features=3072, bias=True)\n",
              "          )\n",
              "          (output): BertOutput(\n",
              "            (dense): Linear(in_features=3072, out_features=768, bias=True)\n",
              "            (LayerNorm): LayerNorm((768,), eps=1e-12, elementwise_affine=True)\n",
              "            (dropout): Dropout(p=0.1, inplace=False)\n",
              "          )\n",
              "        )\n",
              "        (11): BertLayer(\n",
              "          (attention): BertAttention(\n",
              "            (self): BertSelfAttention(\n",
              "              (query): Linear(in_features=768, out_features=768, bias=True)\n",
              "              (key): Linear(in_features=768, out_features=768, bias=True)\n",
              "              (value): Linear(in_features=768, out_features=768, bias=True)\n",
              "              (dropout): Dropout(p=0.1, inplace=False)\n",
              "            )\n",
              "            (output): BertSelfOutput(\n",
              "              (dense): Linear(in_features=768, out_features=768, bias=True)\n",
              "              (LayerNorm): LayerNorm((768,), eps=1e-12, elementwise_affine=True)\n",
              "              (dropout): Dropout(p=0.1, inplace=False)\n",
              "            )\n",
              "          )\n",
              "          (intermediate): BertIntermediate(\n",
              "            (dense): Linear(in_features=768, out_features=3072, bias=True)\n",
              "          )\n",
              "          (output): BertOutput(\n",
              "            (dense): Linear(in_features=3072, out_features=768, bias=True)\n",
              "            (LayerNorm): LayerNorm((768,), eps=1e-12, elementwise_affine=True)\n",
              "            (dropout): Dropout(p=0.1, inplace=False)\n",
              "          )\n",
              "        )\n",
              "      )\n",
              "    )\n",
              "  )\n",
              "  (qa_outputs): Linear(in_features=768, out_features=2, bias=True)\n",
              ")"
            ]
          },
          "execution_count": 18,
          "metadata": {},
          "output_type": "execute_result"
        }
      ],
      "source": [
        "from transformers import BertForQuestionAnswering,DistilBertForQuestionAnswering\n",
        "modelTrivia = BertForQuestionAnswering.from_pretrained('bert-base-uncased')\n",
        "# model = DistilBertForQuestionAnswering.from_pretrained('distilbert-base-uncased')\n",
        "modelTrivia.to(device)"
      ]
    },
    {
      "cell_type": "code",
      "execution_count": null,
      "metadata": {
        "execution": {
          "iopub.execute_input": "2022-03-10T20:51:12.140354Z",
          "iopub.status.busy": "2022-03-10T20:51:12.140083Z",
          "iopub.status.idle": "2022-03-10T20:51:12.146319Z",
          "shell.execute_reply": "2022-03-10T20:51:12.145550Z",
          "shell.execute_reply.started": "2022-03-10T20:51:12.140318Z"
        },
        "id": "aKm02qunZ_2-",
        "trusted": true
      },
      "outputs": [],
      "source": [
        "from torch.utils.data import TensorDataset, DataLoader\n",
        "\n",
        "batch_size = 16\n",
        "trainDataloader = DataLoader(trainSet, batch_size=batch_size, shuffle=True)\n",
        "valDataloader = DataLoader(valSet, batch_size=batch_size, shuffle=False)"
      ]
    },
    {
      "cell_type": "code",
      "execution_count": null,
      "metadata": {
        "execution": {
          "iopub.execute_input": "2022-03-10T20:51:12.148501Z",
          "iopub.status.busy": "2022-03-10T20:51:12.147710Z",
          "iopub.status.idle": "2022-03-10T20:51:12.161371Z",
          "shell.execute_reply": "2022-03-10T20:51:12.160241Z",
          "shell.execute_reply.started": "2022-03-10T20:51:12.148457Z"
        },
        "id": "r1MdTddDZDYb",
        "trusted": true
      },
      "outputs": [],
      "source": [
        "lr = 1e-5\n",
        "optimizer = torch.optim.AdamW(modelTrivia.parameters(), lr=lr)"
      ]
    },
    {
      "cell_type": "markdown",
      "metadata": {
        "id": "tlLJs3Zqpg5p"
      },
      "source": [
        "## Train and evalute the Bert model"
      ]
    },
    {
      "cell_type": "code",
      "execution_count": null,
      "metadata": {
        "execution": {
          "iopub.execute_input": "2022-03-10T20:51:12.163311Z",
          "iopub.status.busy": "2022-03-10T20:51:12.162585Z",
          "iopub.status.idle": "2022-03-10T22:34:12.921566Z",
          "shell.execute_reply": "2022-03-10T22:34:12.920704Z",
          "shell.execute_reply.started": "2022-03-10T20:51:12.163271Z"
        },
        "id": "y2gOhWGIacJ3",
        "outputId": "1d9b55ef-80b1-40ca-cc7c-5b88d979f64e",
        "trusted": true
      },
      "outputs": [
        {
          "name": "stdout",
          "output_type": "stream",
          "text": [
            "-Epoch: 1/2... Train Loss: 2.746614 | Val Loss: 1.893155\n",
            "-Epoch: 2/2... Train Loss: 1.633667 | Val Loss: 1.711454\n"
          ]
        }
      ],
      "source": [
        "epochs = 2\n",
        "trainLosses=[]\n",
        "valLosses=[]\n",
        "\n",
        "for i in range(epochs):\n",
        "  batchLosses = []\n",
        "  modelTrivia.train() # training mode\n",
        "\n",
        "  for batch in trainDataloader:\n",
        "    \n",
        "    optimizer.zero_grad() # Delete previously stored gradients\n",
        "\n",
        "    input_ids = batch['input_ids'].to(device)\n",
        "    attention_mask = batch['attention_mask'].to(device)\n",
        "    start_positions = batch['start_positions'].to(device)\n",
        "    end_positions = batch['end_positions'].to(device)\n",
        "    \n",
        "    outputs = modelTrivia(input_ids, attention_mask=attention_mask, start_positions=start_positions, end_positions=end_positions)\n",
        "\n",
        "    batchLosses.append(outputs[0].item())  \n",
        "\n",
        "    outputs[0].backward() # Perform backpropagation starting from the loss calculated in this epoch\n",
        "\n",
        "    nn.utils.clip_grad_norm_(modelTrivia.parameters(),5.0) # Clip gradients to avoid vanishing gradients\n",
        "\n",
        "    optimizer.step() # Update model's weights based on the gradients calculated during backprop\n",
        "\n",
        "\n",
        "  trainCurrentLoss = sum(batchLosses)/len(trainDataloader)\n",
        "  trainLosses.append(trainCurrentLoss) \n",
        "\n",
        " \n",
        "  with torch.no_grad(): # evaluation, don't calculate gradients\n",
        "    modelTrivia.eval() # evaluation mode\n",
        "    batchLosses = []\n",
        "    for batch in valDataloader:\n",
        "\n",
        "      input_ids = batch['input_ids'].to(device)\n",
        "      attention_mask = batch['attention_mask'].to(device)\n",
        "      start_positions = batch['start_positions'].to(device)\n",
        "      end_positions = batch['end_positions'].to(device)\n",
        "      \n",
        "      output = model(input_ids, attention_mask=attention_mask, start_positions=start_positions, end_positions=end_positions)\n",
        "      batchLosses.append(output[0].item())\n",
        "\n",
        "  valCurrentLoss = sum(batchLosses)/len(valDataloader)\n",
        "  valLosses.append(valCurrentLoss)\n",
        "  print(\"-Epoch: {}/{}...\".format(i+1, epochs), \"Train Loss: {:.6f} |\".format(trainCurrentLoss), \"Val Loss: {:.6f}\".format(valCurrentLoss))"
      ]
    },
    {
      "cell_type": "code",
      "execution_count": null,
      "metadata": {
        "execution": {
          "iopub.execute_input": "2022-03-10T22:34:14.148998Z",
          "iopub.status.busy": "2022-03-10T22:34:14.147745Z",
          "iopub.status.idle": "2022-03-10T22:34:14.897612Z",
          "shell.execute_reply": "2022-03-10T22:34:14.896763Z",
          "shell.execute_reply.started": "2022-03-10T22:34:14.148948Z"
        },
        "id": "MimR1F_lmFKT",
        "outputId": "612d5880-6250-4347-f7af-cad1d6426609",
        "trusted": true
      },
      "outputs": [
        {
          "data": {
            "image/png": "[encoded data removed]",
            "text/plain": [
              "<Figure size 432x288 with 1 Axes>"
            ]
          },
          "metadata": {
            "needs_background": "light"
          },
          "output_type": "display_data"
        }
      ],
      "source": [
        "lossCurve(trainLosses,valLosses)"
      ]
    },
    {
      "cell_type": "code",
      "execution_count": 18,
      "metadata": {
        "execution": {
          "iopub.execute_input": "2022-03-10T22:34:14.128634Z",
          "iopub.status.busy": "2022-03-10T22:34:14.121302Z",
          "iopub.status.idle": "2022-03-10T22:34:14.143049Z",
          "shell.execute_reply": "2022-03-10T22:34:14.141592Z",
          "shell.execute_reply.started": "2022-03-10T22:34:14.128552Z"
        },
        "id": "ngCQ-AllItfl",
        "trusted": true
      },
      "outputs": [],
      "source": [
        "def predictTheAnswer(text,question,model):\n",
        "  inputs = tokenizer.encode_plus(question, text, return_tensors='pt',max_length=512, truncation=True).to(device)\n",
        "\n",
        "  outputs = model(**inputs)\n",
        "  answer_start = torch.argmax(outputs[0])\n",
        "  answer_end = torch.argmax(outputs[1]) + 1 \n",
        "\n",
        "  answer = tokenizer.convert_tokens_to_string(tokenizer.convert_ids_to_tokens(inputs['input_ids'][0][answer_start:answer_end]))\n",
        "  return answer"
      ]
    },
    {
      "cell_type": "code",
      "execution_count": 19,
      "metadata": {
        "execution": {
          "iopub.execute_input": "2022-03-10T22:34:14.899494Z",
          "iopub.status.busy": "2022-03-10T22:34:14.899113Z",
          "iopub.status.idle": "2022-03-10T22:34:14.906978Z",
          "shell.execute_reply": "2022-03-10T22:34:14.905932Z",
          "shell.execute_reply.started": "2022-03-10T22:34:14.899449Z"
        },
        "id": "xLN3121rItfm",
        "trusted": true
      },
      "outputs": [],
      "source": [
        "def prediction(contents,model):\n",
        "  predAnswers={}\n",
        "  for data in contents['data']:\n",
        "    for txt in data['paragraphs']: \n",
        "      text = txt['context']\n",
        "      for qa in txt['qas']:\n",
        "        qid = qa['id']\n",
        "        question = qa['question']\n",
        "        predAnswers[qid]=predictTheAnswer(text,question,model)\n",
        "  return predAnswers"
      ]
    },
    {
      "cell_type": "code",
      "execution_count": null,
      "metadata": {
        "execution": {
          "iopub.execute_input": "2022-03-10T22:34:14.909030Z",
          "iopub.status.busy": "2022-03-10T22:34:14.908645Z",
          "iopub.status.idle": "2022-03-10T22:40:18.191523Z",
          "shell.execute_reply": "2022-03-10T22:40:18.190594Z",
          "shell.execute_reply.started": "2022-03-10T22:34:14.908985Z"
        },
        "id": "2W5s1ELXItfm",
        "trusted": true
      },
      "outputs": [],
      "source": [
        "predAnswers=prediction(valContents,model)"
      ]
    },
    {
      "cell_type": "code",
      "execution_count": null,
      "metadata": {
        "execution": {
          "iopub.execute_input": "2022-03-10T22:40:18.193807Z",
          "iopub.status.busy": "2022-03-10T22:40:18.193496Z",
          "iopub.status.idle": "2022-03-10T22:40:18.218221Z",
          "shell.execute_reply": "2022-03-10T22:40:18.217521Z",
          "shell.execute_reply.started": "2022-03-10T22:40:18.193766Z"
        },
        "id": "RVcoLzuOItfm",
        "trusted": true
      },
      "outputs": [],
      "source": [
        "with open('results.txt', 'w') as convert_file:\n",
        "     convert_file.write(json.dumps(predAnswers))"
      ]
    },
    {
      "cell_type": "code",
      "execution_count": null,
      "metadata": {
        "execution": {
          "iopub.execute_input": "2022-03-10T22:40:18.223559Z",
          "iopub.status.busy": "2022-03-10T22:40:18.223349Z",
          "iopub.status.idle": "2022-03-10T22:40:22.239147Z",
          "shell.execute_reply": "2022-03-10T22:40:22.238266Z",
          "shell.execute_reply.started": "2022-03-10T22:40:18.223528Z"
        },
        "id": "xKgwmIvEItfm",
        "outputId": "6471f033-e2f3-46f8-8af3-15bd89cbfc2e",
        "trusted": true
      },
      "outputs": [
        {
          "name": "stdout",
          "output_type": "stream",
          "text": [
            "huggingface/tokenizers: The current process just got forked, after parallelism has already been used. Disabling parallelism to avoid deadlocks...\n",
            "To disable this warning, you can either:\n",
            "\t- Avoid using `tokenizers` before the fork if possible\n",
            "\t- Explicitly set the environment variable TOKENIZERS_PARALLELISM=(true | false)\n",
            "{\n",
            "  \"exact\": 25.209080047789726,\n",
            "  \"f1\": 28.63502153613684,\n",
            "  \"total\": 14229,\n",
            "  \"HasAns_exact\": 28.591749644381224,\n",
            "  \"HasAns_f1\": 33.54477966243567,\n",
            "  \"HasAns_total\": 9842,\n",
            "  \"NoAns_exact\": 17.620241622976977,\n",
            "  \"NoAns_f1\": 17.620241622976977,\n",
            "  \"NoAns_total\": 4387\n",
            "}\n"
          ]
        }
      ],
      "source": [
        "!python evaluate-v2.0.py triviaqa_dev.json results.txt"
      ]
    },
    {
      "cell_type": "markdown",
      "metadata": {
        "id": "V5jyIOa2Itfn"
      },
      "source": [
        "## SQuAD 2.0"
      ]
    },
    {
      "cell_type": "code",
      "execution_count": null,
      "metadata": {
        "colab": {
          "base_uri": "https://localhost:8080/"
        },
        "id": "6WwciZvRJwDd",
        "outputId": "7f87c068-d734-4199-97c9-d715ebb9cd91"
      },
      "outputs": [
        {
          "name": "stdout",
          "output_type": "stream",
          "text": [
            "--2022-03-10 23:26:56--  https://rajpurkar.github.io/SQuAD-explorer/dataset/dev-v2.0.json\n",
            "Resolving rajpurkar.github.io (rajpurkar.github.io)... 185.199.108.153, 185.199.109.153, 185.199.110.153, ...\n",
            "Connecting to rajpurkar.github.io (rajpurkar.github.io)|185.199.108.153|:443... connected.\n",
            "HTTP request sent, awaiting response... 200 OK\n",
            "Length: 4370528 (4.2M) [application/json]\n",
            "Saving to: ‘dev-v2.0.json’\n",
            "\n",
            "dev-v2.0.json       100%[===================>]   4.17M  --.-KB/s    in 0.1s    \n",
            "\n",
            "2022-03-10 23:26:57 (36.3 MB/s) - ‘dev-v2.0.json’ saved [4370528/4370528]\n",
            "\n"
          ]
        }
      ],
      "source": [
        "!wget https://rajpurkar.github.io/SQuAD-explorer/dataset/dev-v2.0.json\n",
        "jsonVal = \"dev-v2.0.json\"\n",
        "\n",
        "with open(jsonVal, 'r') as j:\n",
        "     squadContents = json.loads(j.read())"
      ]
    },
    {
      "cell_type": "code",
      "execution_count": null,
      "metadata": {
        "execution": {
          "iopub.status.busy": "2022-03-10T22:43:24.539640Z",
          "iopub.status.idle": "2022-03-10T22:43:24.540281Z",
          "shell.execute_reply": "2022-03-10T22:43:24.540061Z",
          "shell.execute_reply.started": "2022-03-10T22:43:24.540025Z"
        },
        "id": "Q8i0A4QgItfo",
        "trusted": true
      },
      "outputs": [],
      "source": [
        "predAnswersTrivia=prediction(squadContents,modelTrivia)"
      ]
    },
    {
      "cell_type": "code",
      "execution_count": null,
      "metadata": {
        "execution": {
          "iopub.status.busy": "2022-03-10T22:43:24.541409Z",
          "iopub.status.idle": "2022-03-10T22:43:24.541969Z",
          "shell.execute_reply": "2022-03-10T22:43:24.541749Z",
          "shell.execute_reply.started": "2022-03-10T22:43:24.541724Z"
        },
        "id": "V9JG8qJUItfp",
        "trusted": true
      },
      "outputs": [],
      "source": [
        "with open('resultsSquadPredictedAnswers.txt', 'w') as convert_file:\n",
        "     convert_file.write(json.dumps(predAnswersTrivia))"
      ]
    },
    {
      "cell_type": "code",
      "execution_count": null,
      "metadata": {
        "colab": {
          "base_uri": "https://localhost:8080/"
        },
        "execution": {
          "iopub.status.busy": "2022-03-10T22:43:24.543428Z",
          "iopub.status.idle": "2022-03-10T22:43:24.544191Z",
          "shell.execute_reply": "2022-03-10T22:43:24.543956Z",
          "shell.execute_reply.started": "2022-03-10T22:43:24.543930Z"
        },
        "id": "jqq_uq2HItfp",
        "outputId": "d96f6d6e-b459-4cd5-c988-23b73997f4f7",
        "trusted": true
      },
      "outputs": [
        {
          "name": "stdout",
          "output_type": "stream",
          "text": [
            "{\n",
            "  \"exact\": 15.27836267160785,\n",
            "  \"f1\": 18.455467652468585,\n",
            "  \"total\": 11873,\n",
            "  \"HasAns_exact\": 12.449392712550607,\n",
            "  \"HasAns_f1\": 18.812713805289885,\n",
            "  \"HasAns_total\": 5928,\n",
            "  \"NoAns_exact\": 18.09924306139613,\n",
            "  \"NoAns_f1\": 18.09924306139613,\n",
            "  \"NoAns_total\": 5945\n",
            "}\n"
          ]
        }
      ],
      "source": [
        "!python evaluate-v2.0.py dev-v2.0.json resultsSquadPredictedAnswers.txt"
      ]
    },
    {
      "cell_type": "markdown",
      "metadata": {
        "id": "KmMMT8dzItfp"
      },
      "source": [
        "## QUAC"
      ]
    },
    {
      "cell_type": "code",
      "execution_count": null,
      "metadata": {
        "colab": {
          "base_uri": "https://localhost:8080/"
        },
        "execution": {
          "iopub.status.busy": "2022-03-10T22:43:24.545593Z",
          "iopub.status.idle": "2022-03-10T22:43:24.546105Z",
          "shell.execute_reply": "2022-03-10T22:43:24.545867Z",
          "shell.execute_reply.started": "2022-03-10T22:43:24.545841Z"
        },
        "id": "3ZFSJhi5Itfp",
        "outputId": "06792dfe-a3f7-45b5-b17d-4f8dadc2ff7b",
        "trusted": true
      },
      "outputs": [
        {
          "name": "stdout",
          "output_type": "stream",
          "text": [
            "--2022-03-11 00:04:03--  https://s3.amazonaws.com/my89public/quac/val_v0.2.json\n",
            "Resolving s3.amazonaws.com (s3.amazonaws.com)... 52.217.77.30\n",
            "Connecting to s3.amazonaws.com (s3.amazonaws.com)|52.217.77.30|:443... connected.\n",
            "HTTP request sent, awaiting response... 200 OK\n",
            "Length: 8929167 (8.5M) [application/json]\n",
            "Saving to: ‘val_v0.2.json’\n",
            "\n",
            "val_v0.2.json       100%[===================>]   8.51M  35.9MB/s    in 0.2s    \n",
            "\n",
            "2022-03-11 00:04:03 (35.9 MB/s) - ‘val_v0.2.json’ saved [8929167/8929167]\n",
            "\n"
          ]
        }
      ],
      "source": [
        "!wget https://s3.amazonaws.com/my89public/quac/val_v0.2.json"
      ]
    },
    {
      "cell_type": "code",
      "execution_count": null,
      "metadata": {
        "execution": {
          "iopub.status.busy": "2022-03-10T22:43:24.547607Z",
          "iopub.status.idle": "2022-03-10T22:43:24.548037Z",
          "shell.execute_reply": "2022-03-10T22:43:24.547835Z",
          "shell.execute_reply.started": "2022-03-10T22:43:24.547813Z"
        },
        "id": "Ww5jSg2dItfp",
        "trusted": true
      },
      "outputs": [],
      "source": [
        "!python /content/qa-dataset-converter/quac/quac_to_squad.py --quac_file val_v0.2.json --output_file quac_dev.json"
      ]
    },
    {
      "cell_type": "code",
      "execution_count": null,
      "metadata": {
        "execution": {
          "iopub.status.busy": "2022-03-10T22:43:24.549555Z",
          "iopub.status.idle": "2022-03-10T22:43:24.549988Z",
          "shell.execute_reply": "2022-03-10T22:43:24.549787Z",
          "shell.execute_reply.started": "2022-03-10T22:43:24.549764Z"
        },
        "id": "uygR8W-XItfp",
        "trusted": true
      },
      "outputs": [],
      "source": [
        "jsonValQuAC = \"/content/quac_dev.json\"\n",
        "\n",
        "with open(jsonValQuAC, 'r') as j:\n",
        "     QuACValContents = json.loads(j.read())"
      ]
    },
    {
      "cell_type": "code",
      "execution_count": null,
      "metadata": {
        "execution": {
          "iopub.status.busy": "2022-03-10T22:43:24.551650Z",
          "iopub.status.idle": "2022-03-10T22:43:24.552105Z",
          "shell.execute_reply": "2022-03-10T22:43:24.551878Z",
          "shell.execute_reply.started": "2022-03-10T22:43:24.551855Z"
        },
        "id": "wajxaN9pItfq",
        "trusted": true
      },
      "outputs": [],
      "source": [
        "predAnswersQuAC=prediction(QuACValContents,modelTrivia)"
      ]
    },
    {
      "cell_type": "code",
      "execution_count": null,
      "metadata": {
        "id": "xu6PxtoqUsHp"
      },
      "outputs": [],
      "source": [
        "with open('resultsQuACPredictedAnswers.txt', 'w') as convert_file:\n",
        "     convert_file.write(json.dumps(predAnswersQuAC))"
      ]
    },
    {
      "cell_type": "code",
      "execution_count": null,
      "metadata": {
        "colab": {
          "base_uri": "https://localhost:8080/"
        },
        "execution": {
          "iopub.status.busy": "2022-03-10T22:43:24.553481Z",
          "iopub.status.idle": "2022-03-10T22:43:24.553925Z",
          "shell.execute_reply": "2022-03-10T22:43:24.553718Z",
          "shell.execute_reply.started": "2022-03-10T22:43:24.553694Z"
        },
        "id": "vNt9tu8qItfq",
        "outputId": "bb18c23d-8572-4caa-8343-155ed643c055",
        "trusted": true
      },
      "outputs": [
        {
          "name": "stdout",
          "output_type": "stream",
          "text": [
            "{\n",
            "  \"exact\": 4.405765569757955,\n",
            "  \"f1\": 8.497801522440408,\n",
            "  \"total\": 7354,\n",
            "  \"HasAns_exact\": 0.5794137695978187,\n",
            "  \"HasAns_f1\": 5.707708315614657,\n",
            "  \"HasAns_total\": 5868,\n",
            "  \"NoAns_exact\": 19.515477792732167,\n",
            "  \"NoAns_f1\": 19.515477792732167,\n",
            "  \"NoAns_total\": 1486\n",
            "}\n"
          ]
        }
      ],
      "source": [
        "!python evaluate-v2.0.py quac_dev.json resultsQuACPredictedAnswers.txt"
      ]
    },
    {
      "cell_type": "markdown",
      "metadata": {
        "id": "bjBNM5d0U7lh"
      },
      "source": [
        "## NQ"
      ]
    },
    {
      "cell_type": "code",
      "execution_count": null,
      "metadata": {
        "id": "W6Qjind9U85w"
      },
      "outputs": [],
      "source": [
        "!python /content/qa-dataset-converter/nq/nq_to_squad.py --nq_dir \"/content/drive/MyDrive/v1.0/dev\" --output_file nq_dev.json\n"
      ]
    },
    {
      "cell_type": "code",
      "execution_count": null,
      "metadata": {
        "id": "IfW8MCd6U-F0"
      },
      "outputs": [],
      "source": [
        "jsonValnatural = \"/content/nq_dev.json\"\n",
        "\n",
        "with open(jsonValnatural, 'r') as j:\n",
        "     naturalValContents = json.loads(j.read())"
      ]
    },
    {
      "cell_type": "code",
      "execution_count": null,
      "metadata": {
        "id": "_NecLCwiU_tc"
      },
      "outputs": [],
      "source": [
        "predAnswersNatural=prediction(naturalValContents,modelTrivia)"
      ]
    },
    {
      "cell_type": "code",
      "execution_count": null,
      "metadata": {
        "id": "D0G7PpIZVAeX"
      },
      "outputs": [],
      "source": [
        "with open('resultsNaturalPredictedAnswers.txt', 'w') as convert_file:\n",
        "     convert_file.write(json.dumps(predAnswersNatural))"
      ]
    },
    {
      "cell_type": "code",
      "execution_count": null,
      "metadata": {
        "colab": {
          "base_uri": "https://localhost:8080/"
        },
        "id": "lV34Z4BuVBGQ",
        "outputId": "46513ba1-8d60-4519-ed52-a8563516ea7b"
      },
      "outputs": [
        {
          "name": "stdout",
          "output_type": "stream",
          "text": [
            "{\n",
            "  \"exact\": 16.087859899079845,\n",
            "  \"f1\": 21.043960703422968,\n",
            "  \"total\": 3369,\n",
            "  \"HasAns_exact\": 16.68081494057725,\n",
            "  \"HasAns_f1\": 23.767870802135825,\n",
            "  \"HasAns_total\": 2356,\n",
            "  \"NoAns_exact\": 14.70878578479763,\n",
            "  \"NoAns_f1\": 14.70878578479763,\n",
            "  \"NoAns_total\": 1013\n",
            "}\n"
          ]
        }
      ],
      "source": [
        "!python evaluate-v2.0.py nq_dev.json resultsNaturalPredictedAnswers.txt"
      ]
    },
    {
      "cell_type": "markdown",
      "metadata": {
        "id": "zF6-GIYFEzit"
      },
      "source": [
        "## NewsQA"
      ]
    },
    {
      "cell_type": "code",
      "execution_count": null,
      "metadata": {
        "id": "fuayMAF6E2_L"
      },
      "outputs": [],
      "source": [
        "!python /content/qa-dataset-converter/newsqa/newsqa_to_squad.py --newsqa_file /content/drive/MyDrive/datasets/newsqa_dev.json --output_file newsqa_dev.json"
      ]
    },
    {
      "cell_type": "code",
      "execution_count": 16,
      "metadata": {
        "id": "IYvx8mpSFH8G"
      },
      "outputs": [],
      "source": [
        "jsonValnatural = \"/content/newsqa_dev.json\"\n",
        "\n",
        "with open(jsonValnatural, 'r') as j:\n",
        "     newsQAValContents = json.loads(j.read())"
      ]
    },
    {
      "cell_type": "code",
      "execution_count": 24,
      "metadata": {
        "id": "UZEN_RXMFJQX"
      },
      "outputs": [],
      "source": [
        "predAnswersnewsQA=prediction(newsQAValContents,modelTrivia)"
      ]
    },
    {
      "cell_type": "code",
      "execution_count": 25,
      "metadata": {
        "id": "dBpcGRynFKLw"
      },
      "outputs": [],
      "source": [
        "with open('resultsnewsQAPredictedAnswers.txt', 'w') as convert_file:\n",
        "     convert_file.write(json.dumps(predAnswersnewsQA))"
      ]
    },
    {
      "cell_type": "code",
      "execution_count": 26,
      "metadata": {
        "colab": {
          "base_uri": "https://localhost:8080/"
        },
        "id": "Mym9bAyqFK8Y",
        "outputId": "4048eac6-34c2-4404-e34b-fb0b40cfd1d1"
      },
      "outputs": [
        {
          "name": "stdout",
          "output_type": "stream",
          "text": [
            "{\n",
            "  \"exact\": 7.665505226480836,\n",
            "  \"f1\": 13.026323624906487,\n",
            "  \"total\": 5166,\n",
            "  \"HasAns_exact\": 7.665505226480836,\n",
            "  \"HasAns_f1\": 13.026323624906487,\n",
            "  \"HasAns_total\": 5166\n",
            "}\n"
          ]
        }
      ],
      "source": [
        "!python evaluate-v2.0.py newsqa_dev.json resultsnewsQAPredictedAnswers.txt"
      ]
    }
  ],
  "metadata": {
    "accelerator": "GPU",
    "colab": {
      "collapsed_sections": [],
      "name": "hw4_Trivia_part3.ipynb",
      "provenance": []
    },
    "kernelspec": {
      "display_name": "Python 3",
      "language": "python",
      "name": "python3"
    },
    "language_info": {
      "codemirror_mode": {
        "name": "ipython",
        "version": 3
      },
      "file_extension": ".py",
      "mimetype": "text/x-python",
      "name": "python",
      "nbconvert_exporter": "python",
      "pygments_lexer": "ipython3",
      "version": "3.7.12"
    },
    "widgets": {
      "application/vnd.jupyter.widget-state+json": {
        "0fbc916a61624a8988a30ac9d211de73": {
          "model_module": "@jupyter-widgets/controls",
          "model_module_version": "1.5.0",
          "model_name": "DescriptionStyleModel",
          "state": {
            "_model_module": "@jupyter-widgets/controls",
            "_model_module_version": "1.5.0",
            "_model_name": "DescriptionStyleModel",
            "_view_count": null,
            "_view_module": "@jupyter-widgets/base",
            "_view_module_version": "1.2.0",
            "_view_name": "StyleView",
            "description_width": ""
          }
        },
        "14842863da5444fcad0be15435a792be": {
          "model_module": "@jupyter-widgets/controls",
          "model_module_version": "1.5.0",
          "model_name": "DescriptionStyleModel",
          "state": {
            "_model_module": "@jupyter-widgets/controls",
            "_model_module_version": "1.5.0",
            "_model_name": "DescriptionStyleModel",
            "_view_count": null,
            "_view_module": "@jupyter-widgets/base",
            "_view_module_version": "1.2.0",
            "_view_name": "StyleView",
            "description_width": ""
          }
        },
        "184bdfa0e4364bb5a49d8c3548020289": {
          "model_module": "@jupyter-widgets/base",
          "model_module_version": "1.2.0",
          "model_name": "LayoutModel",
          "state": {
            "_model_module": "@jupyter-widgets/base",
            "_model_module_version": "1.2.0",
            "_model_name": "LayoutModel",
            "_view_count": null,
            "_view_module": "@jupyter-widgets/base",
            "_view_module_version": "1.2.0",
            "_view_name": "LayoutView",
            "align_content": null,
            "align_items": null,
            "align_self": null,
            "border": null,
            "bottom": null,
            "display": null,
            "flex": null,
            "flex_flow": null,
            "grid_area": null,
            "grid_auto_columns": null,
            "grid_auto_flow": null,
            "grid_auto_rows": null,
            "grid_column": null,
            "grid_gap": null,
            "grid_row": null,
            "grid_template_areas": null,
            "grid_template_columns": null,
            "grid_template_rows": null,
            "height": null,
            "justify_content": null,
            "justify_items": null,
            "left": null,
            "margin": null,
            "max_height": null,
            "max_width": null,
            "min_height": null,
            "min_width": null,
            "object_fit": null,
            "object_position": null,
            "order": null,
            "overflow": null,
            "overflow_x": null,
            "overflow_y": null,
            "padding": null,
            "right": null,
            "top": null,
            "visibility": null,
            "width": null
          }
        },
        "20c98f354cd14817a81aa89cd63e15ac": {
          "model_module": "@jupyter-widgets/controls",
          "model_module_version": "1.5.0",
          "model_name": "HBoxModel",
          "state": {
            "_dom_classes": [],
            "_model_module": "@jupyter-widgets/controls",
            "_model_module_version": "1.5.0",
            "_model_name": "HBoxModel",
            "_view_count": null,
            "_view_module": "@jupyter-widgets/controls",
            "_view_module_version": "1.5.0",
            "_view_name": "HBoxView",
            "box_style": "",
            "children": [
              "IPY_MODEL_8682b4fbda7a4ba39270f52666527d6b",
              "IPY_MODEL_347c3f3a83824230833dbde45b74a495",
              "IPY_MODEL_942bdeee2571467f862c2c7ea788d900"
            ],
            "layout": "IPY_MODEL_5ed110396a2547d08b68e4ddf1a29229"
          }
        },
        "2c7b0343b94247328f4a9eaa873fff9e": {
          "model_module": "@jupyter-widgets/base",
          "model_module_version": "1.2.0",
          "model_name": "LayoutModel",
          "state": {
            "_model_module": "@jupyter-widgets/base",
            "_model_module_version": "1.2.0",
            "_model_name": "LayoutModel",
            "_view_count": null,
            "_view_module": "@jupyter-widgets/base",
            "_view_module_version": "1.2.0",
            "_view_name": "LayoutView",
            "align_content": null,
            "align_items": null,
            "align_self": null,
            "border": null,
            "bottom": null,
            "display": null,
            "flex": null,
            "flex_flow": null,
            "grid_area": null,
            "grid_auto_columns": null,
            "grid_auto_flow": null,
            "grid_auto_rows": null,
            "grid_column": null,
            "grid_gap": null,
            "grid_row": null,
            "grid_template_areas": null,
            "grid_template_columns": null,
            "grid_template_rows": null,
            "height": null,
            "justify_content": null,
            "justify_items": null,
            "left": null,
            "margin": null,
            "max_height": null,
            "max_width": null,
            "min_height": null,
            "min_width": null,
            "object_fit": null,
            "object_position": null,
            "order": null,
            "overflow": null,
            "overflow_x": null,
            "overflow_y": null,
            "padding": null,
            "right": null,
            "top": null,
            "visibility": null,
            "width": null
          }
        },
        "332c8aeff58f41898d8659f13aad38cd": {
          "model_module": "@jupyter-widgets/base",
          "model_module_version": "1.2.0",
          "model_name": "LayoutModel",
          "state": {
            "_model_module": "@jupyter-widgets/base",
            "_model_module_version": "1.2.0",
            "_model_name": "LayoutModel",
            "_view_count": null,
            "_view_module": "@jupyter-widgets/base",
            "_view_module_version": "1.2.0",
            "_view_name": "LayoutView",
            "align_content": null,
            "align_items": null,
            "align_self": null,
            "border": null,
            "bottom": null,
            "display": null,
            "flex": null,
            "flex_flow": null,
            "grid_area": null,
            "grid_auto_columns": null,
            "grid_auto_flow": null,
            "grid_auto_rows": null,
            "grid_column": null,
            "grid_gap": null,
            "grid_row": null,
            "grid_template_areas": null,
            "grid_template_columns": null,
            "grid_template_rows": null,
            "height": null,
            "justify_content": null,
            "justify_items": null,
            "left": null,
            "margin": null,
            "max_height": null,
            "max_width": null,
            "min_height": null,
            "min_width": null,
            "object_fit": null,
            "object_position": null,
            "order": null,
            "overflow": null,
            "overflow_x": null,
            "overflow_y": null,
            "padding": null,
            "right": null,
            "top": null,
            "visibility": null,
            "width": null
          }
        },
        "347c3f3a83824230833dbde45b74a495": {
          "model_module": "@jupyter-widgets/controls",
          "model_module_version": "1.5.0",
          "model_name": "FloatProgressModel",
          "state": {
            "_dom_classes": [],
            "_model_module": "@jupyter-widgets/controls",
            "_model_module_version": "1.5.0",
            "_model_name": "FloatProgressModel",
            "_view_count": null,
            "_view_module": "@jupyter-widgets/controls",
            "_view_module_version": "1.5.0",
            "_view_name": "ProgressView",
            "bar_style": "success",
            "description": "",
            "description_tooltip": null,
            "layout": "IPY_MODEL_a76a0572d5444d95b2f40f10e6d29c45",
            "max": 231508,
            "min": 0,
            "orientation": "horizontal",
            "style": "IPY_MODEL_77c703a115fc4d35a0e9894c7404bb54",
            "value": 231508
          }
        },
        "41af2eaa87f4484fb7a1fd8e40d5ecab": {
          "model_module": "@jupyter-widgets/controls",
          "model_module_version": "1.5.0",
          "model_name": "HTMLModel",
          "state": {
            "_dom_classes": [],
            "_model_module": "@jupyter-widgets/controls",
            "_model_module_version": "1.5.0",
            "_model_name": "HTMLModel",
            "_view_count": null,
            "_view_module": "@jupyter-widgets/controls",
            "_view_module_version": "1.5.0",
            "_view_name": "HTMLView",
            "description": "",
            "description_tooltip": null,
            "layout": "IPY_MODEL_332c8aeff58f41898d8659f13aad38cd",
            "placeholder": "​",
            "style": "IPY_MODEL_438b24a2b6d9401786e5d99c5908bc9a",
            "value": "Downloading: 100%"
          }
        },
        "438b24a2b6d9401786e5d99c5908bc9a": {
          "model_module": "@jupyter-widgets/controls",
          "model_module_version": "1.5.0",
          "model_name": "DescriptionStyleModel",
          "state": {
            "_model_module": "@jupyter-widgets/controls",
            "_model_module_version": "1.5.0",
            "_model_name": "DescriptionStyleModel",
            "_view_count": null,
            "_view_module": "@jupyter-widgets/base",
            "_view_module_version": "1.2.0",
            "_view_name": "StyleView",
            "description_width": ""
          }
        },
        "4caa6325613c4a038567a2a43e1cf04c": {
          "model_module": "@jupyter-widgets/base",
          "model_module_version": "1.2.0",
          "model_name": "LayoutModel",
          "state": {
            "_model_module": "@jupyter-widgets/base",
            "_model_module_version": "1.2.0",
            "_model_name": "LayoutModel",
            "_view_count": null,
            "_view_module": "@jupyter-widgets/base",
            "_view_module_version": "1.2.0",
            "_view_name": "LayoutView",
            "align_content": null,
            "align_items": null,
            "align_self": null,
            "border": null,
            "bottom": null,
            "display": null,
            "flex": null,
            "flex_flow": null,
            "grid_area": null,
            "grid_auto_columns": null,
            "grid_auto_flow": null,
            "grid_auto_rows": null,
            "grid_column": null,
            "grid_gap": null,
            "grid_row": null,
            "grid_template_areas": null,
            "grid_template_columns": null,
            "grid_template_rows": null,
            "height": null,
            "justify_content": null,
            "justify_items": null,
            "left": null,
            "margin": null,
            "max_height": null,
            "max_width": null,
            "min_height": null,
            "min_width": null,
            "object_fit": null,
            "object_position": null,
            "order": null,
            "overflow": null,
            "overflow_x": null,
            "overflow_y": null,
            "padding": null,
            "right": null,
            "top": null,
            "visibility": null,
            "width": null
          }
        },
        "4e0231a7efcc4f38a91efd7794d5b561": {
          "model_module": "@jupyter-widgets/controls",
          "model_module_version": "1.5.0",
          "model_name": "HTMLModel",
          "state": {
            "_dom_classes": [],
            "_model_module": "@jupyter-widgets/controls",
            "_model_module_version": "1.5.0",
            "_model_name": "HTMLModel",
            "_view_count": null,
            "_view_module": "@jupyter-widgets/controls",
            "_view_module_version": "1.5.0",
            "_view_name": "HTMLView",
            "description": "",
            "description_tooltip": null,
            "layout": "IPY_MODEL_546be6c6fea24d89813e691f62329190",
            "placeholder": "​",
            "style": "IPY_MODEL_14842863da5444fcad0be15435a792be",
            "value": " 483/483 [00:00&lt;00:00, 9.87kB/s]"
          }
        },
        "4e47d859ff46437a904d388d655b2746": {
          "model_module": "@jupyter-widgets/controls",
          "model_module_version": "1.5.0",
          "model_name": "DescriptionStyleModel",
          "state": {
            "_model_module": "@jupyter-widgets/controls",
            "_model_module_version": "1.5.0",
            "_model_name": "DescriptionStyleModel",
            "_view_count": null,
            "_view_module": "@jupyter-widgets/base",
            "_view_module_version": "1.2.0",
            "_view_name": "StyleView",
            "description_width": ""
          }
        },
        "51ee2ba3b13049fa943ee2ef7473d2cd": {
          "model_module": "@jupyter-widgets/controls",
          "model_module_version": "1.5.0",
          "model_name": "HBoxModel",
          "state": {
            "_dom_classes": [],
            "_model_module": "@jupyter-widgets/controls",
            "_model_module_version": "1.5.0",
            "_model_name": "HBoxModel",
            "_view_count": null,
            "_view_module": "@jupyter-widgets/controls",
            "_view_module_version": "1.5.0",
            "_view_name": "HBoxView",
            "box_style": "",
            "children": [
              "IPY_MODEL_41af2eaa87f4484fb7a1fd8e40d5ecab",
              "IPY_MODEL_d884596fecad45d4a8221787d12d3b98",
              "IPY_MODEL_4e0231a7efcc4f38a91efd7794d5b561"
            ],
            "layout": "IPY_MODEL_fd5e7845dbf6436ab8f298a616684183"
          }
        },
        "546be6c6fea24d89813e691f62329190": {
          "model_module": "@jupyter-widgets/base",
          "model_module_version": "1.2.0",
          "model_name": "LayoutModel",
          "state": {
            "_model_module": "@jupyter-widgets/base",
            "_model_module_version": "1.2.0",
            "_model_name": "LayoutModel",
            "_view_count": null,
            "_view_module": "@jupyter-widgets/base",
            "_view_module_version": "1.2.0",
            "_view_name": "LayoutView",
            "align_content": null,
            "align_items": null,
            "align_self": null,
            "border": null,
            "bottom": null,
            "display": null,
            "flex": null,
            "flex_flow": null,
            "grid_area": null,
            "grid_auto_columns": null,
            "grid_auto_flow": null,
            "grid_auto_rows": null,
            "grid_column": null,
            "grid_gap": null,
            "grid_row": null,
            "grid_template_areas": null,
            "grid_template_columns": null,
            "grid_template_rows": null,
            "height": null,
            "justify_content": null,
            "justify_items": null,
            "left": null,
            "margin": null,
            "max_height": null,
            "max_width": null,
            "min_height": null,
            "min_width": null,
            "object_fit": null,
            "object_position": null,
            "order": null,
            "overflow": null,
            "overflow_x": null,
            "overflow_y": null,
            "padding": null,
            "right": null,
            "top": null,
            "visibility": null,
            "width": null
          }
        },
        "58723e8948124971807ca2effd01edca": {
          "model_module": "@jupyter-widgets/base",
          "model_module_version": "1.2.0",
          "model_name": "LayoutModel",
          "state": {
            "_model_module": "@jupyter-widgets/base",
            "_model_module_version": "1.2.0",
            "_model_name": "LayoutModel",
            "_view_count": null,
            "_view_module": "@jupyter-widgets/base",
            "_view_module_version": "1.2.0",
            "_view_name": "LayoutView",
            "align_content": null,
            "align_items": null,
            "align_self": null,
            "border": null,
            "bottom": null,
            "display": null,
            "flex": null,
            "flex_flow": null,
            "grid_area": null,
            "grid_auto_columns": null,
            "grid_auto_flow": null,
            "grid_auto_rows": null,
            "grid_column": null,
            "grid_gap": null,
            "grid_row": null,
            "grid_template_areas": null,
            "grid_template_columns": null,
            "grid_template_rows": null,
            "height": null,
            "justify_content": null,
            "justify_items": null,
            "left": null,
            "margin": null,
            "max_height": null,
            "max_width": null,
            "min_height": null,
            "min_width": null,
            "object_fit": null,
            "object_position": null,
            "order": null,
            "overflow": null,
            "overflow_x": null,
            "overflow_y": null,
            "padding": null,
            "right": null,
            "top": null,
            "visibility": null,
            "width": null
          }
        },
        "59dc2499e7d7406db9fbd0ab24968ccb": {
          "model_module": "@jupyter-widgets/controls",
          "model_module_version": "1.5.0",
          "model_name": "HTMLModel",
          "state": {
            "_dom_classes": [],
            "_model_module": "@jupyter-widgets/controls",
            "_model_module_version": "1.5.0",
            "_model_name": "HTMLModel",
            "_view_count": null,
            "_view_module": "@jupyter-widgets/controls",
            "_view_module_version": "1.5.0",
            "_view_name": "HTMLView",
            "description": "",
            "description_tooltip": null,
            "layout": "IPY_MODEL_74b25535cdcb41a395488c0516dec8ae",
            "placeholder": "​",
            "style": "IPY_MODEL_4e47d859ff46437a904d388d655b2746",
            "value": " 28.0/28.0 [00:00&lt;00:00, 661B/s]"
          }
        },
        "5b1c63540bfb4849b690d45fc4b7d75a": {
          "model_module": "@jupyter-widgets/base",
          "model_module_version": "1.2.0",
          "model_name": "LayoutModel",
          "state": {
            "_model_module": "@jupyter-widgets/base",
            "_model_module_version": "1.2.0",
            "_model_name": "LayoutModel",
            "_view_count": null,
            "_view_module": "@jupyter-widgets/base",
            "_view_module_version": "1.2.0",
            "_view_name": "LayoutView",
            "align_content": null,
            "align_items": null,
            "align_self": null,
            "border": null,
            "bottom": null,
            "display": null,
            "flex": null,
            "flex_flow": null,
            "grid_area": null,
            "grid_auto_columns": null,
            "grid_auto_flow": null,
            "grid_auto_rows": null,
            "grid_column": null,
            "grid_gap": null,
            "grid_row": null,
            "grid_template_areas": null,
            "grid_template_columns": null,
            "grid_template_rows": null,
            "height": null,
            "justify_content": null,
            "justify_items": null,
            "left": null,
            "margin": null,
            "max_height": null,
            "max_width": null,
            "min_height": null,
            "min_width": null,
            "object_fit": null,
            "object_position": null,
            "order": null,
            "overflow": null,
            "overflow_x": null,
            "overflow_y": null,
            "padding": null,
            "right": null,
            "top": null,
            "visibility": null,
            "width": null
          }
        },
        "5ed110396a2547d08b68e4ddf1a29229": {
          "model_module": "@jupyter-widgets/base",
          "model_module_version": "1.2.0",
          "model_name": "LayoutModel",
          "state": {
            "_model_module": "@jupyter-widgets/base",
            "_model_module_version": "1.2.0",
            "_model_name": "LayoutModel",
            "_view_count": null,
            "_view_module": "@jupyter-widgets/base",
            "_view_module_version": "1.2.0",
            "_view_name": "LayoutView",
            "align_content": null,
            "align_items": null,
            "align_self": null,
            "border": null,
            "bottom": null,
            "display": null,
            "flex": null,
            "flex_flow": null,
            "grid_area": null,
            "grid_auto_columns": null,
            "grid_auto_flow": null,
            "grid_auto_rows": null,
            "grid_column": null,
            "grid_gap": null,
            "grid_row": null,
            "grid_template_areas": null,
            "grid_template_columns": null,
            "grid_template_rows": null,
            "height": null,
            "justify_content": null,
            "justify_items": null,
            "left": null,
            "margin": null,
            "max_height": null,
            "max_width": null,
            "min_height": null,
            "min_width": null,
            "object_fit": null,
            "object_position": null,
            "order": null,
            "overflow": null,
            "overflow_x": null,
            "overflow_y": null,
            "padding": null,
            "right": null,
            "top": null,
            "visibility": null,
            "width": null
          }
        },
        "5f9006848ec84e769aaa53f766bbb8b6": {
          "model_module": "@jupyter-widgets/controls",
          "model_module_version": "1.5.0",
          "model_name": "FloatProgressModel",
          "state": {
            "_dom_classes": [],
            "_model_module": "@jupyter-widgets/controls",
            "_model_module_version": "1.5.0",
            "_model_name": "FloatProgressModel",
            "_view_count": null,
            "_view_module": "@jupyter-widgets/controls",
            "_view_module_version": "1.5.0",
            "_view_name": "ProgressView",
            "bar_style": "success",
            "description": "",
            "description_tooltip": null,
            "layout": "IPY_MODEL_bd3d401cfdc542b7a7cd3533e82deb5e",
            "max": 466062,
            "min": 0,
            "orientation": "horizontal",
            "style": "IPY_MODEL_be6678f903924c97ab1b186526befe97",
            "value": 466062
          }
        },
        "629d21ca79a94d858c22d7c31b330418": {
          "model_module": "@jupyter-widgets/base",
          "model_module_version": "1.2.0",
          "model_name": "LayoutModel",
          "state": {
            "_model_module": "@jupyter-widgets/base",
            "_model_module_version": "1.2.0",
            "_model_name": "LayoutModel",
            "_view_count": null,
            "_view_module": "@jupyter-widgets/base",
            "_view_module_version": "1.2.0",
            "_view_name": "LayoutView",
            "align_content": null,
            "align_items": null,
            "align_self": null,
            "border": null,
            "bottom": null,
            "display": null,
            "flex": null,
            "flex_flow": null,
            "grid_area": null,
            "grid_auto_columns": null,
            "grid_auto_flow": null,
            "grid_auto_rows": null,
            "grid_column": null,
            "grid_gap": null,
            "grid_row": null,
            "grid_template_areas": null,
            "grid_template_columns": null,
            "grid_template_rows": null,
            "height": null,
            "justify_content": null,
            "justify_items": null,
            "left": null,
            "margin": null,
            "max_height": null,
            "max_width": null,
            "min_height": null,
            "min_width": null,
            "object_fit": null,
            "object_position": null,
            "order": null,
            "overflow": null,
            "overflow_x": null,
            "overflow_y": null,
            "padding": null,
            "right": null,
            "top": null,
            "visibility": null,
            "width": null
          }
        },
        "6c9b34be12fb410a8ab2f7dde9c66c71": {
          "model_module": "@jupyter-widgets/controls",
          "model_module_version": "1.5.0",
          "model_name": "HBoxModel",
          "state": {
            "_dom_classes": [],
            "_model_module": "@jupyter-widgets/controls",
            "_model_module_version": "1.5.0",
            "_model_name": "HBoxModel",
            "_view_count": null,
            "_view_module": "@jupyter-widgets/controls",
            "_view_module_version": "1.5.0",
            "_view_name": "HBoxView",
            "box_style": "",
            "children": [
              "IPY_MODEL_cdc0ee11f9e642ddb908988863d92b0b",
              "IPY_MODEL_b99f2ae569854699b0a7bc6c69a9ea08",
              "IPY_MODEL_59dc2499e7d7406db9fbd0ab24968ccb"
            ],
            "layout": "IPY_MODEL_629d21ca79a94d858c22d7c31b330418"
          }
        },
        "73c7c5cfe2104aae92eb0a8ff29a568b": {
          "model_module": "@jupyter-widgets/controls",
          "model_module_version": "1.5.0",
          "model_name": "DescriptionStyleModel",
          "state": {
            "_model_module": "@jupyter-widgets/controls",
            "_model_module_version": "1.5.0",
            "_model_name": "DescriptionStyleModel",
            "_view_count": null,
            "_view_module": "@jupyter-widgets/base",
            "_view_module_version": "1.2.0",
            "_view_name": "StyleView",
            "description_width": ""
          }
        },
        "74b25535cdcb41a395488c0516dec8ae": {
          "model_module": "@jupyter-widgets/base",
          "model_module_version": "1.2.0",
          "model_name": "LayoutModel",
          "state": {
            "_model_module": "@jupyter-widgets/base",
            "_model_module_version": "1.2.0",
            "_model_name": "LayoutModel",
            "_view_count": null,
            "_view_module": "@jupyter-widgets/base",
            "_view_module_version": "1.2.0",
            "_view_name": "LayoutView",
            "align_content": null,
            "align_items": null,
            "align_self": null,
            "border": null,
            "bottom": null,
            "display": null,
            "flex": null,
            "flex_flow": null,
            "grid_area": null,
            "grid_auto_columns": null,
            "grid_auto_flow": null,
            "grid_auto_rows": null,
            "grid_column": null,
            "grid_gap": null,
            "grid_row": null,
            "grid_template_areas": null,
            "grid_template_columns": null,
            "grid_template_rows": null,
            "height": null,
            "justify_content": null,
            "justify_items": null,
            "left": null,
            "margin": null,
            "max_height": null,
            "max_width": null,
            "min_height": null,
            "min_width": null,
            "object_fit": null,
            "object_position": null,
            "order": null,
            "overflow": null,
            "overflow_x": null,
            "overflow_y": null,
            "padding": null,
            "right": null,
            "top": null,
            "visibility": null,
            "width": null
          }
        },
        "77c703a115fc4d35a0e9894c7404bb54": {
          "model_module": "@jupyter-widgets/controls",
          "model_module_version": "1.5.0",
          "model_name": "ProgressStyleModel",
          "state": {
            "_model_module": "@jupyter-widgets/controls",
            "_model_module_version": "1.5.0",
            "_model_name": "ProgressStyleModel",
            "_view_count": null,
            "_view_module": "@jupyter-widgets/base",
            "_view_module_version": "1.2.0",
            "_view_name": "StyleView",
            "bar_color": null,
            "description_width": ""
          }
        },
        "8319e3e138104375969e1768a4a38f37": {
          "model_module": "@jupyter-widgets/controls",
          "model_module_version": "1.5.0",
          "model_name": "DescriptionStyleModel",
          "state": {
            "_model_module": "@jupyter-widgets/controls",
            "_model_module_version": "1.5.0",
            "_model_name": "DescriptionStyleModel",
            "_view_count": null,
            "_view_module": "@jupyter-widgets/base",
            "_view_module_version": "1.2.0",
            "_view_name": "StyleView",
            "description_width": ""
          }
        },
        "8682b4fbda7a4ba39270f52666527d6b": {
          "model_module": "@jupyter-widgets/controls",
          "model_module_version": "1.5.0",
          "model_name": "HTMLModel",
          "state": {
            "_dom_classes": [],
            "_model_module": "@jupyter-widgets/controls",
            "_model_module_version": "1.5.0",
            "_model_name": "HTMLModel",
            "_view_count": null,
            "_view_module": "@jupyter-widgets/controls",
            "_view_module_version": "1.5.0",
            "_view_name": "HTMLView",
            "description": "",
            "description_tooltip": null,
            "layout": "IPY_MODEL_58723e8948124971807ca2effd01edca",
            "placeholder": "​",
            "style": "IPY_MODEL_8996c6172cbe4640a99de29596c78f0f",
            "value": "Downloading: 100%"
          }
        },
        "8996c6172cbe4640a99de29596c78f0f": {
          "model_module": "@jupyter-widgets/controls",
          "model_module_version": "1.5.0",
          "model_name": "DescriptionStyleModel",
          "state": {
            "_model_module": "@jupyter-widgets/controls",
            "_model_module_version": "1.5.0",
            "_model_name": "DescriptionStyleModel",
            "_view_count": null,
            "_view_module": "@jupyter-widgets/base",
            "_view_module_version": "1.2.0",
            "_view_name": "StyleView",
            "description_width": ""
          }
        },
        "942bdeee2571467f862c2c7ea788d900": {
          "model_module": "@jupyter-widgets/controls",
          "model_module_version": "1.5.0",
          "model_name": "HTMLModel",
          "state": {
            "_dom_classes": [],
            "_model_module": "@jupyter-widgets/controls",
            "_model_module_version": "1.5.0",
            "_model_name": "HTMLModel",
            "_view_count": null,
            "_view_module": "@jupyter-widgets/controls",
            "_view_module_version": "1.5.0",
            "_view_name": "HTMLView",
            "description": "",
            "description_tooltip": null,
            "layout": "IPY_MODEL_5b1c63540bfb4849b690d45fc4b7d75a",
            "placeholder": "​",
            "style": "IPY_MODEL_8319e3e138104375969e1768a4a38f37",
            "value": " 226k/226k [00:00&lt;00:00, 352kB/s]"
          }
        },
        "949050c8b863474d8509950c695ddec0": {
          "model_module": "@jupyter-widgets/base",
          "model_module_version": "1.2.0",
          "model_name": "LayoutModel",
          "state": {
            "_model_module": "@jupyter-widgets/base",
            "_model_module_version": "1.2.0",
            "_model_name": "LayoutModel",
            "_view_count": null,
            "_view_module": "@jupyter-widgets/base",
            "_view_module_version": "1.2.0",
            "_view_name": "LayoutView",
            "align_content": null,
            "align_items": null,
            "align_self": null,
            "border": null,
            "bottom": null,
            "display": null,
            "flex": null,
            "flex_flow": null,
            "grid_area": null,
            "grid_auto_columns": null,
            "grid_auto_flow": null,
            "grid_auto_rows": null,
            "grid_column": null,
            "grid_gap": null,
            "grid_row": null,
            "grid_template_areas": null,
            "grid_template_columns": null,
            "grid_template_rows": null,
            "height": null,
            "justify_content": null,
            "justify_items": null,
            "left": null,
            "margin": null,
            "max_height": null,
            "max_width": null,
            "min_height": null,
            "min_width": null,
            "object_fit": null,
            "object_position": null,
            "order": null,
            "overflow": null,
            "overflow_x": null,
            "overflow_y": null,
            "padding": null,
            "right": null,
            "top": null,
            "visibility": null,
            "width": null
          }
        },
        "953ddc07b4494e79868e452fae2be5b0": {
          "model_module": "@jupyter-widgets/controls",
          "model_module_version": "1.5.0",
          "model_name": "ProgressStyleModel",
          "state": {
            "_model_module": "@jupyter-widgets/controls",
            "_model_module_version": "1.5.0",
            "_model_name": "ProgressStyleModel",
            "_view_count": null,
            "_view_module": "@jupyter-widgets/base",
            "_view_module_version": "1.2.0",
            "_view_name": "StyleView",
            "bar_color": null,
            "description_width": ""
          }
        },
        "9d3fec1b022348518764384510abae24": {
          "model_module": "@jupyter-widgets/base",
          "model_module_version": "1.2.0",
          "model_name": "LayoutModel",
          "state": {
            "_model_module": "@jupyter-widgets/base",
            "_model_module_version": "1.2.0",
            "_model_name": "LayoutModel",
            "_view_count": null,
            "_view_module": "@jupyter-widgets/base",
            "_view_module_version": "1.2.0",
            "_view_name": "LayoutView",
            "align_content": null,
            "align_items": null,
            "align_self": null,
            "border": null,
            "bottom": null,
            "display": null,
            "flex": null,
            "flex_flow": null,
            "grid_area": null,
            "grid_auto_columns": null,
            "grid_auto_flow": null,
            "grid_auto_rows": null,
            "grid_column": null,
            "grid_gap": null,
            "grid_row": null,
            "grid_template_areas": null,
            "grid_template_columns": null,
            "grid_template_rows": null,
            "height": null,
            "justify_content": null,
            "justify_items": null,
            "left": null,
            "margin": null,
            "max_height": null,
            "max_width": null,
            "min_height": null,
            "min_width": null,
            "object_fit": null,
            "object_position": null,
            "order": null,
            "overflow": null,
            "overflow_x": null,
            "overflow_y": null,
            "padding": null,
            "right": null,
            "top": null,
            "visibility": null,
            "width": null
          }
        },
        "a062e1e0518345ff886fad2db00fa821": {
          "model_module": "@jupyter-widgets/controls",
          "model_module_version": "1.5.0",
          "model_name": "HTMLModel",
          "state": {
            "_dom_classes": [],
            "_model_module": "@jupyter-widgets/controls",
            "_model_module_version": "1.5.0",
            "_model_name": "HTMLModel",
            "_view_count": null,
            "_view_module": "@jupyter-widgets/controls",
            "_view_module_version": "1.5.0",
            "_view_name": "HTMLView",
            "description": "",
            "description_tooltip": null,
            "layout": "IPY_MODEL_949050c8b863474d8509950c695ddec0",
            "placeholder": "​",
            "style": "IPY_MODEL_0fbc916a61624a8988a30ac9d211de73",
            "value": " 455k/455k [00:00&lt;00:00, 698kB/s]"
          }
        },
        "a76a0572d5444d95b2f40f10e6d29c45": {
          "model_module": "@jupyter-widgets/base",
          "model_module_version": "1.2.0",
          "model_name": "LayoutModel",
          "state": {
            "_model_module": "@jupyter-widgets/base",
            "_model_module_version": "1.2.0",
            "_model_name": "LayoutModel",
            "_view_count": null,
            "_view_module": "@jupyter-widgets/base",
            "_view_module_version": "1.2.0",
            "_view_name": "LayoutView",
            "align_content": null,
            "align_items": null,
            "align_self": null,
            "border": null,
            "bottom": null,
            "display": null,
            "flex": null,
            "flex_flow": null,
            "grid_area": null,
            "grid_auto_columns": null,
            "grid_auto_flow": null,
            "grid_auto_rows": null,
            "grid_column": null,
            "grid_gap": null,
            "grid_row": null,
            "grid_template_areas": null,
            "grid_template_columns": null,
            "grid_template_rows": null,
            "height": null,
            "justify_content": null,
            "justify_items": null,
            "left": null,
            "margin": null,
            "max_height": null,
            "max_width": null,
            "min_height": null,
            "min_width": null,
            "object_fit": null,
            "object_position": null,
            "order": null,
            "overflow": null,
            "overflow_x": null,
            "overflow_y": null,
            "padding": null,
            "right": null,
            "top": null,
            "visibility": null,
            "width": null
          }
        },
        "a88df897160c4a9e9746ac6f53ea30ea": {
          "model_module": "@jupyter-widgets/controls",
          "model_module_version": "1.5.0",
          "model_name": "ProgressStyleModel",
          "state": {
            "_model_module": "@jupyter-widgets/controls",
            "_model_module_version": "1.5.0",
            "_model_name": "ProgressStyleModel",
            "_view_count": null,
            "_view_module": "@jupyter-widgets/base",
            "_view_module_version": "1.2.0",
            "_view_name": "StyleView",
            "bar_color": null,
            "description_width": ""
          }
        },
        "aa556a042b1f49b3a2d75d523aa68c52": {
          "model_module": "@jupyter-widgets/controls",
          "model_module_version": "1.5.0",
          "model_name": "HBoxModel",
          "state": {
            "_dom_classes": [],
            "_model_module": "@jupyter-widgets/controls",
            "_model_module_version": "1.5.0",
            "_model_name": "HBoxModel",
            "_view_count": null,
            "_view_module": "@jupyter-widgets/controls",
            "_view_module_version": "1.5.0",
            "_view_name": "HBoxView",
            "box_style": "",
            "children": [
              "IPY_MODEL_d2ee895df09a458ea750cd7af5f31bd3",
              "IPY_MODEL_5f9006848ec84e769aaa53f766bbb8b6",
              "IPY_MODEL_a062e1e0518345ff886fad2db00fa821"
            ],
            "layout": "IPY_MODEL_e36936ac5aae40f6b355ea2d98c20756"
          }
        },
        "b99f2ae569854699b0a7bc6c69a9ea08": {
          "model_module": "@jupyter-widgets/controls",
          "model_module_version": "1.5.0",
          "model_name": "FloatProgressModel",
          "state": {
            "_dom_classes": [],
            "_model_module": "@jupyter-widgets/controls",
            "_model_module_version": "1.5.0",
            "_model_name": "FloatProgressModel",
            "_view_count": null,
            "_view_module": "@jupyter-widgets/controls",
            "_view_module_version": "1.5.0",
            "_view_name": "ProgressView",
            "bar_style": "success",
            "description": "",
            "description_tooltip": null,
            "layout": "IPY_MODEL_2c7b0343b94247328f4a9eaa873fff9e",
            "max": 28,
            "min": 0,
            "orientation": "horizontal",
            "style": "IPY_MODEL_a88df897160c4a9e9746ac6f53ea30ea",
            "value": 28
          }
        },
        "bd3d401cfdc542b7a7cd3533e82deb5e": {
          "model_module": "@jupyter-widgets/base",
          "model_module_version": "1.2.0",
          "model_name": "LayoutModel",
          "state": {
            "_model_module": "@jupyter-widgets/base",
            "_model_module_version": "1.2.0",
            "_model_name": "LayoutModel",
            "_view_count": null,
            "_view_module": "@jupyter-widgets/base",
            "_view_module_version": "1.2.0",
            "_view_name": "LayoutView",
            "align_content": null,
            "align_items": null,
            "align_self": null,
            "border": null,
            "bottom": null,
            "display": null,
            "flex": null,
            "flex_flow": null,
            "grid_area": null,
            "grid_auto_columns": null,
            "grid_auto_flow": null,
            "grid_auto_rows": null,
            "grid_column": null,
            "grid_gap": null,
            "grid_row": null,
            "grid_template_areas": null,
            "grid_template_columns": null,
            "grid_template_rows": null,
            "height": null,
            "justify_content": null,
            "justify_items": null,
            "left": null,
            "margin": null,
            "max_height": null,
            "max_width": null,
            "min_height": null,
            "min_width": null,
            "object_fit": null,
            "object_position": null,
            "order": null,
            "overflow": null,
            "overflow_x": null,
            "overflow_y": null,
            "padding": null,
            "right": null,
            "top": null,
            "visibility": null,
            "width": null
          }
        },
        "be6678f903924c97ab1b186526befe97": {
          "model_module": "@jupyter-widgets/controls",
          "model_module_version": "1.5.0",
          "model_name": "ProgressStyleModel",
          "state": {
            "_model_module": "@jupyter-widgets/controls",
            "_model_module_version": "1.5.0",
            "_model_name": "ProgressStyleModel",
            "_view_count": null,
            "_view_module": "@jupyter-widgets/base",
            "_view_module_version": "1.2.0",
            "_view_name": "StyleView",
            "bar_color": null,
            "description_width": ""
          }
        },
        "cdc0ee11f9e642ddb908988863d92b0b": {
          "model_module": "@jupyter-widgets/controls",
          "model_module_version": "1.5.0",
          "model_name": "HTMLModel",
          "state": {
            "_dom_classes": [],
            "_model_module": "@jupyter-widgets/controls",
            "_model_module_version": "1.5.0",
            "_model_name": "HTMLModel",
            "_view_count": null,
            "_view_module": "@jupyter-widgets/controls",
            "_view_module_version": "1.5.0",
            "_view_name": "HTMLView",
            "description": "",
            "description_tooltip": null,
            "layout": "IPY_MODEL_9d3fec1b022348518764384510abae24",
            "placeholder": "​",
            "style": "IPY_MODEL_73c7c5cfe2104aae92eb0a8ff29a568b",
            "value": "Downloading: 100%"
          }
        },
        "d2ee895df09a458ea750cd7af5f31bd3": {
          "model_module": "@jupyter-widgets/controls",
          "model_module_version": "1.5.0",
          "model_name": "HTMLModel",
          "state": {
            "_dom_classes": [],
            "_model_module": "@jupyter-widgets/controls",
            "_model_module_version": "1.5.0",
            "_model_name": "HTMLModel",
            "_view_count": null,
            "_view_module": "@jupyter-widgets/controls",
            "_view_module_version": "1.5.0",
            "_view_name": "HTMLView",
            "description": "",
            "description_tooltip": null,
            "layout": "IPY_MODEL_4caa6325613c4a038567a2a43e1cf04c",
            "placeholder": "​",
            "style": "IPY_MODEL_f0ce260d73ca49ddbdf851986d3ca644",
            "value": "Downloading: 100%"
          }
        },
        "d884596fecad45d4a8221787d12d3b98": {
          "model_module": "@jupyter-widgets/controls",
          "model_module_version": "1.5.0",
          "model_name": "FloatProgressModel",
          "state": {
            "_dom_classes": [],
            "_model_module": "@jupyter-widgets/controls",
            "_model_module_version": "1.5.0",
            "_model_name": "FloatProgressModel",
            "_view_count": null,
            "_view_module": "@jupyter-widgets/controls",
            "_view_module_version": "1.5.0",
            "_view_name": "ProgressView",
            "bar_style": "success",
            "description": "",
            "description_tooltip": null,
            "layout": "IPY_MODEL_184bdfa0e4364bb5a49d8c3548020289",
            "max": 483,
            "min": 0,
            "orientation": "horizontal",
            "style": "IPY_MODEL_953ddc07b4494e79868e452fae2be5b0",
            "value": 483
          }
        },
        "e36936ac5aae40f6b355ea2d98c20756": {
          "model_module": "@jupyter-widgets/base",
          "model_module_version": "1.2.0",
          "model_name": "LayoutModel",
          "state": {
            "_model_module": "@jupyter-widgets/base",
            "_model_module_version": "1.2.0",
            "_model_name": "LayoutModel",
            "_view_count": null,
            "_view_module": "@jupyter-widgets/base",
            "_view_module_version": "1.2.0",
            "_view_name": "LayoutView",
            "align_content": null,
            "align_items": null,
            "align_self": null,
            "border": null,
            "bottom": null,
            "display": null,
            "flex": null,
            "flex_flow": null,
            "grid_area": null,
            "grid_auto_columns": null,
            "grid_auto_flow": null,
            "grid_auto_rows": null,
            "grid_column": null,
            "grid_gap": null,
            "grid_row": null,
            "grid_template_areas": null,
            "grid_template_columns": null,
            "grid_template_rows": null,
            "height": null,
            "justify_content": null,
            "justify_items": null,
            "left": null,
            "margin": null,
            "max_height": null,
            "max_width": null,
            "min_height": null,
            "min_width": null,
            "object_fit": null,
            "object_position": null,
            "order": null,
            "overflow": null,
            "overflow_x": null,
            "overflow_y": null,
            "padding": null,
            "right": null,
            "top": null,
            "visibility": null,
            "width": null
          }
        },
        "f0ce260d73ca49ddbdf851986d3ca644": {
          "model_module": "@jupyter-widgets/controls",
          "model_module_version": "1.5.0",
          "model_name": "DescriptionStyleModel",
          "state": {
            "_model_module": "@jupyter-widgets/controls",
            "_model_module_version": "1.5.0",
            "_model_name": "DescriptionStyleModel",
            "_view_count": null,
            "_view_module": "@jupyter-widgets/base",
            "_view_module_version": "1.2.0",
            "_view_name": "StyleView",
            "description_width": ""
          }
        },
        "fd5e7845dbf6436ab8f298a616684183": {
          "model_module": "@jupyter-widgets/base",
          "model_module_version": "1.2.0",
          "model_name": "LayoutModel",
          "state": {
            "_model_module": "@jupyter-widgets/base",
            "_model_module_version": "1.2.0",
            "_model_name": "LayoutModel",
            "_view_count": null,
            "_view_module": "@jupyter-widgets/base",
            "_view_module_version": "1.2.0",
            "_view_name": "LayoutView",
            "align_content": null,
            "align_items": null,
            "align_self": null,
            "border": null,
            "bottom": null,
            "display": null,
            "flex": null,
            "flex_flow": null,
            "grid_area": null,
            "grid_auto_columns": null,
            "grid_auto_flow": null,
            "grid_auto_rows": null,
            "grid_column": null,
            "grid_gap": null,
            "grid_row": null,
            "grid_template_areas": null,
            "grid_template_columns": null,
            "grid_template_rows": null,
            "height": null,
            "justify_content": null,
            "justify_items": null,
            "left": null,
            "margin": null,
            "max_height": null,
            "max_width": null,
            "min_height": null,
            "min_width": null,
            "object_fit": null,
            "object_position": null,
            "order": null,
            "overflow": null,
            "overflow_x": null,
            "overflow_y": null,
            "padding": null,
            "right": null,
            "top": null,
            "visibility": null,
            "width": null
          }
        }
      }
    }
  },
  "nbformat": 4,
  "nbformat_minor": 0
}
